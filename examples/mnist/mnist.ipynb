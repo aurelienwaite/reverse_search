{
 "cells": [
  {
   "cell_type": "code",
   "execution_count": 38,
   "metadata": {},
   "outputs": [
    {
     "name": "stdout",
     "output_type": "stream",
     "text": [
      "Requirement already satisfied: python-mnist in /Users/rorywaite/miniforge3/envs/reverse_search/lib/python3.12/site-packages (0.7)\n",
      "Collecting pyarrow\n",
      "  Downloading pyarrow-16.1.0-cp312-cp312-macosx_11_0_arm64.whl.metadata (3.0 kB)\n",
      "Requirement already satisfied: numpy>=1.16.6 in /Users/rorywaite/miniforge3/envs/reverse_search/lib/python3.12/site-packages (from pyarrow) (1.26.4)\n",
      "Downloading pyarrow-16.1.0-cp312-cp312-macosx_11_0_arm64.whl (26.0 MB)\n",
      "\u001b[2K   \u001b[90m━━━━━━━━━━━━━━━━━━━━━━━━━━━━━━━━━━━━━━━━\u001b[0m \u001b[32m26.0/26.0 MB\u001b[0m \u001b[31m9.0 MB/s\u001b[0m eta \u001b[36m0:00:00\u001b[0m00:01\u001b[0m00:01\u001b[0m\n",
      "\u001b[?25hInstalling collected packages: pyarrow\n",
      "Successfully installed pyarrow-16.1.0\n"
     ]
    }
   ],
   "source": [
    "! pip install python-mnist pyarrow"
   ]
  },
  {
   "cell_type": "code",
   "execution_count": 57,
   "metadata": {},
   "outputs": [],
   "source": [
    "from mnist import MNIST\n",
    "import numpy as np\n",
    "import json\n",
    "import pyarrow as pa\n",
    "import pyarrow.parquet as pq"
   ]
  },
  {
   "cell_type": "code",
   "execution_count": 8,
   "metadata": {},
   "outputs": [],
   "source": [
    "mndata = MNIST(\"/Users/rorywaite/code/mnist_rs/data\")\n",
    "images, labels = mndata.load_training()\n",
    "training_set = np.array(images)\n",
    "training_labels = np.array(labels)"
   ]
  },
  {
   "cell_type": "code",
   "execution_count": 40,
   "metadata": {},
   "outputs": [],
   "source": [
    "num_classes = 10\n",
    "num_directions = 2\n",
    "num_images, img_size = np.shape(training_set)"
   ]
  },
  {
   "cell_type": "code",
   "execution_count": 54,
   "metadata": {},
   "outputs": [
    {
     "name": "stdout",
     "output_type": "stream",
     "text": [
      "float64\n",
      "float64\n"
     ]
    }
   ],
   "source": [
    "param = np.ones(shape=[num_classes * img_size]).astype('float64')\n",
    "rs = np.random.RandomState(42)\n",
    "np.random.set_state(rs.get_state())\n",
    "directions = np.random.random_sample(size=[num_directions, img_size * num_classes]).astype('float64')\n",
    "projection = np.concatenate([directions, np.expand_dims(param, 0)], axis=0)\n",
    "# Because the feature vector is mostly sparse, we reshape our projection matrix\n",
    "reshaped = projection.transpose().reshape([num_classes, img_size, -1])\n",
    "projected = training_set @ reshaped\n"
   ]
  },
  {
   "cell_type": "code",
   "execution_count": 58,
   "metadata": {},
   "outputs": [],
   "source": [
    "polytopes = projected.transpose([1,0,2]).reshape([-1])\n",
    "polytope_dim = num_classes * (num_directions + 1)\n",
    "vertex_index = np.tile(np.arange(stop=polytope_dim, dtype=\"i\"), num_images)\n",
    "polytope_index = np.arange(stop=polytope_dim * num_images, dtype=\"i\") // polytope_dim\n",
    "\n",
    "polytope_table = pa.table({\"polytope\": polytope_index, \"vertex\": vertex_index, \"value\": polytopes})\n",
    "pq.write_table(polytope_table, \"mnist.parquet\")\n",
    "# inputs = [{\"vertices\" : points.tolist()} for points in polytopes]\n",
    "# print(inputs[0])\n",
    "# with open(\"mnist.json\", \"wt\") as out_file:\n",
    "#     json.dump(inputs, out_file, indent=2)"
   ]
  }
 ],
 "metadata": {
  "kernelspec": {
   "display_name": "reverse_search",
   "language": "python",
   "name": "python3"
  },
  "language_info": {
   "codemirror_mode": {
    "name": "ipython",
    "version": 3
   },
   "file_extension": ".py",
   "mimetype": "text/x-python",
   "name": "python",
   "nbconvert_exporter": "python",
   "pygments_lexer": "ipython3",
   "version": "3.12.3"
  }
 },
 "nbformat": 4,
 "nbformat_minor": 2
}
