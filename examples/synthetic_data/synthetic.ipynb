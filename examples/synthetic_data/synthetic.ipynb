{
 "cells": [
  {
   "cell_type": "code",
   "execution_count": 5,
   "metadata": {},
   "outputs": [
    {
     "name": "stdout",
     "output_type": "stream",
     "text": [
      "Requirement already satisfied: plotly in /Users/rorywaite/miniforge3/envs/reverse_search/lib/python3.12/site-packages (5.21.0)\n",
      "Requirement already satisfied: scikit-learn in /Users/rorywaite/miniforge3/envs/reverse_search/lib/python3.12/site-packages (1.4.2)\n",
      "Requirement already satisfied: numpy in /Users/rorywaite/miniforge3/envs/reverse_search/lib/python3.12/site-packages (1.26.4)\n",
      "Collecting pandas\n",
      "  Downloading pandas-2.2.2-cp312-cp312-macosx_11_0_arm64.whl.metadata (19 kB)\n",
      "Requirement already satisfied: tenacity>=6.2.0 in /Users/rorywaite/miniforge3/envs/reverse_search/lib/python3.12/site-packages (from plotly) (8.2.3)\n",
      "Requirement already satisfied: packaging in /Users/rorywaite/miniforge3/envs/reverse_search/lib/python3.12/site-packages (from plotly) (24.0)\n",
      "Requirement already satisfied: scipy>=1.6.0 in /Users/rorywaite/miniforge3/envs/reverse_search/lib/python3.12/site-packages (from scikit-learn) (1.13.0)\n",
      "Requirement already satisfied: joblib>=1.2.0 in /Users/rorywaite/miniforge3/envs/reverse_search/lib/python3.12/site-packages (from scikit-learn) (1.4.0)\n",
      "Requirement already satisfied: threadpoolctl>=2.0.0 in /Users/rorywaite/miniforge3/envs/reverse_search/lib/python3.12/site-packages (from scikit-learn) (3.4.0)\n",
      "Requirement already satisfied: python-dateutil>=2.8.2 in /Users/rorywaite/miniforge3/envs/reverse_search/lib/python3.12/site-packages (from pandas) (2.9.0)\n",
      "Collecting pytz>=2020.1 (from pandas)\n",
      "  Downloading pytz-2024.1-py2.py3-none-any.whl.metadata (22 kB)\n",
      "Collecting tzdata>=2022.7 (from pandas)\n",
      "  Downloading tzdata-2024.1-py2.py3-none-any.whl.metadata (1.4 kB)\n",
      "Requirement already satisfied: six>=1.5 in /Users/rorywaite/miniforge3/envs/reverse_search/lib/python3.12/site-packages (from python-dateutil>=2.8.2->pandas) (1.16.0)\n",
      "Downloading pandas-2.2.2-cp312-cp312-macosx_11_0_arm64.whl (11.3 MB)\n",
      "\u001b[2K   \u001b[90m━━━━━━━━━━━━━━━━━━━━━━━━━━━━━━━━━━━━━━━━\u001b[0m \u001b[32m11.3/11.3 MB\u001b[0m \u001b[31m9.1 MB/s\u001b[0m eta \u001b[36m0:00:00\u001b[0m00:01\u001b[0m00:01\u001b[0m\n",
      "\u001b[?25hDownloading pytz-2024.1-py2.py3-none-any.whl (505 kB)\n",
      "\u001b[2K   \u001b[90m━━━━━━━━━━━━━━━━━━━━━━━━━━━━━━━━━━━━━━━━\u001b[0m \u001b[32m505.5/505.5 kB\u001b[0m \u001b[31m8.5 MB/s\u001b[0m eta \u001b[36m0:00:00\u001b[0ma \u001b[36m0:00:01\u001b[0m\n",
      "\u001b[?25hDownloading tzdata-2024.1-py2.py3-none-any.whl (345 kB)\n",
      "\u001b[2K   \u001b[90m━━━━━━━━━━━━━━━━━━━━━━━━━━━━━━━━━━━━━━━━\u001b[0m \u001b[32m345.4/345.4 kB\u001b[0m \u001b[31m7.5 MB/s\u001b[0m eta \u001b[36m0:00:00\u001b[0ma \u001b[36m0:00:01\u001b[0m\n",
      "\u001b[?25hInstalling collected packages: pytz, tzdata, pandas\n",
      "Successfully installed pandas-2.2.2 pytz-2024.1 tzdata-2024.1\n",
      "Note: you may need to restart the kernel to use updated packages.\n"
     ]
    }
   ],
   "source": [
    "%pip install plotly scikit-learn numpy pandas"
   ]
  },
  {
   "cell_type": "code",
   "execution_count": 2,
   "metadata": {},
   "outputs": [],
   "source": [
    "from sklearn.datasets import make_blobs\n",
    "import numpy as np\n",
    "import json\n",
    "from collections import defaultdict, namedtuple\n",
    "import plotly.express as px\n",
    "\n",
    "#plotly.offline.init_notebook_mode()"
   ]
  },
  {
   "cell_type": "code",
   "execution_count": 24,
   "metadata": {},
   "outputs": [],
   "source": [
    "rs = np.random.RandomState(42)\n",
    "num_cluster = 10\n",
    "num_dim = 3\n",
    "\n",
    "centres = [[rs.rand() for _ in range(num_dim)] for _ in range(num_cluster)]\n",
    "sigmas = [rs.rand() for _ in range(10)]\n",
    "blobs = make_blobs(\n",
    "                   n_samples=100, \n",
    "                   n_features=num_dim,\n",
    "                   centers=centres,\n",
    "                   cluster_std=sigmas,\n",
    "                   random_state=rs\n",
    "                   ) "
   ]
  },
  {
   "cell_type": "code",
   "execution_count": 76,
   "metadata": {},
   "outputs": [],
   "source": [
    "point_clouds = [[] for _ in range(num_cluster)]\n",
    "for sample, cluster in zip(blobs[0], blobs[1]):\n",
    "    point_clouds[int(cluster)].append(sample.tolist())\n",
    "inputs = [{\"vertices\" : points} for points in point_clouds]\n",
    "with open(\"synthetic.json\", \"wt\") as out_file:\n",
    "    json.dump(inputs, out_file, indent=2)"
   ]
  },
  {
   "cell_type": "code",
   "execution_count": 77,
   "metadata": {},
   "outputs": [],
   "source": [
    "with open(\"synthetic_out.json\", \"rt\") as in_file:\n",
    "    polys = json.load(in_file)"
   ]
  },
  {
   "cell_type": "code",
   "execution_count": 78,
   "metadata": {},
   "outputs": [
    {
     "name": "stdout",
     "output_type": "stream",
     "text": [
      "8\n"
     ]
    }
   ],
   "source": [
    "print(len(polys[5][\"essential_indices\"]))"
   ]
  },
  {
   "cell_type": "code",
   "execution_count": 86,
   "metadata": {},
   "outputs": [
    {
     "name": "stdout",
     "output_type": "stream",
     "text": [
      "[ 3.69357486e+00 -2.59436916e-12 -3.15791837e-12  7.49136587e+00\n",
      " -1.00000000e+00  1.88345206e+00  7.25269019e+00 -2.61857203e-12\n",
      "  3.95700769e+00  2.51273734e+00] 4 4\n",
      "[ 2.08959101e+00 -3.63087338e-12  1.63927999e+00  2.65557562e+01\n",
      " -2.54285482e-12  7.55564118e+00  3.76643191e+01 -1.00000000e+00\n",
      "  1.26316542e+01 -1.00008890e-12] 7 7\n",
      "[-2.82474044e-12  2.28341943e+00  1.42526225e-01 -1.30728761e-12\n",
      "  1.54672277e+00  1.10097398e+00  2.57949698e+00  9.92488194e-01\n",
      " -9.99950123e-13 -1.00000000e+00] 9 9\n",
      "[ 2.30012395e+00  1.78923630e+00 -1.00000000e+00  4.04672882e-02\n",
      " -1.85385041e-12  4.56830358e-01 -2.46469511e-12  5.89222875e-01\n",
      " -1.24700250e-12  5.48354881e-01] 2 2\n",
      "[-1.00000000e+00 -1.15962795e-12  1.33384026e+00 -2.48795429e-12\n",
      "  1.04660325e+00  4.38850256e-01  4.46660383e-01  5.16433924e-01\n",
      "  3.49783275e-01 -1.97919459e-12] 0 0\n",
      "[ 3.17766005e+00  6.26235497e+00 -1.23190347e-12 -1.00000000e+00\n",
      "  3.28825501e+00  2.52203587e+00  2.03403190e+00  3.13546736e+00\n",
      " -1.51478829e-12 -1.13242749e-12] 3 3\n",
      "[ 7.29431196e-01 -1.15973897e-12  2.75665424e-01 -2.56411559e-12\n",
      " -2.64444022e-12  5.81603188e-02 -1.00000000e+00  2.63284624e-01\n",
      "  2.47089302e-01  8.53040640e-01] 6 6\n",
      "[-1.07772125e-12 -1.00000000e+00  1.10466153e+00  1.85085354e+00\n",
      " -1.89187555e-12  3.68464584e-01  1.09688472e+00  1.09336382e-02\n",
      "  1.27667341e+00  1.02450723e+00] 1 1\n"
     ]
    }
   ],
   "source": [
    "poly_ind = 0\n",
    "vertices = np.array(polys[poly_ind][\"vertices\"])\n",
    "constant = np.ones([len(vertices), 1], dtype=float)\n",
    "vertices = np.concatenate([constant, vertices], axis=1)\n",
    "certs = {extreme: np.array(cert) for extreme, cert in polys[poly_ind][\"essential_certs\"].items()}\n",
    "\n",
    "for vertex, cert in certs.items():\n",
    "    scores = vertices @ cert\n",
    "    print(scores, vertex, np.argmin(scores))"
   ]
  },
  {
   "cell_type": "code",
   "execution_count": 117,
   "metadata": {},
   "outputs": [
    {
     "data": {
      "application/vnd.plotly.v1+json": {
       "config": {
        "plotlyServerURL": "https://plot.ly"
       },
       "data": [
        {
         "hovertemplate": "line={0, 1}<br>x=%{x}<br>y=%{y}<br>z=%{z}<extra></extra>",
         "legendgroup": "{0, 1}",
         "line": {
          "color": "#636efa",
          "dash": "solid"
         },
         "marker": {
          "symbol": "circle"
         },
         "mode": "lines",
         "name": "{0, 1}",
         "scene": "scene",
         "showlegend": true,
         "type": "scatter3d",
         "x": [
          -0.18494129779316737,
          -0.13684966971949653
         ],
         "y": [
          0.3480256917985953,
          0.5002734434216574
         ],
         "z": [
          0.41026362530136073,
          0.12059743459358352
         ]
        },
        {
         "hovertemplate": "line={1, 3}<br>x=%{x}<br>y=%{y}<br>z=%{z}<extra></extra>",
         "legendgroup": "{1, 3}",
         "line": {
          "color": "#EF553B",
          "dash": "solid"
         },
         "marker": {
          "symbol": "circle"
         },
         "mode": "lines",
         "name": "{1, 3}",
         "scene": "scene",
         "showlegend": true,
         "type": "scatter3d",
         "x": [
          -0.13684966971949653,
          0.23345858076322928
         ],
         "y": [
          0.5002734434216574,
          0.9443040301443992
         ],
         "z": [
          0.12059743459358352,
          0.804953357461367
         ]
        },
        {
         "hovertemplate": "line={1, 6}<br>x=%{x}<br>y=%{y}<br>z=%{z}<extra></extra>",
         "legendgroup": "{1, 6}",
         "line": {
          "color": "#00cc96",
          "dash": "solid"
         },
         "marker": {
          "symbol": "circle"
         },
         "mode": "lines",
         "name": "{1, 6}",
         "scene": "scene",
         "showlegend": true,
         "type": "scatter3d",
         "x": [
          -0.13684966971949653,
          0.663137493583145
         ],
         "y": [
          0.5002734434216574,
          0.055815938685533334
         ],
         "z": [
          0.12059743459358352,
          0.5397146863129192
         ]
        },
        {
         "hovertemplate": "line={1, 7}<br>x=%{x}<br>y=%{y}<br>z=%{z}<extra></extra>",
         "legendgroup": "{1, 7}",
         "line": {
          "color": "#ab63fa",
          "dash": "solid"
         },
         "marker": {
          "symbol": "circle"
         },
         "mode": "lines",
         "name": "{1, 7}",
         "scene": "scene",
         "showlegend": true,
         "type": "scatter3d",
         "x": [
          -0.13684966971949653,
          0.7225470916178227
         ],
         "y": [
          0.5002734434216574,
          0.48965188446485935
         ],
         "z": [
          0.12059743459358352,
          0.5158175418080423
         ]
        },
        {
         "hovertemplate": "line={4, 5}<br>x=%{x}<br>y=%{y}<br>z=%{z}<extra></extra>",
         "legendgroup": "{4, 5}",
         "line": {
          "color": "#FFA15A",
          "dash": "solid"
         },
         "marker": {
          "symbol": "circle"
         },
         "mode": "lines",
         "name": "{4, 5}",
         "scene": "scene",
         "showlegend": true,
         "type": "scatter3d",
         "x": [
          0.284096598918533,
          0.6916079497234193
         ],
         "y": [
          0.31616913039433553,
          0.04981641091599395
         ],
         "z": [
          1.3169297650662286,
          0.5769025948256076
         ]
        },
        {
         "hovertemplate": "line={5, 6}<br>x=%{x}<br>y=%{y}<br>z=%{z}<extra></extra>",
         "legendgroup": "{5, 6}",
         "line": {
          "color": "#19d3f3",
          "dash": "solid"
         },
         "marker": {
          "symbol": "circle"
         },
         "mode": "lines",
         "name": "{5, 6}",
         "scene": "scene",
         "showlegend": true,
         "type": "scatter3d",
         "x": [
          0.6916079497234193,
          0.663137493583145
         ],
         "y": [
          0.04981641091599395,
          0.055815938685533334
         ],
         "z": [
          0.5769025948256076,
          0.5397146863129192
         ]
        },
        {
         "hovertemplate": "line={5, 7}<br>x=%{x}<br>y=%{y}<br>z=%{z}<extra></extra>",
         "legendgroup": "{5, 7}",
         "line": {
          "color": "#FF6692",
          "dash": "solid"
         },
         "marker": {
          "symbol": "circle"
         },
         "mode": "lines",
         "name": "{5, 7}",
         "scene": "scene",
         "showlegend": true,
         "type": "scatter3d",
         "x": [
          0.6916079497234193,
          0.7225470916178227
         ],
         "y": [
          0.04981641091599395,
          0.48965188446485935
         ],
         "z": [
          0.5769025948256076,
          0.5158175418080423
         ]
        },
        {
         "hovertemplate": "line={9, 5}<br>x=%{x}<br>y=%{y}<br>z=%{z}<extra></extra>",
         "legendgroup": "{9, 5}",
         "line": {
          "color": "#B6E880",
          "dash": "solid"
         },
         "marker": {
          "symbol": "circle"
         },
         "mode": "lines",
         "name": "{9, 5}",
         "scene": "scene",
         "showlegend": true,
         "type": "scatter3d",
         "x": [
          0.10364911963015244,
          0.6916079497234193
         ],
         "y": [
          0.07333778121667009,
          0.04981641091599395
         ],
         "z": [
          0.8188677265471092,
          0.5769025948256076
         ]
        },
        {
         "hovertemplate": "line={0, 6}<br>x=%{x}<br>y=%{y}<br>z=%{z}<extra></extra>",
         "legendgroup": "{0, 6}",
         "line": {
          "color": "#FF97FF",
          "dash": "solid"
         },
         "marker": {
          "symbol": "circle"
         },
         "mode": "lines",
         "name": "{0, 6}",
         "scene": "scene",
         "showlegend": true,
         "type": "scatter3d",
         "x": [
          -0.18494129779316737,
          0.663137493583145
         ],
         "y": [
          0.3480256917985953,
          0.055815938685533334
         ],
         "z": [
          0.41026362530136073,
          0.5397146863129192
         ]
        },
        {
         "hovertemplate": "line={6, 7}<br>x=%{x}<br>y=%{y}<br>z=%{z}<extra></extra>",
         "legendgroup": "{6, 7}",
         "line": {
          "color": "#FECB52",
          "dash": "solid"
         },
         "marker": {
          "symbol": "circle"
         },
         "mode": "lines",
         "name": "{6, 7}",
         "scene": "scene",
         "showlegend": true,
         "type": "scatter3d",
         "x": [
          0.663137493583145,
          0.7225470916178227
         ],
         "y": [
          0.055815938685533334,
          0.48965188446485935
         ],
         "z": [
          0.5397146863129192,
          0.5158175418080423
         ]
        },
        {
         "hovertemplate": "line={9, 6}<br>x=%{x}<br>y=%{y}<br>z=%{z}<extra></extra>",
         "legendgroup": "{9, 6}",
         "line": {
          "color": "#636efa",
          "dash": "solid"
         },
         "marker": {
          "symbol": "circle"
         },
         "mode": "lines",
         "name": "{9, 6}",
         "scene": "scene",
         "showlegend": true,
         "type": "scatter3d",
         "x": [
          0.10364911963015244,
          0.663137493583145
         ],
         "y": [
          0.07333778121667009,
          0.055815938685533334
         ],
         "z": [
          0.8188677265471092,
          0.5397146863129192
         ]
        },
        {
         "hovertemplate": "line={0, 3}<br>x=%{x}<br>y=%{y}<br>z=%{z}<extra></extra>",
         "legendgroup": "{0, 3}",
         "line": {
          "color": "#EF553B",
          "dash": "solid"
         },
         "marker": {
          "symbol": "circle"
         },
         "mode": "lines",
         "name": "{0, 3}",
         "scene": "scene",
         "showlegend": true,
         "type": "scatter3d",
         "x": [
          -0.18494129779316737,
          0.23345858076322928
         ],
         "y": [
          0.3480256917985953,
          0.9443040301443992
         ],
         "z": [
          0.41026362530136073,
          0.804953357461367
         ]
        },
        {
         "hovertemplate": "line={0, 4}<br>x=%{x}<br>y=%{y}<br>z=%{z}<extra></extra>",
         "legendgroup": "{0, 4}",
         "line": {
          "color": "#00cc96",
          "dash": "solid"
         },
         "marker": {
          "symbol": "circle"
         },
         "mode": "lines",
         "name": "{0, 4}",
         "scene": "scene",
         "showlegend": true,
         "type": "scatter3d",
         "x": [
          -0.18494129779316737,
          0.284096598918533
         ],
         "y": [
          0.3480256917985953,
          0.31616913039433553
         ],
         "z": [
          0.41026362530136073,
          1.3169297650662286
         ]
        },
        {
         "hovertemplate": "line={0, 9}<br>x=%{x}<br>y=%{y}<br>z=%{z}<extra></extra>",
         "legendgroup": "{0, 9}",
         "line": {
          "color": "#ab63fa",
          "dash": "solid"
         },
         "marker": {
          "symbol": "circle"
         },
         "mode": "lines",
         "name": "{0, 9}",
         "scene": "scene",
         "showlegend": true,
         "type": "scatter3d",
         "x": [
          -0.18494129779316737,
          0.10364911963015244
         ],
         "y": [
          0.3480256917985953,
          0.07333778121667009
         ],
         "z": [
          0.41026362530136073,
          0.8188677265471092
         ]
        },
        {
         "hovertemplate": "line={3, 4}<br>x=%{x}<br>y=%{y}<br>z=%{z}<extra></extra>",
         "legendgroup": "{3, 4}",
         "line": {
          "color": "#FFA15A",
          "dash": "solid"
         },
         "marker": {
          "symbol": "circle"
         },
         "mode": "lines",
         "name": "{3, 4}",
         "scene": "scene",
         "showlegend": true,
         "type": "scatter3d",
         "x": [
          0.23345858076322928,
          0.284096598918533
         ],
         "y": [
          0.9443040301443992,
          0.31616913039433553
         ],
         "z": [
          0.804953357461367,
          1.3169297650662286
         ]
        },
        {
         "hovertemplate": "line={3, 7}<br>x=%{x}<br>y=%{y}<br>z=%{z}<extra></extra>",
         "legendgroup": "{3, 7}",
         "line": {
          "color": "#19d3f3",
          "dash": "solid"
         },
         "marker": {
          "symbol": "circle"
         },
         "mode": "lines",
         "name": "{3, 7}",
         "scene": "scene",
         "showlegend": true,
         "type": "scatter3d",
         "x": [
          0.23345858076322928,
          0.7225470916178227
         ],
         "y": [
          0.9443040301443992,
          0.48965188446485935
         ],
         "z": [
          0.804953357461367,
          0.5158175418080423
         ]
        },
        {
         "hovertemplate": "line={9, 4}<br>x=%{x}<br>y=%{y}<br>z=%{z}<extra></extra>",
         "legendgroup": "{9, 4}",
         "line": {
          "color": "#FF6692",
          "dash": "solid"
         },
         "marker": {
          "symbol": "circle"
         },
         "mode": "lines",
         "name": "{9, 4}",
         "scene": "scene",
         "showlegend": true,
         "type": "scatter3d",
         "x": [
          0.10364911963015244,
          0.284096598918533
         ],
         "y": [
          0.07333778121667009,
          0.31616913039433553
         ],
         "z": [
          0.8188677265471092,
          1.3169297650662286
         ]
        },
        {
         "hovertemplate": "line={4, 7}<br>x=%{x}<br>y=%{y}<br>z=%{z}<extra></extra>",
         "legendgroup": "{4, 7}",
         "line": {
          "color": "#B6E880",
          "dash": "solid"
         },
         "marker": {
          "symbol": "circle"
         },
         "mode": "lines",
         "name": "{4, 7}",
         "scene": "scene",
         "showlegend": true,
         "type": "scatter3d",
         "x": [
          0.284096598918533,
          0.7225470916178227
         ],
         "y": [
          0.31616913039433553,
          0.48965188446485935
         ],
         "z": [
          1.3169297650662286,
          0.5158175418080423
         ]
        }
       ],
       "layout": {
        "legend": {
         "title": {
          "text": "line"
         },
         "tracegroupgap": 0
        },
        "margin": {
         "t": 60
        },
        "scene": {
         "domain": {
          "x": [
           0,
           1
          ],
          "y": [
           0,
           1
          ]
         },
         "xaxis": {
          "title": {
           "text": "x"
          }
         },
         "yaxis": {
          "title": {
           "text": "y"
          }
         },
         "zaxis": {
          "title": {
           "text": "z"
          }
         }
        },
        "template": {
         "data": {
          "bar": [
           {
            "error_x": {
             "color": "#2a3f5f"
            },
            "error_y": {
             "color": "#2a3f5f"
            },
            "marker": {
             "line": {
              "color": "#E5ECF6",
              "width": 0.5
             },
             "pattern": {
              "fillmode": "overlay",
              "size": 10,
              "solidity": 0.2
             }
            },
            "type": "bar"
           }
          ],
          "barpolar": [
           {
            "marker": {
             "line": {
              "color": "#E5ECF6",
              "width": 0.5
             },
             "pattern": {
              "fillmode": "overlay",
              "size": 10,
              "solidity": 0.2
             }
            },
            "type": "barpolar"
           }
          ],
          "carpet": [
           {
            "aaxis": {
             "endlinecolor": "#2a3f5f",
             "gridcolor": "white",
             "linecolor": "white",
             "minorgridcolor": "white",
             "startlinecolor": "#2a3f5f"
            },
            "baxis": {
             "endlinecolor": "#2a3f5f",
             "gridcolor": "white",
             "linecolor": "white",
             "minorgridcolor": "white",
             "startlinecolor": "#2a3f5f"
            },
            "type": "carpet"
           }
          ],
          "choropleth": [
           {
            "colorbar": {
             "outlinewidth": 0,
             "ticks": ""
            },
            "type": "choropleth"
           }
          ],
          "contour": [
           {
            "colorbar": {
             "outlinewidth": 0,
             "ticks": ""
            },
            "colorscale": [
             [
              0,
              "#0d0887"
             ],
             [
              0.1111111111111111,
              "#46039f"
             ],
             [
              0.2222222222222222,
              "#7201a8"
             ],
             [
              0.3333333333333333,
              "#9c179e"
             ],
             [
              0.4444444444444444,
              "#bd3786"
             ],
             [
              0.5555555555555556,
              "#d8576b"
             ],
             [
              0.6666666666666666,
              "#ed7953"
             ],
             [
              0.7777777777777778,
              "#fb9f3a"
             ],
             [
              0.8888888888888888,
              "#fdca26"
             ],
             [
              1,
              "#f0f921"
             ]
            ],
            "type": "contour"
           }
          ],
          "contourcarpet": [
           {
            "colorbar": {
             "outlinewidth": 0,
             "ticks": ""
            },
            "type": "contourcarpet"
           }
          ],
          "heatmap": [
           {
            "colorbar": {
             "outlinewidth": 0,
             "ticks": ""
            },
            "colorscale": [
             [
              0,
              "#0d0887"
             ],
             [
              0.1111111111111111,
              "#46039f"
             ],
             [
              0.2222222222222222,
              "#7201a8"
             ],
             [
              0.3333333333333333,
              "#9c179e"
             ],
             [
              0.4444444444444444,
              "#bd3786"
             ],
             [
              0.5555555555555556,
              "#d8576b"
             ],
             [
              0.6666666666666666,
              "#ed7953"
             ],
             [
              0.7777777777777778,
              "#fb9f3a"
             ],
             [
              0.8888888888888888,
              "#fdca26"
             ],
             [
              1,
              "#f0f921"
             ]
            ],
            "type": "heatmap"
           }
          ],
          "heatmapgl": [
           {
            "colorbar": {
             "outlinewidth": 0,
             "ticks": ""
            },
            "colorscale": [
             [
              0,
              "#0d0887"
             ],
             [
              0.1111111111111111,
              "#46039f"
             ],
             [
              0.2222222222222222,
              "#7201a8"
             ],
             [
              0.3333333333333333,
              "#9c179e"
             ],
             [
              0.4444444444444444,
              "#bd3786"
             ],
             [
              0.5555555555555556,
              "#d8576b"
             ],
             [
              0.6666666666666666,
              "#ed7953"
             ],
             [
              0.7777777777777778,
              "#fb9f3a"
             ],
             [
              0.8888888888888888,
              "#fdca26"
             ],
             [
              1,
              "#f0f921"
             ]
            ],
            "type": "heatmapgl"
           }
          ],
          "histogram": [
           {
            "marker": {
             "pattern": {
              "fillmode": "overlay",
              "size": 10,
              "solidity": 0.2
             }
            },
            "type": "histogram"
           }
          ],
          "histogram2d": [
           {
            "colorbar": {
             "outlinewidth": 0,
             "ticks": ""
            },
            "colorscale": [
             [
              0,
              "#0d0887"
             ],
             [
              0.1111111111111111,
              "#46039f"
             ],
             [
              0.2222222222222222,
              "#7201a8"
             ],
             [
              0.3333333333333333,
              "#9c179e"
             ],
             [
              0.4444444444444444,
              "#bd3786"
             ],
             [
              0.5555555555555556,
              "#d8576b"
             ],
             [
              0.6666666666666666,
              "#ed7953"
             ],
             [
              0.7777777777777778,
              "#fb9f3a"
             ],
             [
              0.8888888888888888,
              "#fdca26"
             ],
             [
              1,
              "#f0f921"
             ]
            ],
            "type": "histogram2d"
           }
          ],
          "histogram2dcontour": [
           {
            "colorbar": {
             "outlinewidth": 0,
             "ticks": ""
            },
            "colorscale": [
             [
              0,
              "#0d0887"
             ],
             [
              0.1111111111111111,
              "#46039f"
             ],
             [
              0.2222222222222222,
              "#7201a8"
             ],
             [
              0.3333333333333333,
              "#9c179e"
             ],
             [
              0.4444444444444444,
              "#bd3786"
             ],
             [
              0.5555555555555556,
              "#d8576b"
             ],
             [
              0.6666666666666666,
              "#ed7953"
             ],
             [
              0.7777777777777778,
              "#fb9f3a"
             ],
             [
              0.8888888888888888,
              "#fdca26"
             ],
             [
              1,
              "#f0f921"
             ]
            ],
            "type": "histogram2dcontour"
           }
          ],
          "mesh3d": [
           {
            "colorbar": {
             "outlinewidth": 0,
             "ticks": ""
            },
            "type": "mesh3d"
           }
          ],
          "parcoords": [
           {
            "line": {
             "colorbar": {
              "outlinewidth": 0,
              "ticks": ""
             }
            },
            "type": "parcoords"
           }
          ],
          "pie": [
           {
            "automargin": true,
            "type": "pie"
           }
          ],
          "scatter": [
           {
            "fillpattern": {
             "fillmode": "overlay",
             "size": 10,
             "solidity": 0.2
            },
            "type": "scatter"
           }
          ],
          "scatter3d": [
           {
            "line": {
             "colorbar": {
              "outlinewidth": 0,
              "ticks": ""
             }
            },
            "marker": {
             "colorbar": {
              "outlinewidth": 0,
              "ticks": ""
             }
            },
            "type": "scatter3d"
           }
          ],
          "scattercarpet": [
           {
            "marker": {
             "colorbar": {
              "outlinewidth": 0,
              "ticks": ""
             }
            },
            "type": "scattercarpet"
           }
          ],
          "scattergeo": [
           {
            "marker": {
             "colorbar": {
              "outlinewidth": 0,
              "ticks": ""
             }
            },
            "type": "scattergeo"
           }
          ],
          "scattergl": [
           {
            "marker": {
             "colorbar": {
              "outlinewidth": 0,
              "ticks": ""
             }
            },
            "type": "scattergl"
           }
          ],
          "scattermapbox": [
           {
            "marker": {
             "colorbar": {
              "outlinewidth": 0,
              "ticks": ""
             }
            },
            "type": "scattermapbox"
           }
          ],
          "scatterpolar": [
           {
            "marker": {
             "colorbar": {
              "outlinewidth": 0,
              "ticks": ""
             }
            },
            "type": "scatterpolar"
           }
          ],
          "scatterpolargl": [
           {
            "marker": {
             "colorbar": {
              "outlinewidth": 0,
              "ticks": ""
             }
            },
            "type": "scatterpolargl"
           }
          ],
          "scatterternary": [
           {
            "marker": {
             "colorbar": {
              "outlinewidth": 0,
              "ticks": ""
             }
            },
            "type": "scatterternary"
           }
          ],
          "surface": [
           {
            "colorbar": {
             "outlinewidth": 0,
             "ticks": ""
            },
            "colorscale": [
             [
              0,
              "#0d0887"
             ],
             [
              0.1111111111111111,
              "#46039f"
             ],
             [
              0.2222222222222222,
              "#7201a8"
             ],
             [
              0.3333333333333333,
              "#9c179e"
             ],
             [
              0.4444444444444444,
              "#bd3786"
             ],
             [
              0.5555555555555556,
              "#d8576b"
             ],
             [
              0.6666666666666666,
              "#ed7953"
             ],
             [
              0.7777777777777778,
              "#fb9f3a"
             ],
             [
              0.8888888888888888,
              "#fdca26"
             ],
             [
              1,
              "#f0f921"
             ]
            ],
            "type": "surface"
           }
          ],
          "table": [
           {
            "cells": {
             "fill": {
              "color": "#EBF0F8"
             },
             "line": {
              "color": "white"
             }
            },
            "header": {
             "fill": {
              "color": "#C8D4E3"
             },
             "line": {
              "color": "white"
             }
            },
            "type": "table"
           }
          ]
         },
         "layout": {
          "annotationdefaults": {
           "arrowcolor": "#2a3f5f",
           "arrowhead": 0,
           "arrowwidth": 1
          },
          "autotypenumbers": "strict",
          "coloraxis": {
           "colorbar": {
            "outlinewidth": 0,
            "ticks": ""
           }
          },
          "colorscale": {
           "diverging": [
            [
             0,
             "#8e0152"
            ],
            [
             0.1,
             "#c51b7d"
            ],
            [
             0.2,
             "#de77ae"
            ],
            [
             0.3,
             "#f1b6da"
            ],
            [
             0.4,
             "#fde0ef"
            ],
            [
             0.5,
             "#f7f7f7"
            ],
            [
             0.6,
             "#e6f5d0"
            ],
            [
             0.7,
             "#b8e186"
            ],
            [
             0.8,
             "#7fbc41"
            ],
            [
             0.9,
             "#4d9221"
            ],
            [
             1,
             "#276419"
            ]
           ],
           "sequential": [
            [
             0,
             "#0d0887"
            ],
            [
             0.1111111111111111,
             "#46039f"
            ],
            [
             0.2222222222222222,
             "#7201a8"
            ],
            [
             0.3333333333333333,
             "#9c179e"
            ],
            [
             0.4444444444444444,
             "#bd3786"
            ],
            [
             0.5555555555555556,
             "#d8576b"
            ],
            [
             0.6666666666666666,
             "#ed7953"
            ],
            [
             0.7777777777777778,
             "#fb9f3a"
            ],
            [
             0.8888888888888888,
             "#fdca26"
            ],
            [
             1,
             "#f0f921"
            ]
           ],
           "sequentialminus": [
            [
             0,
             "#0d0887"
            ],
            [
             0.1111111111111111,
             "#46039f"
            ],
            [
             0.2222222222222222,
             "#7201a8"
            ],
            [
             0.3333333333333333,
             "#9c179e"
            ],
            [
             0.4444444444444444,
             "#bd3786"
            ],
            [
             0.5555555555555556,
             "#d8576b"
            ],
            [
             0.6666666666666666,
             "#ed7953"
            ],
            [
             0.7777777777777778,
             "#fb9f3a"
            ],
            [
             0.8888888888888888,
             "#fdca26"
            ],
            [
             1,
             "#f0f921"
            ]
           ]
          },
          "colorway": [
           "#636efa",
           "#EF553B",
           "#00cc96",
           "#ab63fa",
           "#FFA15A",
           "#19d3f3",
           "#FF6692",
           "#B6E880",
           "#FF97FF",
           "#FECB52"
          ],
          "font": {
           "color": "#2a3f5f"
          },
          "geo": {
           "bgcolor": "white",
           "lakecolor": "white",
           "landcolor": "#E5ECF6",
           "showlakes": true,
           "showland": true,
           "subunitcolor": "white"
          },
          "hoverlabel": {
           "align": "left"
          },
          "hovermode": "closest",
          "mapbox": {
           "style": "light"
          },
          "paper_bgcolor": "white",
          "plot_bgcolor": "#E5ECF6",
          "polar": {
           "angularaxis": {
            "gridcolor": "white",
            "linecolor": "white",
            "ticks": ""
           },
           "bgcolor": "#E5ECF6",
           "radialaxis": {
            "gridcolor": "white",
            "linecolor": "white",
            "ticks": ""
           }
          },
          "scene": {
           "xaxis": {
            "backgroundcolor": "#E5ECF6",
            "gridcolor": "white",
            "gridwidth": 2,
            "linecolor": "white",
            "showbackground": true,
            "ticks": "",
            "zerolinecolor": "white"
           },
           "yaxis": {
            "backgroundcolor": "#E5ECF6",
            "gridcolor": "white",
            "gridwidth": 2,
            "linecolor": "white",
            "showbackground": true,
            "ticks": "",
            "zerolinecolor": "white"
           },
           "zaxis": {
            "backgroundcolor": "#E5ECF6",
            "gridcolor": "white",
            "gridwidth": 2,
            "linecolor": "white",
            "showbackground": true,
            "ticks": "",
            "zerolinecolor": "white"
           }
          },
          "shapedefaults": {
           "line": {
            "color": "#2a3f5f"
           }
          },
          "ternary": {
           "aaxis": {
            "gridcolor": "white",
            "linecolor": "white",
            "ticks": ""
           },
           "baxis": {
            "gridcolor": "white",
            "linecolor": "white",
            "ticks": ""
           },
           "bgcolor": "#E5ECF6",
           "caxis": {
            "gridcolor": "white",
            "linecolor": "white",
            "ticks": ""
           }
          },
          "title": {
           "x": 0.05
          },
          "xaxis": {
           "automargin": true,
           "gridcolor": "white",
           "linecolor": "white",
           "ticks": "",
           "title": {
            "standoff": 15
           },
           "zerolinecolor": "white",
           "zerolinewidth": 2
          },
          "yaxis": {
           "automargin": true,
           "gridcolor": "white",
           "linecolor": "white",
           "ticks": "",
           "title": {
            "standoff": 15
           },
           "zerolinecolor": "white",
           "zerolinewidth": 2
          }
         }
        }
       }
      },
      "text/html": [
       "<div>                            <div id=\"6815bef5-1ef0-44f7-8865-d0a24987d540\" class=\"plotly-graph-div\" style=\"height:525px; width:100%;\"></div>            <script type=\"text/javascript\">                require([\"plotly\"], function(Plotly) {                    window.PLOTLYENV=window.PLOTLYENV || {};                                    if (document.getElementById(\"6815bef5-1ef0-44f7-8865-d0a24987d540\")) {                    Plotly.newPlot(                        \"6815bef5-1ef0-44f7-8865-d0a24987d540\",                        [{\"hovertemplate\":\"line={0, 1}\\u003cbr\\u003ex=%{x}\\u003cbr\\u003ey=%{y}\\u003cbr\\u003ez=%{z}\\u003cextra\\u003e\\u003c\\u002fextra\\u003e\",\"legendgroup\":\"{0, 1}\",\"line\":{\"color\":\"#636efa\",\"dash\":\"solid\"},\"marker\":{\"symbol\":\"circle\"},\"mode\":\"lines\",\"name\":\"{0, 1}\",\"scene\":\"scene\",\"showlegend\":true,\"x\":[-0.18494129779316737,-0.13684966971949653],\"y\":[0.3480256917985953,0.5002734434216574],\"z\":[0.41026362530136073,0.12059743459358352],\"type\":\"scatter3d\"},{\"hovertemplate\":\"line={1, 3}\\u003cbr\\u003ex=%{x}\\u003cbr\\u003ey=%{y}\\u003cbr\\u003ez=%{z}\\u003cextra\\u003e\\u003c\\u002fextra\\u003e\",\"legendgroup\":\"{1, 3}\",\"line\":{\"color\":\"#EF553B\",\"dash\":\"solid\"},\"marker\":{\"symbol\":\"circle\"},\"mode\":\"lines\",\"name\":\"{1, 3}\",\"scene\":\"scene\",\"showlegend\":true,\"x\":[-0.13684966971949653,0.23345858076322928],\"y\":[0.5002734434216574,0.9443040301443992],\"z\":[0.12059743459358352,0.804953357461367],\"type\":\"scatter3d\"},{\"hovertemplate\":\"line={1, 6}\\u003cbr\\u003ex=%{x}\\u003cbr\\u003ey=%{y}\\u003cbr\\u003ez=%{z}\\u003cextra\\u003e\\u003c\\u002fextra\\u003e\",\"legendgroup\":\"{1, 6}\",\"line\":{\"color\":\"#00cc96\",\"dash\":\"solid\"},\"marker\":{\"symbol\":\"circle\"},\"mode\":\"lines\",\"name\":\"{1, 6}\",\"scene\":\"scene\",\"showlegend\":true,\"x\":[-0.13684966971949653,0.663137493583145],\"y\":[0.5002734434216574,0.055815938685533334],\"z\":[0.12059743459358352,0.5397146863129192],\"type\":\"scatter3d\"},{\"hovertemplate\":\"line={1, 7}\\u003cbr\\u003ex=%{x}\\u003cbr\\u003ey=%{y}\\u003cbr\\u003ez=%{z}\\u003cextra\\u003e\\u003c\\u002fextra\\u003e\",\"legendgroup\":\"{1, 7}\",\"line\":{\"color\":\"#ab63fa\",\"dash\":\"solid\"},\"marker\":{\"symbol\":\"circle\"},\"mode\":\"lines\",\"name\":\"{1, 7}\",\"scene\":\"scene\",\"showlegend\":true,\"x\":[-0.13684966971949653,0.7225470916178227],\"y\":[0.5002734434216574,0.48965188446485935],\"z\":[0.12059743459358352,0.5158175418080423],\"type\":\"scatter3d\"},{\"hovertemplate\":\"line={4, 5}\\u003cbr\\u003ex=%{x}\\u003cbr\\u003ey=%{y}\\u003cbr\\u003ez=%{z}\\u003cextra\\u003e\\u003c\\u002fextra\\u003e\",\"legendgroup\":\"{4, 5}\",\"line\":{\"color\":\"#FFA15A\",\"dash\":\"solid\"},\"marker\":{\"symbol\":\"circle\"},\"mode\":\"lines\",\"name\":\"{4, 5}\",\"scene\":\"scene\",\"showlegend\":true,\"x\":[0.284096598918533,0.6916079497234193],\"y\":[0.31616913039433553,0.04981641091599395],\"z\":[1.3169297650662286,0.5769025948256076],\"type\":\"scatter3d\"},{\"hovertemplate\":\"line={5, 6}\\u003cbr\\u003ex=%{x}\\u003cbr\\u003ey=%{y}\\u003cbr\\u003ez=%{z}\\u003cextra\\u003e\\u003c\\u002fextra\\u003e\",\"legendgroup\":\"{5, 6}\",\"line\":{\"color\":\"#19d3f3\",\"dash\":\"solid\"},\"marker\":{\"symbol\":\"circle\"},\"mode\":\"lines\",\"name\":\"{5, 6}\",\"scene\":\"scene\",\"showlegend\":true,\"x\":[0.6916079497234193,0.663137493583145],\"y\":[0.04981641091599395,0.055815938685533334],\"z\":[0.5769025948256076,0.5397146863129192],\"type\":\"scatter3d\"},{\"hovertemplate\":\"line={5, 7}\\u003cbr\\u003ex=%{x}\\u003cbr\\u003ey=%{y}\\u003cbr\\u003ez=%{z}\\u003cextra\\u003e\\u003c\\u002fextra\\u003e\",\"legendgroup\":\"{5, 7}\",\"line\":{\"color\":\"#FF6692\",\"dash\":\"solid\"},\"marker\":{\"symbol\":\"circle\"},\"mode\":\"lines\",\"name\":\"{5, 7}\",\"scene\":\"scene\",\"showlegend\":true,\"x\":[0.6916079497234193,0.7225470916178227],\"y\":[0.04981641091599395,0.48965188446485935],\"z\":[0.5769025948256076,0.5158175418080423],\"type\":\"scatter3d\"},{\"hovertemplate\":\"line={9, 5}\\u003cbr\\u003ex=%{x}\\u003cbr\\u003ey=%{y}\\u003cbr\\u003ez=%{z}\\u003cextra\\u003e\\u003c\\u002fextra\\u003e\",\"legendgroup\":\"{9, 5}\",\"line\":{\"color\":\"#B6E880\",\"dash\":\"solid\"},\"marker\":{\"symbol\":\"circle\"},\"mode\":\"lines\",\"name\":\"{9, 5}\",\"scene\":\"scene\",\"showlegend\":true,\"x\":[0.10364911963015244,0.6916079497234193],\"y\":[0.07333778121667009,0.04981641091599395],\"z\":[0.8188677265471092,0.5769025948256076],\"type\":\"scatter3d\"},{\"hovertemplate\":\"line={0, 6}\\u003cbr\\u003ex=%{x}\\u003cbr\\u003ey=%{y}\\u003cbr\\u003ez=%{z}\\u003cextra\\u003e\\u003c\\u002fextra\\u003e\",\"legendgroup\":\"{0, 6}\",\"line\":{\"color\":\"#FF97FF\",\"dash\":\"solid\"},\"marker\":{\"symbol\":\"circle\"},\"mode\":\"lines\",\"name\":\"{0, 6}\",\"scene\":\"scene\",\"showlegend\":true,\"x\":[-0.18494129779316737,0.663137493583145],\"y\":[0.3480256917985953,0.055815938685533334],\"z\":[0.41026362530136073,0.5397146863129192],\"type\":\"scatter3d\"},{\"hovertemplate\":\"line={6, 7}\\u003cbr\\u003ex=%{x}\\u003cbr\\u003ey=%{y}\\u003cbr\\u003ez=%{z}\\u003cextra\\u003e\\u003c\\u002fextra\\u003e\",\"legendgroup\":\"{6, 7}\",\"line\":{\"color\":\"#FECB52\",\"dash\":\"solid\"},\"marker\":{\"symbol\":\"circle\"},\"mode\":\"lines\",\"name\":\"{6, 7}\",\"scene\":\"scene\",\"showlegend\":true,\"x\":[0.663137493583145,0.7225470916178227],\"y\":[0.055815938685533334,0.48965188446485935],\"z\":[0.5397146863129192,0.5158175418080423],\"type\":\"scatter3d\"},{\"hovertemplate\":\"line={9, 6}\\u003cbr\\u003ex=%{x}\\u003cbr\\u003ey=%{y}\\u003cbr\\u003ez=%{z}\\u003cextra\\u003e\\u003c\\u002fextra\\u003e\",\"legendgroup\":\"{9, 6}\",\"line\":{\"color\":\"#636efa\",\"dash\":\"solid\"},\"marker\":{\"symbol\":\"circle\"},\"mode\":\"lines\",\"name\":\"{9, 6}\",\"scene\":\"scene\",\"showlegend\":true,\"x\":[0.10364911963015244,0.663137493583145],\"y\":[0.07333778121667009,0.055815938685533334],\"z\":[0.8188677265471092,0.5397146863129192],\"type\":\"scatter3d\"},{\"hovertemplate\":\"line={0, 3}\\u003cbr\\u003ex=%{x}\\u003cbr\\u003ey=%{y}\\u003cbr\\u003ez=%{z}\\u003cextra\\u003e\\u003c\\u002fextra\\u003e\",\"legendgroup\":\"{0, 3}\",\"line\":{\"color\":\"#EF553B\",\"dash\":\"solid\"},\"marker\":{\"symbol\":\"circle\"},\"mode\":\"lines\",\"name\":\"{0, 3}\",\"scene\":\"scene\",\"showlegend\":true,\"x\":[-0.18494129779316737,0.23345858076322928],\"y\":[0.3480256917985953,0.9443040301443992],\"z\":[0.41026362530136073,0.804953357461367],\"type\":\"scatter3d\"},{\"hovertemplate\":\"line={0, 4}\\u003cbr\\u003ex=%{x}\\u003cbr\\u003ey=%{y}\\u003cbr\\u003ez=%{z}\\u003cextra\\u003e\\u003c\\u002fextra\\u003e\",\"legendgroup\":\"{0, 4}\",\"line\":{\"color\":\"#00cc96\",\"dash\":\"solid\"},\"marker\":{\"symbol\":\"circle\"},\"mode\":\"lines\",\"name\":\"{0, 4}\",\"scene\":\"scene\",\"showlegend\":true,\"x\":[-0.18494129779316737,0.284096598918533],\"y\":[0.3480256917985953,0.31616913039433553],\"z\":[0.41026362530136073,1.3169297650662286],\"type\":\"scatter3d\"},{\"hovertemplate\":\"line={0, 9}\\u003cbr\\u003ex=%{x}\\u003cbr\\u003ey=%{y}\\u003cbr\\u003ez=%{z}\\u003cextra\\u003e\\u003c\\u002fextra\\u003e\",\"legendgroup\":\"{0, 9}\",\"line\":{\"color\":\"#ab63fa\",\"dash\":\"solid\"},\"marker\":{\"symbol\":\"circle\"},\"mode\":\"lines\",\"name\":\"{0, 9}\",\"scene\":\"scene\",\"showlegend\":true,\"x\":[-0.18494129779316737,0.10364911963015244],\"y\":[0.3480256917985953,0.07333778121667009],\"z\":[0.41026362530136073,0.8188677265471092],\"type\":\"scatter3d\"},{\"hovertemplate\":\"line={3, 4}\\u003cbr\\u003ex=%{x}\\u003cbr\\u003ey=%{y}\\u003cbr\\u003ez=%{z}\\u003cextra\\u003e\\u003c\\u002fextra\\u003e\",\"legendgroup\":\"{3, 4}\",\"line\":{\"color\":\"#FFA15A\",\"dash\":\"solid\"},\"marker\":{\"symbol\":\"circle\"},\"mode\":\"lines\",\"name\":\"{3, 4}\",\"scene\":\"scene\",\"showlegend\":true,\"x\":[0.23345858076322928,0.284096598918533],\"y\":[0.9443040301443992,0.31616913039433553],\"z\":[0.804953357461367,1.3169297650662286],\"type\":\"scatter3d\"},{\"hovertemplate\":\"line={3, 7}\\u003cbr\\u003ex=%{x}\\u003cbr\\u003ey=%{y}\\u003cbr\\u003ez=%{z}\\u003cextra\\u003e\\u003c\\u002fextra\\u003e\",\"legendgroup\":\"{3, 7}\",\"line\":{\"color\":\"#19d3f3\",\"dash\":\"solid\"},\"marker\":{\"symbol\":\"circle\"},\"mode\":\"lines\",\"name\":\"{3, 7}\",\"scene\":\"scene\",\"showlegend\":true,\"x\":[0.23345858076322928,0.7225470916178227],\"y\":[0.9443040301443992,0.48965188446485935],\"z\":[0.804953357461367,0.5158175418080423],\"type\":\"scatter3d\"},{\"hovertemplate\":\"line={9, 4}\\u003cbr\\u003ex=%{x}\\u003cbr\\u003ey=%{y}\\u003cbr\\u003ez=%{z}\\u003cextra\\u003e\\u003c\\u002fextra\\u003e\",\"legendgroup\":\"{9, 4}\",\"line\":{\"color\":\"#FF6692\",\"dash\":\"solid\"},\"marker\":{\"symbol\":\"circle\"},\"mode\":\"lines\",\"name\":\"{9, 4}\",\"scene\":\"scene\",\"showlegend\":true,\"x\":[0.10364911963015244,0.284096598918533],\"y\":[0.07333778121667009,0.31616913039433553],\"z\":[0.8188677265471092,1.3169297650662286],\"type\":\"scatter3d\"},{\"hovertemplate\":\"line={4, 7}\\u003cbr\\u003ex=%{x}\\u003cbr\\u003ey=%{y}\\u003cbr\\u003ez=%{z}\\u003cextra\\u003e\\u003c\\u002fextra\\u003e\",\"legendgroup\":\"{4, 7}\",\"line\":{\"color\":\"#B6E880\",\"dash\":\"solid\"},\"marker\":{\"symbol\":\"circle\"},\"mode\":\"lines\",\"name\":\"{4, 7}\",\"scene\":\"scene\",\"showlegend\":true,\"x\":[0.284096598918533,0.7225470916178227],\"y\":[0.31616913039433553,0.48965188446485935],\"z\":[1.3169297650662286,0.5158175418080423],\"type\":\"scatter3d\"}],                        {\"template\":{\"data\":{\"histogram2dcontour\":[{\"type\":\"histogram2dcontour\",\"colorbar\":{\"outlinewidth\":0,\"ticks\":\"\"},\"colorscale\":[[0.0,\"#0d0887\"],[0.1111111111111111,\"#46039f\"],[0.2222222222222222,\"#7201a8\"],[0.3333333333333333,\"#9c179e\"],[0.4444444444444444,\"#bd3786\"],[0.5555555555555556,\"#d8576b\"],[0.6666666666666666,\"#ed7953\"],[0.7777777777777778,\"#fb9f3a\"],[0.8888888888888888,\"#fdca26\"],[1.0,\"#f0f921\"]]}],\"choropleth\":[{\"type\":\"choropleth\",\"colorbar\":{\"outlinewidth\":0,\"ticks\":\"\"}}],\"histogram2d\":[{\"type\":\"histogram2d\",\"colorbar\":{\"outlinewidth\":0,\"ticks\":\"\"},\"colorscale\":[[0.0,\"#0d0887\"],[0.1111111111111111,\"#46039f\"],[0.2222222222222222,\"#7201a8\"],[0.3333333333333333,\"#9c179e\"],[0.4444444444444444,\"#bd3786\"],[0.5555555555555556,\"#d8576b\"],[0.6666666666666666,\"#ed7953\"],[0.7777777777777778,\"#fb9f3a\"],[0.8888888888888888,\"#fdca26\"],[1.0,\"#f0f921\"]]}],\"heatmap\":[{\"type\":\"heatmap\",\"colorbar\":{\"outlinewidth\":0,\"ticks\":\"\"},\"colorscale\":[[0.0,\"#0d0887\"],[0.1111111111111111,\"#46039f\"],[0.2222222222222222,\"#7201a8\"],[0.3333333333333333,\"#9c179e\"],[0.4444444444444444,\"#bd3786\"],[0.5555555555555556,\"#d8576b\"],[0.6666666666666666,\"#ed7953\"],[0.7777777777777778,\"#fb9f3a\"],[0.8888888888888888,\"#fdca26\"],[1.0,\"#f0f921\"]]}],\"heatmapgl\":[{\"type\":\"heatmapgl\",\"colorbar\":{\"outlinewidth\":0,\"ticks\":\"\"},\"colorscale\":[[0.0,\"#0d0887\"],[0.1111111111111111,\"#46039f\"],[0.2222222222222222,\"#7201a8\"],[0.3333333333333333,\"#9c179e\"],[0.4444444444444444,\"#bd3786\"],[0.5555555555555556,\"#d8576b\"],[0.6666666666666666,\"#ed7953\"],[0.7777777777777778,\"#fb9f3a\"],[0.8888888888888888,\"#fdca26\"],[1.0,\"#f0f921\"]]}],\"contourcarpet\":[{\"type\":\"contourcarpet\",\"colorbar\":{\"outlinewidth\":0,\"ticks\":\"\"}}],\"contour\":[{\"type\":\"contour\",\"colorbar\":{\"outlinewidth\":0,\"ticks\":\"\"},\"colorscale\":[[0.0,\"#0d0887\"],[0.1111111111111111,\"#46039f\"],[0.2222222222222222,\"#7201a8\"],[0.3333333333333333,\"#9c179e\"],[0.4444444444444444,\"#bd3786\"],[0.5555555555555556,\"#d8576b\"],[0.6666666666666666,\"#ed7953\"],[0.7777777777777778,\"#fb9f3a\"],[0.8888888888888888,\"#fdca26\"],[1.0,\"#f0f921\"]]}],\"surface\":[{\"type\":\"surface\",\"colorbar\":{\"outlinewidth\":0,\"ticks\":\"\"},\"colorscale\":[[0.0,\"#0d0887\"],[0.1111111111111111,\"#46039f\"],[0.2222222222222222,\"#7201a8\"],[0.3333333333333333,\"#9c179e\"],[0.4444444444444444,\"#bd3786\"],[0.5555555555555556,\"#d8576b\"],[0.6666666666666666,\"#ed7953\"],[0.7777777777777778,\"#fb9f3a\"],[0.8888888888888888,\"#fdca26\"],[1.0,\"#f0f921\"]]}],\"mesh3d\":[{\"type\":\"mesh3d\",\"colorbar\":{\"outlinewidth\":0,\"ticks\":\"\"}}],\"scatter\":[{\"fillpattern\":{\"fillmode\":\"overlay\",\"size\":10,\"solidity\":0.2},\"type\":\"scatter\"}],\"parcoords\":[{\"type\":\"parcoords\",\"line\":{\"colorbar\":{\"outlinewidth\":0,\"ticks\":\"\"}}}],\"scatterpolargl\":[{\"type\":\"scatterpolargl\",\"marker\":{\"colorbar\":{\"outlinewidth\":0,\"ticks\":\"\"}}}],\"bar\":[{\"error_x\":{\"color\":\"#2a3f5f\"},\"error_y\":{\"color\":\"#2a3f5f\"},\"marker\":{\"line\":{\"color\":\"#E5ECF6\",\"width\":0.5},\"pattern\":{\"fillmode\":\"overlay\",\"size\":10,\"solidity\":0.2}},\"type\":\"bar\"}],\"scattergeo\":[{\"type\":\"scattergeo\",\"marker\":{\"colorbar\":{\"outlinewidth\":0,\"ticks\":\"\"}}}],\"scatterpolar\":[{\"type\":\"scatterpolar\",\"marker\":{\"colorbar\":{\"outlinewidth\":0,\"ticks\":\"\"}}}],\"histogram\":[{\"marker\":{\"pattern\":{\"fillmode\":\"overlay\",\"size\":10,\"solidity\":0.2}},\"type\":\"histogram\"}],\"scattergl\":[{\"type\":\"scattergl\",\"marker\":{\"colorbar\":{\"outlinewidth\":0,\"ticks\":\"\"}}}],\"scatter3d\":[{\"type\":\"scatter3d\",\"line\":{\"colorbar\":{\"outlinewidth\":0,\"ticks\":\"\"}},\"marker\":{\"colorbar\":{\"outlinewidth\":0,\"ticks\":\"\"}}}],\"scattermapbox\":[{\"type\":\"scattermapbox\",\"marker\":{\"colorbar\":{\"outlinewidth\":0,\"ticks\":\"\"}}}],\"scatterternary\":[{\"type\":\"scatterternary\",\"marker\":{\"colorbar\":{\"outlinewidth\":0,\"ticks\":\"\"}}}],\"scattercarpet\":[{\"type\":\"scattercarpet\",\"marker\":{\"colorbar\":{\"outlinewidth\":0,\"ticks\":\"\"}}}],\"carpet\":[{\"aaxis\":{\"endlinecolor\":\"#2a3f5f\",\"gridcolor\":\"white\",\"linecolor\":\"white\",\"minorgridcolor\":\"white\",\"startlinecolor\":\"#2a3f5f\"},\"baxis\":{\"endlinecolor\":\"#2a3f5f\",\"gridcolor\":\"white\",\"linecolor\":\"white\",\"minorgridcolor\":\"white\",\"startlinecolor\":\"#2a3f5f\"},\"type\":\"carpet\"}],\"table\":[{\"cells\":{\"fill\":{\"color\":\"#EBF0F8\"},\"line\":{\"color\":\"white\"}},\"header\":{\"fill\":{\"color\":\"#C8D4E3\"},\"line\":{\"color\":\"white\"}},\"type\":\"table\"}],\"barpolar\":[{\"marker\":{\"line\":{\"color\":\"#E5ECF6\",\"width\":0.5},\"pattern\":{\"fillmode\":\"overlay\",\"size\":10,\"solidity\":0.2}},\"type\":\"barpolar\"}],\"pie\":[{\"automargin\":true,\"type\":\"pie\"}]},\"layout\":{\"autotypenumbers\":\"strict\",\"colorway\":[\"#636efa\",\"#EF553B\",\"#00cc96\",\"#ab63fa\",\"#FFA15A\",\"#19d3f3\",\"#FF6692\",\"#B6E880\",\"#FF97FF\",\"#FECB52\"],\"font\":{\"color\":\"#2a3f5f\"},\"hovermode\":\"closest\",\"hoverlabel\":{\"align\":\"left\"},\"paper_bgcolor\":\"white\",\"plot_bgcolor\":\"#E5ECF6\",\"polar\":{\"bgcolor\":\"#E5ECF6\",\"angularaxis\":{\"gridcolor\":\"white\",\"linecolor\":\"white\",\"ticks\":\"\"},\"radialaxis\":{\"gridcolor\":\"white\",\"linecolor\":\"white\",\"ticks\":\"\"}},\"ternary\":{\"bgcolor\":\"#E5ECF6\",\"aaxis\":{\"gridcolor\":\"white\",\"linecolor\":\"white\",\"ticks\":\"\"},\"baxis\":{\"gridcolor\":\"white\",\"linecolor\":\"white\",\"ticks\":\"\"},\"caxis\":{\"gridcolor\":\"white\",\"linecolor\":\"white\",\"ticks\":\"\"}},\"coloraxis\":{\"colorbar\":{\"outlinewidth\":0,\"ticks\":\"\"}},\"colorscale\":{\"sequential\":[[0.0,\"#0d0887\"],[0.1111111111111111,\"#46039f\"],[0.2222222222222222,\"#7201a8\"],[0.3333333333333333,\"#9c179e\"],[0.4444444444444444,\"#bd3786\"],[0.5555555555555556,\"#d8576b\"],[0.6666666666666666,\"#ed7953\"],[0.7777777777777778,\"#fb9f3a\"],[0.8888888888888888,\"#fdca26\"],[1.0,\"#f0f921\"]],\"sequentialminus\":[[0.0,\"#0d0887\"],[0.1111111111111111,\"#46039f\"],[0.2222222222222222,\"#7201a8\"],[0.3333333333333333,\"#9c179e\"],[0.4444444444444444,\"#bd3786\"],[0.5555555555555556,\"#d8576b\"],[0.6666666666666666,\"#ed7953\"],[0.7777777777777778,\"#fb9f3a\"],[0.8888888888888888,\"#fdca26\"],[1.0,\"#f0f921\"]],\"diverging\":[[0,\"#8e0152\"],[0.1,\"#c51b7d\"],[0.2,\"#de77ae\"],[0.3,\"#f1b6da\"],[0.4,\"#fde0ef\"],[0.5,\"#f7f7f7\"],[0.6,\"#e6f5d0\"],[0.7,\"#b8e186\"],[0.8,\"#7fbc41\"],[0.9,\"#4d9221\"],[1,\"#276419\"]]},\"xaxis\":{\"gridcolor\":\"white\",\"linecolor\":\"white\",\"ticks\":\"\",\"title\":{\"standoff\":15},\"zerolinecolor\":\"white\",\"automargin\":true,\"zerolinewidth\":2},\"yaxis\":{\"gridcolor\":\"white\",\"linecolor\":\"white\",\"ticks\":\"\",\"title\":{\"standoff\":15},\"zerolinecolor\":\"white\",\"automargin\":true,\"zerolinewidth\":2},\"scene\":{\"xaxis\":{\"backgroundcolor\":\"#E5ECF6\",\"gridcolor\":\"white\",\"linecolor\":\"white\",\"showbackground\":true,\"ticks\":\"\",\"zerolinecolor\":\"white\",\"gridwidth\":2},\"yaxis\":{\"backgroundcolor\":\"#E5ECF6\",\"gridcolor\":\"white\",\"linecolor\":\"white\",\"showbackground\":true,\"ticks\":\"\",\"zerolinecolor\":\"white\",\"gridwidth\":2},\"zaxis\":{\"backgroundcolor\":\"#E5ECF6\",\"gridcolor\":\"white\",\"linecolor\":\"white\",\"showbackground\":true,\"ticks\":\"\",\"zerolinecolor\":\"white\",\"gridwidth\":2}},\"shapedefaults\":{\"line\":{\"color\":\"#2a3f5f\"}},\"annotationdefaults\":{\"arrowcolor\":\"#2a3f5f\",\"arrowhead\":0,\"arrowwidth\":1},\"geo\":{\"bgcolor\":\"white\",\"landcolor\":\"#E5ECF6\",\"subunitcolor\":\"white\",\"showland\":true,\"showlakes\":true,\"lakecolor\":\"white\"},\"title\":{\"x\":0.05},\"mapbox\":{\"style\":\"light\"}}},\"scene\":{\"domain\":{\"x\":[0.0,1.0],\"y\":[0.0,1.0]},\"xaxis\":{\"title\":{\"text\":\"x\"}},\"yaxis\":{\"title\":{\"text\":\"y\"}},\"zaxis\":{\"title\":{\"text\":\"z\"}}},\"legend\":{\"title\":{\"text\":\"line\"},\"tracegroupgap\":0},\"margin\":{\"t\":60}},                        {\"responsive\": true}                    ).then(function(){\n",
       "                            \n",
       "var gd = document.getElementById('6815bef5-1ef0-44f7-8865-d0a24987d540');\n",
       "var x = new MutationObserver(function (mutations, observer) {{\n",
       "        var display = window.getComputedStyle(gd).display;\n",
       "        if (!display || display === 'none') {{\n",
       "            console.log([gd, 'removed!']);\n",
       "            Plotly.purge(gd);\n",
       "            observer.disconnect();\n",
       "        }}\n",
       "}});\n",
       "\n",
       "// Listen for the removal of the full notebook cells\n",
       "var notebookContainer = gd.closest('#notebook-container');\n",
       "if (notebookContainer) {{\n",
       "    x.observe(notebookContainer, {childList: true});\n",
       "}}\n",
       "\n",
       "// Listen for the clearing of the current output cell\n",
       "var outputEl = gd.closest('.output');\n",
       "if (outputEl) {{\n",
       "    x.observe(outputEl, {childList: true});\n",
       "}}\n",
       "\n",
       "                        })                };                });            </script>        </div>"
      ]
     },
     "metadata": {},
     "output_type": "display_data"
    }
   ],
   "source": [
    "poly_ind = 6\n",
    "poly = polys[poly_ind]\n",
    "\n",
    "dims = [\"x\", \"y\", \"z\"]\n",
    "vertices_by_col = {dims[i]: list(col) for i, col in enumerate(zip(*poly[\"vertices\"]))}\n",
    "vertices_by_col[\"extreme\"] = [str(i in poly[\"essential_indices\"]) for i in range(len(poly[\"vertices\"]))]\n",
    "vertices_by_col[\"text\"] = [str(i) for i in range(len(vertices_by_col[\"x\"]))]\n",
    "\n",
    "# Plot the edges\n",
    "\n",
    "lines = {}\n",
    "for start_vertex, adjacent in poly[\"adjacency\"].items():\n",
    "    for end_vertex in adjacent:\n",
    "        line = frozenset((int(start_vertex), int(end_vertex)))\n",
    "        count = lines.get(line, 0)\n",
    "        lines[line] = count + 1\n",
    "        \n",
    "for line, count in lines.items():\n",
    "    #print(line, count)\n",
    "    assert count == 2, \"Should be dupes\"\n",
    "\n",
    "lines_by_col = {dim: [] for dim in dims}\n",
    "lines_by_col[\"line\"] = []\n",
    "for line in lines:\n",
    "    for vertex in line:\n",
    "        for dim in dims:\n",
    "            lines_by_col[dim].append(vertices_by_col[dim][vertex])\n",
    "        lines_by_col[\"line\"].append(str(set(line)))\n",
    "\n",
    "#(df=vertices_by_col, x=\"x\", y=\"y\", z=\"z\", color=\"extreme\", text=\"text\")\n",
    "fig = px.line_3d(lines_by_col, x=\"x\", y=\"y\", z=\"z\", color=\"line\")\n",
    "#fig.add_scatter3d(**{dim: vertices_by_col[dim] for dim in dims})\n",
    "fig.show()"
   ]
  },
  {
   "cell_type": "code",
   "execution_count": 3,
   "metadata": {},
   "outputs": [
    {
     "name": "stdout",
     "output_type": "stream",
     "text": [
      "RSOut(param=[0.5231149599570413, 0.5704195644135327, 0.6332237039178327], decomp=[5, 8, 5, 4, 6, 0, 2, 4, 3, 3])\n",
      "RSOut(param=[0.5777233325376563, 0.6594217146395991, 0.4810392429972379], decomp=[5, 8, 5, 4, 7, 0, 2, 4, 3, 3])\n",
      "RSOut(param=[0.5231149599570413, 0.5704195644135327, 0.6332237039178327], decomp=[5, 8, 5, 4, 6, 0, 2, 4, 3, 3])\n",
      "RSOut(param=[0.5777233325376563, 0.6594217146395991, 0.4810392429972379], decomp=[5, 8, 5, 4, 7, 0, 2, 4, 3, 3])\n",
      "RSOut(param=[0.5231149599570413, 0.5704195644135327, 0.6332237039178327], decomp=[5, 8, 5, 4, 6, 0, 2, 4, 3, 3])\n",
      "RSOut(param=[0.5777233325376563, 0.6594217146395991, 0.4810392429972379], decomp=[5, 8, 5, 4, 7, 0, 2, 4, 3, 3])\n",
      "RSOut(param=[0.5231149599570413, 0.5704195644135327, 0.6332237039178327], decomp=[5, 8, 5, 4, 6, 0, 2, 4, 3, 3])\n",
      "RSOut(param=[0.5777233325376563, 0.6594217146395991, 0.4810392429972379], decomp=[5, 8, 5, 4, 7, 0, 2, 4, 3, 3])\n",
      "RSOut(param=[0.5231149599570413, 0.5704195644135327, 0.6332237039178327], decomp=[5, 8, 5, 4, 6, 0, 2, 4, 3, 3])\n",
      "RSOut(param=[0.5777233325376563, 0.6594217146395991, 0.4810392429972379], decomp=[5, 8, 5, 4, 7, 0, 2, 4, 3, 3])\n"
     ]
    }
   ],
   "source": [
    "with open(\"states.out\") as states_file:\n",
    "    states_data = json.load(states_file)\n",
    "\n",
    "RSOut = namedtuple(\"RSOut\", [\"param\", \"decomp\"])\n",
    "\n",
    "states  = [RSOut(item[\"param\"][\"data\"], item[\"minkowski_decomp\"]) for item in states_data]\n",
    "\n",
    "for state in states:\n",
    "    print(state)\n"
   ]
  }
 ],
 "metadata": {
  "kernelspec": {
   "display_name": "gp",
   "language": "python",
   "name": "python3"
  },
  "language_info": {
   "codemirror_mode": {
    "name": "ipython",
    "version": 3
   },
   "file_extension": ".py",
   "mimetype": "text/x-python",
   "name": "python",
   "nbconvert_exporter": "python",
   "pygments_lexer": "ipython3",
   "version": "3.12.3"
  }
 },
 "nbformat": 4,
 "nbformat_minor": 2
}
