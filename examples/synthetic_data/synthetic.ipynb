{
 "cells": [
  {
   "cell_type": "code",
   "execution_count": 1,
   "metadata": {},
   "outputs": [
    {
     "name": "stdout",
     "output_type": "stream",
     "text": [
      "Requirement already satisfied: plotly in /Users/rorywaite/miniforge3/envs/reverse_search/lib/python3.12/site-packages (5.21.0)\n",
      "Requirement already satisfied: scikit-learn in /Users/rorywaite/miniforge3/envs/reverse_search/lib/python3.12/site-packages (1.4.2)\n",
      "Requirement already satisfied: numpy in /Users/rorywaite/miniforge3/envs/reverse_search/lib/python3.12/site-packages (1.26.4)\n",
      "Requirement already satisfied: pandas in /Users/rorywaite/miniforge3/envs/reverse_search/lib/python3.12/site-packages (2.2.2)\n",
      "Requirement already satisfied: nbformat in /Users/rorywaite/miniforge3/envs/reverse_search/lib/python3.12/site-packages (5.10.4)\n",
      "Requirement already satisfied: pyhull in /Users/rorywaite/miniforge3/envs/reverse_search/lib/python3.12/site-packages (2015.2.1)\n",
      "Requirement already satisfied: tenacity>=6.2.0 in /Users/rorywaite/miniforge3/envs/reverse_search/lib/python3.12/site-packages (from plotly) (8.2.3)\n",
      "Requirement already satisfied: packaging in /Users/rorywaite/miniforge3/envs/reverse_search/lib/python3.12/site-packages (from plotly) (24.0)\n",
      "Requirement already satisfied: scipy>=1.6.0 in /Users/rorywaite/miniforge3/envs/reverse_search/lib/python3.12/site-packages (from scikit-learn) (1.13.0)\n",
      "Requirement already satisfied: joblib>=1.2.0 in /Users/rorywaite/miniforge3/envs/reverse_search/lib/python3.12/site-packages (from scikit-learn) (1.4.0)\n",
      "Requirement already satisfied: threadpoolctl>=2.0.0 in /Users/rorywaite/miniforge3/envs/reverse_search/lib/python3.12/site-packages (from scikit-learn) (3.4.0)\n",
      "Requirement already satisfied: python-dateutil>=2.8.2 in /Users/rorywaite/miniforge3/envs/reverse_search/lib/python3.12/site-packages (from pandas) (2.9.0)\n",
      "Requirement already satisfied: pytz>=2020.1 in /Users/rorywaite/miniforge3/envs/reverse_search/lib/python3.12/site-packages (from pandas) (2024.1)\n",
      "Requirement already satisfied: tzdata>=2022.7 in /Users/rorywaite/miniforge3/envs/reverse_search/lib/python3.12/site-packages (from pandas) (2024.1)\n",
      "Requirement already satisfied: fastjsonschema>=2.15 in /Users/rorywaite/miniforge3/envs/reverse_search/lib/python3.12/site-packages (from nbformat) (2.19.1)\n",
      "Requirement already satisfied: jsonschema>=2.6 in /Users/rorywaite/miniforge3/envs/reverse_search/lib/python3.12/site-packages (from nbformat) (4.21.1)\n",
      "Requirement already satisfied: jupyter-core!=5.0.*,>=4.12 in /Users/rorywaite/miniforge3/envs/reverse_search/lib/python3.12/site-packages (from nbformat) (5.7.2)\n",
      "Requirement already satisfied: traitlets>=5.1 in /Users/rorywaite/miniforge3/envs/reverse_search/lib/python3.12/site-packages (from nbformat) (5.14.3)\n",
      "Requirement already satisfied: attrs>=22.2.0 in /Users/rorywaite/miniforge3/envs/reverse_search/lib/python3.12/site-packages (from jsonschema>=2.6->nbformat) (23.2.0)\n",
      "Requirement already satisfied: jsonschema-specifications>=2023.03.6 in /Users/rorywaite/miniforge3/envs/reverse_search/lib/python3.12/site-packages (from jsonschema>=2.6->nbformat) (2023.12.1)\n",
      "Requirement already satisfied: referencing>=0.28.4 in /Users/rorywaite/miniforge3/envs/reverse_search/lib/python3.12/site-packages (from jsonschema>=2.6->nbformat) (0.35.0)\n",
      "Requirement already satisfied: rpds-py>=0.7.1 in /Users/rorywaite/miniforge3/envs/reverse_search/lib/python3.12/site-packages (from jsonschema>=2.6->nbformat) (0.18.0)\n",
      "Requirement already satisfied: platformdirs>=2.5 in /Users/rorywaite/miniforge3/envs/reverse_search/lib/python3.12/site-packages (from jupyter-core!=5.0.*,>=4.12->nbformat) (4.2.1)\n",
      "Requirement already satisfied: six>=1.5 in /Users/rorywaite/miniforge3/envs/reverse_search/lib/python3.12/site-packages (from python-dateutil>=2.8.2->pandas) (1.16.0)\n",
      "Note: you may need to restart the kernel to use updated packages.\n"
     ]
    }
   ],
   "source": [
    "%pip install plotly scikit-learn numpy pandas nbformat pyhull"
   ]
  },
  {
   "cell_type": "code",
   "execution_count": 2,
   "metadata": {},
   "outputs": [],
   "source": [
    "from sklearn.datasets import make_blobs\n",
    "import numpy as np\n",
    "import json\n",
    "from collections import defaultdict, namedtuple\n",
    "import plotly.express as px\n",
    "from pyhull.convex_hull import ConvexHull\n",
    "from itertools import product"
   ]
  },
  {
   "cell_type": "code",
   "execution_count": 3,
   "metadata": {},
   "outputs": [],
   "source": [
    "rs = np.random.RandomState(42)\n",
    "num_cluster = 10\n",
    "num_dim = 3\n",
    "\n",
    "centres = [[rs.rand() for _ in range(num_dim)] for _ in range(num_cluster)]\n",
    "sigmas = [rs.rand() for _ in range(10)]\n",
    "blobs = make_blobs(\n",
    "                   n_samples=100, \n",
    "                   n_features=num_dim,\n",
    "                   centers=centres,\n",
    "                   cluster_std=sigmas,\n",
    "                   random_state=rs\n",
    "                   ) "
   ]
  },
  {
   "cell_type": "code",
   "execution_count": 4,
   "metadata": {},
   "outputs": [],
   "source": [
    "point_clouds = [[] for _ in range(num_cluster)]\n",
    "for sample, cluster in zip(blobs[0], blobs[1]):\n",
    "    point_clouds[int(cluster)].append(sample.tolist())\n",
    "inputs = [{\"vertices\" : points} for points in point_clouds]\n",
    "with open(\"synthetic.json\", \"wt\") as out_file:\n",
    "    json.dump(inputs, out_file, indent=2)"
   ]
  },
  {
   "cell_type": "code",
   "execution_count": 5,
   "metadata": {},
   "outputs": [],
   "source": [
    "with open(\"synthetic_out.json\", \"rt\") as in_file:\n",
    "    polys = json.load(in_file)"
   ]
  },
  {
   "cell_type": "code",
   "execution_count": 6,
   "metadata": {},
   "outputs": [
    {
     "name": "stdout",
     "output_type": "stream",
     "text": [
      "8\n"
     ]
    }
   ],
   "source": [
    "print(len(polys[5][\"essential_indices\"]))"
   ]
  },
  {
   "cell_type": "code",
   "execution_count": 7,
   "metadata": {},
   "outputs": [
    {
     "name": "stdout",
     "output_type": "stream",
     "text": [
      "[ 1.00000000e+00  7.56728014e-13 -1.44658287e+00 -6.76379086e-01\n",
      " -1.10230577e+00 -6.54650143e-01 -1.42974848e+00 -5.18449522e-01\n",
      " -6.90129634e-01 -4.68236561e-14] 0 2\n",
      "[-2.08959101e+00 -1.10755849e-11 -1.63927999e+00 -2.65557562e+01\n",
      " -1.82271975e-11 -7.55564118e+00 -3.76643191e+01  1.00000000e+00\n",
      " -1.26316542e+01  3.94528854e-12] 7 6\n",
      "[-2.30012395e+00 -1.78923630e+00  1.00000000e+00 -4.04672882e-02\n",
      " -2.20712337e-13 -4.56830358e-01  1.45528034e-12 -5.89222875e-01\n",
      " -4.52748949e-13 -5.48354881e-01] 2 0\n",
      "[-8.73745520e-13 -2.05280426e+00  1.92734717e-13 -1.18169669e-01\n",
      " -1.30985690e+00 -9.82697407e-01 -2.57055466e+00 -8.16832280e-01\n",
      " -4.60173566e-13  1.00000000e+00] 9 6\n",
      "[-3.97597632e+00 -2.69828604e-12 -4.56079619e-13 -4.15543815e+00\n",
      "  1.00000000e+00 -9.77760803e-01 -1.77429335e+00 -3.22297087e-01\n",
      " -2.55480151e+00 -3.14997073e+00] 4 3\n",
      "[-7.29431196e-01  1.04172226e-12 -2.75665424e-01  2.22044605e-15\n",
      "  7.64721619e-13 -5.81603188e-02  1.00000000e+00 -2.63284624e-01\n",
      " -2.47089302e-01 -8.53040640e-01] 6 9\n",
      "[ 2.10387263e-14  1.00000000e+00 -1.09966552e+00 -1.69469146e+00\n",
      " -1.13548060e-13 -3.25013127e-01 -8.58552449e-01 -2.12494369e-02\n",
      " -1.20655496e+00 -1.03887746e+00] 1 3\n",
      "[-1.79508573e+00 -4.38676266e+00 -5.24770987e-01  1.00000000e+00\n",
      " -2.72968429e+00 -1.86020393e+00 -1.18196596e+00 -2.41800278e+00\n",
      " -8.52651283e-14  1.00830455e-12] 3 1\n"
     ]
    }
   ],
   "source": [
    "poly_ind = 0\n",
    "vertices = np.array(polys[poly_ind][\"vertices\"])\n",
    "constant = np.ones([len(vertices), 1], dtype=float)\n",
    "vertices = np.concatenate([constant, vertices], axis=1)\n",
    "certs = {extreme: np.array(cert) for extreme, cert in polys[poly_ind][\"essential_certs\"].items()}\n",
    "\n",
    "for vertex, cert in certs.items():\n",
    "    scores = vertices @ cert\n",
    "    print(scores, vertex, np.argmin(scores))"
   ]
  },
  {
   "cell_type": "code",
   "execution_count": 8,
   "metadata": {},
   "outputs": [
    {
     "data": {
      "application/vnd.plotly.v1+json": {
       "config": {
        "plotlyServerURL": "https://plot.ly"
       },
       "data": [
        {
         "hovertemplate": "line={4, 5}<br>x=%{x}<br>y=%{y}<br>z=%{z}<extra></extra>",
         "legendgroup": "{4, 5}",
         "line": {
          "color": "#636efa",
          "dash": "solid"
         },
         "marker": {
          "symbol": "circle"
         },
         "mode": "lines",
         "name": "{4, 5}",
         "scene": "scene",
         "showlegend": true,
         "type": "scatter3d",
         "x": [
          0.284096598918533,
          0.6916079497234193
         ],
         "y": [
          0.31616913039433553,
          0.04981641091599395
         ],
         "z": [
          1.3169297650662286,
          0.5769025948256076
         ]
        },
        {
         "hovertemplate": "line={5, 6}<br>x=%{x}<br>y=%{y}<br>z=%{z}<extra></extra>",
         "legendgroup": "{5, 6}",
         "line": {
          "color": "#EF553B",
          "dash": "solid"
         },
         "marker": {
          "symbol": "circle"
         },
         "mode": "lines",
         "name": "{5, 6}",
         "scene": "scene",
         "showlegend": true,
         "type": "scatter3d",
         "x": [
          0.6916079497234193,
          0.663137493583145
         ],
         "y": [
          0.04981641091599395,
          0.055815938685533334
         ],
         "z": [
          0.5769025948256076,
          0.5397146863129192
         ]
        },
        {
         "hovertemplate": "line={5, 7}<br>x=%{x}<br>y=%{y}<br>z=%{z}<extra></extra>",
         "legendgroup": "{5, 7}",
         "line": {
          "color": "#00cc96",
          "dash": "solid"
         },
         "marker": {
          "symbol": "circle"
         },
         "mode": "lines",
         "name": "{5, 7}",
         "scene": "scene",
         "showlegend": true,
         "type": "scatter3d",
         "x": [
          0.6916079497234193,
          0.7225470916178227
         ],
         "y": [
          0.04981641091599395,
          0.48965188446485935
         ],
         "z": [
          0.5769025948256076,
          0.5158175418080423
         ]
        },
        {
         "hovertemplate": "line={9, 5}<br>x=%{x}<br>y=%{y}<br>z=%{z}<extra></extra>",
         "legendgroup": "{9, 5}",
         "line": {
          "color": "#ab63fa",
          "dash": "solid"
         },
         "marker": {
          "symbol": "circle"
         },
         "mode": "lines",
         "name": "{9, 5}",
         "scene": "scene",
         "showlegend": true,
         "type": "scatter3d",
         "x": [
          0.10364911963015244,
          0.6916079497234193
         ],
         "y": [
          0.07333778121667009,
          0.04981641091599395
         ],
         "z": [
          0.8188677265471092,
          0.5769025948256076
         ]
        },
        {
         "hovertemplate": "line={0, 6}<br>x=%{x}<br>y=%{y}<br>z=%{z}<extra></extra>",
         "legendgroup": "{0, 6}",
         "line": {
          "color": "#FFA15A",
          "dash": "solid"
         },
         "marker": {
          "symbol": "circle"
         },
         "mode": "lines",
         "name": "{0, 6}",
         "scene": "scene",
         "showlegend": true,
         "type": "scatter3d",
         "x": [
          -0.18494129779316737,
          0.663137493583145
         ],
         "y": [
          0.3480256917985953,
          0.055815938685533334
         ],
         "z": [
          0.41026362530136073,
          0.5397146863129192
         ]
        },
        {
         "hovertemplate": "line={1, 6}<br>x=%{x}<br>y=%{y}<br>z=%{z}<extra></extra>",
         "legendgroup": "{1, 6}",
         "line": {
          "color": "#19d3f3",
          "dash": "solid"
         },
         "marker": {
          "symbol": "circle"
         },
         "mode": "lines",
         "name": "{1, 6}",
         "scene": "scene",
         "showlegend": true,
         "type": "scatter3d",
         "x": [
          -0.13684966971949653,
          0.663137493583145
         ],
         "y": [
          0.5002734434216574,
          0.055815938685533334
         ],
         "z": [
          0.12059743459358352,
          0.5397146863129192
         ]
        },
        {
         "hovertemplate": "line={6, 7}<br>x=%{x}<br>y=%{y}<br>z=%{z}<extra></extra>",
         "legendgroup": "{6, 7}",
         "line": {
          "color": "#FF6692",
          "dash": "solid"
         },
         "marker": {
          "symbol": "circle"
         },
         "mode": "lines",
         "name": "{6, 7}",
         "scene": "scene",
         "showlegend": true,
         "type": "scatter3d",
         "x": [
          0.663137493583145,
          0.7225470916178227
         ],
         "y": [
          0.055815938685533334,
          0.48965188446485935
         ],
         "z": [
          0.5397146863129192,
          0.5158175418080423
         ]
        },
        {
         "hovertemplate": "line={9, 6}<br>x=%{x}<br>y=%{y}<br>z=%{z}<extra></extra>",
         "legendgroup": "{9, 6}",
         "line": {
          "color": "#B6E880",
          "dash": "solid"
         },
         "marker": {
          "symbol": "circle"
         },
         "mode": "lines",
         "name": "{9, 6}",
         "scene": "scene",
         "showlegend": true,
         "type": "scatter3d",
         "x": [
          0.10364911963015244,
          0.663137493583145
         ],
         "y": [
          0.07333778121667009,
          0.055815938685533334
         ],
         "z": [
          0.8188677265471092,
          0.5397146863129192
         ]
        },
        {
         "hovertemplate": "line={0, 3}<br>x=%{x}<br>y=%{y}<br>z=%{z}<extra></extra>",
         "legendgroup": "{0, 3}",
         "line": {
          "color": "#FF97FF",
          "dash": "solid"
         },
         "marker": {
          "symbol": "circle"
         },
         "mode": "lines",
         "name": "{0, 3}",
         "scene": "scene",
         "showlegend": true,
         "type": "scatter3d",
         "x": [
          -0.18494129779316737,
          0.23345858076322928
         ],
         "y": [
          0.3480256917985953,
          0.9443040301443992
         ],
         "z": [
          0.41026362530136073,
          0.804953357461367
         ]
        },
        {
         "hovertemplate": "line={1, 3}<br>x=%{x}<br>y=%{y}<br>z=%{z}<extra></extra>",
         "legendgroup": "{1, 3}",
         "line": {
          "color": "#FECB52",
          "dash": "solid"
         },
         "marker": {
          "symbol": "circle"
         },
         "mode": "lines",
         "name": "{1, 3}",
         "scene": "scene",
         "showlegend": true,
         "type": "scatter3d",
         "x": [
          -0.13684966971949653,
          0.23345858076322928
         ],
         "y": [
          0.5002734434216574,
          0.9443040301443992
         ],
         "z": [
          0.12059743459358352,
          0.804953357461367
         ]
        },
        {
         "hovertemplate": "line={3, 4}<br>x=%{x}<br>y=%{y}<br>z=%{z}<extra></extra>",
         "legendgroup": "{3, 4}",
         "line": {
          "color": "#636efa",
          "dash": "solid"
         },
         "marker": {
          "symbol": "circle"
         },
         "mode": "lines",
         "name": "{3, 4}",
         "scene": "scene",
         "showlegend": true,
         "type": "scatter3d",
         "x": [
          0.23345858076322928,
          0.284096598918533
         ],
         "y": [
          0.9443040301443992,
          0.31616913039433553
         ],
         "z": [
          0.804953357461367,
          1.3169297650662286
         ]
        },
        {
         "hovertemplate": "line={3, 7}<br>x=%{x}<br>y=%{y}<br>z=%{z}<extra></extra>",
         "legendgroup": "{3, 7}",
         "line": {
          "color": "#EF553B",
          "dash": "solid"
         },
         "marker": {
          "symbol": "circle"
         },
         "mode": "lines",
         "name": "{3, 7}",
         "scene": "scene",
         "showlegend": true,
         "type": "scatter3d",
         "x": [
          0.23345858076322928,
          0.7225470916178227
         ],
         "y": [
          0.9443040301443992,
          0.48965188446485935
         ],
         "z": [
          0.804953357461367,
          0.5158175418080423
         ]
        },
        {
         "hovertemplate": "line={0, 1}<br>x=%{x}<br>y=%{y}<br>z=%{z}<extra></extra>",
         "legendgroup": "{0, 1}",
         "line": {
          "color": "#00cc96",
          "dash": "solid"
         },
         "marker": {
          "symbol": "circle"
         },
         "mode": "lines",
         "name": "{0, 1}",
         "scene": "scene",
         "showlegend": true,
         "type": "scatter3d",
         "x": [
          -0.18494129779316737,
          -0.13684966971949653
         ],
         "y": [
          0.3480256917985953,
          0.5002734434216574
         ],
         "z": [
          0.41026362530136073,
          0.12059743459358352
         ]
        },
        {
         "hovertemplate": "line={1, 7}<br>x=%{x}<br>y=%{y}<br>z=%{z}<extra></extra>",
         "legendgroup": "{1, 7}",
         "line": {
          "color": "#ab63fa",
          "dash": "solid"
         },
         "marker": {
          "symbol": "circle"
         },
         "mode": "lines",
         "name": "{1, 7}",
         "scene": "scene",
         "showlegend": true,
         "type": "scatter3d",
         "x": [
          -0.13684966971949653,
          0.7225470916178227
         ],
         "y": [
          0.5002734434216574,
          0.48965188446485935
         ],
         "z": [
          0.12059743459358352,
          0.5158175418080423
         ]
        },
        {
         "hovertemplate": "line={0, 9}<br>x=%{x}<br>y=%{y}<br>z=%{z}<extra></extra>",
         "legendgroup": "{0, 9}",
         "line": {
          "color": "#FFA15A",
          "dash": "solid"
         },
         "marker": {
          "symbol": "circle"
         },
         "mode": "lines",
         "name": "{0, 9}",
         "scene": "scene",
         "showlegend": true,
         "type": "scatter3d",
         "x": [
          -0.18494129779316737,
          0.10364911963015244
         ],
         "y": [
          0.3480256917985953,
          0.07333778121667009
         ],
         "z": [
          0.41026362530136073,
          0.8188677265471092
         ]
        },
        {
         "hovertemplate": "line={9, 4}<br>x=%{x}<br>y=%{y}<br>z=%{z}<extra></extra>",
         "legendgroup": "{9, 4}",
         "line": {
          "color": "#19d3f3",
          "dash": "solid"
         },
         "marker": {
          "symbol": "circle"
         },
         "mode": "lines",
         "name": "{9, 4}",
         "scene": "scene",
         "showlegend": true,
         "type": "scatter3d",
         "x": [
          0.10364911963015244,
          0.284096598918533
         ],
         "y": [
          0.07333778121667009,
          0.31616913039433553
         ],
         "z": [
          0.8188677265471092,
          1.3169297650662286
         ]
        },
        {
         "hovertemplate": "line={4, 7}<br>x=%{x}<br>y=%{y}<br>z=%{z}<extra></extra>",
         "legendgroup": "{4, 7}",
         "line": {
          "color": "#FF6692",
          "dash": "solid"
         },
         "marker": {
          "symbol": "circle"
         },
         "mode": "lines",
         "name": "{4, 7}",
         "scene": "scene",
         "showlegend": true,
         "type": "scatter3d",
         "x": [
          0.284096598918533,
          0.7225470916178227
         ],
         "y": [
          0.31616913039433553,
          0.48965188446485935
         ],
         "z": [
          1.3169297650662286,
          0.5158175418080423
         ]
        },
        {
         "hovertemplate": "line={0, 4}<br>x=%{x}<br>y=%{y}<br>z=%{z}<extra></extra>",
         "legendgroup": "{0, 4}",
         "line": {
          "color": "#B6E880",
          "dash": "solid"
         },
         "marker": {
          "symbol": "circle"
         },
         "mode": "lines",
         "name": "{0, 4}",
         "scene": "scene",
         "showlegend": true,
         "type": "scatter3d",
         "x": [
          -0.18494129779316737,
          0.284096598918533
         ],
         "y": [
          0.3480256917985953,
          0.31616913039433553
         ],
         "z": [
          0.41026362530136073,
          1.3169297650662286
         ]
        }
       ],
       "layout": {
        "legend": {
         "title": {
          "text": "line"
         },
         "tracegroupgap": 0
        },
        "margin": {
         "t": 60
        },
        "scene": {
         "domain": {
          "x": [
           0,
           1
          ],
          "y": [
           0,
           1
          ]
         },
         "xaxis": {
          "title": {
           "text": "x"
          }
         },
         "yaxis": {
          "title": {
           "text": "y"
          }
         },
         "zaxis": {
          "title": {
           "text": "z"
          }
         }
        },
        "template": {
         "data": {
          "bar": [
           {
            "error_x": {
             "color": "#2a3f5f"
            },
            "error_y": {
             "color": "#2a3f5f"
            },
            "marker": {
             "line": {
              "color": "#E5ECF6",
              "width": 0.5
             },
             "pattern": {
              "fillmode": "overlay",
              "size": 10,
              "solidity": 0.2
             }
            },
            "type": "bar"
           }
          ],
          "barpolar": [
           {
            "marker": {
             "line": {
              "color": "#E5ECF6",
              "width": 0.5
             },
             "pattern": {
              "fillmode": "overlay",
              "size": 10,
              "solidity": 0.2
             }
            },
            "type": "barpolar"
           }
          ],
          "carpet": [
           {
            "aaxis": {
             "endlinecolor": "#2a3f5f",
             "gridcolor": "white",
             "linecolor": "white",
             "minorgridcolor": "white",
             "startlinecolor": "#2a3f5f"
            },
            "baxis": {
             "endlinecolor": "#2a3f5f",
             "gridcolor": "white",
             "linecolor": "white",
             "minorgridcolor": "white",
             "startlinecolor": "#2a3f5f"
            },
            "type": "carpet"
           }
          ],
          "choropleth": [
           {
            "colorbar": {
             "outlinewidth": 0,
             "ticks": ""
            },
            "type": "choropleth"
           }
          ],
          "contour": [
           {
            "colorbar": {
             "outlinewidth": 0,
             "ticks": ""
            },
            "colorscale": [
             [
              0,
              "#0d0887"
             ],
             [
              0.1111111111111111,
              "#46039f"
             ],
             [
              0.2222222222222222,
              "#7201a8"
             ],
             [
              0.3333333333333333,
              "#9c179e"
             ],
             [
              0.4444444444444444,
              "#bd3786"
             ],
             [
              0.5555555555555556,
              "#d8576b"
             ],
             [
              0.6666666666666666,
              "#ed7953"
             ],
             [
              0.7777777777777778,
              "#fb9f3a"
             ],
             [
              0.8888888888888888,
              "#fdca26"
             ],
             [
              1,
              "#f0f921"
             ]
            ],
            "type": "contour"
           }
          ],
          "contourcarpet": [
           {
            "colorbar": {
             "outlinewidth": 0,
             "ticks": ""
            },
            "type": "contourcarpet"
           }
          ],
          "heatmap": [
           {
            "colorbar": {
             "outlinewidth": 0,
             "ticks": ""
            },
            "colorscale": [
             [
              0,
              "#0d0887"
             ],
             [
              0.1111111111111111,
              "#46039f"
             ],
             [
              0.2222222222222222,
              "#7201a8"
             ],
             [
              0.3333333333333333,
              "#9c179e"
             ],
             [
              0.4444444444444444,
              "#bd3786"
             ],
             [
              0.5555555555555556,
              "#d8576b"
             ],
             [
              0.6666666666666666,
              "#ed7953"
             ],
             [
              0.7777777777777778,
              "#fb9f3a"
             ],
             [
              0.8888888888888888,
              "#fdca26"
             ],
             [
              1,
              "#f0f921"
             ]
            ],
            "type": "heatmap"
           }
          ],
          "heatmapgl": [
           {
            "colorbar": {
             "outlinewidth": 0,
             "ticks": ""
            },
            "colorscale": [
             [
              0,
              "#0d0887"
             ],
             [
              0.1111111111111111,
              "#46039f"
             ],
             [
              0.2222222222222222,
              "#7201a8"
             ],
             [
              0.3333333333333333,
              "#9c179e"
             ],
             [
              0.4444444444444444,
              "#bd3786"
             ],
             [
              0.5555555555555556,
              "#d8576b"
             ],
             [
              0.6666666666666666,
              "#ed7953"
             ],
             [
              0.7777777777777778,
              "#fb9f3a"
             ],
             [
              0.8888888888888888,
              "#fdca26"
             ],
             [
              1,
              "#f0f921"
             ]
            ],
            "type": "heatmapgl"
           }
          ],
          "histogram": [
           {
            "marker": {
             "pattern": {
              "fillmode": "overlay",
              "size": 10,
              "solidity": 0.2
             }
            },
            "type": "histogram"
           }
          ],
          "histogram2d": [
           {
            "colorbar": {
             "outlinewidth": 0,
             "ticks": ""
            },
            "colorscale": [
             [
              0,
              "#0d0887"
             ],
             [
              0.1111111111111111,
              "#46039f"
             ],
             [
              0.2222222222222222,
              "#7201a8"
             ],
             [
              0.3333333333333333,
              "#9c179e"
             ],
             [
              0.4444444444444444,
              "#bd3786"
             ],
             [
              0.5555555555555556,
              "#d8576b"
             ],
             [
              0.6666666666666666,
              "#ed7953"
             ],
             [
              0.7777777777777778,
              "#fb9f3a"
             ],
             [
              0.8888888888888888,
              "#fdca26"
             ],
             [
              1,
              "#f0f921"
             ]
            ],
            "type": "histogram2d"
           }
          ],
          "histogram2dcontour": [
           {
            "colorbar": {
             "outlinewidth": 0,
             "ticks": ""
            },
            "colorscale": [
             [
              0,
              "#0d0887"
             ],
             [
              0.1111111111111111,
              "#46039f"
             ],
             [
              0.2222222222222222,
              "#7201a8"
             ],
             [
              0.3333333333333333,
              "#9c179e"
             ],
             [
              0.4444444444444444,
              "#bd3786"
             ],
             [
              0.5555555555555556,
              "#d8576b"
             ],
             [
              0.6666666666666666,
              "#ed7953"
             ],
             [
              0.7777777777777778,
              "#fb9f3a"
             ],
             [
              0.8888888888888888,
              "#fdca26"
             ],
             [
              1,
              "#f0f921"
             ]
            ],
            "type": "histogram2dcontour"
           }
          ],
          "mesh3d": [
           {
            "colorbar": {
             "outlinewidth": 0,
             "ticks": ""
            },
            "type": "mesh3d"
           }
          ],
          "parcoords": [
           {
            "line": {
             "colorbar": {
              "outlinewidth": 0,
              "ticks": ""
             }
            },
            "type": "parcoords"
           }
          ],
          "pie": [
           {
            "automargin": true,
            "type": "pie"
           }
          ],
          "scatter": [
           {
            "fillpattern": {
             "fillmode": "overlay",
             "size": 10,
             "solidity": 0.2
            },
            "type": "scatter"
           }
          ],
          "scatter3d": [
           {
            "line": {
             "colorbar": {
              "outlinewidth": 0,
              "ticks": ""
             }
            },
            "marker": {
             "colorbar": {
              "outlinewidth": 0,
              "ticks": ""
             }
            },
            "type": "scatter3d"
           }
          ],
          "scattercarpet": [
           {
            "marker": {
             "colorbar": {
              "outlinewidth": 0,
              "ticks": ""
             }
            },
            "type": "scattercarpet"
           }
          ],
          "scattergeo": [
           {
            "marker": {
             "colorbar": {
              "outlinewidth": 0,
              "ticks": ""
             }
            },
            "type": "scattergeo"
           }
          ],
          "scattergl": [
           {
            "marker": {
             "colorbar": {
              "outlinewidth": 0,
              "ticks": ""
             }
            },
            "type": "scattergl"
           }
          ],
          "scattermapbox": [
           {
            "marker": {
             "colorbar": {
              "outlinewidth": 0,
              "ticks": ""
             }
            },
            "type": "scattermapbox"
           }
          ],
          "scatterpolar": [
           {
            "marker": {
             "colorbar": {
              "outlinewidth": 0,
              "ticks": ""
             }
            },
            "type": "scatterpolar"
           }
          ],
          "scatterpolargl": [
           {
            "marker": {
             "colorbar": {
              "outlinewidth": 0,
              "ticks": ""
             }
            },
            "type": "scatterpolargl"
           }
          ],
          "scatterternary": [
           {
            "marker": {
             "colorbar": {
              "outlinewidth": 0,
              "ticks": ""
             }
            },
            "type": "scatterternary"
           }
          ],
          "surface": [
           {
            "colorbar": {
             "outlinewidth": 0,
             "ticks": ""
            },
            "colorscale": [
             [
              0,
              "#0d0887"
             ],
             [
              0.1111111111111111,
              "#46039f"
             ],
             [
              0.2222222222222222,
              "#7201a8"
             ],
             [
              0.3333333333333333,
              "#9c179e"
             ],
             [
              0.4444444444444444,
              "#bd3786"
             ],
             [
              0.5555555555555556,
              "#d8576b"
             ],
             [
              0.6666666666666666,
              "#ed7953"
             ],
             [
              0.7777777777777778,
              "#fb9f3a"
             ],
             [
              0.8888888888888888,
              "#fdca26"
             ],
             [
              1,
              "#f0f921"
             ]
            ],
            "type": "surface"
           }
          ],
          "table": [
           {
            "cells": {
             "fill": {
              "color": "#EBF0F8"
             },
             "line": {
              "color": "white"
             }
            },
            "header": {
             "fill": {
              "color": "#C8D4E3"
             },
             "line": {
              "color": "white"
             }
            },
            "type": "table"
           }
          ]
         },
         "layout": {
          "annotationdefaults": {
           "arrowcolor": "#2a3f5f",
           "arrowhead": 0,
           "arrowwidth": 1
          },
          "autotypenumbers": "strict",
          "coloraxis": {
           "colorbar": {
            "outlinewidth": 0,
            "ticks": ""
           }
          },
          "colorscale": {
           "diverging": [
            [
             0,
             "#8e0152"
            ],
            [
             0.1,
             "#c51b7d"
            ],
            [
             0.2,
             "#de77ae"
            ],
            [
             0.3,
             "#f1b6da"
            ],
            [
             0.4,
             "#fde0ef"
            ],
            [
             0.5,
             "#f7f7f7"
            ],
            [
             0.6,
             "#e6f5d0"
            ],
            [
             0.7,
             "#b8e186"
            ],
            [
             0.8,
             "#7fbc41"
            ],
            [
             0.9,
             "#4d9221"
            ],
            [
             1,
             "#276419"
            ]
           ],
           "sequential": [
            [
             0,
             "#0d0887"
            ],
            [
             0.1111111111111111,
             "#46039f"
            ],
            [
             0.2222222222222222,
             "#7201a8"
            ],
            [
             0.3333333333333333,
             "#9c179e"
            ],
            [
             0.4444444444444444,
             "#bd3786"
            ],
            [
             0.5555555555555556,
             "#d8576b"
            ],
            [
             0.6666666666666666,
             "#ed7953"
            ],
            [
             0.7777777777777778,
             "#fb9f3a"
            ],
            [
             0.8888888888888888,
             "#fdca26"
            ],
            [
             1,
             "#f0f921"
            ]
           ],
           "sequentialminus": [
            [
             0,
             "#0d0887"
            ],
            [
             0.1111111111111111,
             "#46039f"
            ],
            [
             0.2222222222222222,
             "#7201a8"
            ],
            [
             0.3333333333333333,
             "#9c179e"
            ],
            [
             0.4444444444444444,
             "#bd3786"
            ],
            [
             0.5555555555555556,
             "#d8576b"
            ],
            [
             0.6666666666666666,
             "#ed7953"
            ],
            [
             0.7777777777777778,
             "#fb9f3a"
            ],
            [
             0.8888888888888888,
             "#fdca26"
            ],
            [
             1,
             "#f0f921"
            ]
           ]
          },
          "colorway": [
           "#636efa",
           "#EF553B",
           "#00cc96",
           "#ab63fa",
           "#FFA15A",
           "#19d3f3",
           "#FF6692",
           "#B6E880",
           "#FF97FF",
           "#FECB52"
          ],
          "font": {
           "color": "#2a3f5f"
          },
          "geo": {
           "bgcolor": "white",
           "lakecolor": "white",
           "landcolor": "#E5ECF6",
           "showlakes": true,
           "showland": true,
           "subunitcolor": "white"
          },
          "hoverlabel": {
           "align": "left"
          },
          "hovermode": "closest",
          "mapbox": {
           "style": "light"
          },
          "paper_bgcolor": "white",
          "plot_bgcolor": "#E5ECF6",
          "polar": {
           "angularaxis": {
            "gridcolor": "white",
            "linecolor": "white",
            "ticks": ""
           },
           "bgcolor": "#E5ECF6",
           "radialaxis": {
            "gridcolor": "white",
            "linecolor": "white",
            "ticks": ""
           }
          },
          "scene": {
           "xaxis": {
            "backgroundcolor": "#E5ECF6",
            "gridcolor": "white",
            "gridwidth": 2,
            "linecolor": "white",
            "showbackground": true,
            "ticks": "",
            "zerolinecolor": "white"
           },
           "yaxis": {
            "backgroundcolor": "#E5ECF6",
            "gridcolor": "white",
            "gridwidth": 2,
            "linecolor": "white",
            "showbackground": true,
            "ticks": "",
            "zerolinecolor": "white"
           },
           "zaxis": {
            "backgroundcolor": "#E5ECF6",
            "gridcolor": "white",
            "gridwidth": 2,
            "linecolor": "white",
            "showbackground": true,
            "ticks": "",
            "zerolinecolor": "white"
           }
          },
          "shapedefaults": {
           "line": {
            "color": "#2a3f5f"
           }
          },
          "ternary": {
           "aaxis": {
            "gridcolor": "white",
            "linecolor": "white",
            "ticks": ""
           },
           "baxis": {
            "gridcolor": "white",
            "linecolor": "white",
            "ticks": ""
           },
           "bgcolor": "#E5ECF6",
           "caxis": {
            "gridcolor": "white",
            "linecolor": "white",
            "ticks": ""
           }
          },
          "title": {
           "x": 0.05
          },
          "xaxis": {
           "automargin": true,
           "gridcolor": "white",
           "linecolor": "white",
           "ticks": "",
           "title": {
            "standoff": 15
           },
           "zerolinecolor": "white",
           "zerolinewidth": 2
          },
          "yaxis": {
           "automargin": true,
           "gridcolor": "white",
           "linecolor": "white",
           "ticks": "",
           "title": {
            "standoff": 15
           },
           "zerolinecolor": "white",
           "zerolinewidth": 2
          }
         }
        }
       }
      }
     },
     "metadata": {},
     "output_type": "display_data"
    }
   ],
   "source": [
    "poly_ind = 6\n",
    "poly = polys[poly_ind]\n",
    "\n",
    "dims = [\"x\", \"y\", \"z\"]\n",
    "vertices_by_col = {dims[i]: list(col) for i, col in enumerate(zip(*poly[\"vertices\"]))}\n",
    "vertices_by_col[\"extreme\"] = [str(i in poly[\"essential_indices\"]) for i in range(len(poly[\"vertices\"]))]\n",
    "vertices_by_col[\"text\"] = [str(i) for i in range(len(vertices_by_col[\"x\"]))]\n",
    "\n",
    "# Plot the edges\n",
    "\n",
    "lines = {}\n",
    "for start_vertex, adjacent in poly[\"adjacency\"].items():\n",
    "    for end_vertex in adjacent:\n",
    "        line = frozenset((int(start_vertex), int(end_vertex)))\n",
    "        count = lines.get(line, 0)\n",
    "        lines[line] = count + 1\n",
    "        \n",
    "for line, count in lines.items():\n",
    "    #print(line, count)\n",
    "    assert count == 2, \"Should be dupes\"\n",
    "\n",
    "lines_by_col = {dim: [] for dim in dims}\n",
    "lines_by_col[\"line\"] = []\n",
    "for line in lines:\n",
    "    for vertex in line:\n",
    "        for dim in dims:\n",
    "            lines_by_col[dim].append(vertices_by_col[dim][vertex])\n",
    "        lines_by_col[\"line\"].append(str(set(line)))\n",
    "\n",
    "#(df=vertices_by_col, x=\"x\", y=\"y\", z=\"z\", color=\"extreme\", text=\"text\")\n",
    "fig = px.line_3d(lines_by_col, x=\"x\", y=\"y\", z=\"z\", color=\"line\")\n",
    "#fig.add_scatter3d(**{dim: vertices_by_col[dim] for dim in dims})\n",
    "fig.show()"
   ]
  },
  {
   "cell_type": "code",
   "execution_count": 23,
   "metadata": {},
   "outputs": [
    {
     "name": "stdout",
     "output_type": "stream",
     "text": [
      "RSOut(param=array([0.47774499, 0.67478222, 0.56251994]), decomp=array([6, 9, 5, 5, 7, 1, 3, 7, 6, 4]))\n",
      "RSOut(param=array([0.70896346, 0.58056507, 0.40039358]), decomp=array([6, 9, 6, 1, 7, 1, 3, 7, 6, 4]))\n",
      "RSOut(param=array([0.81030542, 0.4543805 , 0.37005877]), decomp=array([6, 9, 6, 1, 7, 1, 7, 7, 6, 4]))\n",
      "RSOut(param=array([0.88720398, 0.26553725, 0.37730501]), decomp=array([6, 9, 6, 1, 7, 1, 7, 7, 2, 4]))\n",
      "RSOut(param=array([0.91989796, 0.33930686, 0.19661788]), decomp=array([6, 9, 6, 1, 7, 1, 7, 7, 2, 2]))\n",
      "RSOut(param=array([0.95057846, 0.19478552, 0.24178337]), decomp=array([6, 9, 6, 1, 7, 1, 7, 7, 2, 6]))\n",
      "RSOut(param=array([0.9180898 , 0.39338812, 0.04854807]), decomp=array([1, 9, 6, 1, 7, 1, 7, 7, 2, 6]))\n",
      "RSOut(param=array([0.97158834, 0.18301201, 0.15007566]), decomp=array([6, 9, 6, 1, 7, 1, 7, 3, 2, 6]))\n",
      "RSOut(param=array([ 0.98408051,  0.1232688 , -0.1280248 ]), decomp=array([1, 9, 6, 1, 7, 1, 7, 3, 2, 6]))\n",
      "RSOut(param=array([ 0.94762111, -0.10816601, -0.30052347]), decomp=array([1, 0, 6, 1, 7, 1, 7, 3, 2, 6]))\n",
      "RSOut(param=array([ 0.89701732,  0.08457277, -0.43382873]), decomp=array([1, 5, 6, 1, 7, 1, 7, 3, 2, 6]))\n",
      "RSOut(param=array([ 0.75131116, -0.02009676, -0.65964207]), decomp=array([1, 3, 6, 1, 7, 1, 7, 3, 2, 6]))\n",
      "RSOut(param=array([ 0.61313514, -0.05347978, -0.78816572]), decomp=array([1, 3, 6, 1, 7, 8, 7, 3, 2, 6]))\n",
      "RSOut(param=array([ 0.5861235 , -0.06869125, -0.80730463]), decomp=array([1, 3, 6, 1, 7, 8, 7, 1, 2, 6]))\n",
      "RSOut(param=array([ 0.56671164, -0.07951659, -0.82007014]), decomp=array([1, 3, 0, 1, 7, 8, 7, 1, 2, 6]))\n",
      "RSOut(param=array([ 0.6243847 , -0.10745492, -0.77369063]), decomp=array([1, 3, 6, 1, 7, 9, 7, 3, 2, 6]))\n",
      "RSOut(param=array([ 0.58621441, -0.10708581, -0.8030475 ]), decomp=array([1, 3, 6, 1, 7, 9, 7, 1, 2, 6]))\n",
      "RSOut(param=array([ 0.55024431, -0.1062123 , -0.82822108]), decomp=array([1, 3, 0, 1, 7, 9, 7, 1, 2, 6]))\n",
      "RSOut(param=array([ 0.87344633, -0.17404523, -0.45475242]), decomp=array([1, 5, 6, 1, 7, 1, 5, 3, 2, 6]))\n",
      "RSOut(param=array([ 0.75307667, -0.26512767, -0.60214852]), decomp=array([1, 3, 6, 1, 7, 1, 5, 3, 2, 6]))\n",
      "RSOut(param=array([ 0.72534096, -0.20704097, -0.65651697]), decomp=array([1, 3, 6, 1, 7, 1, 6, 3, 2, 6]))\n",
      "RSOut(param=array([ 0.64124622, -0.31053404, -0.70169216]), decomp=array([1, 3, 6, 1, 7, 9, 6, 3, 2, 6]))\n",
      "RSOut(param=array([ 0.55643614, -0.36988926, -0.74401664]), decomp=array([1, 3, 6, 1, 7, 9, 6, 1, 2, 6]))\n",
      "RSOut(param=array([ 0.42533843, -0.41794995, -0.80274844]), decomp=array([1, 3, 0, 1, 7, 9, 6, 1, 2, 6]))\n",
      "RSOut(param=array([ 0.30743156, -0.35468637, -0.88299684]), decomp=array([1, 3, 0, 2, 7, 9, 6, 1, 2, 6]))\n",
      "RSOut(param=array([ 0.2588431 , -0.31178595, -0.91421539]), decomp=array([1, 3, 0, 2, 7, 9, 1, 1, 2, 6]))\n",
      "RSOut(param=array([ 0.77295982, -0.14532659, -0.61758668]), decomp=array([1, 5, 6, 1, 7, 1, 6, 3, 2, 6]))\n",
      "RSOut(param=array([ 0.97572152, -0.12016832, -0.18310406]), decomp=array([1, 9, 6, 1, 7, 1, 5, 3, 2, 6]))\n",
      "RSOut(param=array([ 0.93564072, -0.17844082, -0.30452475]), decomp=array([1, 0, 6, 1, 7, 1, 5, 3, 2, 6]))\n",
      "RSOut(param=array([ 0.99763668, -0.06698061,  0.01531853]), decomp=array([1, 9, 6, 1, 7, 1, 7, 6, 2, 6]))\n",
      "RSOut(param=array([0.99327657, 0.04460234, 0.10682829]), decomp=array([4, 9, 6, 1, 7, 1, 7, 3, 2, 6]))\n",
      "RSOut(param=array([ 0.9861579 , -0.02646749,  0.16368282]), decomp=array([4, 9, 6, 1, 7, 1, 7, 6, 2, 6]))\n",
      "RSOut(param=array([0.95021525, 0.029761  , 0.31016974]), decomp=array([6, 9, 6, 1, 7, 1, 7, 6, 2, 6]))\n",
      "RSOut(param=array([0.90411714, 0.12502334, 0.40858459]), decomp=array([6, 9, 6, 1, 7, 1, 7, 7, 2, 9]))\n",
      "RSOut(param=array([ 0.88153928, -0.00726273,  0.47205481]), decomp=array([6, 9, 6, 1, 7, 1, 5, 7, 2, 9]))\n",
      "RSOut(param=array([ 0.88336923, -0.08465704,  0.46096853]), decomp=array([6, 9, 6, 1, 7, 1, 5, 6, 2, 9]))\n",
      "RSOut(param=array([ 0.86397675, -0.1789933 ,  0.47064379]), decomp=array([4, 9, 6, 1, 7, 1, 5, 6, 2, 9]))\n",
      "RSOut(param=array([ 0.9233417 , -0.0422514 ,  0.38164764]), decomp=array([6, 9, 6, 1, 7, 1, 5, 6, 2, 6]))\n",
      "RSOut(param=array([ 0.89787164, -0.42741741,  0.10555032]), decomp=array([4, 9, 6, 1, 7, 1, 5, 6, 2, 6]))\n",
      "RSOut(param=array([ 0.94436959, -0.29394775, -0.14751541]), decomp=array([1, 9, 6, 1, 7, 1, 5, 6, 2, 6]))\n",
      "RSOut(param=array([ 0.8555863 , -0.4216898 , -0.30024954]), decomp=array([1, 0, 6, 1, 7, 1, 5, 6, 2, 6]))\n",
      "RSOut(param=array([ 0.83265448, -0.35082432, -0.42849599]), decomp=array([1, 5, 6, 1, 7, 1, 5, 6, 2, 6]))\n",
      "RSOut(param=array([ 0.72512158, -0.39699763, -0.56266471]), decomp=array([1, 3, 6, 1, 7, 1, 5, 6, 2, 6]))\n",
      "RSOut(param=array([ 0.7124053 , -0.33901808, -0.61444726]), decomp=array([1, 3, 6, 1, 7, 1, 6, 6, 2, 6]))\n",
      "RSOut(param=array([ 0.69340294, -0.56492737, -0.44726886]), decomp=array([1, 5, 6, 1, 7, 9, 5, 6, 2, 6]))\n",
      "RSOut(param=array([ 0.64629946, -0.54598411, -0.53310258]), decomp=array([1, 3, 6, 1, 7, 9, 5, 6, 2, 6]))\n",
      "RSOut(param=array([ 0.54855746, -0.6818806 , -0.48386316]), decomp=array([1, 3, 6, 1, 9, 9, 5, 6, 2, 6]))\n",
      "RSOut(param=array([ 0.58254648, -0.5028188 , -0.63860227]), decomp=array([1, 3, 6, 1, 7, 9, 6, 6, 2, 6]))\n",
      "RSOut(param=array([ 0.48458504, -0.53215409, -0.69425453]), decomp=array([1, 3, 0, 1, 7, 9, 6, 6, 2, 6]))\n",
      "RSOut(param=array([ 0.48022604, -0.65142144, -0.58739515]), decomp=array([1, 3, 6, 1, 9, 9, 6, 6, 2, 6]))\n",
      "RSOut(param=array([ 0.35069436, -0.70739662, -0.61368029]), decomp=array([1, 3, 0, 1, 9, 9, 6, 6, 2, 6]))\n",
      "RSOut(param=array([ 0.09890548, -0.85644507, -0.50667498]), decomp=array([7, 3, 0, 1, 9, 9, 6, 6, 2, 6]))\n",
      "RSOut(param=array([ 0.09714041, -0.85695587, -0.50615253]), decomp=array([9, 3, 0, 1, 9, 9, 6, 6, 2, 6]))\n",
      "RSOut(param=array([ 0.306381  , -0.60164493, -0.73766798]), decomp=array([1, 3, 0, 1, 9, 9, 6, 1, 2, 6]))\n",
      "RSOut(param=array([ 0.08920569, -0.8150252 , -0.57251748]), decomp=array([0, 3, 0, 1, 9, 9, 6, 1, 2, 6]))\n",
      "RSOut(param=array([ 0.04751439, -0.85241182, -0.52070766]), decomp=array([0, 3, 0, 1, 2, 9, 6, 1, 2, 6]))\n",
      "RSOut(param=array([ 0.20199883, -0.56883575, -0.79725928]), decomp=array([1, 3, 0, 2, 9, 9, 6, 1, 2, 6]))\n",
      "RSOut(param=array([ 0.06981741, -0.68866688, -0.72170871]), decomp=array([0, 3, 0, 2, 9, 9, 6, 1, 2, 6]))\n",
      "RSOut(param=array([-0.03086029, -0.7704181 , -0.63679164]), decomp=array([0, 3, 0, 2, 2, 9, 6, 1, 2, 6]))\n",
      "RSOut(param=array([-0.11481737, -0.81152034, -0.57293255]), decomp=array([0, 3, 0, 2, 2, 4, 6, 1, 2, 6]))\n",
      "RSOut(param=array([ 0.15669576, -0.45813164, -0.87496391]), decomp=array([1, 3, 0, 2, 9, 9, 1, 1, 2, 6]))\n",
      "RSOut(param=array([ 0.02596778, -0.56576732, -0.82415594]), decomp=array([0, 3, 0, 2, 9, 9, 1, 1, 2, 6]))\n",
      "RSOut(param=array([-0.11585809, -0.51447771, -0.84964086]), decomp=array([0, 3, 0, 2, 1, 9, 1, 1, 2, 6]))\n",
      "RSOut(param=array([-0.17577075, -0.53721125, -0.82492952]), decomp=array([0, 3, 0, 2, 1, 4, 1, 1, 2, 6]))\n",
      "RSOut(param=array([-0.12074926, -0.44106717, -0.88931399]), decomp=array([0, 3, 0, 2, 1, 9, 1, 1, 8, 6]))\n",
      "RSOut(param=array([-0.17937273, -0.53085507, -0.82826223]), decomp=array([0, 3, 0, 2, 1, 4, 1, 1, 8, 6]))\n",
      "RSOut(param=array([-0.09321259, -0.66572427, -0.74035303]), decomp=array([0, 3, 0, 2, 2, 9, 1, 1, 2, 6]))\n",
      "RSOut(param=array([-0.19852296, -0.70547273, -0.68036524]), decomp=array([0, 3, 0, 2, 2, 4, 1, 1, 2, 6]))\n",
      "RSOut(param=array([-0.1866636 , -0.54301218, -0.81871514]), decomp=array([0, 3, 0, 2, 2, 4, 1, 1, 8, 6]))\n",
      "RSOut(param=array([-0.35015444, -0.59477674, -0.72362455]), decomp=array([0, 3, 0, 2, 2, 4, 1, 1, 9, 6]))\n",
      "RSOut(param=array([-0.53038793, -0.60672151, -0.59209598]), decomp=array([0, 3, 9, 2, 2, 4, 1, 1, 9, 6]))\n",
      "RSOut(param=array([ 0.63128328, -0.6698853 , -0.39081338]), decomp=array([1, 5, 6, 1, 9, 9, 5, 6, 2, 6]))\n",
      "RSOut(param=array([ 0.68314051, -0.64459853, -0.3432372 ]), decomp=array([1, 0, 6, 1, 7, 9, 5, 6, 2, 6]))\n",
      "RSOut(param=array([ 0.6456262 , -0.68177784, -0.34401423]), decomp=array([1, 0, 6, 1, 9, 9, 5, 6, 2, 6]))\n",
      "RSOut(param=array([ 0.57931186, -0.72543998, -0.37166464]), decomp=array([1, 6, 6, 1, 9, 9, 5, 6, 2, 6]))\n",
      "RSOut(param=array([ 0.7661578 , -0.60097991, -0.22765187]), decomp=array([4, 0, 6, 1, 7, 1, 5, 6, 2, 6]))\n",
      "RSOut(param=array([ 0.68074757, -0.66726507, -0.30222519]), decomp=array([4, 0, 6, 1, 7, 9, 5, 6, 2, 6]))\n",
      "RSOut(param=array([ 0.69143549, -0.71928379,  0.06743735]), decomp=array([4, 9, 6, 1, 9, 1, 5, 6, 2, 6]))\n",
      "RSOut(param=array([ 0.55257786, -0.83009103,  0.07487715]), decomp=array([2, 9, 6, 1, 9, 1, 5, 6, 2, 6]))\n",
      "RSOut(param=array([ 0.49238148, -0.87026914,  0.01385993]), decomp=array([2, 9, 6, 1, 9, 9, 5, 6, 2, 6]))\n",
      "RSOut(param=array([ 0.40262272, -0.91140944, -0.08501637]), decomp=array([2, 6, 6, 1, 9, 9, 5, 6, 2, 6]))\n",
      "RSOut(param=array([ 0.32273645, -0.9282776 , -0.18477525]), decomp=array([2, 8, 6, 1, 9, 9, 5, 6, 2, 6]))\n",
      "RSOut(param=array([ 0.24906564, -0.94448134, -0.21429256]), decomp=array([2, 8, 8, 1, 9, 9, 5, 6, 2, 6]))\n",
      "RSOut(param=array([ 0.13286462, -0.95825893, -0.25315373]), decomp=array([2, 8, 8, 1, 2, 9, 5, 6, 2, 6]))\n",
      "RSOut(param=array([ 0.15423207, -0.9397699 , -0.30503279]), decomp=array([2, 8, 8, 1, 9, 9, 6, 6, 2, 6]))\n",
      "RSOut(param=array([ 0.14650457, -0.92317846, -0.35535607]), decomp=array([2, 8, 0, 1, 9, 9, 6, 6, 2, 6]))\n",
      "RSOut(param=array([ 0.09827884, -0.93253065, -0.34745915]), decomp=array([2, 8, 0, 1, 2, 9, 6, 6, 2, 6]))\n",
      "RSOut(param=array([ 0.08911325, -0.94898088, -0.30247995]), decomp=array([2, 8, 8, 1, 2, 9, 6, 6, 2, 6]))\n",
      "RSOut(param=array([ 0.0451202 , -0.94380074, -0.32742072]), decomp=array([9, 8, 8, 1, 2, 9, 6, 6, 2, 6]))\n",
      "RSOut(param=array([ 0.31775673, -0.93957179, -0.12741863]), decomp=array([2, 6, 8, 1, 9, 9, 5, 6, 2, 6]))\n",
      "RSOut(param=array([ 0.29887582, -0.94437286, -0.1372339 ]), decomp=array([2, 2, 8, 1, 9, 9, 5, 6, 2, 6]))\n",
      "RSOut(param=array([ 0.67543687, -0.71207491, -0.19166207]), decomp=array([4, 0, 6, 1, 9, 1, 5, 6, 2, 6]))\n",
      "RSOut(param=array([ 0.61560211, -0.75992198, -0.20869268]), decomp=array([4, 0, 6, 1, 9, 9, 5, 6, 2, 6]))\n",
      "RSOut(param=array([ 0.4894379 , -0.84790282, -0.20374336]), decomp=array([4, 6, 6, 1, 9, 9, 5, 6, 2, 6]))\n",
      "RSOut(param=array([ 0.40945179, -0.85828663, -0.30934333]), decomp=array([4, 8, 6, 1, 9, 9, 5, 6, 2, 6]))\n",
      "RSOut(param=array([ 0.44172452, -0.79987581, -0.40629809]), decomp=array([1, 8, 6, 1, 9, 9, 5, 6, 2, 6]))\n",
      "RSOut(param=array([ 0.35441943, -0.82820988, -0.43411433]), decomp=array([1, 8, 6, 1, 9, 9, 6, 6, 2, 6]))\n",
      "RSOut(param=array([ 0.25427743, -0.85180497, -0.45800794]), decomp=array([1, 8, 0, 1, 9, 9, 6, 6, 2, 6]))\n",
      "RSOut(param=array([ 0.24422523, -0.91132181, -0.33143112]), decomp=array([4, 8, 0, 1, 9, 9, 5, 6, 2, 6]))\n",
      "RSOut(param=array([ 0.24392748, -0.92006046, -0.30657485]), decomp=array([4, 8, 8, 1, 9, 9, 5, 6, 2, 6]))\n",
      "RSOut(param=array([ 0.21852122, -0.92009989, -0.32506103]), decomp=array([4, 8, 8, 1, 9, 9, 6, 6, 2, 6]))\n",
      "RSOut(param=array([ 0.31719725, -0.8585619 , -0.40281183]), decomp=array([4, 8, 6, 1, 9, 9, 6, 6, 2, 6]))\n",
      "RSOut(param=array([ 0.24523923, -0.88039317, -0.40591327]), decomp=array([4, 8, 0, 1, 9, 9, 6, 6, 2, 6]))\n",
      "RSOut(param=array([ 0.15480525, -0.881876  , -0.44534263]), decomp=array([7, 8, 0, 1, 9, 9, 6, 6, 2, 6]))\n",
      "RSOut(param=array([ 0.08884999, -0.88587434, -0.4553376 ]), decomp=array([9, 8, 0, 1, 9, 9, 6, 6, 2, 6]))\n",
      "RSOut(param=array([ 0.03984051, -0.91342888, -0.40504371]), decomp=array([9, 8, 0, 1, 2, 9, 6, 6, 2, 6]))\n",
      "RSOut(param=array([-0.03118523, -0.91491586, -0.40243814]), decomp=array([9, 8, 0, 2, 2, 9, 6, 6, 2, 6]))\n",
      "RSOut(param=array([-0.04111233, -0.917751  , -0.39502263]), decomp=array([9, 8, 0, 2, 2, 4, 6, 6, 2, 6]))\n",
      "RSOut(param=array([-0.02236984, -0.93572928, -0.35200895]), decomp=array([9, 8, 0, 9, 2, 9, 6, 6, 2, 6]))\n",
      "RSOut(param=array([-0.03284288, -0.92287307, -0.38370125]), decomp=array([9, 8, 0, 1, 2, 4, 6, 6, 2, 6]))\n",
      "RSOut(param=array([ 0.04437376, -0.87306719, -0.48557663]), decomp=array([9, 8, 0, 1, 2, 9, 6, 1, 2, 6]))\n",
      "RSOut(param=array([-0.01895076, -0.8724301 , -0.48837136]), decomp=array([9, 8, 0, 2, 2, 9, 6, 1, 2, 6]))\n",
      "RSOut(param=array([-0.05754003, -0.84698484, -0.52849392]), decomp=array([9, 3, 0, 2, 2, 9, 6, 1, 2, 6]))\n",
      "RSOut(param=array([-0.1231316 , -0.86771502, -0.48156957]), decomp=array([9, 8, 0, 2, 2, 4, 6, 1, 2, 6]))\n",
      "RSOut(param=array([-0.14114469, -0.83411271, -0.53322993]), decomp=array([9, 3, 0, 2, 2, 4, 6, 1, 2, 6]))\n",
      "RSOut(param=array([-0.22041318, -0.84910564, -0.48003921]), decomp=array([9, 8, 0, 2, 2, 4, 0, 1, 2, 6]))\n",
      "RSOut(param=array([-0.23434683, -0.82775028, -0.50981471]), decomp=array([9, 8, 0, 2, 2, 4, 1, 1, 2, 6]))\n",
      "RSOut(param=array([-0.26337646, -0.80309767, -0.53447822]), decomp=array([9, 3, 0, 2, 2, 4, 1, 1, 2, 6]))\n",
      "RSOut(param=array([ 0.06757128, -0.86173419, -0.50284025]), decomp=array([9, 8, 0, 1, 9, 9, 6, 1, 2, 6]))\n",
      "RSOut(param=array([ 0.06266085, -0.85519455, -0.5145055 ]), decomp=array([9, 3, 0, 1, 9, 9, 6, 1, 2, 6]))\n",
      "RSOut(param=array([ 0.04765939, -0.85614921, -0.51452611]), decomp=array([9, 3, 0, 1, 2, 9, 6, 1, 2, 6]))\n",
      "RSOut(param=array([ 0.57428673, -0.8167781 , -0.05539218]), decomp=array([4, 9, 6, 1, 9, 9, 5, 6, 2, 6]))\n",
      "RSOut(param=array([0.91792802, 0.0041784 , 0.39672496]), decomp=array([6, 9, 6, 1, 7, 1, 7, 6, 2, 9]))\n",
      "RSOut(param=array([0.77462751, 0.59804434, 0.20565795]), decomp=array([6, 9, 6, 1, 7, 1, 7, 7, 7, 4]))\n",
      "RSOut(param=array([0.80870785, 0.58184605, 0.08629483]), decomp=array([6, 9, 6, 1, 7, 1, 7, 7, 7, 2]))\n",
      "RSOut(param=array([ 0.81752177,  0.57404371, -0.04617338]), decomp=array([1, 9, 6, 1, 7, 1, 7, 7, 7, 2]))\n",
      "RSOut(param=array([ 0.79012309,  0.59677196, -0.13988826]), decomp=array([1, 5, 6, 1, 7, 1, 7, 7, 7, 2]))\n",
      "RSOut(param=array([ 0.79192205,  0.58884836, -0.1616078 ]), decomp=array([1, 5, 6, 1, 7, 1, 7, 3, 7, 2]))\n",
      "RSOut(param=array([ 0.82040819,  0.55867043, -0.12172819]), decomp=array([1, 9, 6, 1, 7, 1, 7, 3, 7, 2]))\n",
      "RSOut(param=array([0.89613638, 0.44364208, 0.01101315]), decomp=array([1, 9, 6, 1, 7, 1, 7, 7, 7, 6]))\n",
      "RSOut(param=array([ 0.90330079,  0.39882798, -0.15806305]), decomp=array([1, 9, 6, 1, 7, 1, 7, 3, 7, 6]))\n",
      "RSOut(param=array([ 0.82718091,  0.36310513, -0.42886642]), decomp=array([1, 5, 6, 1, 7, 1, 7, 3, 7, 6]))\n",
      "RSOut(param=array([ 0.71456565,  0.21895683, -0.66441992]), decomp=array([1, 3, 6, 1, 7, 1, 7, 3, 7, 6]))\n",
      "RSOut(param=array([ 0.61915301,  0.16251267, -0.76827025]), decomp=array([1, 3, 2, 1, 7, 1, 7, 3, 7, 6]))\n",
      "RSOut(param=array([ 0.59218273,  0.11976965, -0.79685309]), decomp=array([1, 3, 2, 1, 7, 8, 7, 3, 7, 6]))\n",
      "RSOut(param=array([ 0.55617412,  0.07042647, -0.82807636]), decomp=array([1, 3, 2, 1, 7, 8, 7, 1, 7, 6]))\n",
      "RSOut(param=array([ 0.51205101,  0.03393864, -0.8582843 ]), decomp=array([1, 3, 0, 1, 7, 8, 7, 1, 7, 6]))\n",
      "RSOut(param=array([ 0.6094535 ,  0.07275522, -0.78947648]), decomp=array([1, 3, 6, 1, 7, 8, 7, 3, 7, 6]))\n",
      "RSOut(param=array([ 0.6927614 ,  0.07460497, -0.71729753]), decomp=array([1, 3, 6, 1, 7, 1, 7, 3, 3, 6]))\n",
      "RSOut(param=array([ 0.60730717,  0.01693326, -0.79428664]), decomp=array([1, 3, 6, 1, 7, 8, 7, 3, 3, 6]))\n",
      "RSOut(param=array([ 0.59147857,  0.05091899, -0.80471135]), decomp=array([1, 3, 2, 1, 7, 8, 7, 3, 3, 6]))\n",
      "RSOut(param=array([ 0.56009425,  0.02332478, -0.82810047]), decomp=array([1, 3, 2, 1, 7, 8, 7, 1, 3, 6]))\n",
      "RSOut(param=array([ 0.49073003, -0.0376511 , -0.87049781]), decomp=array([1, 3, 0, 1, 7, 8, 7, 1, 3, 6]))\n",
      "RSOut(param=array([ 0.5023815 , -0.11032322, -0.85757893]), decomp=array([1, 3, 0, 1, 7, 9, 7, 1, 3, 6]))\n",
      "RSOut(param=array([ 0.42470301, -0.14918955, -0.89295567]), decomp=array([1, 3, 0, 1, 7, 9, 6, 1, 3, 6]))\n",
      "RSOut(param=array([ 0.37747339, -0.18943937, -0.90643619]), decomp=array([1, 3, 0, 2, 7, 9, 6, 1, 3, 6]))\n",
      "RSOut(param=array([ 0.4007857 , -0.12950875, -0.90697205]), decomp=array([1, 3, 0, 1, 7, 9, 1, 1, 3, 6]))\n",
      "RSOut(param=array([ 0.40980867, -0.1012859 , -0.90653076]), decomp=array([1, 3, 0, 1, 7, 8, 1, 1, 3, 6]))\n",
      "RSOut(param=array([ 0.42456631, -0.11418454, -0.89816777]), decomp=array([1, 3, 0, 1, 7, 8, 6, 1, 3, 6]))\n",
      "RSOut(param=array([ 0.5834188 , -0.02937695, -0.81164001]), decomp=array([1, 3, 6, 1, 7, 8, 7, 1, 3, 6]))\n",
      "RSOut(param=array([ 0.74138233,  0.48774892, -0.46092649]), decomp=array([1, 5, 6, 6, 7, 1, 7, 3, 7, 6]))\n",
      "RSOut(param=array([ 0.68390418,  0.33660424, -0.64728098]), decomp=array([1, 3, 6, 6, 7, 1, 7, 3, 7, 6]))\n",
      "RSOut(param=array([ 0.64716552,  0.53447058, -0.54361566]), decomp=array([1, 5, 2, 6, 7, 1, 7, 3, 7, 6]))\n",
      "RSOut(param=array([ 0.60418473,  0.4340485 , -0.66825348]), decomp=array([1, 3, 2, 6, 7, 1, 7, 3, 7, 6]))\n",
      "RSOut(param=array([ 0.52386289,  0.38729612, -0.75866289]), decomp=array([1, 3, 2, 6, 7, 8, 7, 3, 7, 6]))\n",
      "RSOut(param=array([ 0.44233943,  0.3110755 , -0.84117053]), decomp=array([1, 3, 2, 6, 7, 8, 7, 1, 7, 6]))\n",
      "RSOut(param=array([ 0.4378323 ,  0.08091789, -0.89540783]), decomp=array([1, 3, 0, 6, 7, 8, 7, 1, 7, 6]))\n",
      "RSOut(param=array([ 0.43327773, -0.0212865 , -0.90100904]), decomp=array([1, 3, 0, 6, 7, 8, 7, 1, 3, 6]))\n",
      "RSOut(param=array([ 0.31221167,  0.31553694, -0.89608053]), decomp=array([1, 3, 2, 6, 7, 8, 1, 1, 7, 6]))\n",
      "RSOut(param=array([ 0.23868689,  0.14941362, -0.95953329]), decomp=array([1, 3, 0, 6, 7, 8, 1, 1, 7, 6]))\n",
      "RSOut(param=array([ 0.05973556,  0.07417754, -0.99545435]), decomp=array([0, 3, 0, 6, 7, 8, 1, 1, 7, 6]))\n",
      "RSOut(param=array([-0.05134626,  0.06262522, -0.99671543]), decomp=array([0, 3, 0, 6, 1, 8, 1, 1, 7, 6]))\n",
      "RSOut(param=array([-0.06684719, -0.08629571, -0.9940244 ]), decomp=array([0, 3, 0, 2, 1, 8, 1, 1, 7, 6]))\n",
      "RSOut(param=array([-0.1862249 , -0.11836615, -0.97535109]), decomp=array([0, 3, 0, 2, 1, 5, 1, 1, 7, 6]))\n",
      "RSOut(param=array([-0.16777032, -0.22566386, -0.95965043]), decomp=array([0, 3, 0, 2, 1, 5, 1, 1, 3, 6]))\n",
      "RSOut(param=array([-0.25059657, -0.22252774, -0.94216918]), decomp=array([0, 3, 0, 2, 1, 5, 1, 1, 9, 6]))\n",
      "RSOut(param=array([-0.0136834 , -0.17823783, -0.98389229]), decomp=array([0, 3, 0, 2, 1, 8, 1, 1, 3, 6]))\n",
      "RSOut(param=array([-0.16642976,  0.00203674, -0.98605121]), decomp=array([0, 3, 0, 6, 1, 5, 1, 1, 7, 6]))\n",
      "RSOut(param=array([ 0.03298341,  0.23641792, -0.97109148]), decomp=array([0, 3, 0, 6, 5, 8, 1, 1, 7, 6]))\n",
      "RSOut(param=array([ 0.17334227, -0.07000167, -0.98237072]), decomp=array([1, 3, 0, 2, 7, 8, 1, 1, 7, 6]))\n",
      "RSOut(param=array([ 0.06332037, -0.06913725, -0.99559559]), decomp=array([0, 3, 0, 2, 7, 8, 1, 1, 7, 6]))\n",
      "RSOut(param=array([ 0.02999109, -0.1488471 , -0.98840532]), decomp=array([0, 3, 0, 2, 9, 8, 1, 1, 7, 6]))\n",
      "RSOut(param=array([ 0.06589892,  0.31157388, -0.9479341 ]), decomp=array([1, 3, 0, 6, 5, 8, 1, 1, 7, 6]))\n",
      "RSOut(param=array([ 0.36954051, -0.04505235, -0.92812181]), decomp=array([1, 3, 0, 6, 7, 8, 1, 1, 3, 6]))\n",
      "RSOut(param=array([ 0.24944054, -0.11447782, -0.96159984]), decomp=array([1, 3, 0, 2, 7, 8, 1, 1, 3, 6]))\n",
      "RSOut(param=array([ 0.07594304, -0.15298113, -0.98530677]), decomp=array([0, 3, 0, 2, 7, 8, 1, 1, 3, 6]))\n",
      "RSOut(param=array([ 0.0376844 , -0.17110631, -0.98453162]), decomp=array([0, 3, 0, 2, 9, 8, 1, 1, 3, 6]))\n",
      "RSOut(param=array([ 0.22420729, -0.22248649, -0.94880496]), decomp=array([1, 3, 0, 2, 7, 9, 1, 1, 3, 6]))\n",
      "RSOut(param=array([ 0.08672572, -0.18506109, -0.97889276]), decomp=array([0, 3, 0, 2, 7, 9, 1, 1, 3, 6]))\n",
      "RSOut(param=array([ 0.13706586, -0.29679238, -0.94505409]), decomp=array([1, 3, 0, 2, 9, 9, 1, 1, 3, 6]))\n",
      "RSOut(param=array([ 0.04149606, -0.32515662, -0.9447493 ]), decomp=array([0, 3, 0, 2, 9, 9, 1, 1, 3, 6]))\n",
      "RSOut(param=array([-0.08388701, -0.30491651, -0.94867744]), decomp=array([0, 3, 0, 2, 1, 9, 1, 1, 3, 6]))\n",
      "RSOut(param=array([-0.17737883, -0.38355882, -0.9063219 ]), decomp=array([0, 3, 0, 2, 1, 9, 1, 1, 9, 6]))\n",
      "RSOut(param=array([-0.33602201, -0.44643002, -0.82933072]), decomp=array([0, 3, 0, 2, 1, 4, 1, 1, 9, 6]))\n",
      "RSOut(param=array([ 0.42742114,  0.55899051, -0.71052148]), decomp=array([1, 3, 2, 6, 7, 8, 7, 4, 7, 6]))\n",
      "RSOut(param=array([ 0.78196232,  0.14087944, -0.60719677]), decomp=array([1, 5, 6, 1, 7, 1, 7, 3, 3, 6]))\n",
      "RSOut(param=array([0.91248352, 0.40524945, 0.05609558]), decomp=array([6, 9, 6, 1, 7, 1, 7, 7, 7, 6]))\n",
      "RSOut(param=array([0.8833633 , 0.42990624, 0.1866813 ]), decomp=array([6, 9, 6, 1, 7, 1, 7, 7, 6, 2]))\n",
      "RSOut(param=array([0.69899692, 0.66532145, 0.26220348]), decomp=array([6, 9, 6, 1, 7, 1, 3, 7, 7, 4]))\n",
      "RSOut(param=array([0.51967514, 0.57506068, 0.63185675]), decomp=array([6, 9, 6, 5, 6, 1, 3, 7, 6, 4]))\n",
      "RSOut(param=array([0.42269426, 0.6095812 , 0.67062682]), decomp=array([6, 9, 5, 5, 6, 1, 3, 7, 6, 4]))\n",
      "RSOut(param=array([0.24190914, 0.70506215, 0.66660883]), decomp=array([6, 9, 5, 5, 8, 1, 3, 7, 6, 4]))\n",
      "RSOut(param=array([0.07285924, 0.70612231, 0.70433147]), decomp=array([6, 7, 5, 5, 8, 1, 3, 7, 6, 4]))\n",
      "RSOut(param=array([0.06474526, 0.81865758, 0.57062056]), decomp=array([6, 7, 5, 8, 8, 1, 3, 7, 6, 4]))\n",
      "RSOut(param=array([-0.11560717,  0.77500672,  0.62128863]), decomp=array([6, 7, 5, 8, 8, 6, 3, 7, 6, 4]))\n",
      "RSOut(param=array([-0.24961676,  0.76553018,  0.59300508]), decomp=array([6, 1, 5, 8, 8, 6, 3, 7, 6, 4]))\n",
      "RSOut(param=array([-0.3965849 ,  0.66499071,  0.63285684]), decomp=array([3, 1, 5, 8, 8, 6, 3, 7, 6, 4]))\n",
      "RSOut(param=array([-0.56590666,  0.58268789,  0.58328764]), decomp=array([3, 1, 5, 8, 8, 3, 3, 7, 6, 4]))\n",
      "RSOut(param=array([-0.5446504 ,  0.52900779,  0.65077392]), decomp=array([3, 1, 5, 8, 8, 6, 3, 9, 6, 4]))\n",
      "RSOut(param=array([-0.58747728,  0.54675222,  0.59660075]), decomp=array([3, 1, 5, 8, 8, 3, 3, 9, 6, 4]))\n",
      "RSOut(param=array([-0.65114724,  0.48928081,  0.58018235]), decomp=array([3, 1, 5, 8, 8, 3, 3, 9, 6, 0]))\n",
      "RSOut(param=array([-0.7338865 ,  0.46877137,  0.49159334]), decomp=array([3, 1, 9, 8, 8, 3, 3, 9, 6, 0]))\n",
      "RSOut(param=array([-0.81647974,  0.40267137,  0.41378328]), decomp=array([3, 1, 9, 8, 8, 3, 3, 9, 1, 0]))\n",
      "RSOut(param=array([-0.84396822,  0.296496  ,  0.44699862]), decomp=array([3, 1, 9, 9, 8, 3, 3, 9, 1, 0]))\n",
      "RSOut(param=array([-0.88445512,  0.30686101,  0.35153302]), decomp=array([3, 1, 9, 8, 8, 3, 0, 9, 1, 0]))\n",
      "RSOut(param=array([-0.93207947,  0.29089415,  0.21588993]), decomp=array([3, 1, 9, 8, 8, 3, 0, 9, 9, 0]))\n",
      "RSOut(param=array([-0.97688202,  0.19434844,  0.08905165]), decomp=array([3, 1, 9, 8, 1, 3, 0, 9, 9, 0]))\n",
      "RSOut(param=array([-0.97895428,  0.19716016, -0.05269143]), decomp=array([0, 1, 9, 8, 1, 3, 0, 9, 9, 0]))\n",
      "RSOut(param=array([-0.98941209,  0.07556114, -0.12391221]), decomp=array([0, 1, 9, 8, 1, 3, 0, 1, 9, 0]))\n",
      "RSOut(param=array([-0.99177286,  0.12565096, -0.02446269]), decomp=array([9, 1, 9, 8, 1, 3, 0, 9, 9, 0]))\n",
      "RSOut(param=array([-0.990048  ,  0.05635089, -0.12895553]), decomp=array([9, 1, 9, 8, 1, 3, 0, 1, 9, 0]))\n",
      "RSOut(param=array([-0.98901553,  0.04739788, -0.14000615]), decomp=array([9, 1, 9, 8, 1, 3, 1, 1, 9, 0]))\n",
      "RSOut(param=array([-0.85981256,  0.43580501,  0.26607584]), decomp=array([3, 1, 9, 8, 8, 3, 3, 9, 9, 0]))\n",
      "RSOut(param=array([-0.60323862,  0.47728444,  0.6389857 ]), decomp=array([3, 1, 5, 8, 8, 6, 3, 9, 6, 0]))\n",
      "RSOut(param=array([-0.47003379,  0.71056421,  0.52360934]), decomp=array([3, 1, 5, 8, 8, 6, 3, 7, 6, 3]))\n",
      "RSOut(param=array([-0.552087  ,  0.6612425 ,  0.50789595]), decomp=array([3, 1, 5, 8, 8, 3, 3, 7, 6, 3]))\n",
      "RSOut(param=array([-0.62399931,  0.57928417,  0.52445659]), decomp=array([3, 1, 5, 8, 8, 3, 3, 9, 6, 3]))\n",
      "RSOut(param=array([-0.63535203,  0.61792498,  0.46313769]), decomp=array([3, 1, 3, 8, 8, 3, 3, 9, 6, 3]))\n",
      "RSOut(param=array([-0.6868966 ,  0.56352354,  0.45892731]), decomp=array([3, 1, 9, 8, 8, 3, 3, 9, 6, 3]))\n",
      "RSOut(param=array([-0.09650963,  0.66962173,  0.73640521]), decomp=array([6, 7, 5, 5, 8, 6, 3, 7, 6, 4]))\n",
      "RSOut(param=array([-0.31553634,  0.60188276,  0.73360341]), decomp=array([6, 1, 5, 5, 8, 6, 3, 7, 6, 4]))\n",
      "RSOut(param=array([-0.33583177,  0.58651974,  0.73702891]), decomp=array([3, 1, 5, 5, 8, 6, 3, 7, 6, 4]))\n",
      "RSOut(param=array([0.19413791, 0.82968569, 0.52338526]), decomp=array([6, 9, 5, 8, 8, 1, 3, 7, 6, 4]))\n",
      "RSOut(param=array([0.35399527, 0.81835872, 0.45274315]), decomp=array([6, 9, 5, 5, 8, 1, 3, 7, 7, 4]))\n",
      "RSOut(param=array([0.2378753 , 0.88567659, 0.39873841]), decomp=array([6, 9, 5, 8, 8, 1, 3, 7, 7, 4]))\n",
      "RSOut(param=array([0.09819346, 0.89865526, 0.42752401]), decomp=array([6, 7, 5, 8, 8, 1, 3, 7, 7, 4]))\n",
      "RSOut(param=array([-0.00226356,  0.94951675,  0.31370818]), decomp=array([6, 1, 5, 8, 8, 1, 3, 7, 7, 4]))\n",
      "RSOut(param=array([-0.06013201,  0.87452536,  0.4812375 ]), decomp=array([6, 7, 5, 8, 8, 6, 3, 7, 7, 4]))\n",
      "RSOut(param=array([-0.16646417,  0.87506867,  0.45447168]), decomp=array([6, 1, 5, 8, 8, 6, 3, 7, 7, 4]))\n",
      "RSOut(param=array([-0.38340257,  0.76462886,  0.51802044]), decomp=array([3, 1, 5, 8, 8, 6, 3, 7, 7, 4]))\n",
      "RSOut(param=array([-0.19808722,  0.93261659,  0.30164175]), decomp=array([6, 1, 5, 8, 8, 6, 3, 7, 7, 3]))\n",
      "RSOut(param=array([-0.4118185 ,  0.7920245 ,  0.45066919]), decomp=array([3, 1, 5, 8, 8, 6, 3, 7, 7, 3]))\n",
      "RSOut(param=array([-0.45077237,  0.81868581,  0.35574965]), decomp=array([3, 1, 5, 8, 8, 3, 3, 7, 7, 3]))\n",
      "RSOut(param=array([-0.62738419,  0.62679147,  0.4620839 ]), decomp=array([3, 1, 5, 8, 8, 3, 3, 9, 7, 3]))\n",
      "RSOut(param=array([-0.31675794,  0.9160296 ,  0.24607758]), decomp=array([6, 1, 5, 8, 8, 3, 3, 7, 7, 3]))\n",
      "RSOut(param=array([-0.33579976,  0.9371623 ,  0.09468547]), decomp=array([6, 1, 3, 8, 8, 3, 3, 7, 7, 3]))\n",
      "RSOut(param=array([-0.41751582,  0.90599407, -0.06967993]), decomp=array([0, 1, 3, 8, 8, 3, 3, 7, 7, 3]))\n",
      "RSOut(param=array([-0.58036924,  0.81384982, -0.02863597]), decomp=array([0, 1, 9, 8, 8, 3, 3, 7, 7, 3]))\n",
      "RSOut(param=array([-0.42597031,  0.88442576, -0.19063149]), decomp=array([0, 1, 3, 8, 8, 3, 3, 4, 7, 3]))\n",
      "RSOut(param=array([-0.57552783,  0.80408296, -0.14905808]), decomp=array([0, 1, 9, 8, 8, 3, 3, 4, 7, 3]))\n",
      "RSOut(param=array([-0.59451574,  0.76537743, -0.24647195]), decomp=array([0, 1, 9, 8, 8, 3, 1, 4, 7, 3]))\n",
      "RSOut(param=array([-0.69260148,  0.66370769, -0.28248061]), decomp=array([0, 1, 9, 8, 8, 3, 1, 1, 7, 3]))\n",
      "RSOut(param=array([-0.73468482,  0.49133884, -0.46778666]), decomp=array([0, 1, 9, 8, 1, 3, 1, 1, 7, 3]))\n",
      "RSOut(param=array([-0.55430367,  0.34750073, -0.75630066]), decomp=array([0, 3, 9, 8, 1, 3, 1, 1, 7, 3]))\n",
      "RSOut(param=array([-0.60712778,  0.18629463, -0.77245723]), decomp=array([0, 3, 9, 8, 1, 3, 1, 1, 7, 7]))\n",
      "RSOut(param=array([-0.61136065,  0.01567543, -0.79119684]), decomp=array([0, 3, 9, 8, 1, 4, 1, 1, 7, 7]))\n",
      "RSOut(param=array([-0.65383544,  0.02335405, -0.75627628]), decomp=array([0, 3, 9, 8, 1, 3, 1, 1, 9, 7]))\n",
      "RSOut(param=array([-0.65883427, -0.02797329, -0.75176785]), decomp=array([0, 3, 9, 8, 1, 4, 1, 1, 9, 7]))\n",
      "RSOut(param=array([-0.64263265, -0.28348861, -0.71179877]), decomp=array([0, 3, 9, 2, 1, 4, 1, 1, 9, 7]))\n",
      "RSOut(param=array([-0.58904519, -0.47026274, -0.6571748 ]), decomp=array([0, 3, 9, 2, 1, 4, 1, 1, 9, 5]))\n",
      "RSOut(param=array([-0.57419605, -0.53306936, -0.62139839]), decomp=array([0, 3, 9, 2, 2, 4, 1, 1, 9, 5]))\n",
      "RSOut(param=array([-0.89166775,  0.23665684, -0.38590435]), decomp=array([0, 1, 9, 8, 1, 3, 1, 1, 9, 3]))\n",
      "RSOut(param=array([-0.93352118,  0.11808156, -0.33851875]), decomp=array([0, 1, 9, 8, 1, 3, 1, 1, 9, 0]))\n",
      "RSOut(param=array([-0.96014458, -0.04339762, -0.27611418]), decomp=array([0, 1, 9, 9, 1, 3, 1, 1, 9, 0]))\n",
      "RSOut(param=array([-0.87348327, -0.23646796, -0.42557006]), decomp=array([0, 1, 9, 9, 1, 4, 1, 1, 9, 0]))\n",
      "RSOut(param=array([-0.66047264, -0.48166657, -0.57599758]), decomp=array([0, 3, 9, 9, 1, 4, 1, 1, 9, 0]))\n",
      "RSOut(param=array([-0.75401679, -0.46716663, -0.46175104]), decomp=array([0, 1, 9, 9, 2, 4, 1, 1, 9, 0]))\n",
      "RSOut(param=array([-0.65062535, -0.51895818, -0.55440875]), decomp=array([0, 3, 9, 9, 2, 4, 1, 1, 9, 0]))\n",
      "RSOut(param=array([-0.5923642 , -0.58178601, -0.55734163]), decomp=array([0, 3, 9, 9, 2, 4, 1, 1, 9, 5]))\n",
      "RSOut(param=array([-0.88062101, -0.07364772, -0.46806266]), decomp=array([0, 1, 9, 8, 1, 4, 1, 1, 9, 0]))\n",
      "RSOut(param=array([-0.92682771,  0.35954901, -0.10823537]), decomp=array([0, 1, 9, 8, 1, 3, 1, 1, 7, 0]))\n",
      "RSOut(param=array([-0.74488919,  0.19974029, -0.63658771]), decomp=array([0, 1, 9, 8, 1, 3, 1, 1, 7, 7]))\n",
      "RSOut(param=array([-0.82847765,  0.09070173, -0.55262824]), decomp=array([0, 1, 9, 8, 1, 3, 1, 1, 9, 7]))\n",
      "RSOut(param=array([-0.80569867, -0.06578009, -0.58866173]), decomp=array([0, 1, 9, 8, 1, 4, 1, 1, 9, 7]))\n",
      "RSOut(param=array([-0.72652207, -0.2291571 , -0.64780608]), decomp=array([0, 1, 9, 2, 1, 4, 1, 1, 9, 7]))\n",
      "RSOut(param=array([-0.77851051, -0.24520407, -0.57775112]), decomp=array([0, 1, 9, 9, 1, 4, 1, 1, 9, 7]))\n",
      "RSOut(param=array([-0.65926445, -0.46491816, -0.59094965]), decomp=array([0, 3, 9, 9, 1, 4, 1, 1, 9, 7]))\n",
      "RSOut(param=array([-0.65027379, -0.48991818, -0.58062396]), decomp=array([0, 3, 9, 9, 2, 4, 1, 1, 9, 7]))\n",
      "RSOut(param=array([-0.63863593, -0.48784633, -0.59510512]), decomp=array([0, 3, 9, 9, 1, 4, 1, 1, 9, 5]))\n",
      "RSOut(param=array([-0.41732283,  0.84034115, -0.34593123]), decomp=array([0, 1, 3, 8, 8, 3, 1, 4, 7, 3]))\n",
      "RSOut(param=array([-0.50453378,  0.84874388,  0.15836507]), decomp=array([3, 1, 3, 8, 8, 3, 3, 7, 7, 3]))\n",
      "RSOut(param=array([-0.64111642,  0.75632284,  0.13017483]), decomp=array([3, 1, 9, 8, 8, 3, 3, 7, 7, 3]))\n",
      "RSOut(param=array([-0.68820829,  0.72549112, -0.00565534]), decomp=array([3, 1, 9, 8, 8, 3, 3, 4, 7, 3]))\n",
      "RSOut(param=array([-0.76102831,  0.64840434, -0.02019218]), decomp=array([3, 1, 9, 8, 8, 3, 1, 4, 7, 3]))\n",
      "RSOut(param=array([-0.72778394,  0.68396341,  0.05024531]), decomp=array([3, 1, 9, 8, 8, 3, 3, 8, 7, 3]))\n",
      "RSOut(param=array([-0.76423805,  0.60416409,  0.2256678 ]), decomp=array([3, 1, 9, 8, 8, 3, 3, 9, 7, 3]))\n",
      "RSOut(param=array([-0.8652694 ,  0.48176363,  0.13860974]), decomp=array([3, 1, 9, 8, 8, 3, 0, 9, 7, 3]))\n",
      "RSOut(param=array([-0.84620011,  0.53094634,  0.04518144]), decomp=array([3, 1, 9, 8, 8, 3, 1, 9, 7, 3]))\n",
      "RSOut(param=array([-0.86705465,  0.49578616, -0.04911533]), decomp=array([0, 1, 9, 8, 8, 3, 1, 9, 7, 3]))\n",
      "RSOut(param=array([-0.90666722,  0.41657302, -0.06649417]), decomp=array([0, 1, 9, 8, 1, 3, 1, 9, 7, 3]))\n",
      "RSOut(param=array([-0.92292248,  0.38229343, -0.04545147]), decomp=array([0, 1, 9, 8, 1, 3, 1, 9, 7, 0]))\n",
      "RSOut(param=array([-0.91718631,  0.39709024, -0.0329941 ]), decomp=array([3, 1, 9, 8, 1, 3, 1, 9, 7, 3]))\n",
      "RSOut(param=array([-0.91168077,  0.40902161,  0.03923644]), decomp=array([3, 1, 9, 8, 8, 3, 1, 9, 7, 0]))\n",
      "RSOut(param=array([-0.92192666,  0.38633438, -0.02823086]), decomp=array([3, 1, 9, 8, 1, 3, 1, 9, 7, 0]))\n",
      "RSOut(param=array([-0.9258071 ,  0.37719674,  0.02457285]), decomp=array([3, 1, 9, 8, 8, 3, 1, 9, 9, 0]))\n",
      "RSOut(param=array([-0.94858147,  0.31620884, -0.01432357]), decomp=array([3, 1, 9, 8, 1, 3, 1, 9, 9, 0]))\n",
      "RSOut(param=array([-0.96711615,  0.24042205, -0.08296737]), decomp=array([0, 1, 9, 8, 1, 3, 1, 9, 9, 0]))\n",
      "RSOut(param=array([-0.82463564,  0.48180418,  0.29637948]), decomp=array([3, 1, 9, 8, 8, 3, 3, 9, 7, 0]))\n",
      "RSOut(param=array([-0.87636029,  0.44866297,  0.17519752]), decomp=array([3, 1, 9, 8, 8, 3, 0, 9, 7, 0]))\n",
      "RSOut(param=array([-0.63449043,  0.62636624,  0.45286557]), decomp=array([3, 1, 3, 8, 8, 3, 3, 9, 7, 3]))\n",
      "RSOut(param=array([0.0895608 , 0.97155882, 0.21920838]), decomp=array([6, 7, 5, 8, 8, 1, 3, 7, 7, 3]))\n",
      "RSOut(param=array([0.02684638, 0.97808265, 0.20647904]), decomp=array([6, 1, 5, 8, 8, 1, 3, 7, 7, 3]))\n",
      "RSOut(param=array([0.27797619, 0.94208808, 0.18761471]), decomp=array([6, 9, 2, 8, 8, 1, 3, 7, 7, 4]))\n",
      "RSOut(param=array([0.19387709, 0.96319737, 0.18617867]), decomp=array([6, 7, 2, 8, 8, 1, 3, 7, 7, 4]))\n",
      "RSOut(param=array([0.15752577, 0.97800538, 0.13671546]), decomp=array([6, 7, 2, 8, 8, 1, 3, 7, 7, 3]))\n",
      "RSOut(param=array([0.07006705, 0.99621983, 0.05134851]), decomp=array([6, 1, 2, 8, 8, 1, 3, 7, 7, 3]))\n",
      "RSOut(param=array([ 0.01143534,  0.98467411, -0.17402911]), decomp=array([6, 1, 2, 8, 8, 2, 3, 7, 7, 3]))\n",
      "RSOut(param=array([-0.04961549,  0.96750845, -0.24792279]), decomp=array([0, 1, 2, 8, 8, 2, 3, 7, 7, 3]))\n",
      "RSOut(param=array([ 0.00266286,  0.96637758, -0.25711335]), decomp=array([1, 1, 2, 8, 8, 2, 3, 7, 7, 3]))\n",
      "RSOut(param=array([-0.01533669,  0.95998696, -0.27962443]), decomp=array([1, 1, 2, 8, 8, 2, 3, 4, 7, 3]))\n",
      "RSOut(param=array([-0.08933593,  0.93007521, -0.3563414 ]), decomp=array([0, 1, 2, 8, 8, 2, 3, 4, 7, 3]))\n",
      "RSOut(param=array([-0.17702592,  0.85719252, -0.48361432]), decomp=array([0, 1, 2, 8, 8, 2, 1, 4, 7, 3]))\n",
      "RSOut(param=array([-0.21375489,  0.81870402, -0.53294707]), decomp=array([0, 3, 2, 8, 8, 2, 1, 4, 7, 3]))\n",
      "RSOut(param=array([-0.22565891,  0.8109564 , -0.5398405 ]), decomp=array([0, 3, 2, 8, 8, 3, 1, 4, 7, 3]))\n",
      "RSOut(param=array([-0.24516903,  0.78946936, -0.5626991 ]), decomp=array([0, 3, 2, 8, 8, 3, 1, 1, 7, 3]))\n",
      "RSOut(param=array([-0.36647184,  0.64629499, -0.6693289 ]), decomp=array([0, 3, 2, 8, 1, 3, 1, 1, 7, 3]))\n",
      "RSOut(param=array([-0.48437539,  0.4582659 , -0.74523342]), decomp=array([0, 3, 0, 8, 1, 3, 1, 1, 7, 3]))\n",
      "RSOut(param=array([-0.55211335,  0.25601747, -0.7934897 ]), decomp=array([0, 3, 0, 8, 1, 3, 1, 1, 7, 7]))\n",
      "RSOut(param=array([-0.60093998,  0.01327214, -0.79918395]), decomp=array([0, 3, 0, 8, 1, 4, 1, 1, 7, 7]))\n",
      "RSOut(param=array([-0.60450999,  0.00227624, -0.79659431]), decomp=array([0, 3, 0, 8, 1, 4, 1, 1, 9, 7]))\n",
      "RSOut(param=array([-0.57073734,  0.10131317, -0.8148586 ]), decomp=array([0, 3, 0, 8, 1, 5, 1, 1, 7, 7]))\n",
      "RSOut(param=array([-0.22414827,  0.80730297, -0.5459116 ]), decomp=array([0, 3, 2, 8, 8, 2, 1, 1, 7, 3]))\n",
      "RSOut(param=array([-0.05463135,  0.99677531,  0.05877409]), decomp=array([6, 1, 2, 8, 8, 6, 3, 7, 7, 3]))\n",
      "RSOut(param=array([-0.14929498,  0.9875421 , -0.04971521]), decomp=array([6, 1, 2, 8, 8, 3, 3, 7, 7, 3]))\n",
      "RSOut(param=array([-0.23692521,  0.95862959, -0.15778391]), decomp=array([0, 1, 2, 8, 8, 3, 3, 7, 7, 3]))\n",
      "RSOut(param=array([-0.26121281,  0.91995597, -0.2923164 ]), decomp=array([0, 1, 2, 8, 8, 3, 3, 4, 7, 3]))\n",
      "RSOut(param=array([-0.33363957,  0.84442709, -0.41907938]), decomp=array([0, 1, 2, 8, 8, 3, 1, 4, 7, 3]))\n",
      "RSOut(param=array([-0.37701732,  0.78985339, -0.48372467]), decomp=array([0, 1, 2, 8, 8, 3, 1, 1, 7, 3]))\n",
      "RSOut(param=array([-0.38904057,  0.71529748, -0.58051439]), decomp=array([0, 1, 2, 8, 1, 3, 1, 1, 7, 3]))\n",
      "RSOut(param=array([-0.45619867,  0.56042445, -0.691236  ]), decomp=array([0, 1, 0, 8, 1, 3, 1, 1, 7, 3]))\n",
      "RSOut(param=array([0.23409107, 0.96451105, 0.12214668]), decomp=array([6, 9, 2, 8, 8, 1, 3, 7, 7, 3]))\n",
      "RSOut(param=array([0.1758142 , 0.98417929, 0.02192022]), decomp=array([6, 5, 2, 8, 8, 1, 3, 7, 7, 3]))\n",
      "RSOut(param=array([0.44817125, 0.77556974, 0.44456059]), decomp=array([6, 9, 6, 5, 8, 1, 3, 7, 6, 4]))\n",
      "RSOut(param=array([0.6143464 , 0.46786174, 0.63536124]), decomp=array([6, 9, 6, 5, 7, 1, 4, 7, 6, 4]))\n",
      "RSOut(param=array([0.74741688, 0.35401824, 0.56217355]), decomp=array([6, 9, 6, 1, 7, 1, 4, 7, 6, 4]))\n",
      "RSOut(param=array([0.81619832, 0.16774874, 0.55288396]), decomp=array([6, 9, 6, 1, 7, 1, 4, 7, 2, 4]))\n",
      "RSOut(param=array([0.83528884, 0.06401721, 0.54607175]), decomp=array([6, 9, 6, 1, 7, 1, 4, 7, 2, 9]))\n",
      "RSOut(param=array([ 0.84823008, -0.07696317,  0.52400611]), decomp=array([6, 9, 6, 1, 7, 1, 4, 6, 2, 9]))\n",
      "RSOut(param=array([0.69138607, 0.25540347, 0.67583605]), decomp=array([6, 9, 6, 3, 7, 1, 4, 7, 6, 4]))\n",
      "RSOut(param=array([0.75973918, 0.11732959, 0.63955465]), decomp=array([6, 9, 6, 3, 7, 1, 4, 7, 2, 4]))\n",
      "RSOut(param=array([ 0.73874052, -0.02157012,  0.6736447 ]), decomp=array([6, 9, 6, 3, 7, 1, 4, 7, 2, 9]))\n",
      "RSOut(param=array([ 0.74410993, -0.17421515,  0.64494146]), decomp=array([6, 9, 6, 3, 7, 1, 4, 6, 2, 9]))\n",
      "RSOut(param=array([ 0.68767325, -0.3748051 ,  0.62179309]), decomp=array([2, 9, 6, 3, 7, 1, 4, 6, 2, 9]))\n",
      "RSOut(param=array([ 0.73768282, -0.4084022 ,  0.53761668]), decomp=array([2, 9, 6, 3, 7, 1, 5, 6, 2, 9]))\n",
      "RSOut(param=array([ 0.64416737, -0.5309931 ,  0.55054039]), decomp=array([2, 9, 6, 3, 7, 1, 4, 6, 2, 6]))\n",
      "RSOut(param=array([ 0.7770193 , -0.27694462,  0.56528107]), decomp=array([4, 9, 6, 3, 7, 1, 4, 6, 2, 9]))\n",
      "RSOut(param=array([ 0.80040556, -0.30273448,  0.51740002]), decomp=array([4, 9, 6, 3, 7, 1, 5, 6, 2, 9]))\n",
      "RSOut(param=array([ 0.77238027, -0.51506052,  0.37167375]), decomp=array([4, 9, 6, 3, 7, 1, 5, 6, 2, 6]))\n",
      "RSOut(param=array([ 0.70361913, -0.56732905,  0.42785262]), decomp=array([2, 9, 6, 3, 7, 1, 5, 6, 2, 6]))\n",
      "RSOut(param=array([ 0.57370151, -0.74251124,  0.34575082]), decomp=array([2, 9, 6, 3, 9, 1, 5, 6, 2, 6]))\n",
      "RSOut(param=array([ 0.41720214, -0.81916317,  0.39359125]), decomp=array([2, 9, 8, 3, 9, 1, 5, 6, 2, 6]))\n",
      "RSOut(param=array([ 0.27355625, -0.85132305,  0.4476785 ]), decomp=array([2, 9, 8, 3, 2, 1, 5, 6, 2, 6]))\n",
      "RSOut(param=array([ 0.26722436, -0.86134931,  0.43205152]), decomp=array([2, 9, 8, 3, 2, 9, 5, 6, 2, 6]))\n",
      "RSOut(param=array([ 0.37406977, -0.89297365,  0.2503395 ]), decomp=array([2, 9, 8, 3, 9, 9, 5, 6, 2, 6]))\n",
      "RSOut(param=array([ 0.26464339, -0.95916391,  0.0998422 ]), decomp=array([2, 2, 8, 3, 9, 9, 5, 6, 2, 6]))\n",
      "RSOut(param=array([ 0.17217003, -0.96127387, -0.21519764]), decomp=array([2, 8, 8, 3, 9, 9, 5, 6, 2, 6]))\n",
      "RSOut(param=array([ 0.12746411, -0.96281158, -0.23821577]), decomp=array([2, 8, 8, 3, 2, 9, 5, 6, 2, 6]))\n",
      "RSOut(param=array([ 0.07764807, -0.96025616, -0.26810237]), decomp=array([2, 8, 8, 3, 2, 9, 6, 6, 2, 6]))\n",
      "RSOut(param=array([ 0.01420193, -0.95340885, -0.30134677]), decomp=array([9, 8, 8, 3, 2, 9, 6, 6, 2, 6]))\n",
      "RSOut(param=array([-0.01846101, -0.93858708, -0.34454823]), decomp=array([9, 8, 0, 3, 2, 9, 6, 6, 2, 6]))\n",
      "RSOut(param=array([-0.02066189, -0.93912878, -0.34294346]), decomp=array([9, 8, 8, 9, 2, 9, 6, 6, 2, 6]))\n",
      "RSOut(param=array([-0.01544586, -0.95488433, -0.29657605]), decomp=array([9, 8, 8, 3, 2, 4, 6, 6, 2, 6]))\n",
      "RSOut(param=array([-0.06674512, -0.94225331, -0.32818255]), decomp=array([9, 8, 8, 9, 2, 4, 6, 6, 2, 6]))\n",
      "RSOut(param=array([-0.06260622, -0.93035605, -0.36127285]), decomp=array([9, 8, 0, 9, 2, 4, 6, 6, 2, 6]))\n",
      "RSOut(param=array([-0.16956195, -0.89976022, -0.40209489]), decomp=array([9, 8, 0, 9, 2, 4, 6, 1, 2, 6]))\n",
      "RSOut(param=array([-0.24431154, -0.88631269, -0.39339761]), decomp=array([9, 8, 0, 9, 2, 4, 9, 1, 2, 6]))\n",
      "RSOut(param=array([-0.2988876 , -0.84657771, -0.44042296]), decomp=array([9, 8, 0, 9, 2, 4, 0, 1, 2, 6]))\n",
      "RSOut(param=array([-0.34441865, -0.79303167, -0.50247046]), decomp=array([9, 8, 0, 9, 2, 4, 1, 1, 2, 6]))\n",
      "RSOut(param=array([-0.37058686, -0.76458769, -0.52732442]), decomp=array([9, 3, 0, 9, 2, 4, 1, 1, 2, 6]))\n",
      "RSOut(param=array([-0.37051008, -0.75869975, -0.53581431]), decomp=array([0, 3, 0, 9, 2, 4, 1, 1, 2, 6]))\n",
      "RSOut(param=array([-0.41734616, -0.76174785, -0.49554253]), decomp=array([9, 8, 0, 9, 2, 4, 1, 1, 9, 6]))\n",
      "RSOut(param=array([-0.42003687, -0.74245713, -0.52184906]), decomp=array([9, 3, 0, 9, 2, 4, 1, 1, 9, 6]))\n",
      "RSOut(param=array([-0.45699087, -0.70376145, -0.54394776]), decomp=array([0, 3, 0, 9, 2, 4, 1, 1, 9, 6]))\n",
      "RSOut(param=array([-0.42034082, -0.78200467, -0.4601981 ]), decomp=array([9, 8, 0, 9, 2, 4, 0, 1, 9, 6]))\n",
      "RSOut(param=array([-0.13347794, -0.93147283, -0.33844054]), decomp=array([9, 8, 8, 9, 2, 4, 6, 1, 2, 6]))\n",
      "RSOut(param=array([ 0.15335377, -0.98203372,  0.10996545]), decomp=array([2, 2, 8, 3, 2, 9, 5, 6, 2, 6]))\n",
      "RSOut(param=array([ 0.05370178, -0.99210108,  0.11336477]), decomp=array([2, 2, 8, 3, 2, 4, 5, 6, 2, 6]))\n",
      "RSOut(param=array([-0.04739718, -0.99697994, -0.06151827]), decomp=array([2, 2, 8, 9, 2, 4, 5, 6, 2, 6]))\n",
      "RSOut(param=array([-0.06837116, -0.98808629, -0.13787993]), decomp=array([2, 2, 8, 9, 2, 4, 6, 6, 2, 6]))\n",
      "RSOut(param=array([-0.10108824, -0.96914   , -0.22483064]), decomp=array([9, 2, 8, 9, 2, 4, 6, 6, 2, 6]))\n",
      "RSOut(param=array([-0.17210544, -0.93005365, -0.32462274]), decomp=array([9, 2, 8, 9, 2, 4, 6, 1, 2, 6]))\n",
      "RSOut(param=array([-0.19057991, -0.91916004, -0.34470875]), decomp=array([9, 2, 0, 9, 2, 4, 6, 1, 2, 6]))\n",
      "RSOut(param=array([-0.00890657, -0.98458573, -0.17467574]), decomp=array([2, 2, 8, 3, 2, 4, 6, 6, 2, 6]))\n",
      "RSOut(param=array([ 0.04313731, -0.97527336, -0.21675113]), decomp=array([2, 2, 8, 3, 2, 9, 6, 6, 2, 6]))\n",
      "RSOut(param=array([ 0.0065889 , -0.96222924, -0.27216076]), decomp=array([9, 2, 8, 3, 2, 9, 6, 6, 2, 6]))\n",
      "RSOut(param=array([-0.00882382, -0.96373366, -0.26672002]), decomp=array([9, 2, 8, 3, 2, 4, 6, 6, 2, 6]))\n",
      "RSOut(param=array([ 0.45928878, -0.87614617,  0.14636158]), decomp=array([2, 9, 6, 3, 9, 9, 5, 6, 2, 6]))\n",
      "RSOut(param=array([ 0.40118408, -0.91599219,  0.00310333]), decomp=array([2, 6, 6, 3, 9, 9, 5, 6, 2, 6]))\n",
      "RSOut(param=array([ 0.36785577, -0.92925191,  0.03424941]), decomp=array([2, 6, 8, 3, 9, 9, 5, 6, 2, 6]))\n",
      "RSOut(param=array([ 0.68001084, -0.69099199,  0.24518428]), decomp=array([4, 9, 6, 3, 9, 1, 5, 6, 2, 6]))\n",
      "RSOut(param=array([ 0.838815  , -0.17269727,  0.51629938]), decomp=array([6, 9, 6, 3, 7, 1, 5, 6, 2, 9]))\n",
      "RSOut(param=array([0.55586332, 0.41244651, 0.72173669]), decomp=array([6, 9, 6, 5, 6, 1, 4, 7, 6, 4]))\n",
      "RSOut(param=array([0.31999387, 0.34590953, 0.88201504]), decomp=array([6, 9, 5, 5, 6, 1, 4, 7, 6, 4]))\n",
      "RSOut(param=array([-0.00710808,  0.20512223,  0.97871055]), decomp=array([6, 7, 5, 5, 6, 1, 4, 7, 6, 4]))\n",
      "RSOut(param=array([-0.02597456,  0.19150924,  0.98114705]), decomp=array([6, 7, 5, 5, 6, 6, 4, 7, 6, 4]))\n",
      "RSOut(param=array([-0.05947657,  0.16256673,  0.98490334]), decomp=array([6, 7, 5, 5, 0, 6, 4, 7, 6, 4]))\n",
      "RSOut(param=array([-0.1068152 ,  0.11075284,  0.98809125]), decomp=array([6, 7, 5, 5, 0, 6, 4, 9, 6, 4]))\n",
      "RSOut(param=array([-0.0871776 , -0.0533942 ,  0.99476084]), decomp=array([2, 7, 5, 5, 0, 6, 4, 9, 6, 4]))\n",
      "RSOut(param=array([-0.16640969, -0.15808156,  0.97330264]), decomp=array([2, 7, 5, 9, 0, 6, 4, 9, 6, 4]))\n",
      "RSOut(param=array([-0.16878349, -0.24985628,  0.95345895]), decomp=array([2, 7, 5, 9, 0, 6, 4, 9, 6, 9]))\n",
      "RSOut(param=array([-0.22085746, -0.3475506 ,  0.91127963]), decomp=array([2, 2, 5, 9, 0, 6, 4, 9, 6, 9]))\n",
      "RSOut(param=array([-0.19238135, -0.45302375,  0.87049348]), decomp=array([2, 2, 8, 9, 0, 6, 4, 9, 6, 9]))\n",
      "RSOut(param=array([-0.25620074, -0.4529422 ,  0.85393474]), decomp=array([2, 2, 8, 9, 2, 6, 4, 9, 6, 9]))\n",
      "RSOut(param=array([-0.27342829, -0.48002271,  0.83355574]), decomp=array([2, 2, 8, 9, 2, 4, 4, 9, 6, 9]))\n",
      "RSOut(param=array([-0.38672575, -0.57246837,  0.72299596]), decomp=array([2, 2, 8, 9, 2, 4, 4, 9, 1, 9]))\n",
      "RSOut(param=array([-0.50561195, -0.60627618,  0.61382876]), decomp=array([2, 2, 8, 9, 2, 4, 4, 9, 1, 0]))\n",
      "RSOut(param=array([-0.52709136, -0.69939125,  0.48272827]), decomp=array([2, 2, 8, 9, 2, 4, 9, 9, 1, 0]))\n",
      "RSOut(param=array([-0.59951633, -0.69265529,  0.40100976]), decomp=array([9, 2, 8, 9, 2, 4, 9, 9, 1, 0]))\n",
      "RSOut(param=array([-0.58396324, -0.76946496,  0.25867086]), decomp=array([9, 2, 8, 9, 2, 4, 9, 9, 9, 0]))\n",
      "RSOut(param=array([-0.3381688 , -0.3906513 ,  0.85617371]), decomp=array([2, 2, 5, 9, 2, 6, 4, 9, 6, 9]))\n",
      "RSOut(param=array([-0.35005504, -0.41937237,  0.83760867]), decomp=array([2, 2, 5, 9, 2, 4, 4, 9, 6, 9]))\n",
      "RSOut(param=array([-0.40249784, -0.3743209 ,  0.83539174]), decomp=array([2, 2, 5, 9, 2, 6, 4, 9, 1, 9]))\n",
      "RSOut(param=array([-0.40718793, -0.40105646,  0.8205801 ]), decomp=array([2, 2, 5, 9, 2, 4, 4, 9, 1, 9]))\n",
      "RSOut(param=array([-0.18590855,  0.06002442,  0.98073191]), decomp=array([3, 7, 5, 5, 0, 6, 4, 9, 6, 4]))\n",
      "RSOut(param=array([-0.28816165, -0.05976745,  0.95571477]), decomp=array([3, 7, 5, 9, 0, 6, 4, 9, 6, 4]))\n",
      "RSOut(param=array([-0.38441241, -0.20343242,  0.90046785]), decomp=array([3, 2, 5, 9, 0, 6, 4, 9, 6, 4]))\n",
      "RSOut(param=array([-0.48201025, -0.14559836,  0.86398335]), decomp=array([3, 2, 5, 9, 4, 6, 4, 9, 6, 4]))\n",
      "RSOut(param=array([-0.46153896, -0.23367991,  0.85578939]), decomp=array([3, 2, 5, 9, 2, 6, 4, 9, 6, 4]))\n",
      "RSOut(param=array([-0.50114008, -0.21497533,  0.83823876]), decomp=array([3, 2, 5, 9, 2, 6, 4, 9, 6, 0]))\n",
      "RSOut(param=array([-0.54975021, -0.22705979,  0.8038772 ]), decomp=array([3, 2, 5, 9, 2, 6, 4, 9, 1, 0]))\n",
      "RSOut(param=array([-0.58945496, -0.3351921 ,  0.73497559]), decomp=array([3, 2, 5, 9, 2, 4, 4, 9, 1, 0]))\n",
      "RSOut(param=array([-0.58782721, -0.48184658,  0.64983309]), decomp=array([3, 2, 8, 9, 2, 4, 4, 9, 1, 0]))\n",
      "RSOut(param=array([-0.61075735, -0.59549111,  0.52188677]), decomp=array([9, 2, 8, 9, 2, 4, 4, 9, 1, 0]))\n",
      "RSOut(param=array([-0.64189179, -0.57022019,  0.5126635 ]), decomp=array([9, 2, 9, 9, 2, 4, 4, 9, 1, 0]))\n",
      "RSOut(param=array([-0.69869295, -0.4092182 ,  0.5868293 ]), decomp=array([3, 2, 9, 9, 2, 4, 4, 9, 1, 0]))\n",
      "RSOut(param=array([-0.75483372, -0.45682924,  0.47067304]), decomp=array([3, 2, 9, 9, 2, 4, 9, 9, 1, 0]))\n",
      "RSOut(param=array([-0.70522531, -0.58400754,  0.40198564]), decomp=array([9, 2, 9, 9, 2, 4, 9, 9, 1, 0]))\n",
      "RSOut(param=array([-0.7181898 , -0.67256145,  0.17850635]), decomp=array([9, 2, 9, 9, 2, 4, 9, 9, 9, 0]))\n",
      "RSOut(param=array([-0.77129336, -0.63646696,  0.00404437]), decomp=array([9, 2, 9, 9, 2, 4, 0, 9, 9, 0]))\n",
      "RSOut(param=array([-0.71259587, -0.67035311, -0.20696336]), decomp=array([9, 2, 9, 9, 2, 4, 0, 1, 9, 0]))\n",
      "RSOut(param=array([-0.61762801, -0.64393801, -0.45153015]), decomp=array([9, 2, 9, 9, 2, 4, 1, 1, 9, 0]))\n",
      "RSOut(param=array([-0.6167213 , -0.63319986, -0.46766737]), decomp=array([9, 8, 9, 9, 2, 4, 1, 1, 9, 0]))\n",
      "RSOut(param=array([-0.57905226, -0.69722544, -0.42258155]), decomp=array([9, 2, 9, 9, 2, 4, 0, 1, 9, 5]))\n",
      "RSOut(param=array([-0.59732655, -0.66111974, -0.45400626]), decomp=array([9, 2, 9, 9, 2, 4, 1, 1, 9, 5]))\n",
      "RSOut(param=array([-0.57735022, -0.66631463, -0.47190204]), decomp=array([9, 8, 9, 9, 2, 4, 1, 1, 9, 5]))\n",
      "RSOut(param=array([-0.5849913 , -0.64797462, -0.48776436]), decomp=array([9, 3, 9, 9, 2, 4, 1, 1, 9, 5]))\n",
      "RSOut(param=array([-0.54158946, -0.82589713, -0.15676348]), decomp=array([9, 2, 9, 9, 2, 4, 9, 1, 9, 0]))\n",
      "RSOut(param=array([-0.53680482, -0.14492957,  0.83116545]), decomp=array([3, 2, 5, 9, 4, 6, 4, 9, 6, 0]))\n",
      "RSOut(param=array([-0.5695962 , -0.15525282,  0.80712869]), decomp=array([3, 2, 5, 9, 4, 6, 4, 9, 1, 0]))\n",
      "RSOut(param=array([-0.34963578, -0.26551921,  0.89847335]), decomp=array([3, 2, 5, 9, 0, 6, 4, 9, 6, 9]))\n",
      "RSOut(param=array([-0.40528967, -0.31480767,  0.85827525]), decomp=array([3, 2, 5, 9, 2, 6, 4, 9, 6, 9]))\n",
      "RSOut(param=array([-0.45262312, -0.32354858,  0.83093239]), decomp=array([3, 2, 5, 9, 2, 6, 4, 9, 1, 9]))\n",
      "RSOut(param=array([-0.44776603, -0.38409946,  0.80744857]), decomp=array([3, 2, 5, 9, 2, 4, 4, 9, 1, 9]))\n",
      "RSOut(param=array([-0.45940812, -0.41723993,  0.78412691]), decomp=array([3, 2, 8, 9, 2, 4, 4, 9, 1, 9]))\n",
      "RSOut(param=array([-0.45989303, -0.10994669,  0.88114138]), decomp=array([3, 7, 5, 9, 4, 6, 4, 9, 6, 4]))\n",
      "RSOut(param=array([-0.28353955, -0.2295092 ,  0.93109121]), decomp=array([3, 7, 5, 9, 0, 6, 4, 9, 6, 9]))\n",
      "RSOut(param=array([0.41363457, 0.11793889, 0.90277177]), decomp=array([6, 9, 5, 3, 6, 1, 4, 7, 6, 4]))\n",
      "RSOut(param=array([ 0.1429806 , -0.06918508,  0.9873044 ]), decomp=array([6, 9, 5, 3, 6, 1, 4, 9, 6, 4]))\n",
      "RSOut(param=array([ 0.11135551, -0.10938642,  0.98774215]), decomp=array([2, 9, 5, 3, 6, 1, 4, 9, 6, 4]))\n",
      "RSOut(param=array([ 0.01899524, -0.13486272,  0.9906822 ]), decomp=array([2, 9, 5, 3, 0, 1, 4, 9, 6, 4]))\n",
      "RSOut(param=array([-0.02183804, -0.15698629,  0.98735931]), decomp=array([2, 9, 5, 3, 0, 6, 4, 9, 6, 4]))\n",
      "RSOut(param=array([ 0.40934118, -0.07387034,  0.90938604]), decomp=array([6, 9, 5, 3, 6, 1, 4, 7, 6, 9]))\n",
      "RSOut(param=array([ 0.3219678 , -0.17015668,  0.93133422]), decomp=array([2, 9, 5, 3, 6, 1, 4, 7, 6, 9]))\n",
      "RSOut(param=array([ 0.19213318, -0.24029327,  0.95149566]), decomp=array([2, 9, 5, 3, 6, 1, 4, 9, 6, 9]))\n",
      "RSOut(param=array([ 0.04235207, -0.30140893,  0.95255392]), decomp=array([2, 9, 5, 3, 0, 1, 4, 9, 6, 9]))\n",
      "RSOut(param=array([-0.02395786, -0.3275325 ,  0.94453612]), decomp=array([2, 9, 5, 3, 0, 6, 4, 9, 6, 9]))\n",
      "RSOut(param=array([-0.07543597, -0.30711201,  0.94867888]), decomp=array([2, 9, 5, 9, 0, 6, 4, 9, 6, 9]))\n",
      "RSOut(param=array([ 0.20562894, -0.10908003,  0.97253189]), decomp=array([6, 9, 5, 3, 6, 1, 4, 9, 6, 9]))\n",
      "RSOut(param=array([ 0.46061092, -0.14741988,  0.87527422]), decomp=array([6, 9, 5, 3, 6, 1, 4, 7, 2, 9]))\n",
      "RSOut(param=array([ 0.40714613, -0.21858706,  0.88682113]), decomp=array([2, 9, 5, 3, 6, 1, 4, 7, 2, 9]))\n",
      "RSOut(param=array([ 0.39666565, -0.34485592,  0.85072367]), decomp=array([2, 9, 5, 3, 6, 1, 4, 6, 2, 9]))\n",
      "RSOut(param=array([ 0.2562739 , -0.34447655,  0.90313875]), decomp=array([2, 9, 5, 3, 6, 1, 4, 9, 2, 9]))\n",
      "RSOut(param=array([ 0.23815043, -0.50269611,  0.83101203]), decomp=array([2, 9, 8, 3, 6, 1, 4, 9, 2, 9]))\n",
      "RSOut(param=array([ 0.09730167, -0.548329  ,  0.83058274]), decomp=array([2, 9, 8, 3, 0, 1, 4, 9, 2, 9]))\n",
      "RSOut(param=array([ 0.03875042, -0.63187431,  0.77410159]), decomp=array([2, 2, 8, 3, 0, 1, 4, 9, 2, 9]))\n",
      "RSOut(param=array([-0.00437401, -0.62036411,  0.78430176]), decomp=array([2, 2, 8, 3, 0, 4, 4, 9, 2, 9]))\n",
      "RSOut(param=array([-0.02430205, -0.56880694,  0.82211196]), decomp=array([2, 2, 8, 3, 0, 6, 4, 9, 2, 9]))\n",
      "RSOut(param=array([ 0.13418281, -0.72456671,  0.67601631]), decomp=array([2, 9, 8, 3, 2, 1, 4, 9, 2, 9]))\n",
      "RSOut(param=array([ 0.10797652, -0.72103815,  0.68443047]), decomp=array([2, 2, 8, 3, 2, 1, 4, 9, 2, 9]))\n",
      "RSOut(param=array([-0.0086546 , -0.78071574,  0.6248264 ]), decomp=array([2, 2, 8, 3, 2, 4, 4, 9, 2, 9]))\n",
      "RSOut(param=array([-0.03031548, -0.88843381,  0.45800255]), decomp=array([2, 2, 8, 3, 2, 4, 4, 9, 2, 6]))\n",
      "RSOut(param=array([-0.03479372, -0.89548353,  0.44373262]), decomp=array([2, 2, 8, 3, 2, 4, 9, 9, 2, 6]))\n",
      "RSOut(param=array([-0.02419194, -0.48426747,  0.87458548]), decomp=array([2, 9, 8, 3, 0, 6, 4, 9, 2, 9]))\n",
      "RSOut(param=array([ 0.0702585 , -0.39106407,  0.91767785]), decomp=array([2, 9, 5, 3, 0, 1, 4, 9, 2, 9]))\n",
      "RSOut(param=array([-0.02369794, -0.41381278,  0.91005351]), decomp=array([2, 9, 5, 3, 0, 6, 4, 9, 2, 9]))\n",
      "RSOut(param=array([-0.04488717, -0.42324931,  0.90490064]), decomp=array([2, 9, 5, 9, 0, 6, 4, 9, 2, 9]))\n",
      "RSOut(param=array([-0.07206765, -0.42766622,  0.9010593 ]), decomp=array([2, 2, 5, 9, 0, 6, 4, 9, 2, 9]))\n",
      "RSOut(param=array([-0.04620356, -0.44170034,  0.89597212]), decomp=array([2, 9, 8, 9, 0, 6, 4, 9, 2, 9]))\n",
      "RSOut(param=array([-0.10488989, -0.5151341 ,  0.85066737]), decomp=array([2, 2, 8, 9, 0, 6, 4, 9, 2, 9]))\n",
      "RSOut(param=array([-0.19428822, -0.49856502,  0.8447988 ]), decomp=array([2, 2, 8, 9, 2, 6, 4, 9, 2, 9]))\n",
      "RSOut(param=array([-0.07132677, -0.57483488,  0.8151548 ]), decomp=array([2, 2, 8, 9, 0, 4, 4, 9, 2, 9]))\n",
      "RSOut(param=array([-0.20541042, -0.73740472,  0.64346005]), decomp=array([2, 2, 8, 9, 2, 4, 4, 9, 2, 9]))\n",
      "RSOut(param=array([-0.22448394, -0.85446264,  0.46850886]), decomp=array([2, 2, 8, 9, 2, 4, 9, 9, 2, 9]))\n",
      "RSOut(param=array([-0.32904551, -0.87854829,  0.34623974]), decomp=array([2, 2, 8, 9, 2, 4, 9, 9, 2, 8]))\n",
      "RSOut(param=array([-0.41997722, -0.88845388,  0.18511845]), decomp=array([9, 2, 8, 9, 2, 4, 9, 9, 2, 8]))\n",
      "RSOut(param=array([-0.50935714, -0.85908599, -0.050265  ]), decomp=array([9, 2, 9, 9, 2, 4, 9, 9, 2, 8]))\n",
      "RSOut(param=array([-0.52282353, -0.84853271, -0.081534  ]), decomp=array([9, 2, 9, 9, 2, 4, 9, 9, 9, 8]))\n",
      "RSOut(param=array([-0.4361264 , -0.71695678,  0.54384441]), decomp=array([2, 2, 8, 9, 2, 4, 4, 9, 2, 0]))\n",
      "RSOut(param=array([-0.4650305 , -0.77301128,  0.43150921]), decomp=array([2, 2, 8, 9, 2, 4, 9, 9, 2, 0]))\n",
      "RSOut(param=array([-0.50915211, -0.81561454,  0.27484004]), decomp=array([9, 2, 8, 9, 2, 4, 9, 9, 2, 0]))\n",
      "RSOut(param=array([-0.5256944 , -0.85065448,  0.00568828]), decomp=array([9, 2, 9, 9, 2, 4, 9, 9, 2, 0]))\n",
      "RSOut(param=array([-0.04553843, -0.88869061,  0.45624035]), decomp=array([2, 2, 8, 9, 2, 4, 4, 9, 2, 6]))\n",
      "RSOut(param=array([-0.22278523, -0.94864955,  0.22456798]), decomp=array([2, 2, 8, 9, 2, 4, 9, 9, 2, 6]))\n",
      "RSOut(param=array([-0.32832928, -0.9430958 ,  0.05263272]), decomp=array([9, 2, 8, 9, 2, 4, 9, 9, 2, 6]))\n",
      "RSOut(param=array([-0.47912791, -0.86839842, -0.12775224]), decomp=array([9, 2, 9, 9, 2, 4, 9, 9, 2, 6]))\n",
      "RSOut(param=array([-0.5154247 , -0.84572583, -0.13814916]), decomp=array([9, 2, 9, 9, 2, 4, 9, 9, 9, 6]))\n",
      "RSOut(param=array([-0.51576121, -0.83865784, -0.17505255]), decomp=array([9, 2, 9, 9, 2, 4, 9, 1, 9, 6]))\n",
      "RSOut(param=array([-0.40104534, -0.75443854,  0.51960092]), decomp=array([2, 2, 8, 9, 2, 4, 4, 9, 2, 8]))\n",
      "RSOut(param=array([-0.01483379,  0.10403322,  0.9944632 ]), decomp=array([6, 9, 5, 5, 0, 1, 4, 7, 6, 4]))\n",
      "RSOut(param=array([0.18172789, 0.53479281, 0.82521005]), decomp=array([6, 9, 5, 5, 8, 1, 4, 7, 6, 4]))\n",
      "RSOut(param=array([0.03891073, 0.53993795, 0.84080495]), decomp=array([6, 7, 5, 5, 8, 1, 4, 7, 6, 4]))\n",
      "RSOut(param=array([-0.12800886,  0.48729557,  0.86380366]), decomp=array([6, 7, 5, 5, 8, 6, 4, 7, 6, 4]))\n",
      "RSOut(param=array([-0.29668968,  0.42343506,  0.85596611]), decomp=array([3, 7, 5, 5, 8, 6, 4, 7, 6, 4]))\n",
      "RSOut(param=array([-0.38653205,  0.49678626,  0.77704336]), decomp=array([3, 1, 5, 5, 8, 6, 4, 7, 6, 4]))\n",
      "RSOut(param=array([-0.44539325,  0.53019735,  0.72146769]), decomp=array([3, 1, 5, 8, 8, 6, 4, 7, 6, 4]))\n",
      "RSOut(param=array([-0.53411631,  0.46189861,  0.70807446]), decomp=array([3, 1, 5, 8, 8, 6, 4, 9, 6, 4]))\n",
      "RSOut(param=array([-0.61941764,  0.39741267,  0.67704133]), decomp=array([3, 1, 5, 8, 8, 6, 4, 9, 6, 0]))\n",
      "RSOut(param=array([-0.66522322,  0.40219807,  0.62905864]), decomp=array([3, 1, 5, 8, 8, 3, 4, 9, 6, 0]))\n",
      "RSOut(param=array([-0.73882213,  0.36784602,  0.56465136]), decomp=array([3, 1, 9, 8, 8, 3, 4, 9, 6, 0]))\n",
      "RSOut(param=array([-0.78365708,  0.34097061,  0.51925006]), decomp=array([3, 1, 9, 8, 8, 3, 4, 9, 1, 0]))\n",
      "RSOut(param=array([-0.33180994,  0.26019768,  0.90675208]), decomp=array([3, 7, 5, 5, 8, 6, 4, 9, 6, 4]))\n",
      "RSOut(param=array([-0.45400406,  0.35432656,  0.81751636]), decomp=array([3, 1, 5, 5, 8, 6, 4, 9, 6, 4]))\n",
      "RSOut(param=array([-0.40281743,  0.1174363 ,  0.90771517]), decomp=array([3, 7, 5, 9, 8, 6, 4, 9, 6, 4]))\n",
      "RSOut(param=array([-0.5217429 ,  0.20341365,  0.82849697]), decomp=array([3, 1, 5, 9, 8, 6, 4, 9, 6, 4]))\n",
      "RSOut(param=array([-0.62198317,  0.1514353 ,  0.76824754]), decomp=array([3, 1, 5, 9, 8, 6, 4, 9, 6, 0]))\n",
      "RSOut(param=array([-0.5707876 , -0.11472503,  0.81304347]), decomp=array([3, 1, 5, 9, 4, 6, 4, 9, 6, 0]))\n",
      "RSOut(param=array([-0.68976653,  0.24074176,  0.6828364 ]), decomp=array([3, 1, 5, 9, 8, 3, 4, 9, 6, 0]))\n",
      "RSOut(param=array([-0.73322502,  0.2951676 ,  0.61258237]), decomp=array([3, 1, 9, 9, 8, 3, 4, 9, 6, 0]))\n",
      "RSOut(param=array([-0.70461428,  0.06455474,  0.706648  ]), decomp=array([3, 1, 5, 9, 8, 3, 4, 9, 1, 0]))\n",
      "RSOut(param=array([-0.81495575,  0.11861873,  0.56725366]), decomp=array([3, 1, 9, 9, 8, 3, 4, 9, 1, 0]))\n",
      "RSOut(param=array([-0.83078645, -0.11471289,  0.54464192]), decomp=array([3, 1, 9, 9, 2, 3, 4, 9, 1, 0]))\n",
      "RSOut(param=array([-0.90654507, -0.09817655,  0.41053306]), decomp=array([3, 1, 9, 9, 2, 3, 0, 9, 1, 0]))\n",
      "RSOut(param=array([-0.95374627, -0.09860699,  0.28398013]), decomp=array([3, 1, 9, 9, 2, 3, 0, 9, 9, 0]))\n",
      "RSOut(param=array([-0.9773418 , -0.11756348,  0.17601658]), decomp=array([9, 1, 9, 9, 2, 3, 0, 9, 9, 0]))\n",
      "RSOut(param=array([-0.71185637, -0.09820524,  0.69542522]), decomp=array([3, 1, 9, 9, 4, 3, 4, 9, 1, 0]))\n",
      "RSOut(param=array([-0.901976  ,  0.15694998,  0.40225117]), decomp=array([3, 1, 9, 9, 8, 3, 0, 9, 1, 0]))\n",
      "RSOut(param=array([-0.94562153,  0.15256952,  0.28726724]), decomp=array([3, 1, 9, 9, 8, 3, 0, 9, 9, 0]))\n",
      "RSOut(param=array([-0.98197354,  0.04690077,  0.18310729]), decomp=array([3, 1, 9, 9, 1, 3, 0, 9, 9, 0]))\n",
      "RSOut(param=array([-0.99835175, -0.04590534,  0.0344454 ]), decomp=array([9, 1, 9, 9, 1, 3, 0, 9, 9, 0]))\n",
      "RSOut(param=array([-0.97980305, -0.19484698, -0.0449514 ]), decomp=array([9, 1, 9, 9, 1, 4, 0, 9, 9, 0]))\n",
      "RSOut(param=array([-0.93621153, -0.27939168, -0.21318598]), decomp=array([9, 1, 9, 9, 1, 4, 0, 1, 9, 0]))\n",
      "RSOut(param=array([-0.8934808 , -0.30821171, -0.32664598]), decomp=array([9, 1, 9, 9, 1, 4, 1, 1, 9, 0]))\n",
      "RSOut(param=array([-0.98520487, -0.06979599, -0.15652441]), decomp=array([9, 1, 9, 9, 1, 3, 0, 1, 9, 0]))\n",
      "RSOut(param=array([-0.97640133, -0.07022199, -0.20422857]), decomp=array([9, 1, 9, 9, 1, 3, 1, 1, 9, 0]))\n",
      "RSOut(param=array([-0.68181294, -0.10672818,  0.72369898]), decomp=array([3, 1, 5, 9, 4, 3, 4, 9, 1, 0]))\n",
      "RSOut(param=array([-0.68266403, -0.13784528,  0.71761306]), decomp=array([3, 1, 5, 9, 2, 3, 4, 9, 1, 0]))\n",
      "RSOut(param=array([-0.6543033 , -0.02397796,  0.755852  ]), decomp=array([3, 1, 5, 9, 8, 6, 4, 9, 1, 0]))\n",
      "RSOut(param=array([-0.62074501, -0.12227868,  0.77441821]), decomp=array([3, 1, 5, 9, 4, 6, 4, 9, 1, 0]))\n",
      "RSOut(param=array([-0.62877594, -0.16499799,  0.75987925]), decomp=array([3, 1, 5, 9, 2, 6, 4, 9, 1, 0]))\n",
      "RSOut(param=array([-0.66378777, -0.20111971,  0.72037258]), decomp=array([3, 1, 5, 9, 2, 4, 4, 9, 1, 0]))\n",
      "RSOut(param=array([-0.78601394, -0.27158585,  0.55535863]), decomp=array([3, 1, 9, 9, 2, 4, 4, 9, 1, 0]))\n",
      "RSOut(param=array([-0.88600814, -0.21836343,  0.40903177]), decomp=array([3, 1, 9, 9, 2, 4, 0, 9, 1, 0]))\n",
      "RSOut(param=array([-0.92429226, -0.21627623,  0.31449709]), decomp=array([3, 1, 9, 9, 2, 4, 0, 9, 9, 0]))\n",
      "RSOut(param=array([-0.90638185, -0.42053281,  0.0403    ]), decomp=array([9, 1, 9, 9, 2, 4, 0, 9, 9, 0]))\n",
      "RSOut(param=array([-0.85164113, -0.48036961, -0.20964832]), decomp=array([9, 1, 9, 9, 2, 4, 0, 1, 9, 0]))\n",
      "RSOut(param=array([-0.79209841, -0.46593261, -0.3943183 ]), decomp=array([9, 1, 9, 9, 2, 4, 1, 1, 9, 0]))\n",
      "RSOut(param=array([-0.62105461, -0.61679982, -0.48357952]), decomp=array([9, 3, 9, 9, 2, 4, 1, 1, 9, 0]))\n",
      "RSOut(param=array([-0.82111519, -0.36443394,  0.43926957]), decomp=array([3, 1, 9, 9, 2, 4, 9, 9, 1, 0]))\n",
      "RSOut(param=array([-0.8103358 , -0.4253961 ,  0.40298145]), decomp=array([9, 1, 9, 9, 2, 4, 9, 9, 1, 0]))\n",
      "RSOut(param=array([-0.8313477 , -0.47074032,  0.29540574]), decomp=array([9, 1, 9, 9, 2, 4, 9, 9, 9, 0]))\n",
      "RSOut(param=array([-0.85478726, -0.34932831,  0.38380785]), decomp=array([3, 1, 9, 9, 2, 4, 9, 9, 9, 0]))\n",
      "RSOut(param=array([-0.50708955, -0.09385811,  0.85676767]), decomp=array([3, 2, 5, 9, 8, 6, 4, 9, 6, 4]))\n",
      "RSOut(param=array([-0.53157793, -0.09999795,  0.8410858 ]), decomp=array([3, 2, 5, 9, 8, 6, 4, 9, 6, 0]))\n",
      "RSOut(param=array([-0.32234328,  0.581115  ,  0.74726178]), decomp=array([6, 1, 5, 5, 8, 6, 4, 7, 6, 4]))\n",
      "RSOut(param=array([-0.16302362,  0.21541492,  0.96281863]), decomp=array([6, 7, 5, 5, 8, 6, 4, 9, 6, 4]))\n",
      "RSOut(param=array([-0.01684716,  0.13010798,  0.99135669]), decomp=array([6, 9, 5, 5, 6, 6, 4, 7, 6, 4]))\n",
      "RSOut(param=array([-0.01975506,  0.11249117,  0.99345633]), decomp=array([6, 9, 5, 5, 0, 6, 4, 7, 6, 4]))\n",
      "RSOut(param=array([ 0.06593877, -0.0013593 ,  0.99782275]), decomp=array([6, 9, 5, 5, 6, 1, 4, 9, 6, 4]))\n",
      "RSOut(param=array([ 0.03404944, -0.0742698 ,  0.99665673]), decomp=array([2, 9, 5, 5, 6, 1, 4, 9, 6, 4]))\n",
      "RSOut(param=array([ 0.00522667, -0.0820957 ,  0.99661075]), decomp=array([2, 9, 5, 5, 0, 1, 4, 9, 6, 4]))\n",
      "RSOut(param=array([-0.04030001, -0.08148542,  0.99585945]), decomp=array([2, 9, 5, 5, 0, 6, 4, 9, 6, 4]))\n",
      "RSOut(param=array([-0.06062915, -0.15034659,  0.98677252]), decomp=array([2, 9, 5, 9, 0, 6, 4, 9, 6, 4]))\n",
      "RSOut(param=array([-0.00129002, -0.01143255,  0.99993381]), decomp=array([6, 9, 5, 5, 0, 1, 4, 9, 6, 4]))\n",
      "RSOut(param=array([-0.03015454,  0.00685292,  0.99952176]), decomp=array([6, 9, 5, 5, 0, 6, 4, 9, 6, 4]))\n",
      "RSOut(param=array([0.58558032, 0.18422241, 0.78940344]), decomp=array([6, 9, 6, 3, 6, 1, 4, 7, 6, 4]))\n",
      "RSOut(param=array([0.68294748, 0.05921667, 0.72806327]), decomp=array([6, 9, 6, 3, 6, 1, 4, 7, 2, 4]))\n",
      "RSOut(param=array([ 0.55748103, -0.01476671,  0.83005834]), decomp=array([6, 9, 6, 3, 6, 1, 4, 7, 6, 9]))\n",
      "RSOut(param=array([ 0.60904562, -0.09075603,  0.78792562]), decomp=array([6, 9, 6, 3, 6, 1, 4, 7, 2, 9]))\n",
      "RSOut(param=array([ 0.50429609, -0.22175224,  0.83457258]), decomp=array([2, 9, 6, 3, 6, 1, 4, 7, 2, 9]))\n",
      "RSOut(param=array([ 0.64908915, -0.2072356 ,  0.73194035]), decomp=array([6, 9, 6, 3, 6, 1, 4, 6, 2, 9]))\n",
      "RSOut(param=array([ 0.52700454, -0.43758481,  0.72855044]), decomp=array([2, 9, 6, 3, 6, 1, 4, 6, 2, 9]))\n",
      "RSOut(param=array([ 0.35851812, -0.57043445,  0.73896502]), decomp=array([2, 9, 8, 3, 6, 1, 4, 6, 2, 9]))\n",
      "RSOut(param=array([ 0.15712819, -0.71933162,  0.67666295]), decomp=array([2, 9, 8, 3, 0, 1, 4, 6, 2, 9]))\n",
      "RSOut(param=array([ 0.20377613, -0.78045263,  0.59107443]), decomp=array([2, 9, 8, 3, 2, 1, 4, 6, 2, 9]))\n",
      "RSOut(param=array([ 0.13633917, -0.75707075,  0.63894875]), decomp=array([2, 2, 8, 3, 2, 1, 4, 6, 2, 9]))\n",
      "RSOut(param=array([ 0.07392356, -0.83741217,  0.54154979]), decomp=array([2, 2, 8, 3, 2, 4, 4, 6, 2, 9]))\n",
      "RSOut(param=array([ 0.07860221, -0.89045926,  0.44822317]), decomp=array([2, 2, 8, 3, 2, 4, 4, 6, 2, 6]))\n",
      "RSOut(param=array([-0.00394339, -0.96243797,  0.27147304]), decomp=array([2, 2, 8, 3, 2, 4, 9, 6, 2, 6]))\n",
      "RSOut(param=array([-0.14603651, -0.98061276,  0.13065972]), decomp=array([2, 2, 8, 9, 2, 4, 9, 6, 2, 6]))\n",
      "RSOut(param=array([-0.23923658, -0.96951252, -0.05302204]), decomp=array([9, 2, 8, 9, 2, 4, 9, 6, 2, 6]))\n",
      "RSOut(param=array([-0.33839682, -0.9192708 , -0.2010691 ]), decomp=array([9, 2, 8, 9, 2, 4, 9, 1, 2, 6]))\n",
      "RSOut(param=array([-0.24837385, -0.90068791, -0.3564712 ]), decomp=array([9, 2, 0, 9, 2, 4, 9, 1, 2, 6]))\n",
      "RSOut(param=array([-0.31430285, -0.86907516, -0.3819975 ]), decomp=array([9, 2, 0, 9, 2, 4, 0, 1, 2, 6]))\n",
      "RSOut(param=array([-0.32156528, -0.88442428, -0.33821512]), decomp=array([9, 2, 1, 9, 2, 4, 9, 1, 2, 6]))\n",
      "RSOut(param=array([-0.35783652, -0.85946397, -0.36506808]), decomp=array([9, 2, 1, 9, 2, 4, 0, 1, 2, 6]))\n",
      "RSOut(param=array([-0.41300662, -0.80524207, -0.42545358]), decomp=array([9, 8, 1, 9, 2, 4, 0, 1, 2, 6]))\n",
      "RSOut(param=array([-0.41785092, -0.80180162, -0.42721747]), decomp=array([9, 8, 9, 9, 2, 4, 0, 1, 2, 6]))\n",
      "RSOut(param=array([-0.44219008, -0.86825259, -0.2249564 ]), decomp=array([9, 2, 9, 9, 2, 4, 9, 1, 2, 6]))\n",
      "RSOut(param=array([-0.42463639, -0.84561091, -0.32345961]), decomp=array([9, 2, 9, 9, 2, 4, 0, 1, 2, 6]))\n",
      "RSOut(param=array([-0.50818695, -0.79323559, -0.33544496]), decomp=array([9, 2, 9, 9, 2, 4, 0, 1, 9, 6]))\n",
      "RSOut(param=array([-0.46732129, -0.75671188, -0.45716294]), decomp=array([9, 8, 9, 9, 2, 4, 0, 1, 9, 6]))\n",
      "RSOut(param=array([-0.49858142, -0.71778192, -0.48600996]), decomp=array([9, 8, 9, 9, 2, 4, 1, 1, 9, 6]))\n",
      "RSOut(param=array([-0.50555051, -0.69739815, -0.50799065]), decomp=array([9, 3, 9, 9, 2, 4, 1, 1, 9, 6]))\n",
      "RSOut(param=array([-0.52498998, -0.65633646, -0.54185605]), decomp=array([0, 3, 9, 9, 2, 4, 1, 1, 9, 6]))\n",
      "RSOut(param=array([-0.5652878 , -0.68770112, -0.4555402 ]), decomp=array([9, 2, 9, 9, 2, 4, 1, 1, 9, 6]))\n",
      "RSOut(param=array([ 0.34311124, -0.76866906,  0.53983568]), decomp=array([2, 9, 8, 3, 6, 1, 4, 6, 2, 6]))\n",
      "RSOut(param=array([ 0.25824804, -0.82324366,  0.50554706]), decomp=array([2, 9, 8, 3, 2, 1, 4, 6, 2, 6]))\n",
      "RSOut(param=array([ 0.20648308, -0.82900218,  0.51973081]), decomp=array([2, 2, 8, 3, 2, 1, 4, 6, 2, 6]))\n",
      "RSOut(param=array([ 0.20230695, -0.86770156,  0.45405496]), decomp=array([2, 2, 8, 3, 2, 9, 4, 6, 2, 6]))\n",
      "RSOut(param=array([ 0.25386427, -0.85450267,  0.45318662]), decomp=array([2, 9, 8, 3, 2, 9, 4, 6, 2, 6]))\n",
      "RSOut(param=array([ 0.41310344, -0.7461374 ,  0.52213459]), decomp=array([2, 9, 8, 3, 9, 1, 4, 6, 2, 6]))\n",
      "RSOut(param=array([ 0.58290039, -0.57743479,  0.5716609 ]), decomp=array([2, 9, 6, 3, 9, 1, 4, 6, 2, 9]))\n",
      "RSOut(param=array([ 0.52112632, -0.65767951,  0.54395314]), decomp=array([2, 9, 6, 3, 9, 1, 4, 6, 2, 6]))\n",
      "RSOut(param=array([ 0.45959972, -0.68829793,  0.56126113]), decomp=array([2, 9, 6, 3, 6, 1, 4, 6, 2, 6]))\n",
      "RSOut(param=array([0.54803762, 0.74893489, 0.37249336]), decomp=array([6, 9, 6, 5, 7, 1, 3, 7, 7, 4]))\n",
      "RSOut(param=array([0.57711577, 0.79518245, 0.18607057]), decomp=array([6, 9, 6, 6, 7, 1, 3, 7, 7, 4]))\n",
      "RSOut(param=array([0.49811027, 0.86711074, 0.00226486]), decomp=array([6, 5, 6, 6, 7, 1, 3, 7, 7, 4]))\n",
      "RSOut(param=array([0.42277012, 0.90228678, 0.08452215]), decomp=array([6, 9, 2, 6, 7, 1, 3, 7, 7, 4]))\n",
      "RSOut(param=array([0.44641986, 0.89482021, 0.00247114]), decomp=array([6, 5, 2, 6, 7, 1, 3, 7, 7, 4]))\n",
      "RSOut(param=array([ 0.39016496,  0.91327567, -0.11704208]), decomp=array([6, 5, 2, 6, 7, 1, 3, 7, 7, 3]))\n",
      "RSOut(param=array([ 0.43170951,  0.86469272, -0.25677497]), decomp=array([1, 5, 2, 6, 7, 1, 3, 7, 7, 3]))\n",
      "RSOut(param=array([ 0.22959504,  0.93302501, -0.27703872]), decomp=array([1, 5, 2, 6, 5, 1, 3, 7, 7, 3]))\n",
      "RSOut(param=array([ 0.17866716,  0.93420635, -0.30876615]), decomp=array([1, 3, 2, 6, 5, 1, 3, 7, 7, 3]))\n",
      "RSOut(param=array([ 0.23530382,  0.91208317, -0.33576242]), decomp=array([1, 5, 2, 6, 5, 1, 3, 4, 7, 3]))\n",
      "RSOut(param=array([ 0.21790429,  0.90065336, -0.37595377]), decomp=array([1, 3, 2, 6, 5, 1, 3, 4, 7, 3]))\n",
      "RSOut(param=array([ 0.15667032,  0.83706877, -0.52418536]), decomp=array([1, 3, 2, 6, 5, 8, 3, 4, 7, 3]))\n",
      "RSOut(param=array([-0.0205254 ,  0.85208825, -0.52299552]), decomp=array([0, 3, 2, 6, 5, 8, 3, 4, 7, 3]))\n",
      "RSOut(param=array([ 0.1256122 ,  0.75386206, -0.64491362]), decomp=array([1, 3, 2, 6, 5, 8, 1, 4, 7, 3]))\n",
      "RSOut(param=array([-0.02570368,  0.79208318, -0.60987175]), decomp=array([0, 3, 2, 6, 5, 8, 1, 4, 7, 3]))\n",
      "RSOut(param=array([-0.11512293,  0.79967295, -0.58929609]), decomp=array([0, 3, 2, 6, 5, 2, 1, 4, 7, 3]))\n",
      "RSOut(param=array([-0.14093456,  0.77458099, -0.61657257]), decomp=array([0, 3, 2, 6, 5, 2, 1, 1, 7, 3]))\n",
      "RSOut(param=array([ 0.40832886,  0.82032618, -0.40041541]), decomp=array([1, 5, 2, 6, 7, 1, 3, 4, 7, 3]))\n",
      "RSOut(param=array([ 0.35322076,  0.80468276, -0.47720096]), decomp=array([1, 3, 2, 6, 7, 1, 3, 4, 7, 3]))\n",
      "RSOut(param=array([ 0.27474423,  0.78676875, -0.55273009]), decomp=array([1, 3, 2, 6, 7, 8, 3, 4, 7, 3]))\n",
      "RSOut(param=array([ 0.24830023,  0.69564814, -0.6741073 ]), decomp=array([1, 3, 2, 6, 7, 8, 1, 4, 7, 3]))\n",
      "RSOut(param=array([ 0.22297625,  0.53252207, -0.81651811]), decomp=array([1, 3, 2, 6, 7, 8, 1, 1, 7, 3]))\n",
      "RSOut(param=array([ 0.10299547,  0.36411948, -0.92563975]), decomp=array([1, 3, 0, 6, 7, 8, 1, 1, 7, 3]))\n",
      "RSOut(param=array([ 0.09708931,  0.61506377, -0.78247698]), decomp=array([1, 3, 2, 6, 5, 8, 1, 1, 7, 3]))\n",
      "RSOut(param=array([-0.01537005,  0.60080753, -0.79924594]), decomp=array([0, 3, 2, 6, 5, 8, 1, 1, 7, 3]))\n",
      "RSOut(param=array([-0.00637163,  0.4092941 , -0.91238026]), decomp=array([0, 3, 0, 6, 5, 8, 1, 1, 7, 3]))\n",
      "RSOut(param=array([ 0.01536606,  0.29387397, -0.95572066]), decomp=array([0, 3, 0, 6, 5, 8, 1, 1, 7, 7]))\n",
      "RSOut(param=array([-0.14393964,  0.56750345, -0.81069181]), decomp=array([0, 3, 2, 6, 1, 8, 1, 1, 7, 3]))\n",
      "RSOut(param=array([-0.16258979,  0.40616363, -0.89921948]), decomp=array([0, 3, 0, 6, 1, 8, 1, 1, 7, 3]))\n",
      "RSOut(param=array([-0.31918042,  0.37306886, -0.87117362]), decomp=array([0, 3, 0, 6, 1, 5, 1, 1, 7, 3]))\n",
      "RSOut(param=array([-0.3341552 ,  0.18047598, -0.92507768]), decomp=array([0, 3, 0, 6, 1, 5, 1, 1, 7, 7]))\n",
      "RSOut(param=array([-0.35979667, -0.04602467, -0.93189489]), decomp=array([0, 3, 0, 2, 1, 5, 1, 1, 7, 7]))\n",
      "RSOut(param=array([-0.5604008 , -0.01689788, -0.82804915]), decomp=array([0, 3, 0, 2, 1, 4, 1, 1, 7, 7]))\n",
      "RSOut(param=array([-0.38935653, -0.1366976 , -0.91088707]), decomp=array([0, 3, 0, 2, 1, 5, 1, 1, 9, 7]))\n",
      "RSOut(param=array([-0.5188828 , -0.24883635, -0.81782707]), decomp=array([0, 3, 0, 2, 1, 4, 1, 1, 9, 7]))\n",
      "RSOut(param=array([-0.31334462, -0.15743546, -0.93649838]), decomp=array([0, 3, 0, 2, 1, 5, 1, 1, 7, 5]))\n",
      "RSOut(param=array([-0.33502858, -0.1852764 , -0.92381194]), decomp=array([0, 3, 0, 2, 1, 5, 1, 1, 9, 5]))\n",
      "RSOut(param=array([-0.47213716, -0.38143497, -0.7947288 ]), decomp=array([0, 3, 0, 2, 1, 4, 1, 1, 9, 5]))\n",
      "RSOut(param=array([-0.5286476 , -0.5357849 , -0.65838154]), decomp=array([0, 3, 0, 2, 2, 4, 1, 1, 9, 5]))\n",
      "RSOut(param=array([-0.58015038,  0.01640628, -0.81434413]), decomp=array([0, 3, 0, 4, 1, 5, 1, 1, 7, 7]))\n",
      "RSOut(param=array([-0.5876085 ,  0.01132959, -0.80906606]), decomp=array([0, 3, 0, 4, 1, 4, 1, 1, 7, 7]))\n",
      "RSOut(param=array([-0.15285267,  0.2332773 , -0.9603217 ]), decomp=array([0, 3, 0, 6, 1, 8, 1, 1, 7, 7]))\n",
      "RSOut(param=array([ 0.07085061,  0.38561242, -0.91993655]), decomp=array([1, 3, 0, 6, 5, 8, 1, 1, 7, 3]))\n",
      "RSOut(param=array([0.38897446, 0.88871711, 0.2426536 ]), decomp=array([6, 9, 6, 6, 8, 1, 3, 7, 7, 4]))\n",
      "RSOut(param=array([0.34646834, 0.92654931, 0.14651301]), decomp=array([6, 9, 2, 6, 8, 1, 3, 7, 7, 4]))\n",
      "RSOut(param=array([0.35560603, 0.93301554, 0.05501231]), decomp=array([6, 5, 2, 6, 8, 1, 3, 7, 7, 4]))\n",
      "RSOut(param=array([0.28819339, 0.95287346, 0.0947457 ]), decomp=array([6, 9, 2, 6, 8, 1, 3, 7, 7, 3]))\n",
      "RSOut(param=array([ 0.23994375,  0.96774569, -0.07678073]), decomp=array([6, 5, 2, 6, 8, 1, 3, 7, 7, 3]))\n",
      "RSOut(param=array([ 0.19503824,  0.95006238, -0.24360123]), decomp=array([1, 5, 2, 6, 8, 1, 3, 7, 7, 3]))\n",
      "RSOut(param=array([ 0.13548315,  0.94767559, -0.28905932]), decomp=array([1, 3, 2, 6, 8, 1, 3, 7, 7, 3]))\n",
      "RSOut(param=array([ 0.07883031,  0.95948566, -0.27050518]), decomp=array([1, 3, 2, 6, 8, 2, 3, 7, 7, 3]))\n",
      "RSOut(param=array([ 0.00781376,  0.93198073, -0.36242361]), decomp=array([1, 3, 2, 6, 8, 2, 3, 4, 7, 3]))\n",
      "RSOut(param=array([-0.07312143,  0.88818362, -0.45363323]), decomp=array([0, 3, 2, 6, 8, 2, 3, 4, 7, 3]))\n",
      "RSOut(param=array([-0.14320153,  0.83830882, -0.52605289]), decomp=array([0, 3, 2, 6, 8, 2, 1, 4, 7, 3]))\n",
      "RSOut(param=array([-0.11962521,  0.80541879, -0.58050873]), decomp=array([0, 3, 2, 6, 3, 2, 1, 4, 7, 3]))\n",
      "RSOut(param=array([-0.14616405,  0.78652546, -0.60001148]), decomp=array([0, 3, 2, 6, 3, 2, 1, 1, 7, 3]))\n",
      "RSOut(param=array([-0.25413269,  0.66474328, -0.70251901]), decomp=array([0, 3, 2, 6, 1, 2, 1, 1, 7, 3]))\n",
      "RSOut(param=array([-0.33594137,  0.59927971, -0.72664106]), decomp=array([0, 3, 0, 6, 1, 2, 1, 1, 7, 3]))\n",
      "RSOut(param=array([-0.34149251,  0.63072717, -0.69682574]), decomp=array([0, 3, 2, 6, 1, 3, 1, 1, 7, 3]))\n",
      "RSOut(param=array([-0.41104501,  0.51199033, -0.75425984]), decomp=array([0, 3, 0, 6, 1, 3, 1, 1, 7, 3]))\n",
      "RSOut(param=array([-0.5210623 ,  0.26794124, -0.81037125]), decomp=array([0, 3, 0, 6, 1, 3, 1, 1, 7, 7]))\n",
      "RSOut(param=array([-0.26475865,  0.58955077, -0.7631073 ]), decomp=array([0, 3, 2, 6, 1, 5, 1, 1, 7, 3]))\n",
      "RSOut(param=array([-0.19954484,  0.79576906, -0.57178095]), decomp=array([0, 3, 2, 6, 8, 2, 1, 1, 7, 3]))\n",
      "RSOut(param=array([-0.24331504,  0.78382633, -0.5713266 ]), decomp=array([0, 3, 2, 6, 8, 3, 1, 1, 7, 3]))\n",
      "RSOut(param=array([ 0.10167086,  0.95396666, -0.28215358]), decomp=array([1, 3, 2, 6, 8, 8, 3, 7, 7, 3]))\n",
      "RSOut(param=array([ 0.0750122 ,  0.92664166, -0.36838622]), decomp=array([1, 3, 2, 6, 8, 8, 3, 4, 7, 3]))\n",
      "RSOut(param=array([-0.02437395,  0.87260002, -0.48782693]), decomp=array([0, 3, 2, 6, 8, 8, 3, 4, 7, 3]))\n",
      "RSOut(param=array([-0.0575924 ,  0.84966671, -0.52416562]), decomp=array([0, 3, 2, 6, 8, 8, 1, 4, 7, 3]))\n",
      "RSOut(param=array([-0.07548355,  0.83538008, -0.54446519]), decomp=array([0, 3, 2, 6, 3, 8, 1, 4, 7, 3]))\n",
      "RSOut(param=array([ 0.15222435,  0.93595794, -0.31750667]), decomp=array([1, 3, 2, 6, 8, 1, 3, 4, 7, 3]))\n",
      "RSOut(param=array([ 0.09562131,  0.97886932, -0.18075237]), decomp=array([6, 1, 2, 6, 8, 1, 3, 7, 7, 3]))\n",
      "RSOut(param=array([ 0.08614324,  0.96742306, -0.23805874]), decomp=array([1, 1, 2, 6, 8, 1, 3, 7, 7, 3]))\n",
      "RSOut(param=array([ 0.06007007,  0.97187811, -0.22769394]), decomp=array([6, 1, 2, 6, 8, 2, 3, 7, 7, 3]))\n",
      "RSOut(param=array([ 0.04458405,  0.96503215, -0.25831225]), decomp=array([1, 1, 2, 6, 8, 2, 3, 7, 7, 3]))\n",
      "RSOut(param=array([ 0.00396318,  0.95233162, -0.30503897]), decomp=array([1, 1, 2, 6, 8, 2, 3, 4, 7, 3]))\n",
      "RSOut(param=array([-0.0577779,  0.9262241, -0.3725193]), decomp=array([0, 1, 2, 6, 8, 2, 3, 4, 7, 3]))\n",
      "RSOut(param=array([-0.16003889,  0.86266945, -0.47978013]), decomp=array([0, 1, 2, 6, 8, 2, 1, 4, 7, 3]))\n",
      "RSOut(param=array([0.72079038, 0.68327267, 0.11661768]), decomp=array([6, 9, 6, 6, 7, 1, 7, 7, 7, 4]))\n",
      "RSOut(param=array([0.71960822, 0.69406814, 0.02081884]), decomp=array([6, 9, 6, 6, 7, 1, 7, 7, 7, 2]))\n",
      "RSOut(param=array([ 0.74622837,  0.66167366, -0.07301503]), decomp=array([1, 9, 6, 6, 7, 1, 7, 7, 7, 2]))\n",
      "RSOut(param=array([ 0.6850958 ,  0.70693973, -0.17572695]), decomp=array([1, 5, 6, 6, 7, 1, 7, 7, 7, 2]))\n",
      "RSOut(param=array([ 0.71155204,  0.6558476 , -0.25210636]), decomp=array([1, 5, 6, 6, 7, 1, 7, 3, 7, 2]))\n",
      "RSOut(param=array([ 0.655349  ,  0.67926051, -0.33033747]), decomp=array([1, 5, 6, 6, 7, 1, 7, 3, 7, 3]))\n",
      "RSOut(param=array([ 0.63276912,  0.72584729, -0.26972015]), decomp=array([1, 5, 6, 6, 7, 1, 7, 7, 7, 3]))\n",
      "RSOut(param=array([ 0.56795183,  0.76152674, -0.31226229]), decomp=array([1, 5, 2, 6, 7, 1, 7, 7, 7, 3]))\n",
      "RSOut(param=array([ 0.57352186,  0.68215404, -0.45358411]), decomp=array([1, 5, 2, 6, 7, 1, 7, 3, 7, 3]))\n",
      "RSOut(param=array([ 0.50957898,  0.63804508, -0.57725882]), decomp=array([1, 3, 2, 6, 7, 1, 7, 3, 7, 3]))\n",
      "RSOut(param=array([ 0.45159625,  0.58477087, -0.67387229]), decomp=array([1, 3, 2, 6, 7, 8, 7, 3, 7, 3]))\n",
      "RSOut(param=array([ 0.48118114,  0.74651766, -0.459539  ]), decomp=array([1, 5, 2, 6, 7, 1, 7, 4, 7, 3]))\n",
      "RSOut(param=array([ 0.44081979,  0.70668711, -0.55341779]), decomp=array([1, 3, 2, 6, 7, 1, 7, 4, 7, 3]))\n",
      "RSOut(param=array([ 0.36873781,  0.66328541, -0.65121801]), decomp=array([1, 3, 2, 6, 7, 8, 7, 4, 7, 3]))\n",
      "RSOut(param=array([ 0.36972691,  0.56234172, -0.73964438]), decomp=array([1, 3, 2, 6, 7, 8, 7, 1, 7, 3]))\n",
      "RSOut(param=array([ 0.66138924,  0.74652636, -0.07254423]), decomp=array([6, 5, 6, 6, 7, 1, 7, 7, 7, 2]))\n",
      "RSOut(param=array([0.63349575, 0.77329159, 0.02651877]), decomp=array([6, 9, 6, 6, 7, 1, 3, 7, 7, 2]))\n",
      "RSOut(param=array([ 0.57768899,  0.81334058, -0.06893861]), decomp=array([6, 5, 6, 6, 7, 1, 3, 7, 7, 2]))\n",
      "RSOut(param=array([ 0.60116047,  0.78726163, -0.13720497]), decomp=array([1, 5, 6, 6, 7, 1, 3, 7, 7, 2]))\n",
      "RSOut(param=array([ 0.55681796,  0.81936453, -0.13636538]), decomp=array([1, 5, 2, 6, 7, 1, 3, 7, 7, 2]))\n",
      "RSOut(param=array([ 0.59520468,  0.77748098, -0.20311255]), decomp=array([1, 5, 6, 6, 7, 1, 3, 7, 7, 3]))\n",
      "RSOut(param=array([ 0.5078216 ,  0.85940377, -0.05951796]), decomp=array([6, 5, 2, 6, 7, 1, 3, 7, 7, 2]))\n",
      "RSOut(param=array([0.43630664, 0.80507157, 0.401866  ]), decomp=array([6, 9, 6, 5, 8, 1, 3, 7, 7, 4]))\n",
      "RSOut(param=array([0.40116625, 0.85747527, 0.32218287]), decomp=array([6, 9, 6, 8, 8, 1, 3, 7, 7, 4]))\n"
     ]
    }
   ],
   "source": [
    "with open(\"states_out.jsonl\") as states_file:\n",
    "    states_data = [json.loads(line) for line in states_file]\n",
    "\n",
    "RSOut = namedtuple(\"RSOut\", [\"param\", \"decomp\"])\n",
    "\n",
    "states  = [RSOut(np.array(item[\"param\"][\"data\"]), np.array(item[\"minkowski_decomp\"])) for item in states_data]\n",
    "\n",
    "for state in states:\n",
    "    print(state)\n"
   ]
  },
  {
   "cell_type": "code",
   "execution_count": 24,
   "metadata": {},
   "outputs": [
    {
     "name": "stdout",
     "output_type": "stream",
     "text": [
      "0, 1, 2, 3, 4, 5, 6, 7, 8, 9, 10, 11, 12, 13, 14, 15, 16, 17, 18, 19, 20, 21, 22, 23, 24, 25, 26, 27, 28, 29, 30, 31, 32, 33, 34, 35, 36, 37, 38, 39, 40, 41, 42, 43, 44, 45, 46, 47, 48, 49, 50, 51, 52, 53, 54, 55, 56, 57, 58, 59, 60, 61, 62, 63, 64, 65, 66, 67, 68, 69, 70, 71, 72, 73, 74, 75, 76, 77, 78, 79, 80, 81, 82, 83, 84, 85, 86, 87, 88, 89, 90, 91, 92, 93, 94, 95, 96, 97, 98, 99, 100, 101, 102, 103, 104, 105, 106, 107, 108, 109, 110, 111, 112, 113, 114, 115, 116, 117, 118, 119, 120, 121, 122, 123, 124, 125, 126, 127, 128, 129, 130, 131, 132, 133, 134, 135, 136, 137, 138, 139, 140, 141, 142, 143, 144, 145, 146, 147, 148, 149, 150, 151, 152, 153, 154, 155, 156, 157, 158, 159, 160, 161, 162, 163, 164, 165, 166, 167, 168, 169, 170, 171, 172, 173, 174, 175, 176, 177, 178, 179, 180, 181, 182, 183, 184, 185, 186, 187, 188, 189, 190, 191, 192, 193, 194, 195, 196, 197, 198, 199, 200, 201, 202, 203, 204, 205, 206, 207, 208, 209, 210, 211, 212, 213, 214, 215, 216, 217, 218, 219, 220, 221, 222, 223, 224, 225, 226, 227, 228, 229, 230, 231, 232, 233, 234, 235, 236, 237, 238, 239, 240, 241, 242, 243, 244, 245, 246, 247, 248, 249, 250, 251, 252, 253, 254, 255, 256, 257, 258, 259, 260, 261, 262, 263, 264, 265, 266, 267, 268, 269, 270, 271, 272, 273, 274, 275, 276, 277, 278, 279, 280, 281, 282, 283, 284, 285, 286, 287, 288, 289, 290, 291, 292, 293, 294, 295, 296, 297, 298, 299, 300, 301, 302, 303, 304, 305, 306, 307, 308, 309, 310, 311, 312, 313, 314, 315, 316, 317, 318, 319, 320, 321, 322, 323, 324, 325, 326, 327, 328, 329, 330, 331, 332, 333, 334, 335, 336, 337, 338, 339, 340, 341, 342, 343, 344, 345, 346, 347, 348, 349, 350, 351, 352, 353, 354, 355, 356, 357, 358, 359, 360, 361, 362, 363, 364, 365, 366, 367, 368, 369, 370, 371, 372, 373, 374, 375, 376, 377, 378, 379, 380, 381, 382, 383, 384, 385, 386, 387, 388, 389, 390, 391, 392, 393, 394, 395, 396, 397, 398, 399, 400, 401, 402, 403, 404, 405, 406, 407, 408, 409, 410, 411, 412, 413, 414, 415, 416, 417, 418, 419, 420, 421, 422, 423, 424, 425, 426, 427, 428, 429, 430, 431, 432, 433, 434, 435, 436, 437, 438, 439, 440, 441, 442, 443, 444, 445, 446, 447, 448, 449, 450, 451, 452, 453, 454, 455, 456, 457, 458, 459, 460, 461, 462, 463, 464, 465, 466, 467, 468, 469, 470, 471, 472, 473, 474, 475, 476, 477, 478, 479, 480, 481, 482, 483, 484, 485, 486, 487, 488, 489, 490, 491, 492, 493, 494, 495, 496, 497, 498, 499, 500, 501, 502, 503, 504, 505, 506, 507, 508, 509, 510, 511, 512, 513, 514, 515, 516, 517, 518, 519, 520, 521, 522, 523, 524, 525, 526, 527, 528, 529, 530, 531, 532, 533, 534, 535, 536, 537, 538, 539, 540, 541, 542, 543, 544, 545, 546, 547, 548, 549, 550, 551, 552, 553, 554, 555, 556, 557, 558, 559, 560, 561, 562, 563, 564, 565, 566, 567, 568, 569, 570, 571, 572, 573, 574, 575, 576, 577, 578, 579, 580, 581, 582, 583, 584, 585, 586, 587, 588, 589, 590, 591, 592, 593, 594, 595, 596, 597, 598, 599, 600, 601, 602, 603, 604, 605, 606, 607, 608, 609, 610, 611, 612, 613, 614, 615, 616, 617, 618, 619, 620, 621, 622, 623, 624, 625, 626, 627, 628, 629, 630, 631, 632, 633, 634, 635, 636, 637, 638, 639, 640, 641, 642, 643, 644, 645, 646, 647, 648, 649, 650, 651, 652, 653, 654, 655, 656, 657, 658, 659, 660, 661, 662, 663, 664, 665, 666, 667, 668, 669, 670, 671, 672, 673, 674, 675, 676, 677, 678, 679, 680, 681, 682, 683, 684, 685, 686, 687, 688, 689, 690, 691, 692, 693, 694, "
     ]
    }
   ],
   "source": [
    "np_poly = np.array(point_clouds)\n",
    "\n",
    "decomps_counter = 0\n",
    "decomps = {}\n",
    "\n",
    "for state in states:\n",
    "    param = np.array(state.param)\n",
    "    scores = np_poly @ param\n",
    "    maximised = np.argmax(scores, axis=1)\n",
    "    #print(\"python: \", maximised)\n",
    "    #print(\"rs out: \", state.decomp)\n",
    "    assert(np.array_equal(state.decomp, maximised))\n",
    "    \n",
    "    decomp_key = tuple(state.decomp)\n",
    "    if decomp_key not in decomps:\n",
    "        decomps[decomp_key] = decomps_counter\n",
    "        decomps_counter += 1\n",
    "    print(f\"{decomps[decomp_key]}, \", end=\"\")\n",
    "\n",
    "#print(f\"Num decomps {len(decomps)}, num states {len(states)}\")"
   ]
  },
  {
   "cell_type": "code",
   "execution_count": 20,
   "metadata": {},
   "outputs": [
    {
     "data": {
      "application/vnd.plotly.v1+json": {
       "config": {
        "plotlyServerURL": "https://plot.ly"
       },
       "data": [
        {
         "hovertemplate": "x=%{x}<br>y=%{y}<br>z=%{z}<extra></extra>",
         "legendgroup": "",
         "marker": {
          "color": "#636efa",
          "symbol": "circle"
         },
         "mode": "markers",
         "name": "",
         "scene": "scene",
         "showlegend": false,
         "type": "scatter3d",
         "x": [
          0.4775292231514054,
          0.7019202984847289,
          0.8201196259126429,
          0.9094819608878456,
          0.9133160690993836,
          0.9493310450031167,
          0.9181011199660698,
          0.9708691363423523,
          0.9839956854841544,
          0.9476739614559632,
          0.8976926299968624,
          0.6852349661836967,
          0.6114751328462661,
          0.5869590454752056,
          0.5641769592602724,
          0.6185791775755494,
          0.5858350035430803,
          0.5578096265275139,
          0.8146363077155468,
          0.7449521669887297,
          0.773248932680266,
          0.7206607103079714,
          0.6441645082709906,
          0.5654774560292718,
          0.4398780494720124,
          0.30297911388586435,
          0.2625720877736695,
          0.17267452106319742,
          0.006431667220771369,
          -0.11631908732341731,
          -0.1757462238127466,
          -0.08093731691528845,
          -0.22053444246317871,
          -0.1854191518836436,
          -0.40993012305345,
          -0.5300953433439636,
          0.34451888018053384,
          0.07624329958209304,
          0.047350450788493106,
          0.16540962637986717,
          0.04160990246606487,
          -0.03227273469602082,
          -0.11918979670771254,
          0.9552070035311844,
          0.9336635559045838,
          0.9471729559257984,
          0.8077775140046423,
          0.8019528204357439,
          0.7258576701681729,
          0.7109294588146128,
          0.6710002554788913,
          0.634663708109195,
          0.5815488774522637,
          0.4854557641381578,
          0.5024271542226384,
          0.28793296979741917,
          0.0996809193856324,
          0.09714546785392486,
          0.6304066339459883,
          0.5654515826350032,
          0.6770440705199365,
          0.6479069342483549,
          0.6116119346102222,
          0.997647960209299,
          0.9876544240643668,
          0.9396157488163374,
          0.9680913331112038,
          0.9005689649659846,
          0.8803983139298779,
          0.8877707446880463,
          0.8543496933378804,
          0.9252486171036223,
          0.8832368252840086,
          0.7235983780318598,
          0.6799518658405425,
          0.6169924229882282,
          0.6793573952125433,
          0.6584367879663319,
          0.5443429714425377,
          0.5383992957437449,
          0.48274747793826134,
          0.476213786960629,
          0.356366842291441,
          0.32381769867044624,
          0.21566775673495814,
          0.13255902118279214,
          0.15087440280521805,
          0.13219429024484985,
          0.10860318893989508,
          0.0671367359826102,
          0.05453682292243603,
          0.046779124402266566,
          0.09885730601770203,
          0.034163969901999595,
          -0.03061196433183381,
          -0.04396193295397664,
          -0.03324604733846107,
          0.04397056546776226,
          -0.020657519372231595,
          -0.0699945091401294,
          -0.1157130474925501,
          -0.17157506489316632,
          -0.18616847747487392,
          -0.22154204720249795,
          -0.22838249332679095,
          0.09000541577639479,
          0.045793231506139946,
          0.31552127629051846,
          0.30600595747746295,
          0.34261225467659345,
          0.3983707188944589,
          0.36201646560517464,
          0.24436783366212675,
          0.23844044822868637,
          0.21834840032461783,
          0.32223715293148925,
          0.21860380759439885,
          0.21509077159591292,
          0.15234956474739625,
          0.9183187732680488,
          0.7747203002527332,
          0.79753513353504,
          0.8079833988568759,
          0.7899160587288393,
          0.7910948573661261,
          0.8108720781405395,
          0.9124844185027776,
          0.905458810954798,
          0.8949832765243287,
          0.7830518659261562,
          0.6934725553352796,
          0.6153100581580889,
          0.5926671862211547,
          0.5620330499210973,
          0.5132740030482591,
          0.6097119070499343,
          0.6474016316942482,
          0.6047608345436553,
          0.5908819263882582,
          0.5665154118846998,
          0.503780190443894,
          0.4991552642454611,
          0.4090079963751204,
          0.418065502743223,
          0.418036364725001,
          0.37609846429731814,
          0.40031802522720455,
          0.5844446598058328,
          0.7614639563538736,
          0.8858759285161647,
          0.7021952782325919,
          0.5231149599565993,
          0.46589987274688405,
          0.28896178404436473,
          0.058907751397318645,
          0.04176987348132109,
          -0.09156376294624516,
          -0.29355308674399067,
          -0.44556599661780716,
          -0.5660585837578559,
          -0.5599829028007154,
          -0.5850814253134935,
          -0.6414992770873922,
          -0.7223374985198694,
          -0.8118616755023681,
          -0.8439620436074804,
          -0.8807951402920928,
          -0.9277819647400224,
          -0.9764384686847687,
          -0.9763738523901397,
          -0.9894064336472853,
          -0.989640390131515,
          -0.9899908201071728,
          -0.988981365397456,
          -0.859745947884536,
          -0.6034829809011535,
          -0.48139060670772726,
          -0.5686673421404154,
          -0.6265918207556432,
          -0.6361359878900217,
          -0.6748173724436515,
          -0.0854451492562569,
          -0.32025407589808996,
          -0.33682861527538854,
          0.1829236784623378,
          0.40565100946713617,
          0.2913117792461721,
          0.08963923466248946,
          -0.0029662748640249554,
          -0.05881521680950737,
          -0.18577962775624704,
          -0.3835307095292928,
          -0.12255454893971676,
          -0.4237235460000357,
          -0.442018233708066,
          -0.5150524449202746,
          -0.6663363575349591,
          -0.7197088670694055,
          -0.7631059835313522,
          -0.7301500182480922,
          -0.7840092302138485,
          -0.8648608952584717,
          -0.860527865727291,
          -0.8916590574571777,
          -0.9131083886688189,
          -0.9169268884392656,
          -0.917644144396391,
          -0.9222899454576186,
          -0.9229466161147146,
          -0.9276685989266464,
          -0.9408980007824101,
          -0.967375614418805,
          -0.846834463994755,
          -0.8718372634561944,
          -0.63452575060428,
          -0.6272620779667506,
          -0.365000549323908,
          -0.30326607335464423,
          -0.4074202837818325,
          -0.5780982266640038,
          -0.41481998975190815,
          -0.6043771584936856,
          -0.49301148524706573,
          -0.8000533042856816,
          -0.7486854541070891,
          -0.5749423137533911,
          -0.6293312724559182,
          -0.6114484703124503,
          -0.6528317777191727,
          -0.6505325091264514,
          -0.6345189889850926,
          -0.5917904427431189,
          -0.5741330041066603,
          -0.870373334817746,
          -0.930977814827656,
          -0.9700296341849473,
          -0.8185065595032572,
          -0.6606871159869337,
          -0.8651870890211398,
          -0.9265272606795097,
          -0.6920039992920242,
          -0.818890133082623,
          -0.7988909637899351,
          -0.736619559219587,
          -0.8001840262345061,
          -0.6562978219223263,
          -0.6501330899246681,
          -0.6376033545699586,
          -0.4056387804578253,
          0.10681031581312525,
          0.034000354966881086,
          0.2693957236654564,
          0.19552911559768008,
          0.16347555432780286,
          0.07162327312260702,
          0.015207434921900156,
          -0.0514957749714328,
          0.006427845274105952,
          -0.016453055659982063,
          -0.058177246499397026,
          -0.17449353870892062,
          -0.21584589668596751,
          -0.22516592536042213,
          -0.24850353798402253,
          -0.3763816269645661,
          -0.5353796660371916,
          -0.5502557192134998,
          -0.5970096650889061,
          -0.6055942578860047,
          -0.5865355871667388,
          -0.22326213999374203,
          -0.05237062094093949,
          -0.1351908771634122,
          -0.25543841043103377,
          -0.2310667728601602,
          -0.24812294179831262,
          -0.37775562370981364,
          -0.3654512012566582,
          -0.42334952961057754,
          0.23171860094207267,
          0.18733188768156606,
          0.44698746670254724,
          0.6250968916230519,
          0.71970671156009,
          0.825730501896856,
          0.8408768531704197,
          0.8491339892191199,
          0.7191727674298655,
          0.7789952622201647,
          0.7671847171999094,
          0.7613084197548888,
          0.7151390791162443,
          0.6182040032563488,
          0.47987003936599565,
          0.7512336013204697,
          0.70202010465045,
          0.5812476188912198,
          0.377612293137971,
          0.2738944331997294,
          0.2692710456152682,
          0.3773707597509189,
          0.30011022499465506,
          0.1521399303282881,
          0.1275843205658894,
          0.05201020339456301,
          0.014126552536516077,
          -0.018540468738138968,
          -0.021314823594497805,
          -0.0546095393527696,
          -0.14112799640544002,
          -0.24628974503784218,
          -0.289741619354624,
          -0.3663050781845476,
          -0.36854056789742795,
          -0.3705730214060086,
          -0.41126270131466647,
          -0.462320824184761,
          -0.461346641465589,
          -0.4192581052968252,
          -0.020703713876098418,
          -0.015058788846460266,
          -0.04295161175525824,
          -0.13372968052695883,
          0.13671396472178995,
          0.019791596983057966,
          -0.05187434073796488,
          -0.05510918059871093,
          -0.0860132753616263,
          -0.17126574910249565,
          -0.1924517079551315,
          -0.0019801777495223596,
          -0.010803343278399108,
          0.0436319924714248,
          0.00670398974264409,
          0.45177287349574735,
          0.40567413653274254,
          0.3577292611237926,
          0.6410521172294308,
          0.7806774793229782,
          0.8240370078800222,
          0.7920638178141539,
          0.6994288497872417,
          0.8379460328628153,
          0.5754982981665081,
          0.13923562817752136,
          -0.007974142660726569,
          -0.024547997629966373,
          -0.04832656704102493,
          -0.0817215086127573,
          -0.08515076075862393,
          -0.13077530825804232,
          -0.1584557234855936,
          -0.2676850817209787,
          -0.2012221809406382,
          -0.2620920329738918,
          -0.27164451705317627,
          -0.38563282927645726,
          -0.5123730518428345,
          -0.525314223489668,
          -0.5858011108325183,
          -0.5783082947280963,
          -0.3297497970082578,
          -0.34956932894764975,
          -0.40182407582590723,
          -0.40517425181676636,
          -0.16921105352878524,
          -0.24708091971072318,
          -0.4061686700419204,
          -0.461086481565434,
          -0.5047731934781984,
          -0.5578649089839381,
          -0.5862104145836416,
          -0.5727016322316373,
          -0.6075519038766815,
          -0.7007223916239507,
          -0.6426337534925592,
          -0.7680096421158508,
          -0.6913234794818811,
          -0.7100631122816112,
          -0.7257851967506277,
          -0.646126016137651,
          -0.6186917863811915,
          -0.6161897915337524,
          -0.581119259374163,
          -0.5983364780103517,
          -0.5747981587131228,
          -0.5663984224914642,
          -0.5884799361082251,
          -0.5411490898399786,
          -0.36262853138624557,
          -0.4049749603415267,
          -0.4572920781835765,
          -0.44762985205083844,
          -0.4612905699409201,
          -0.4599052742547102,
          -0.48462183744180615,
          -0.539520773993404,
          -0.5706369860106696,
          -0.285331184219123,
          0.22529024749740734,
          0.12111237908754084,
          0.06937569640833606,
          0.006944089809977047,
          -0.021773886558539474,
          0.3936041398893632,
          0.3271394036649892,
          0.1505671298042167,
          0.03272480610447628,
          -0.02369128910589966,
          -0.07595412250788759,
          0.006760839655228397,
          -0.023827279380596346,
          -0.04422895779864124,
          -0.07212041506676635,
          -0.047765008839211205,
          -0.0974909049777013,
          -0.20660014073396063,
          -0.05246016869087733,
          -0.226568836533735,
          -0.19938457998568393,
          -0.2744219832440468,
          -0.3751461922682599,
          -0.4871583013726479,
          -0.5146448900570414,
          -0.5160861076273342,
          -0.3578232397522097,
          -0.4422375925488311,
          -0.5064547782073827,
          -0.5200852377384064,
          -0.43893829622345365,
          -0.48214298956681767,
          -0.5097165200979683,
          -0.5262940576050158,
          -0.4031286053057442,
          0.13531457580413803,
          0.2067100229662321,
          0.052969571355358,
          0.006848496539367718,
          -0.020124993311655147,
          -0.02422813448711235,
          0.13677725568076995,
          0.12077951161771316,
          0.0348989450910803,
          -0.02946634264298479,
          -0.044341668567470516,
          -0.03393689803766209,
          -0.024077507738719094,
          0.20598381816194708,
          0.460301421759403,
          0.4062734834873585,
          0.40009205385018476,
          -0.014889868753520231,
          0.1819661359506904,
          0.03867792297929249,
          -0.1513303183083283,
          -0.33229753121226435,
          -0.3992682809033243,
          -0.4568536831467296,
          -0.5606978081578001,
          -0.6180938346411898,
          -0.6585877041519324,
          -0.7289903521278902,
          -0.7702657205264207,
          -0.4727401849450679,
          -0.5266089754567725,
          -0.6275315930964429,
          -0.5685520383654221,
          -0.6012695424844369,
          -0.6263445153006778,
          -0.6604754387476901,
          -0.6772185566415007,
          -0.7096129256931165,
          -0.7401966194014558,
          -0.7976701814446362,
          -0.8909690257052251,
          -0.921567435467036,
          -0.9199560399626326,
          -0.7951851093561283,
          -0.6430577151161682,
          -0.6913712106997104,
          -0.6553120272976966,
          -0.6214141369767398,
          -0.8313913527720979,
          -0.8052276499738491,
          -0.827680602590042,
          -0.8561918970178973,
          -0.9061642497993501,
          -0.9455314537781798,
          -0.976771353885635,
          -0.6833348695703387,
          -0.6850821308054607,
          -0.7346573092092029,
          -0.7009854660012524,
          -0.8141461589494162,
          -0.8954281186674803,
          -0.9485815746206847,
          -0.9782779277170531,
          -0.9999729579763766,
          -0.9825366719436214,
          -0.9453928380247884,
          -0.855957512424543,
          -0.9843993273985311,
          -0.9743428095688021,
          -0.6450189415781252,
          -0.35542822213033753,
          -0.39666657191721727,
          -0.5095859173661352,
          -0.5316245823392085,
          -0.3223925350933672,
          -0.13373359930750434,
          -0.01764265553335311,
          -0.020147023858025116,
          0.056867574761882214,
          0.03676431180338847,
          0.005981795964277063,
          -0.04159108326724731,
          -0.05505376614919632,
          0.00042795264068941656,
          -0.03429110581331792,
          0.6087516732810418,
          0.6839700508352128,
          0.5371286961922113,
          0.5756719376415755,
          0.49165376632519586,
          0.6650674510957317,
          0.5568092932836438,
          0.3274311456224791,
          0.15639766747114442,
          0.22285664017904455,
          0.13506869604763255,
          0.11700085270945244,
          0.12012577490445729,
          0.033590328637893914,
          -0.13836549757573588,
          -0.2440189780255444,
          -0.32246240810408605,
          -0.2461169576855338,
          -0.3095555228656277,
          -0.3109968007702942,
          -0.3579436042977891,
          -0.4117944169654029,
          -0.45544752142827316,
          -0.41705231437643203,
          -0.4175850914942575,
          -0.5059356221486634,
          -0.4573512096328982,
          -0.47990581383508796,
          -0.48142985687186635,
          -0.5246776051399648,
          -0.5652076816124031,
          0.29457503170911825,
          0.25394245104731494,
          0.2041611324148786,
          0.21212135170260787,
          0.2522942254463901,
          0.3118894830761991,
          0.4597388367426728,
          0.476831932338974,
          0.5476676344007562,
          0.4978295796682159,
          0.40774310335508906,
          0.44627236340101445,
          0.3919700223187306,
          0.3320947243000536,
          0.22139918609988404,
          0.1806204417084038,
          0.23699223007916953,
          0.19220406636107845,
          0.12300640127221997,
          -0.02251520217147361,
          -0.04593276359760197,
          -0.11648821770972477,
          -0.14133104734004204,
          -0.05782212093623438,
          0.01537991909932468,
          0.020651713095790662,
          -0.1712979991114222,
          -0.1299852285104937,
          -0.10844645147925325,
          0.06017258175714814,
          0.09691565813897426,
          0.07217262477090935,
          0.42425199652650325,
          0.3646430806458184,
          0.27235900573509186,
          0.25709659863267464,
          0.25126024318033147,
          0.09987924064297364,
          0.38436193351381553,
          0.33593797539138015,
          0.3556626577143536,
          0.2840968377641542,
          0.2102335809840463,
          0.1771955054216493,
          0.1685214086478488,
          0.07820928079737242,
          0.005749210700371366,
          -0.05585023180838086,
          -0.14204483374715143,
          -0.12371592038890393,
          -0.14860409487404438,
          -0.27339261985569485,
          -0.335766999499849,
          -0.34594536561985956,
          -0.3644436319376487,
          -0.5167724628289206,
          -0.2632189491985008,
          -0.33762729810831826,
          -0.3331910484044123,
          -0.3356176316621102,
          -0.5837830114346466,
          -0.3506124640638389,
          -0.5155509494517896,
          -0.5293069191666219,
          -0.5325897222809095,
          -0.31351747944807595,
          -0.33571458179161323,
          -0.5805184465877599,
          -0.5872137612072365,
          -0.21279859508204677,
          -0.24378963992428987,
          0.09977615826911354,
          0.10260361014042818,
          -0.022536815426785282,
          -0.05963195808492247,
          -0.07679935430314433,
          0.15337239286103993,
          0.08253026437021409,
          0.08637098800651921,
          0.05999042867163813,
          0.044858890479638217,
          0.0174249009289231,
          -0.03823194116377066,
          -0.15796986047490666,
          0.7205799033680248,
          0.7223637966486776,
          0.7529487204536452,
          0.6844309211670674,
          0.6806606487616069,
          0.6537568276558587,
          0.7235426541364396,
          0.6833145540408861,
          0.6177366594237468,
          0.6035519073568576,
          0.45616730147258927,
          0.48926601065289615,
          0.4567702575513103,
          0.42927211928561304,
          0.4012704587104898,
          0.32456513326346714,
          0.07379417723230823,
          0.035807254863940506,
          0,
          0.20940781839611494,
          0.08714012178381553,
          0.1353578185291542,
          0.040003795233542486,
          -0.08983885082659766,
          -0.10666454417761728,
          -0.18004597285408214,
          -0.16528641280485679,
          -0.31874427863220844,
          0.29724330850409514,
          0.29468834846879793,
          0.05819394850154039,
          -0.05040541817644131,
          -0.048321265791605436,
          -0.19526344502144313,
          -0.17358000598000514,
          -0.22262931925310717,
          -0.16656534822296043,
          0.031244739451914905,
          0.12880988942643037,
          0.060439055128450554,
          0.029755852025947993,
          0.06571205524797863,
          0.4269937588389459,
          0.6356093042069356,
          0.5869985618817802,
          0.5447322826106827,
          0.5089682030948087,
          0.4532830322033673,
          0.47596678627193584,
          0.43598754844297394,
          0.38050803858826143,
          0.37684562317126047,
          0.6609457992160024,
          0.6366737648932534,
          0.5737652715564387,
          0.5989083184632814,
          0.5958053518500914,
          0.48733599041136083,
          0.5516604402061328,
          0.43117460790256473,
          0.42367976844397975
         ],
         "y": [
          0.6729975665144998,
          0.6113138835969818,
          0.4579298203879369,
          0.2633851279662467,
          0.36943678027173094,
          0.17734094895006383,
          0.3933715611502972,
          0.1714741002193304,
          0.16369017275664502,
          -0.10807448014753769,
          0.04774585656472103,
          -0.05790461981658341,
          -0.05228422750847858,
          -0.0683462965286628,
          -0.07958911490628653,
          -0.10526557573141633,
          -0.10560121835470361,
          -0.10601250342342888,
          -0.2128797423224746,
          -0.3004224823229121,
          -0.14230246622260878,
          -0.19913293115445607,
          -0.29681903945046295,
          -0.3606281800312282,
          -0.3516183372638585,
          -0.35284658377173256,
          -0.30358542583227066,
          -0.3833406269806247,
          -0.5340413750372058,
          -0.5111523375376659,
          -0.5373583312257141,
          -0.7009219376271529,
          -0.746671525175193,
          -0.5414071123419381,
          -0.6284093909196837,
          -0.607340315062552,
          -0.5657362366836264,
          -0.8430743528161273,
          -0.852398801170664,
          -0.5887025290595815,
          -0.7176680635276587,
          -0.8156287395931463,
          -0.8171666032170062,
          -0.1425611404034094,
          -0.1893816818079974,
          -0.2573929054688577,
          -0.5094910284530462,
          -0.3873732287540765,
          -0.3689374684590447,
          -0.34061923416291295,
          -0.6234970882782219,
          -0.5822529655424168,
          -0.49876454381626406,
          -0.5318218072567816,
          -0.6422325913103497,
          -0.794473413749617,
          -0.8568209289057266,
          -0.8568815861499123,
          -0.6746198224737944,
          -0.6892106623842974,
          -0.6514891024526834,
          -0.6800396946975845,
          -0.7051924871988668,
          -0.06680165965214317,
          0.0569821926091748,
          0.012935586535979994,
          0.0027717847086013714,
          0.08510490095906843,
          -0.007277272533668298,
          -0.060604773272301626,
          -0.1853000637373527,
          -0.03214863590028086,
          -0.4567292979687334,
          -0.6455734040280533,
          -0.7044500345210264,
          -0.7629860112448636,
          -0.6676754886186183,
          -0.7526360317262121,
          -0.8363671654121981,
          -0.8422194399945053,
          -0.8757517958925799,
          -0.8610477402130023,
          -0.9252990648418893,
          -0.9280716200504558,
          -0.9431234474789936,
          -0.9581731441223638,
          -0.939624187660984,
          -0.9237991918641586,
          -0.9154614612099764,
          -0.8634226971306118,
          -0.8552691040540006,
          -0.8557454179830607,
          -0.9326590440981398,
          -0.9185085732016137,
          -0.913024734766018,
          -0.9162499147146834,
          -0.9222644009359733,
          -0.8715288604834973,
          -0.8741370910929586,
          -0.8455733011191949,
          -0.8684618349228403,
          -0.8275971661680249,
          -0.8242541044361762,
          -0.8486894086974689,
          -0.831112454272856,
          -0.9463834835348164,
          -0.9441260067708365,
          -0.9389485871025405,
          -0.9424801697046022,
          -0.8901432952760241,
          -0.8155439934252862,
          -0.8271416208741375,
          -0.9113291008933189,
          -0.9190670797228784,
          -0.9202123268975126,
          -0.8542182034514962,
          -0.899466741803332,
          -0.8599599315708557,
          -0.8862215499746373,
          0.00487349036496059,
          0.5979186703565805,
          0.6002710998203247,
          0.5849455370215707,
          0.5966313547715908,
          0.5900349236552195,
          0.569416364210564,
          0.4053039333020668,
          0.423299305068163,
          0.4341451788432236,
          0.2706471754601697,
          0.18033772989847494,
          0.15440974433871277,
          0.11587455903346441,
          0.07155334423510269,
          0.035068784339955736,
          0.07283454008541139,
          0.042584684037111416,
          0.027208833516991195,
          0.05065817725428225,
          0.022953439987609264,
          -0.04334626595474003,
          -0.11007100372119048,
          -0.10510863597636659,
          -0.1146235187612958,
          -0.14517836910952106,
          -0.19080109641753604,
          -0.12871876433283896,
          -0.036641975089456706,
          0.12388291067310923,
          0.42613232983642013,
          0.657672132000717,
          0.5704195644138602,
          0.6164684851256682,
          0.7278815021287924,
          0.7382671779801278,
          0.8209492331462654,
          0.7941379485939056,
          0.7481409979098075,
          0.6228395081034038,
          0.5824125168474555,
          0.5269749710454289,
          0.5505206815399911,
          0.4991194360237658,
          0.48625596241361213,
          0.3893322456498771,
          0.2964824750787154,
          0.31387031187960857,
          0.3191622968621131,
          0.2095262575029739,
          0.2115662825985959,
          0.07644103291605883,
          0.1393144058036943,
          0.05579136716478832,
          0.046137764245445606,
          0.43579735945024994,
          0.4778240822717395,
          0.7009442113641732,
          0.6394701632505163,
          0.5795875371362743,
          0.6169512275332408,
          0.5685612748198439,
          0.6802363516039225,
          0.599192294335296,
          0.5866098738178712,
          0.8319143891823763,
          0.8098070889385718,
          0.8848485673674165,
          0.9287881672989933,
          0.9496214843911722,
          0.8692298245063663,
          0.8559051533953944,
          0.7647350103310057,
          0.9608491986713887,
          0.7687334306084056,
          0.8206880889378527,
          0.8342692835364102,
          0.7398731004082842,
          0.6942584116858376,
          0.6460148441196011,
          0.6817418357995964,
          0.5886259593420269,
          0.48284835075937343,
          0.5077602270518864,
          0.4494719822159674,
          0.40295534621880785,
          0.3977100254946468,
          0.39740310045974164,
          0.38549859770045164,
          0.38244576235439903,
          0.372867913850346,
          0.3385706835978963,
          0.24330996333398774,
          0.4672076039338019,
          0.45207789402183923,
          0.6248235192115215,
          0.6267669976408223,
          0.8860659641504349,
          0.9516106884811514,
          0.9109566827957608,
          0.815431950940903,
          0.8850528977149535,
          0.7906291912585152,
          0.8095726860262598,
          0.586612754279893,
          0.4553925418668031,
          0.2867854574234612,
          0.0585638139987667,
          0.014751336001486658,
          0.023513647649710378,
          -0.011701481957882216,
          -0.3847252813645018,
          -0.4776091071542455,
          -0.5339634582848273,
          0.19885475167147754,
          0.08771503782281863,
          -0.04351592470095023,
          -0.3238354797372968,
          -0.4816295098297963,
          -0.08359749188336944,
          0.36467416484818777,
          0.16533829113962983,
          0.06312582993664201,
          -0.09315161052227647,
          -0.20691132104120855,
          -0.1891820384646234,
          -0.4694854220714698,
          -0.4900396793553902,
          -0.4876220543688205,
          0.8408412505480993,
          0.9736986103717146,
          0.9813781829504717,
          0.9474742377545822,
          0.9628454192001077,
          0.9767139794881572,
          0.9958124251794285,
          0.9798193510760327,
          0.9677058563642145,
          0.9664302378437911,
          0.9605970466461293,
          0.9487805702326217,
          0.8608611279401116,
          0.8170444294603038,
          0.8110496881291867,
          0.7864693517711538,
          0.6341866311809147,
          0.3065534163151003,
          0.25347487452466816,
          0.014556421045977548,
          0.0011621996687022976,
          0.028607551922269617,
          0.8084110510790752,
          0.996213687997378,
          0.9885261666934947,
          0.9554271062354602,
          0.9215688589163131,
          0.8415050497389097,
          0.7884418738275472,
          0.7332873789160578,
          0.6150218713190828,
          0.9651315184856636,
          0.9813049725820007,
          0.7794004799553412,
          0.4732908674384162,
          0.4132322523876617,
          0.1689162618479764,
          0.07464018928828584,
          -0.07295590355255045,
          0.20506315969737318,
          0.12915536766044225,
          -0.007011143247877611,
          -0.18440944238335888,
          -0.35295503304063947,
          -0.5406902247735282,
          -0.6898910664892272,
          -0.38478906576778055,
          -0.5152745162083098,
          -0.7113596716363977,
          -0.827861529560965,
          -0.8515448568367424,
          -0.8631394648392489,
          -0.8943550363253118,
          -0.9487098744926629,
          -0.961977809656222,
          -0.9625558544586227,
          -0.9581349951434769,
          -0.9532426280800954,
          -0.9384279701125874,
          -0.9372372567595383,
          -0.9284950236113935,
          -0.910795756410646,
          -0.8855735411117163,
          -0.8510644943499253,
          -0.7842930218877742,
          -0.7652925985556392,
          -0.7586654026431607,
          -0.7644119566895895,
          -0.7212906463539196,
          -0.701507944102563,
          -0.7813206690986824,
          -0.9390974237364595,
          -0.9549197784877803,
          -0.9454984838649333,
          -0.9314118969767006,
          -0.9906105651819231,
          -0.9998041271613456,
          -0.9945006320397999,
          -0.986675169614262,
          -0.9639538502400624,
          -0.9304695517069135,
          -0.9178304644806028,
          -0.9823488459895038,
          -0.965246695255546,
          -0.9720030503943816,
          -0.9621551961219207,
          -0.886364353295893,
          -0.9140093018675728,
          -0.9338253454130625,
          -0.5347431053553116,
          -0.26883853985294537,
          -0.24747942125618339,
          -0.3870173550637509,
          -0.661170428129027,
          -0.17374672568609914,
          0.3934576315350299,
          0.1691778735703049,
          0.21359578011411576,
          0.19246054534746784,
          0.1620040982769269,
          0.09381643911871364,
          -0.0558690041847596,
          -0.14262838770444147,
          -0.2527121694247251,
          -0.32477699624757844,
          -0.4525388955141335,
          -0.4485003864812417,
          -0.48162226744239944,
          -0.49528745899569604,
          -0.6231140514704308,
          -0.7014360778110206,
          -0.7054363860100171,
          -0.7586885735230672,
          -0.3951090562365827,
          -0.41973055011946564,
          -0.3741380852875422,
          -0.39890641302512686,
          0.05143373072390249,
          -0.06108418350466626,
          -0.2039191417253204,
          -0.23464959591219775,
          -0.2114705085667553,
          -0.2137791040471512,
          -0.3149633741103634,
          -0.4498393128662097,
          -0.5983834032509301,
          -0.4339758158632671,
          -0.5691673070030479,
          -0.4409382676244307,
          -0.5749771084021332,
          -0.6620917659274141,
          -0.6842949495933006,
          -0.7173026959866208,
          -0.641783872163424,
          -0.6333764679263932,
          -0.6860169733117404,
          -0.6599748084990945,
          -0.6685706531097386,
          -0.6593496516364944,
          -0.595441661750734,
          -0.8257578996689624,
          -0.27299901173531965,
          -0.31530482941902477,
          -0.3216878265623784,
          -0.3754235610228213,
          -0.41746496042771125,
          -0.11063415712531693,
          -0.14063251821617714,
          -0.1414073661371481,
          -0.1559176074993852,
          -0.23015833360751858,
          -0.031879975688710004,
          -0.060287054185533706,
          -0.10837011412894113,
          -0.13779823319075402,
          -0.15927285531709265,
          -0.10676987051083489,
          -0.17917836296951198,
          -0.21638591971029392,
          -0.32914941306424145,
          -0.39216227693137434,
          -0.327614048355483,
          -0.40930917807269235,
          -0.4184266545459958,
          -0.42170188905228423,
          -0.4279929393475921,
          -0.4409167788160356,
          -0.49579665082492635,
          -0.48878665576947655,
          -0.5855535079390671,
          -0.7217373346742687,
          -0.8730797336800954,
          -0.9441688830253812,
          -0.9269656597882285,
          -0.8649514424802974,
          -0.8464465244168643,
          -0.8393633697395587,
          -0.8594764051399195,
          -0.8814919421847504,
          -0.8601241230652952,
          -0.847776873003013,
          -0.7168638271973609,
          -0.773748805610381,
          -0.8034130729106753,
          -0.8502564656385239,
          -0.7533257921330354,
          -0.37294048854471207,
          -0.48595796848806583,
          -0.5111844412730663,
          -0.5855762484377894,
          -0.6050481229376979,
          -0.5717001397810728,
          -0.7263242126113697,
          -0.7394529375548069,
          -0.761256484610044,
          -0.8885126478820784,
          -0.8888234190516173,
          -0.8955914629222492,
          -0.48139567310827597,
          -0.10919271444987191,
          -0.15493083667374427,
          -0.22501246935754865,
          -0.33474761013812926,
          0.10386214593073745,
          0.5532488716589702,
          0.5916377772398637,
          0.5037999325085154,
          0.454009507242809,
          0.5049062793348857,
          0.5219922403201548,
          0.453113047877715,
          0.3967252236815786,
          0.40750848201113177,
          0.3727825462658232,
          0.3487569036775254,
          0.4038084330945937,
          0.22787300278803088,
          0.08679199928894168,
          -0.11581753983334023,
          -0.12812681866738868,
          -0.1674291590090897,
          -0.1939835918390328,
          -0.10777032779741275,
          -0.09813952970295509,
          -0.12236541363267799,
          -0.2607341518649597,
          -0.18062613534204533,
          -0.19629420723705363,
          -0.37915023881758786,
          -0.5391136582569445,
          -0.6130065615359378,
          -0.5163681857608221,
          -0.49324378705981314,
          -0.6160590655145571,
          -0.35542954920955594,
          -0.43203966147039935,
          -0.43999187502358916,
          -0.34692351980318864,
          -0.07132071792053506,
          -0.07681878011375018,
          -0.1109230934591263,
          -0.137354283271159,
          0.3181260031807996,
          0.3247691816344939,
          0.05654947148569044,
          0.07313649256254097,
          0.20501194854364635,
          0.1543064631440243,
          0.01588968533174923,
          -0.007354135977520118,
          -0.16919736783567207,
          -0.24677901642042263,
          -0.3731699886724711,
          -0.06328084421107298,
          -0.08007770048378611,
          -0.06215757283538343,
          0.29222921207874025,
          0.06625425466666318,
          -0.09195458792737855,
          -0.10079719469242805,
          0.5810524110465047,
          0.16815728821005715,
          0.12908766643737,
          0.1130272701338109,
          -0.022116175729110774,
          -0.07523747935851972,
          -0.08671974177764423,
          -0.08978121979635975,
          -0.14829210127122663,
          -0.03612273713420332,
          -0.021541784998366485,
          0.12276393382438978,
          0.05967540806068068,
          -0.030721507687562696,
          -0.12936406693250946,
          -0.21991941370871104,
          -0.20134745359207487,
          -0.35913269017958316,
          -0.6678756404917381,
          -0.7220834361329205,
          -0.798899185676202,
          -0.7562738612913414,
          -0.8219662338834836,
          -0.8819371286204138,
          -0.9326144798626121,
          -0.9884737003684678,
          -0.9627937277339915,
          -0.9131617862730438,
          -0.9022430849162394,
          -0.8705747268509735,
          -0.886727940056363,
          -0.8594708703334035,
          -0.8061153377120494,
          -0.8658176305813342,
          -0.8463747005693975,
          -0.8024416000891512,
          -0.7788446777926445,
          -0.7646898846476785,
          -0.7293987620874942,
          -0.7110246706056211,
          -0.6600659665564746,
          -0.6877575537972551,
          -0.7951796571132167,
          -0.8220392784173761,
          -0.8283822789184051,
          -0.8590934242712099,
          -0.855088505850355,
          -0.8119278743308747,
          -0.6879597298639779,
          0.7864623621611332,
          0.8138363547387013,
          0.8672721207017683,
          0.909435274479985,
          0.894895442906634,
          0.9162415726207888,
          0.9054886030020971,
          0.9290474768467072,
          0.9336529412972423,
          0.911748502624264,
          0.9201716513932866,
          0.8614275354137952,
          0.8539310160010127,
          0.8128127213697526,
          0.7982194043681251,
          0.7730334567990653,
          0.7322983512344373,
          0.3887816557758742,
          0.2950462699172274,
          0.608936934576134,
          0.41724038264303087,
          0.2369253503052717,
          0.7874037619396768,
          0.6795841618202383,
          0.3818466250439662,
          0.8049493038613244,
          0.7875406332147642,
          0.7782084947904998,
          0.703534581674455,
          0.5714302896898122,
          0.36194841547522233,
          0.8942475601366527,
          0.9343214175722886,
          0.9330245651906297,
          0.9541796409046122,
          0.9689671880091624,
          0.9511597448170641,
          0.9377916918316195,
          0.9587974749448595,
          0.9306416355540835,
          0.8960315215373715,
          0.8355391058559659,
          0.803032587937139,
          0.7845393099033674,
          0.644346860627178,
          0.5992577992629369,
          0.6243270550115674,
          0.590921588517558,
          0.2793399219311478,
          0.5931992971691221,
          0.4149300457806227,
          0.15257904065797598,
          -0.07478523206972405,
          0.0008917220347602914,
          -0.16189423695487848,
          -0.18818145758226348,
          -0.44572323731301045,
          -0.535287214517851,
          -0.1569910418518507,
          -0.18475093431717324,
          0.01701031193136263,
          0.011561892341334734,
          0.796030118920995,
          0.783207565378318,
          0.9535515475421571,
          0.9376351846390643,
          0.8748892937347481,
          0.8490075699222019,
          0.8347184861977338,
          0.9357556776737312,
          0.9756376191984253,
          0.9676216970501873,
          0.972515224196449,
          0.9647845852500858,
          0.9570778510005883,
          0.935353681339728,
          0.8641510740563063,
          0.6836353108276743,
          0.6915132285728943,
          0.6536796869944439,
          0.709273197792592,
          0.6758464250110624,
          0.6859322736928584,
          0.5918943360392322,
          0.32240538776607414,
          0.5872495810628205,
          0.41221887399185875,
          0.5479995287265226,
          0.17918701378634116,
          0.04795510949584228,
          -0.024221679577910313,
          -0.039659950380663264,
          -0.09659189149907323,
          -0.15840749501842383,
          -0.170991228179481,
          -0.17554286338107233,
          -0.2233106329685365,
          -0.18702901444012981,
          -0.2904346581462054,
          -0.31025075213474945,
          -0.2799277523945178,
          -0.4212554365398606,
          -0.5334389347557008,
          -0.38124685726313673,
          -0.4295806770161142,
          0.35832575103962616,
          0.08070820883188856,
          -0.0071089945534796185,
          0.05325375221051867,
          -0.10026347679782509,
          -0.13164081111208306,
          -0.2273996919462555,
          -0.2372418168654672,
          0.002044780928001934,
          0.24866624219704186,
          -0.07883627087632948,
          -0.10875562466642914,
          -0.14877724364290368,
          0.31206338263664957,
          0.5590822155065652,
          0.7191521043702278,
          0.7540113893663394,
          0.6770603679484749,
          0.6423325266980782,
          0.5862137268659638,
          0.7457034542297283,
          0.7067412563840154,
          0.6380689035761924,
          0.5658305849464401,
          0.7467845321322757,
          0.7711259982464608,
          0.8159214382630254,
          0.7886894346925358,
          0.7766611917889765,
          0.8726497326143314,
          0.8239828598841459,
          0.8160236826892939,
          0.8284365904137098
         ],
         "z": [
          0.5648363625882955,
          0.3655177564724932,
          0.3430802803898505,
          0.3216688315423229,
          0.1713774293987016,
          0.25946243431136895,
          0.04846801414568598,
          0.16736114558590343,
          -0.07041319685590547,
          -0.3003896960935927,
          -0.43802771057344925,
          -0.7260165949364552,
          -0.7895343700336819,
          -0.8067266344218786,
          -0.8218089385181125,
          -0.7786391716551965,
          -0.8035208343942808,
          -0.8231705592835138,
          -0.5394904090531153,
          -0.5956446935999138,
          -0.6179288763407911,
          -0.6640739539751914,
          -0.7049471924220263,
          -0.7417429221030876,
          -0.826360603182713,
          -0.8852699841684198,
          -0.9159103602124039,
          -0.9073221442694415,
          -0.8454338787895429,
          -0.8515827368811719,
          -0.824838947115057,
          -0.7086307840360534,
          -0.6275716637803258,
          -0.8200598007586485,
          -0.6611043273321809,
          -0.5917234731399164,
          -0.7491657037679974,
          -0.5323650954866438,
          -0.5207439088198166,
          -0.791245213432426,
          -0.6951411127312389,
          -0.5776748477689988,
          -0.5639437338490022,
          -0.2593374281739048,
          -0.3039851032060331,
          -0.19134336616952552,
          -0.2965035915369953,
          -0.45476769392712735,
          -0.5805306081724403,
          -0.6152705436698823,
          -0.4012605613013092,
          -0.5081175668348297,
          -0.6426778609581678,
          -0.6939007611980029,
          -0.5788818993184485,
          -0.5347023468703577,
          -0.5058869538736526,
          -0.5062773008862362,
          -0.384025482230431,
          -0.4530487507447384,
          -0.3423058222689063,
          -0.34316558421338506,
          -0.358656377944987,
          0.015365082425563188,
          0.1459169913051079,
          0.3419867178375258,
          0.2505822977875758,
          0.4263011789484546,
          0.4741791329591581,
          0.45627860604311116,
          0.48554143785304543,
          0.3779966425215779,
          0.1062593941221831,
          -0.24421377381567472,
          -0.2035082529119881,
          -0.19280222151149654,
          -0.30443878114970446,
          0,
          0.06465828687394543,
          -0.028153387682150293,
          -0.0036965572048795643,
          -0.17837381585507076,
          -0.129708574573744,
          -0.1839161931008218,
          -0.25299324402095985,
          -0.25363819070818955,
          -0.3071535455445769,
          -0.3593323291018884,
          -0.3874734318522761,
          -0.49999390472414873,
          -0.5153062143970263,
          -0.5152780735885761,
          -0.3469500547757079,
          -0.3939223579789185,
          -0.40675390759670527,
          -0.39818769724375624,
          -0.3851273492009874,
          -0.4883687487102156,
          -0.48523974782464674,
          -0.5292509434329046,
          -0.48206278836105976,
          -0.5344576013656839,
          -0.5347396275897313,
          -0.48025556622080573,
          -0.5070439084481622,
          -0.31025364981483183,
          -0.3263879030956563,
          -0.1371928386838944,
          -0.13450458617417335,
          -0.3004359446214151,
          -0.41974845457184085,
          -0.4298613935310332,
          -0.3313059488392176,
          -0.31378632159188097,
          -0.3248588147204038,
          -0.4080128406836065,
          -0.3783807020646394,
          -0.4628227263941607,
          -0.4374939707948331,
          0.395811672080459,
          0.20567381946989213,
          0.06010255816305757,
          -0.0707216083685677,
          -0.1416462024401407,
          -0.16133107424190712,
          -0.1350980275994617,
          0.05568579387529322,
          0.031016769547034435,
          -0.10258117970155221,
          -0.5599820369306479,
          -0.6975486493226276,
          -0.7730143356903172,
          -0.7970688131808316,
          -0.8240139378221477,
          -0.8575080047205001,
          -0.7892696118387423,
          -0.760958390429519,
          -0.7959422167347994,
          -0.805166006575647,
          -0.8237314050646874,
          -0.862743658883735,
          -0.859493104286389,
          -0.9064571879269296,
          -0.901156304068742,
          -0.8967546146578815,
          -0.906722055957097,
          -0.9072909998378791,
          -0.810605826086877,
          -0.6362591198694637,
          0.18339868250292157,
          0.2727437588974022,
          0.6332237039179026,
          0.634747127146946,
          0.6218437152698665,
          0.6719311354168446,
          0.5694713638682046,
          0.6008002962034782,
          0.5950727959750745,
          0.6430722275168553,
          0.5834152380367372,
          0.6393094152775742,
          0.5954886270533422,
          0.5825448189450072,
          0.49171503663124777,
          0.43508737323405655,
          0.4470192511750294,
          0.35452129436527474,
          0.1932771434102964,
          0.05163975493107626,
          -0.0439750888145617,
          -0.12341668260039268,
          -0.0346899777443917,
          -0.12963602683440736,
          -0.14066686037235382,
          0.2663035234320235,
          0.6383513438255048,
          0.5262511722824222,
          0.5173928529611843,
          0.5210191713924122,
          0.46335967428814234,
          0.470488672152136,
          0.7279956266524963,
          0.7337614880053765,
          0.7365020976691413,
          0.523886797819072,
          0.4238628754952826,
          0.363566307707769,
          0.35960721335159607,
          0.31338512663516394,
          0.49089742559956706,
          0.4826098821014307,
          0.5177688275881368,
          0.24849386299611673,
          0.4790691695675972,
          0.36206483085924906,
          0.19676316100655755,
          0.09264801087598273,
          0.004940087563048814,
          -0.018277830171421212,
          0.045924069646609514,
          0.19710151427162367,
          0.13737940901630014,
          0.04088207591414674,
          -0.05402834864612121,
          -0.06212937707971702,
          -0.032738614480977195,
          0,
          -0.027786465748066876,
          -0.04364381582263737,
          0.0200122309192104,
          -0.008991347602935209,
          -0.07060228303853208,
          0.2541425690771852,
          0.1884817332952795,
          0.45494245972452885,
          0.4622828314064277,
          0.2857651241271503,
          0.0496667526669971,
          -0.06454947275442847,
          -0.029549512900332982,
          -0.2112007205210027,
          -0.09815157778153534,
          -0.3186404579690239,
          -0.12569879401856046,
          -0.4817548376721854,
          -0.7662867852614407,
          -0.7749273702734552,
          -0.7911467412804882,
          -0.7571378859720533,
          -0.7593882603053808,
          -0.670352228680073,
          -0.6493640062716964,
          -0.6206885844060361,
          -0.45045204603365996,
          -0.35438168750439697,
          -0.2390583048137807,
          -0.4745288127326471,
          -0.5757825544682457,
          -0.4944317549894387,
          -0.09252020703608724,
          -0.7027045712437562,
          -0.5704682984485064,
          -0.5942188194864706,
          -0.6438783504670142,
          -0.5691359068636463,
          -0.5906408446783751,
          -0.5806789801966915,
          -0.5963947470713227,
          -0.35838969176776914,
          0.20125250953986232,
          0.1890524739085856,
          0.17239058228957424,
          0.18627147843660288,
          0.1389443968270238,
          0.056813032003839796,
          -0.1993057279157788,
          -0.24676620659744622,
          -0.2568487457363291,
          -0.27745740381936773,
          -0.310533150466757,
          -0.4779854844558747,
          -0.5346484351157471,
          -0.5399062043004635,
          -0.5654307652879215,
          -0.6753844739960407,
          -0.7870156390691647,
          -0.7955935717799244,
          -0.8021019700741076,
          -0.7957727339557629,
          -0.8094180705667396,
          -0.5446334449321302,
          0.06939456685449806,
          -0.06737539976914736,
          -0.1480211577680748,
          -0.3119599088916325,
          -0.4799002573632007,
          -0.4854483498281933,
          -0.5733542006669905,
          -0.6652242280447069,
          0.12176880554150908,
          0.04412838818153325,
          0.4390183327108596,
          0.6206848080004779,
          0.5579080165421367,
          0.5381788129613356,
          0.5360549971273669,
          0.523114618883524,
          0.6638822419090588,
          0.6135839571265149,
          0.6413879119263575,
          0.6216129403175039,
          0.603323165618602,
          0.5705066968863519,
          0.5420102044216829,
          0.5362699423915499,
          0.4915892041256233,
          0.3951184924837659,
          0.41479421879296074,
          0.44704943379573897,
          0.4271807208082723,
          0.24025065803149145,
          0.0994154258340905,
          -0.2268306313722222,
          -0.23918291785403795,
          -0.2815533161308278,
          -0.3018756905157916,
          -0.34497709478940586,
          -0.34804023163564113,
          -0.3673074860938124,
          -0.3879870857837222,
          -0.3938284712562692,
          -0.43788014395570174,
          -0.5007045491248864,
          -0.5277358130824538,
          -0.535819412338068,
          -0.4965252772793713,
          -0.5157511599671571,
          -0.5431812595896662,
          -0.4623425712413941,
          -0.3430267991910854,
          -0.2964817861713032,
          -0.3227813130538042,
          -0.33850886357143056,
          0,
          0,
          -0.0909810180501411,
          -0.15308523077163808,
          -0.2517830237901756,
          -0.3238741368660002,
          -0.3472025037013325,
          -0.1870476508250514,
          -0.2611170332863336,
          -0.23088161307689858,
          -0.2724195938201193,
          0.10128920959188467,
          0.0039358668633615495,
          0,
          0.5505469955150261,
          0.5641529161208487,
          0.5096243181980672,
          0.4720725319155154,
          0.2713907681793454,
          0.517357247289365,
          0.7169329124780767,
          0.9757009208462607,
          0.9768895821771613,
          0.9809976219629253,
          0.9856060141149247,
          0.9922298477576352,
          0.9948004836717919,
          0.9810988542297079,
          0.9544780474789908,
          0.9071188454289951,
          0.8687451766452238,
          0.8544911758337762,
          0.8332162071506941,
          0.7784456653780157,
          0.5909337819124623,
          0.4816974105644943,
          0.39899444086417235,
          0.2999185967128658,
          0.8574111645254275,
          0.837632108718082,
          0.8357978853909762,
          0.8226223309102121,
          0.9842368570153729,
          0.967067599312722,
          0.8907547334223862,
          0.8557679730253119,
          0.8369493695274159,
          0.8019259554330062,
          0.7464284445294742,
          0.685315571863995,
          0.5223198127676706,
          0.5662624136587402,
          0.5129039242499155,
          0.4644724251895357,
          0.4375764750653156,
          0.2396765947439801,
          -0.07054268309863632,
          -0.260764287432949,
          -0.453137876253323,
          -0.4681286048584058,
          -0.43781402297393734,
          -0.45434206411992195,
          -0.4718266191520156,
          -0.4944197244103581,
          -0.5469374664891625,
          -0.15900174118438626,
          0.8910511140311724,
          0.8582413099131377,
          0.8290964343622031,
          0.8115939042291339,
          0.7829010262470415,
          0.8810489328010507,
          0.8633447570320355,
          0.8300128259441011,
          0.8062649253615876,
          0.9303833923620537,
          0.973769978759175,
          0.990806369947926,
          0.9916869118383779,
          0.9904359780148424,
          0.9869944556193192,
          0.9130585829031203,
          0.9278334574767613,
          0.964627738131996,
          0.943710628818437,
          0.9195909261038305,
          0.941753686796175,
          0.9123706964784727,
          0.9079379910119221,
          0.9056551860734753,
          0.9008999331774898,
          0.8962761282601927,
          0.8629491320335253,
          0.8475871559847984,
          0.808934496755564,
          0.6540350006299606,
          0.44494670231503686,
          0.18231208253708267,
          0,
          -0.12056447053327513,
          -0.13663425061377038,
          -0.17065832254396623,
          0.3650518293352241,
          0.16552301229729555,
          -0.060745786290635706,
          -0.10385431665471909,
          0.5417004941518919,
          0.41091473985254007,
          0.3077604643475883,
          0.00886044973655043,
          0.5196032895309464,
          0.9179353776704424,
          0.8491853856892803,
          0.8578372173733038,
          0.8105884007069646,
          0.7959345158829174,
          0.8201048394404074,
          0.6736060573531915,
          0.6622851823157101,
          0.6475111028165366,
          0.45790502203494554,
          0.4560994915301328,
          0.44358112954945117,
          0.8761726311256941,
          0.9724441463480021,
          0.8741390261130353,
          0.8856134852454909,
          0.853153201923753,
          0.994480239346748,
          0.8128985246482192,
          0.805275579424014,
          0.850461499872343,
          0.8267125970271506,
          0.76528066025002,
          0.7202838421350386,
          0.6930415094134017,
          0.6786524209588817,
          0.6326128935050802,
          0.574113438010315,
          0.5339094885082859,
          0.7832339796636711,
          0.8189974856913387,
          0.7737384884605837,
          0.8144537292796175,
          0.7887068248840821,
          0.7613540732578159,
          0.725356850735053,
          0.727846538074367,
          0.6977235329261428,
          0.6611623629435964,
          0.5438198081031449,
          0.41659139989356375,
          0.3349358835536837,
          0.09962921730515145,
          -0.2775555896376378,
          -0.45902040318863774,
          -0.5053412171490604,
          -0.5720810374465112,
          -0.4840616677271443,
          0.42715132457300536,
          0.4061405700421163,
          0.34835609655840855,
          0.3828570319169559,
          0.416868933336223,
          0.3163370748710261,
          0.18334063806445522,
          0.7170685161798377,
          0.6553306952609955,
          0.5956539403764192,
          0.7109300484082073,
          0.5760356632393181,
          0.3951943638944692,
          0.2763738622267387,
          0.20668772107139396,
          0,
          -0.07742053347422037,
          -0.2129142993460162,
          -0.35788391480782705,
          -0.16417520815657122,
          -0.21034174889165952,
          0.761634427494352,
          0.8878473216274891,
          0.9155686781787634,
          0.8554919909509501,
          0.8409608962340631,
          0.7472892003321844,
          0.9766465332135776,
          0.991476228196867,
          0.9933876049336244,
          0.9981367409888391,
          0.9964876853616403,
          0.9962147883378666,
          0.9950927164664279,
          0.9874100138915718,
          0.999347269330572,
          0.9991796993340006,
          0.7838050885452917,
          0.7270652070022796,
          0.8429406578711567,
          0.8073826592135077,
          0.842562772458092,
          0.7191275884187824,
          0.748990735428246,
          0.668379363620767,
          0.67389560087009,
          0.5586546420231457,
          0.6401611469586989,
          0.5573888327017895,
          0.45580335602580097,
          0.3593075587468036,
          0.06143885383442326,
          -0.11611621850307405,
          -0.24930613199505905,
          -0.3540958328764191,
          -0.38245917851679406,
          -0.34204466116874427,
          -0.3649468443357878,
          -0.4249746115493401,
          -0.2071892511675428,
          -0.33123591790342494,
          -0.4262747585866365,
          -0.3707156782699059,
          -0.453959526130739,
          -0.48751190314956716,
          -0.5125126444318252,
          -0.5376116911474844,
          -0.4555544136995582,
          0.530014022085151,
          0.5096711256242811,
          0.5216330434175199,
          0.4657928944561364,
          0.45295835456365446,
          0.4934552433919501,
          0.5615617615863605,
          0.39256625072185064,
          0.1942435325448504,
          0.002185923334605726,
          0.08168869687953006,
          0.0017674641190993951,
          -0.08283044250055424,
          -0.26420348961620843,
          -0.2964003815096664,
          -0.3093031542743612,
          -0.33548375645404127,
          -0.34108903360620946,
          -0.4927596031301388,
          -0.5198989186203946,
          -0.5807113406915553,
          -0.5909960047453855,
          -0.618421223541895,
          -0.6785246694923923,
          -0.9212015426716718,
          -0.9552597580523006,
          -0.7745016495847148,
          -0.8994522241125272,
          -0.9654562369907205,
          -0.6134937457610504,
          -0.7271676025584292,
          -0.9214034225984893,
          -0.41480942811904,
          -0.4968049665339662,
          -0.5658728749736083,
          -0.6625257967503296,
          -0.7812398570362228,
          -0.9268319598630372,
          0.22931900325783044,
          0.11911828304525614,
          0.05449068414324581,
          0.09396914203903968,
          -0.1300170372998903,
          -0.25277834697201335,
          -0.30355770054296694,
          -0.27311299939131284,
          -0.3658867211987111,
          -0.440463692054604,
          -0.5307519833134466,
          -0.5829519995276691,
          -0.6020090482733745,
          -0.7141943703280919,
          -0.7267397141132511,
          -0.7003838464632985,
          -0.7197169689287458,
          -0.8092684534054395,
          -0.7608090290085263,
          -0.8448910371643004,
          -0.9304318145974269,
          -0.939025012649713,
          -0.8119092316214346,
          -0.92242135495872,
          -0.8359395657232483,
          -0.7219175721933555,
          -0.6556033752921532,
          -0.9365151375491994,
          -0.9236681286270593,
          -0.814069396586883,
          -0.809349319697211,
          -0.5666152201465593,
          -0.5719724827295039,
          -0.2842255520198952,
          -0.33213364736656636,
          -0.4837983212648973,
          -0.5250049293004357,
          -0.5452952484465493,
          -0.3175503437400985,
          -0.20327319416935194,
          -0.23716724864216188,
          -0.22497841490668313,
          -0.2591879318347131,
          -0.289306688397819,
          -0.3516415923622641,
          -0.47779540013364563,
          0.11579017510858722,
          0,
          -0.0759676982543516,
          -0.16877750159150448,
          -0.28272370085862036,
          -0.3195292258931783,
          -0.35517196202666823,
          -0.6550847167926547,
          -0.5230098939269999,
          -0.6824959304280014,
          -0.7011475661961073,
          -0.8535284323970314,
          -0.8882911905956016,
          -0.902850351853763,
          -0.9151005995528997,
          -0.9409184240763379,
          -0.9846123526183259,
          -0.9846216737330037,
          -0.9844717888878148,
          -0.9519877766010293,
          -0.9784818582544367,
          -0.9472729122647419,
          -0.9498127010978191,
          -0.9558082623212198,
          -0.9006478402799801,
          -0.8264540825392118,
          -0.9095775038824806,
          -0.8449038565266523,
          -0.8850135997211721,
          -0.9521790600007336,
          -0.9982799840496847,
          -0.9973080425294678,
          -0.9937868435900674,
          -0.971875961163826,
          -0.9582063251861413,
          -0.9455963761242268,
          -0.9860282975870016,
          -0.9680851544405503,
          -0.9885306544464186,
          -0.9922294768442403,
          -0.9884229464375207,
          -0.947786036514813,
          -0.7107062728137825,
          -0.2807508916912787,
          -0.29478723353388997,
          -0.49482926190276083,
          -0.5730273059672675,
          -0.6714819127500293,
          -0.46624240124190425,
          -0.5571639382869542,
          -0.6693890549290373,
          -0.7333642515393247,
          -0.07391558067618721,
          0.0033484212772004873,
          -0.07117316726521436,
          -0.13884452340604864,
          -0.20448319215944213,
          -0.03140185691824295,
          -0.12931745948911835,
          0.38495948720647505,
          0.3663171705980525
         ]
        }
       ],
       "layout": {
        "legend": {
         "tracegroupgap": 0
        },
        "margin": {
         "t": 60
        },
        "scene": {
         "domain": {
          "x": [
           0,
           1
          ],
          "y": [
           0,
           1
          ]
         },
         "xaxis": {
          "title": {
           "text": "x"
          }
         },
         "yaxis": {
          "title": {
           "text": "y"
          }
         },
         "zaxis": {
          "title": {
           "text": "z"
          }
         }
        },
        "template": {
         "data": {
          "bar": [
           {
            "error_x": {
             "color": "#2a3f5f"
            },
            "error_y": {
             "color": "#2a3f5f"
            },
            "marker": {
             "line": {
              "color": "#E5ECF6",
              "width": 0.5
             },
             "pattern": {
              "fillmode": "overlay",
              "size": 10,
              "solidity": 0.2
             }
            },
            "type": "bar"
           }
          ],
          "barpolar": [
           {
            "marker": {
             "line": {
              "color": "#E5ECF6",
              "width": 0.5
             },
             "pattern": {
              "fillmode": "overlay",
              "size": 10,
              "solidity": 0.2
             }
            },
            "type": "barpolar"
           }
          ],
          "carpet": [
           {
            "aaxis": {
             "endlinecolor": "#2a3f5f",
             "gridcolor": "white",
             "linecolor": "white",
             "minorgridcolor": "white",
             "startlinecolor": "#2a3f5f"
            },
            "baxis": {
             "endlinecolor": "#2a3f5f",
             "gridcolor": "white",
             "linecolor": "white",
             "minorgridcolor": "white",
             "startlinecolor": "#2a3f5f"
            },
            "type": "carpet"
           }
          ],
          "choropleth": [
           {
            "colorbar": {
             "outlinewidth": 0,
             "ticks": ""
            },
            "type": "choropleth"
           }
          ],
          "contour": [
           {
            "colorbar": {
             "outlinewidth": 0,
             "ticks": ""
            },
            "colorscale": [
             [
              0,
              "#0d0887"
             ],
             [
              0.1111111111111111,
              "#46039f"
             ],
             [
              0.2222222222222222,
              "#7201a8"
             ],
             [
              0.3333333333333333,
              "#9c179e"
             ],
             [
              0.4444444444444444,
              "#bd3786"
             ],
             [
              0.5555555555555556,
              "#d8576b"
             ],
             [
              0.6666666666666666,
              "#ed7953"
             ],
             [
              0.7777777777777778,
              "#fb9f3a"
             ],
             [
              0.8888888888888888,
              "#fdca26"
             ],
             [
              1,
              "#f0f921"
             ]
            ],
            "type": "contour"
           }
          ],
          "contourcarpet": [
           {
            "colorbar": {
             "outlinewidth": 0,
             "ticks": ""
            },
            "type": "contourcarpet"
           }
          ],
          "heatmap": [
           {
            "colorbar": {
             "outlinewidth": 0,
             "ticks": ""
            },
            "colorscale": [
             [
              0,
              "#0d0887"
             ],
             [
              0.1111111111111111,
              "#46039f"
             ],
             [
              0.2222222222222222,
              "#7201a8"
             ],
             [
              0.3333333333333333,
              "#9c179e"
             ],
             [
              0.4444444444444444,
              "#bd3786"
             ],
             [
              0.5555555555555556,
              "#d8576b"
             ],
             [
              0.6666666666666666,
              "#ed7953"
             ],
             [
              0.7777777777777778,
              "#fb9f3a"
             ],
             [
              0.8888888888888888,
              "#fdca26"
             ],
             [
              1,
              "#f0f921"
             ]
            ],
            "type": "heatmap"
           }
          ],
          "heatmapgl": [
           {
            "colorbar": {
             "outlinewidth": 0,
             "ticks": ""
            },
            "colorscale": [
             [
              0,
              "#0d0887"
             ],
             [
              0.1111111111111111,
              "#46039f"
             ],
             [
              0.2222222222222222,
              "#7201a8"
             ],
             [
              0.3333333333333333,
              "#9c179e"
             ],
             [
              0.4444444444444444,
              "#bd3786"
             ],
             [
              0.5555555555555556,
              "#d8576b"
             ],
             [
              0.6666666666666666,
              "#ed7953"
             ],
             [
              0.7777777777777778,
              "#fb9f3a"
             ],
             [
              0.8888888888888888,
              "#fdca26"
             ],
             [
              1,
              "#f0f921"
             ]
            ],
            "type": "heatmapgl"
           }
          ],
          "histogram": [
           {
            "marker": {
             "pattern": {
              "fillmode": "overlay",
              "size": 10,
              "solidity": 0.2
             }
            },
            "type": "histogram"
           }
          ],
          "histogram2d": [
           {
            "colorbar": {
             "outlinewidth": 0,
             "ticks": ""
            },
            "colorscale": [
             [
              0,
              "#0d0887"
             ],
             [
              0.1111111111111111,
              "#46039f"
             ],
             [
              0.2222222222222222,
              "#7201a8"
             ],
             [
              0.3333333333333333,
              "#9c179e"
             ],
             [
              0.4444444444444444,
              "#bd3786"
             ],
             [
              0.5555555555555556,
              "#d8576b"
             ],
             [
              0.6666666666666666,
              "#ed7953"
             ],
             [
              0.7777777777777778,
              "#fb9f3a"
             ],
             [
              0.8888888888888888,
              "#fdca26"
             ],
             [
              1,
              "#f0f921"
             ]
            ],
            "type": "histogram2d"
           }
          ],
          "histogram2dcontour": [
           {
            "colorbar": {
             "outlinewidth": 0,
             "ticks": ""
            },
            "colorscale": [
             [
              0,
              "#0d0887"
             ],
             [
              0.1111111111111111,
              "#46039f"
             ],
             [
              0.2222222222222222,
              "#7201a8"
             ],
             [
              0.3333333333333333,
              "#9c179e"
             ],
             [
              0.4444444444444444,
              "#bd3786"
             ],
             [
              0.5555555555555556,
              "#d8576b"
             ],
             [
              0.6666666666666666,
              "#ed7953"
             ],
             [
              0.7777777777777778,
              "#fb9f3a"
             ],
             [
              0.8888888888888888,
              "#fdca26"
             ],
             [
              1,
              "#f0f921"
             ]
            ],
            "type": "histogram2dcontour"
           }
          ],
          "mesh3d": [
           {
            "colorbar": {
             "outlinewidth": 0,
             "ticks": ""
            },
            "type": "mesh3d"
           }
          ],
          "parcoords": [
           {
            "line": {
             "colorbar": {
              "outlinewidth": 0,
              "ticks": ""
             }
            },
            "type": "parcoords"
           }
          ],
          "pie": [
           {
            "automargin": true,
            "type": "pie"
           }
          ],
          "scatter": [
           {
            "fillpattern": {
             "fillmode": "overlay",
             "size": 10,
             "solidity": 0.2
            },
            "type": "scatter"
           }
          ],
          "scatter3d": [
           {
            "line": {
             "colorbar": {
              "outlinewidth": 0,
              "ticks": ""
             }
            },
            "marker": {
             "colorbar": {
              "outlinewidth": 0,
              "ticks": ""
             }
            },
            "type": "scatter3d"
           }
          ],
          "scattercarpet": [
           {
            "marker": {
             "colorbar": {
              "outlinewidth": 0,
              "ticks": ""
             }
            },
            "type": "scattercarpet"
           }
          ],
          "scattergeo": [
           {
            "marker": {
             "colorbar": {
              "outlinewidth": 0,
              "ticks": ""
             }
            },
            "type": "scattergeo"
           }
          ],
          "scattergl": [
           {
            "marker": {
             "colorbar": {
              "outlinewidth": 0,
              "ticks": ""
             }
            },
            "type": "scattergl"
           }
          ],
          "scattermapbox": [
           {
            "marker": {
             "colorbar": {
              "outlinewidth": 0,
              "ticks": ""
             }
            },
            "type": "scattermapbox"
           }
          ],
          "scatterpolar": [
           {
            "marker": {
             "colorbar": {
              "outlinewidth": 0,
              "ticks": ""
             }
            },
            "type": "scatterpolar"
           }
          ],
          "scatterpolargl": [
           {
            "marker": {
             "colorbar": {
              "outlinewidth": 0,
              "ticks": ""
             }
            },
            "type": "scatterpolargl"
           }
          ],
          "scatterternary": [
           {
            "marker": {
             "colorbar": {
              "outlinewidth": 0,
              "ticks": ""
             }
            },
            "type": "scatterternary"
           }
          ],
          "surface": [
           {
            "colorbar": {
             "outlinewidth": 0,
             "ticks": ""
            },
            "colorscale": [
             [
              0,
              "#0d0887"
             ],
             [
              0.1111111111111111,
              "#46039f"
             ],
             [
              0.2222222222222222,
              "#7201a8"
             ],
             [
              0.3333333333333333,
              "#9c179e"
             ],
             [
              0.4444444444444444,
              "#bd3786"
             ],
             [
              0.5555555555555556,
              "#d8576b"
             ],
             [
              0.6666666666666666,
              "#ed7953"
             ],
             [
              0.7777777777777778,
              "#fb9f3a"
             ],
             [
              0.8888888888888888,
              "#fdca26"
             ],
             [
              1,
              "#f0f921"
             ]
            ],
            "type": "surface"
           }
          ],
          "table": [
           {
            "cells": {
             "fill": {
              "color": "#EBF0F8"
             },
             "line": {
              "color": "white"
             }
            },
            "header": {
             "fill": {
              "color": "#C8D4E3"
             },
             "line": {
              "color": "white"
             }
            },
            "type": "table"
           }
          ]
         },
         "layout": {
          "annotationdefaults": {
           "arrowcolor": "#2a3f5f",
           "arrowhead": 0,
           "arrowwidth": 1
          },
          "autotypenumbers": "strict",
          "coloraxis": {
           "colorbar": {
            "outlinewidth": 0,
            "ticks": ""
           }
          },
          "colorscale": {
           "diverging": [
            [
             0,
             "#8e0152"
            ],
            [
             0.1,
             "#c51b7d"
            ],
            [
             0.2,
             "#de77ae"
            ],
            [
             0.3,
             "#f1b6da"
            ],
            [
             0.4,
             "#fde0ef"
            ],
            [
             0.5,
             "#f7f7f7"
            ],
            [
             0.6,
             "#e6f5d0"
            ],
            [
             0.7,
             "#b8e186"
            ],
            [
             0.8,
             "#7fbc41"
            ],
            [
             0.9,
             "#4d9221"
            ],
            [
             1,
             "#276419"
            ]
           ],
           "sequential": [
            [
             0,
             "#0d0887"
            ],
            [
             0.1111111111111111,
             "#46039f"
            ],
            [
             0.2222222222222222,
             "#7201a8"
            ],
            [
             0.3333333333333333,
             "#9c179e"
            ],
            [
             0.4444444444444444,
             "#bd3786"
            ],
            [
             0.5555555555555556,
             "#d8576b"
            ],
            [
             0.6666666666666666,
             "#ed7953"
            ],
            [
             0.7777777777777778,
             "#fb9f3a"
            ],
            [
             0.8888888888888888,
             "#fdca26"
            ],
            [
             1,
             "#f0f921"
            ]
           ],
           "sequentialminus": [
            [
             0,
             "#0d0887"
            ],
            [
             0.1111111111111111,
             "#46039f"
            ],
            [
             0.2222222222222222,
             "#7201a8"
            ],
            [
             0.3333333333333333,
             "#9c179e"
            ],
            [
             0.4444444444444444,
             "#bd3786"
            ],
            [
             0.5555555555555556,
             "#d8576b"
            ],
            [
             0.6666666666666666,
             "#ed7953"
            ],
            [
             0.7777777777777778,
             "#fb9f3a"
            ],
            [
             0.8888888888888888,
             "#fdca26"
            ],
            [
             1,
             "#f0f921"
            ]
           ]
          },
          "colorway": [
           "#636efa",
           "#EF553B",
           "#00cc96",
           "#ab63fa",
           "#FFA15A",
           "#19d3f3",
           "#FF6692",
           "#B6E880",
           "#FF97FF",
           "#FECB52"
          ],
          "font": {
           "color": "#2a3f5f"
          },
          "geo": {
           "bgcolor": "white",
           "lakecolor": "white",
           "landcolor": "#E5ECF6",
           "showlakes": true,
           "showland": true,
           "subunitcolor": "white"
          },
          "hoverlabel": {
           "align": "left"
          },
          "hovermode": "closest",
          "mapbox": {
           "style": "light"
          },
          "paper_bgcolor": "white",
          "plot_bgcolor": "#E5ECF6",
          "polar": {
           "angularaxis": {
            "gridcolor": "white",
            "linecolor": "white",
            "ticks": ""
           },
           "bgcolor": "#E5ECF6",
           "radialaxis": {
            "gridcolor": "white",
            "linecolor": "white",
            "ticks": ""
           }
          },
          "scene": {
           "xaxis": {
            "backgroundcolor": "#E5ECF6",
            "gridcolor": "white",
            "gridwidth": 2,
            "linecolor": "white",
            "showbackground": true,
            "ticks": "",
            "zerolinecolor": "white"
           },
           "yaxis": {
            "backgroundcolor": "#E5ECF6",
            "gridcolor": "white",
            "gridwidth": 2,
            "linecolor": "white",
            "showbackground": true,
            "ticks": "",
            "zerolinecolor": "white"
           },
           "zaxis": {
            "backgroundcolor": "#E5ECF6",
            "gridcolor": "white",
            "gridwidth": 2,
            "linecolor": "white",
            "showbackground": true,
            "ticks": "",
            "zerolinecolor": "white"
           }
          },
          "shapedefaults": {
           "line": {
            "color": "#2a3f5f"
           }
          },
          "ternary": {
           "aaxis": {
            "gridcolor": "white",
            "linecolor": "white",
            "ticks": ""
           },
           "baxis": {
            "gridcolor": "white",
            "linecolor": "white",
            "ticks": ""
           },
           "bgcolor": "#E5ECF6",
           "caxis": {
            "gridcolor": "white",
            "linecolor": "white",
            "ticks": ""
           }
          },
          "title": {
           "x": 0.05
          },
          "xaxis": {
           "automargin": true,
           "gridcolor": "white",
           "linecolor": "white",
           "ticks": "",
           "title": {
            "standoff": 15
           },
           "zerolinecolor": "white",
           "zerolinewidth": 2
          },
          "yaxis": {
           "automargin": true,
           "gridcolor": "white",
           "linecolor": "white",
           "ticks": "",
           "title": {
            "standoff": 15
           },
           "zerolinecolor": "white",
           "zerolinewidth": 2
          }
         }
        }
       }
      }
     },
     "metadata": {},
     "output_type": "display_data"
    }
   ],
   "source": [
    "params = np.stack([s.param for s in states])\n",
    "\n",
    "fig = px.scatter_3d(x=params[:,0], y=params[:,1], z=params[:,2])\n",
    "fig.show()"
   ]
  },
  {
   "cell_type": "markdown",
   "metadata": {},
   "source": [
    "Now we try to compute a Minkowski sum directly through qhull\n",
    "\n",
    "- I'm giving up on using qhull as its numerical stability mechanisms mean that we get different results"
   ]
  },
  {
   "cell_type": "code",
   "execution_count": 78,
   "metadata": {},
   "outputs": [
    {
     "name": "stdout",
     "output_type": "stream",
     "text": [
      "Input lens 8, 9\n",
      "Lengths 72, 29\n",
      "Input lens 29, 7\n",
      "Lengths 203, 58\n",
      "Input lens 58, 7\n",
      "Lengths 406, 93\n",
      "Input lens 93, 8\n",
      "Lengths 744, 158\n",
      "Input lens 158, 8\n",
      "Lengths 1264, 234\n",
      "Input lens 234, 10\n",
      "Lengths 2340, 332\n",
      "Input lens 332, 8\n",
      "Lengths 2656, 435\n",
      "Input lens 435, 8\n",
      "Lengths 3480, 549\n",
      "Input lens 549, 9\n",
      "Lengths 4941, 696\n",
      "696\n",
      "[0, 0, 7, 1, 1, 3, 1, 8, 9, 1]\n",
      "[0, 0, 7, 9, 1, 3, 1, 8, 9, 1]\n",
      "[0, 0, 9, 1, 0, 3, 1, 8, 9, 1]\n",
      "[0, 0, 9, 1, 1, 3, 1, 8, 9, 1]\n",
      "[0, 0, 9, 1, 1, 3, 1, 9, 9, 1]\n",
      "[0, 0, 9, 1, 1, 4, 1, 8, 9, 1]\n",
      "[0, 0, 9, 1, 1, 4, 1, 9, 9, 1]\n",
      "[0, 0, 9, 1, 1, 4, 1, 9, 9, 3]\n",
      "[0, 0, 9, 1, 1, 4, 2, 9, 9, 1]\n",
      "[0, 0, 9, 1, 1, 4, 2, 9, 9, 3]\n",
      "[0, 0, 9, 9, 0, 3, 1, 8, 9, 1]\n",
      "[0, 0, 9, 9, 1, 3, 1, 8, 9, 1]\n",
      "[0, 3, 7, 1, 1, 2, 1, 6, 0, 3]\n",
      "[0, 3, 7, 1, 1, 2, 1, 6, 2, 3]\n",
      "[0, 3, 7, 1, 1, 2, 3, 6, 2, 3]\n",
      "[0, 3, 7, 1, 1, 2, 5, 6, 2, 3]\n",
      "[0, 3, 7, 1, 1, 2, 8, 6, 2, 3]\n",
      "[0, 3, 7, 1, 1, 2, 8, 8, 2, 3]\n",
      "[0, 3, 7, 1, 1, 3, 1, 6, 0, 3]\n",
      "[0, 3, 7, 1, 1, 3, 1, 6, 2, 3]\n",
      "[0, 3, 7, 1, 1, 3, 1, 8, 0, 1]\n",
      "[0, 3, 7, 1, 1, 3, 1, 8, 0, 3]\n",
      "[0, 3, 7, 1, 1, 3, 1, 8, 2, 1]\n",
      "[0, 3, 7, 1, 1, 3, 1, 8, 2, 3]\n",
      "[0, 3, 7, 1, 1, 3, 1, 8, 9, 1]\n",
      "[0, 3, 7, 1, 1, 3, 1, 8, 9, 3]\n",
      "[0, 3, 7, 1, 1, 3, 8, 6, 2, 3]\n",
      "[0, 3, 7, 1, 1, 3, 8, 8, 2, 1]\n",
      "[0, 3, 7, 1, 1, 3, 8, 8, 2, 3]\n",
      "[0, 3, 7, 1, 1, 3, 8, 8, 9, 1]\n",
      "[0, 3, 7, 1, 1, 5, 1, 6, 0, 3]\n",
      "[0, 3, 7, 1, 1, 5, 1, 6, 2, 3]\n",
      "[0, 3, 7, 1, 1, 8, 1, 6, 0, 3]\n",
      "[0, 3, 7, 1, 1, 8, 1, 6, 2, 3]\n",
      "[0, 3, 7, 1, 1, 8, 5, 6, 0, 3]\n",
      "[0, 3, 7, 1, 1, 8, 5, 6, 2, 3]\n",
      "[0, 3, 7, 4, 1, 2, 3, 6, 2, 3]\n",
      "[0, 3, 7, 4, 1, 2, 5, 6, 2, 3]\n",
      "[0, 3, 7, 4, 1, 2, 8, 6, 2, 1]\n",
      "[0, 3, 7, 4, 1, 2, 8, 6, 2, 3]\n",
      "[0, 3, 7, 4, 1, 2, 8, 8, 2, 1]\n",
      "[0, 3, 7, 4, 1, 2, 8, 8, 2, 3]\n",
      "[0, 3, 7, 4, 1, 3, 8, 8, 2, 1]\n",
      "[0, 3, 7, 4, 1, 3, 8, 8, 2, 3]\n",
      "[0, 3, 7, 4, 1, 3, 8, 8, 3, 1]\n",
      "[0, 3, 7, 4, 1, 3, 8, 8, 9, 1]\n",
      "[0, 3, 7, 4, 1, 8, 3, 6, 2, 3]\n",
      "[0, 3, 7, 4, 1, 8, 5, 6, 2, 3]\n",
      "[0, 3, 7, 4, 1, 8, 8, 6, 2, 3]\n",
      "[0, 3, 7, 4, 3, 2, 8, 6, 2, 1]\n",
      "[0, 3, 7, 4, 3, 2, 8, 6, 2, 3]\n",
      "[0, 3, 7, 4, 3, 2, 8, 8, 2, 1]\n",
      "[0, 3, 7, 4, 3, 3, 8, 8, 2, 1]\n",
      "[0, 3, 7, 4, 3, 3, 8, 8, 3, 1]\n",
      "[0, 3, 7, 4, 3, 3, 8, 8, 9, 1]\n",
      "[0, 3, 7, 4, 3, 8, 5, 6, 2, 3]\n",
      "[0, 3, 7, 4, 3, 8, 8, 6, 2, 3]\n",
      "[0, 3, 7, 7, 3, 2, 8, 8, 2, 1]\n",
      "[0, 3, 7, 7, 3, 3, 8, 8, 2, 1]\n",
      "[0, 3, 7, 7, 3, 3, 8, 8, 3, 1]\n",
      "[0, 3, 7, 7, 3, 3, 8, 8, 9, 1]\n",
      "[0, 3, 7, 9, 1, 3, 1, 8, 9, 1]\n",
      "[0, 3, 7, 9, 1, 3, 8, 8, 9, 1]\n",
      "[0, 3, 9, 1, 1, 3, 1, 8, 9, 1]\n",
      "[0, 5, 7, 1, 1, 5, 1, 2, 0, 3]\n",
      "[0, 5, 9, 1, 1, 4, 1, 2, 0, 3]\n",
      "[0, 5, 9, 1, 1, 4, 1, 2, 9, 3]\n",
      "[0, 5, 9, 1, 1, 4, 1, 9, 9, 3]\n",
      "[0, 5, 9, 1, 1, 4, 2, 2, 0, 3]\n",
      "[0, 5, 9, 1, 1, 4, 2, 2, 9, 3]\n",
      "[0, 5, 9, 1, 1, 4, 2, 9, 9, 3]\n",
      "[0, 5, 9, 1, 1, 5, 1, 2, 0, 3]\n",
      "[0, 6, 2, 1, 1, 4, 1, 2, 0, 3]\n",
      "[0, 6, 2, 1, 1, 4, 2, 2, 0, 3]\n",
      "[0, 6, 2, 1, 1, 4, 2, 9, 0, 3]\n",
      "[0, 6, 2, 1, 1, 9, 1, 2, 0, 3]\n",
      "[0, 6, 2, 1, 1, 9, 2, 2, 0, 3]\n",
      "[0, 6, 2, 1, 1, 9, 9, 2, 0, 3]\n",
      "[0, 6, 2, 1, 6, 4, 2, 2, 0, 3]\n",
      "[0, 6, 2, 1, 6, 9, 2, 1, 0, 3]\n",
      "[0, 6, 2, 1, 6, 9, 2, 2, 0, 3]\n",
      "[0, 6, 2, 1, 6, 9, 9, 1, 0, 3]\n",
      "[0, 6, 2, 1, 6, 9, 9, 2, 0, 3]\n",
      "[0, 6, 3, 1, 1, 5, 1, 2, 0, 3]\n",
      "[0, 6, 3, 1, 1, 8, 1, 2, 0, 3]\n",
      "[0, 6, 3, 1, 1, 8, 7, 2, 0, 3]\n",
      "[0, 6, 3, 1, 1, 8, 9, 2, 0, 3]\n",
      "[0, 6, 3, 1, 1, 9, 1, 2, 0, 3]\n",
      "[0, 6, 3, 1, 1, 9, 7, 2, 0, 3]\n",
      "[0, 6, 3, 1, 1, 9, 9, 2, 0, 3]\n",
      "[0, 6, 7, 1, 1, 5, 1, 2, 0, 3]\n",
      "[0, 6, 7, 1, 1, 5, 1, 6, 0, 3]\n",
      "[0, 6, 7, 1, 1, 8, 1, 2, 0, 3]\n",
      "[0, 6, 7, 1, 1, 8, 1, 6, 0, 3]\n",
      "[0, 6, 7, 1, 1, 8, 5, 6, 0, 3]\n",
      "[0, 6, 7, 1, 1, 8, 7, 2, 0, 3]\n",
      "[0, 6, 7, 1, 1, 8, 7, 6, 0, 3]\n",
      "[0, 6, 7, 1, 1, 8, 9, 2, 0, 3]\n",
      "[0, 6, 8, 1, 1, 4, 1, 2, 0, 3]\n",
      "[0, 6, 8, 1, 1, 4, 2, 2, 0, 3]\n",
      "[0, 6, 8, 1, 1, 9, 1, 2, 0, 3]\n",
      "[0, 6, 9, 1, 1, 4, 1, 2, 0, 3]\n",
      "[0, 6, 9, 1, 1, 4, 2, 2, 0, 3]\n",
      "[0, 6, 9, 1, 1, 4, 2, 2, 9, 3]\n",
      "[0, 6, 9, 1, 1, 4, 2, 9, 0, 3]\n",
      "[0, 6, 9, 1, 1, 4, 2, 9, 9, 3]\n",
      "[0, 6, 9, 1, 1, 5, 1, 2, 0, 3]\n",
      "[0, 6, 9, 1, 1, 9, 1, 2, 0, 3]\n",
      "[0, 7, 7, 1, 1, 3, 1, 6, 0, 3]\n",
      "[0, 7, 7, 1, 1, 3, 1, 8, 0, 3]\n",
      "[0, 7, 7, 1, 1, 3, 1, 8, 9, 1]\n",
      "[0, 7, 7, 1, 1, 3, 1, 8, 9, 3]\n",
      "[0, 7, 7, 1, 1, 4, 1, 2, 0, 3]\n",
      "[0, 7, 7, 1, 1, 4, 1, 4, 0, 3]\n",
      "[0, 7, 7, 1, 1, 4, 1, 8, 0, 3]\n",
      "[0, 7, 7, 1, 1, 4, 1, 8, 9, 3]\n",
      "[0, 7, 7, 1, 1, 5, 1, 2, 0, 3]\n",
      "[0, 7, 7, 1, 1, 5, 1, 4, 0, 3]\n",
      "[0, 7, 7, 1, 1, 5, 1, 6, 0, 3]\n",
      "[0, 7, 7, 1, 1, 5, 1, 8, 0, 3]\n",
      "[0, 7, 7, 1, 1, 8, 1, 6, 0, 3]\n",
      "[0, 7, 7, 1, 1, 8, 5, 6, 0, 3]\n",
      "[0, 7, 9, 1, 1, 3, 1, 8, 9, 1]\n",
      "[0, 7, 9, 1, 1, 3, 1, 8, 9, 3]\n",
      "[0, 7, 9, 1, 1, 4, 1, 2, 0, 3]\n",
      "[0, 7, 9, 1, 1, 4, 1, 2, 9, 1]\n",
      "[0, 7, 9, 1, 1, 4, 1, 2, 9, 3]\n",
      "[0, 7, 9, 1, 1, 4, 1, 8, 0, 3]\n",
      "[0, 7, 9, 1, 1, 4, 1, 8, 9, 1]\n",
      "[0, 7, 9, 1, 1, 4, 1, 8, 9, 3]\n",
      "[0, 7, 9, 1, 1, 4, 1, 9, 9, 1]\n",
      "[0, 7, 9, 1, 1, 4, 1, 9, 9, 3]\n",
      "[0, 7, 9, 1, 1, 4, 2, 9, 9, 3]\n",
      "[0, 7, 9, 1, 1, 5, 1, 2, 0, 3]\n",
      "[1, 2, 7, 3, 7, 1, 7, 1, 6, 5]\n",
      "[1, 2, 7, 3, 7, 1, 7, 1, 6, 9]\n",
      "[1, 2, 7, 3, 7, 1, 7, 6, 6, 5]\n",
      "[1, 2, 7, 7, 3, 1, 7, 6, 2, 5]\n",
      "[1, 2, 7, 7, 3, 1, 7, 6, 6, 5]\n",
      "[1, 2, 7, 7, 7, 1, 7, 1, 6, 5]\n",
      "[1, 2, 7, 7, 7, 1, 7, 1, 6, 9]\n",
      "[1, 2, 7, 7, 7, 1, 7, 6, 6, 5]\n",
      "[1, 2, 7, 7, 7, 1, 7, 6, 6, 9]\n",
      "[1, 3, 7, 1, 1, 8, 5, 6, 0, 3]\n",
      "[1, 3, 7, 1, 1, 8, 5, 6, 2, 3]\n",
      "[1, 3, 7, 1, 1, 8, 7, 6, 0, 3]\n",
      "[1, 3, 7, 1, 1, 8, 7, 6, 2, 3]\n",
      "[1, 3, 7, 1, 7, 8, 7, 6, 2, 3]\n",
      "[1, 3, 7, 3, 7, 1, 7, 6, 2, 3]\n",
      "[1, 3, 7, 3, 7, 1, 7, 6, 2, 5]\n",
      "[1, 3, 7, 3, 7, 1, 7, 6, 6, 5]\n",
      "[1, 3, 7, 3, 7, 8, 7, 6, 2, 3]\n",
      "[1, 3, 7, 4, 1, 8, 5, 6, 2, 3]\n",
      "[1, 3, 7, 4, 1, 8, 7, 6, 2, 3]\n",
      "[1, 3, 7, 4, 3, 1, 5, 6, 2, 3]\n",
      "[1, 3, 7, 4, 3, 1, 5, 6, 2, 5]\n",
      "[1, 3, 7, 4, 3, 1, 7, 6, 2, 3]\n",
      "[1, 3, 7, 4, 3, 1, 7, 6, 2, 5]\n",
      "[1, 3, 7, 4, 3, 1, 8, 6, 2, 3]\n",
      "[1, 3, 7, 4, 3, 2, 8, 6, 2, 1]\n",
      "[1, 3, 7, 4, 3, 2, 8, 6, 2, 3]\n",
      "[1, 3, 7, 4, 3, 2, 8, 8, 2, 1]\n",
      "[1, 3, 7, 4, 3, 8, 5, 6, 2, 3]\n",
      "[1, 3, 7, 4, 3, 8, 7, 6, 2, 3]\n",
      "[1, 3, 7, 4, 3, 8, 8, 6, 2, 3]\n",
      "[1, 3, 7, 4, 7, 1, 7, 6, 2, 3]\n",
      "[1, 3, 7, 4, 7, 1, 7, 6, 2, 5]\n",
      "[1, 3, 7, 4, 7, 8, 7, 6, 2, 3]\n",
      "[1, 3, 7, 7, 3, 1, 5, 6, 2, 3]\n",
      "[1, 3, 7, 7, 3, 1, 5, 6, 2, 5]\n",
      "[1, 3, 7, 7, 3, 1, 7, 6, 2, 5]\n",
      "[1, 3, 7, 7, 3, 1, 7, 6, 6, 5]\n",
      "[1, 3, 7, 7, 3, 1, 8, 6, 2, 1]\n",
      "[1, 3, 7, 7, 3, 1, 8, 6, 2, 3]\n",
      "[1, 3, 7, 7, 3, 1, 8, 6, 2, 5]\n",
      "[1, 3, 7, 7, 3, 2, 8, 6, 2, 1]\n",
      "[1, 3, 7, 7, 3, 2, 8, 6, 2, 3]\n",
      "[1, 3, 7, 7, 3, 2, 8, 8, 2, 1]\n",
      "[1, 3, 7, 7, 3, 8, 8, 6, 2, 3]\n",
      "[1, 3, 7, 7, 7, 1, 7, 6, 2, 5]\n",
      "[1, 3, 7, 7, 7, 1, 7, 6, 6, 5]\n",
      "[1, 6, 2, 1, 1, 9, 7, 2, 0, 3]\n",
      "[1, 6, 2, 1, 1, 9, 9, 2, 0, 3]\n",
      "[1, 6, 2, 1, 6, 9, 7, 1, 0, 3]\n",
      "[1, 6, 2, 1, 6, 9, 7, 1, 6, 3]\n",
      "[1, 6, 2, 1, 6, 9, 7, 2, 0, 3]\n",
      "[1, 6, 2, 1, 6, 9, 9, 1, 0, 3]\n",
      "[1, 6, 2, 1, 6, 9, 9, 2, 0, 3]\n",
      "[1, 6, 2, 1, 7, 8, 7, 1, 0, 3]\n",
      "[1, 6, 2, 1, 7, 8, 7, 1, 6, 3]\n",
      "[1, 6, 2, 1, 7, 9, 7, 1, 0, 3]\n",
      "[1, 6, 2, 1, 7, 9, 7, 1, 6, 3]\n",
      "[1, 6, 2, 3, 5, 1, 7, 1, 6, 0]\n",
      "[1, 6, 2, 3, 5, 1, 7, 1, 6, 3]\n",
      "[1, 6, 2, 3, 5, 1, 7, 1, 6, 5]\n",
      "[1, 6, 2, 3, 5, 1, 7, 1, 6, 9]\n",
      "[1, 6, 2, 3, 6, 1, 7, 1, 6, 3]\n",
      "[1, 6, 2, 3, 6, 1, 7, 1, 6, 5]\n",
      "[1, 6, 2, 3, 6, 9, 7, 1, 6, 3]\n",
      "[1, 6, 2, 3, 7, 1, 7, 1, 6, 0]\n",
      "[1, 6, 2, 3, 7, 1, 7, 1, 6, 3]\n",
      "[1, 6, 2, 3, 7, 1, 7, 1, 6, 5]\n",
      "[1, 6, 2, 3, 7, 1, 7, 1, 6, 9]\n",
      "[1, 6, 2, 3, 7, 8, 7, 1, 6, 3]\n",
      "[1, 6, 2, 3, 7, 9, 7, 1, 6, 3]\n",
      "[1, 6, 2, 6, 5, 1, 7, 1, 6, 0]\n",
      "[1, 6, 2, 6, 5, 1, 7, 1, 6, 3]\n",
      "[1, 6, 2, 6, 5, 1, 7, 1, 6, 5]\n",
      "[1, 6, 2, 6, 5, 1, 7, 1, 6, 9]\n",
      "[1, 6, 2, 6, 5, 9, 7, 1, 6, 0]\n",
      "[1, 6, 2, 6, 5, 9, 7, 1, 6, 3]\n",
      "[1, 6, 2, 6, 5, 9, 7, 1, 6, 5]\n",
      "[1, 6, 2, 6, 5, 9, 9, 1, 6, 0]\n",
      "[1, 6, 2, 6, 5, 9, 9, 1, 6, 3]\n",
      "[1, 6, 2, 6, 5, 9, 9, 1, 6, 5]\n",
      "[1, 6, 2, 6, 5, 9, 9, 1, 6, 6]\n",
      "[1, 6, 2, 6, 5, 9, 9, 1, 6, 8]\n",
      "[1, 6, 2, 6, 6, 1, 7, 1, 6, 3]\n",
      "[1, 6, 2, 6, 6, 9, 7, 1, 0, 3]\n",
      "[1, 6, 2, 6, 6, 9, 7, 1, 6, 3]\n",
      "[1, 6, 2, 6, 6, 9, 9, 1, 0, 3]\n",
      "[1, 6, 2, 6, 6, 9, 9, 1, 0, 8]\n",
      "[1, 6, 2, 6, 6, 9, 9, 1, 6, 3]\n",
      "[1, 6, 2, 6, 6, 9, 9, 1, 6, 8]\n",
      "[1, 6, 2, 6, 7, 1, 7, 1, 6, 9]\n",
      "[1, 6, 2, 7, 7, 1, 7, 1, 6, 9]\n",
      "[1, 6, 3, 1, 1, 8, 7, 1, 0, 3]\n",
      "[1, 6, 3, 1, 1, 8, 7, 2, 0, 3]\n",
      "[1, 6, 3, 1, 1, 8, 7, 6, 0, 3]\n",
      "[1, 6, 3, 1, 1, 9, 7, 1, 0, 3]\n",
      "[1, 6, 3, 1, 1, 9, 7, 2, 0, 3]\n",
      "[1, 6, 3, 1, 1, 9, 9, 2, 0, 3]\n",
      "[1, 6, 3, 1, 6, 8, 7, 1, 0, 3]\n",
      "[1, 6, 3, 1, 6, 9, 7, 1, 0, 3]\n",
      "[1, 6, 3, 1, 6, 9, 7, 2, 0, 3]\n",
      "[1, 6, 3, 1, 7, 8, 7, 1, 0, 3]\n",
      "[1, 6, 3, 1, 7, 8, 7, 1, 2, 3]\n",
      "[1, 6, 3, 1, 7, 8, 7, 1, 6, 3]\n",
      "[1, 6, 3, 1, 7, 8, 7, 6, 0, 3]\n",
      "[1, 6, 3, 1, 7, 9, 7, 1, 0, 3]\n",
      "[1, 6, 3, 3, 7, 1, 7, 1, 6, 3]\n",
      "[1, 6, 3, 3, 7, 1, 7, 1, 6, 5]\n",
      "[1, 6, 3, 3, 7, 8, 7, 1, 2, 3]\n",
      "[1, 6, 3, 3, 7, 8, 7, 1, 6, 3]\n",
      "[1, 6, 7, 1, 1, 8, 5, 6, 0, 3]\n",
      "[1, 6, 7, 1, 1, 8, 7, 2, 0, 3]\n",
      "[1, 6, 7, 1, 1, 8, 7, 6, 0, 3]\n",
      "[1, 6, 7, 1, 1, 8, 7, 6, 2, 3]\n",
      "[1, 6, 7, 1, 7, 8, 7, 1, 0, 3]\n",
      "[1, 6, 7, 1, 7, 8, 7, 1, 2, 3]\n",
      "[1, 6, 7, 1, 7, 8, 7, 6, 0, 3]\n",
      "[1, 6, 7, 1, 7, 8, 7, 6, 2, 3]\n",
      "[1, 6, 7, 3, 7, 1, 7, 1, 2, 3]\n",
      "[1, 6, 7, 3, 7, 1, 7, 1, 6, 3]\n",
      "[1, 6, 7, 3, 7, 1, 7, 1, 6, 5]\n",
      "[1, 6, 7, 3, 7, 1, 7, 1, 6, 9]\n",
      "[1, 6, 7, 3, 7, 1, 7, 6, 2, 3]\n",
      "[1, 6, 7, 3, 7, 1, 7, 6, 2, 5]\n",
      "[1, 6, 7, 3, 7, 1, 7, 6, 6, 3]\n",
      "[1, 6, 7, 3, 7, 1, 7, 6, 6, 5]\n",
      "[1, 6, 7, 3, 7, 8, 7, 1, 2, 3]\n",
      "[1, 6, 7, 3, 7, 8, 7, 1, 6, 3]\n",
      "[1, 6, 7, 3, 7, 8, 7, 6, 2, 3]\n",
      "[1, 6, 7, 4, 7, 8, 7, 6, 2, 3]\n",
      "[1, 6, 7, 7, 7, 1, 7, 1, 6, 9]\n",
      "[2, 0, 1, 9, 4, 4, 2, 9, 8, 2]\n",
      "[2, 0, 1, 9, 9, 4, 2, 9, 8, 2]\n",
      "[2, 0, 2, 9, 4, 4, 2, 9, 8, 2]\n",
      "[2, 0, 2, 9, 9, 4, 2, 9, 8, 2]\n",
      "[2, 4, 6, 9, 4, 1, 0, 3, 5, 9]\n",
      "[2, 4, 6, 9, 4, 1, 0, 5, 5, 9]\n",
      "[2, 4, 6, 9, 4, 1, 6, 3, 5, 9]\n",
      "[2, 4, 6, 9, 4, 1, 6, 5, 5, 9]\n",
      "[2, 4, 6, 9, 4, 6, 0, 3, 5, 9]\n",
      "[2, 4, 6, 9, 4, 6, 0, 5, 5, 7]\n",
      "[2, 4, 6, 9, 4, 6, 0, 5, 5, 9]\n",
      "[2, 4, 6, 9, 4, 6, 0, 9, 5, 7]\n",
      "[2, 4, 6, 9, 4, 6, 0, 9, 5, 9]\n",
      "[2, 6, 2, 6, 4, 1, 2, 3, 8, 2]\n",
      "[2, 6, 2, 6, 4, 1, 2, 3, 8, 9]\n",
      "[2, 6, 2, 6, 4, 1, 6, 3, 6, 9]\n",
      "[2, 6, 2, 6, 4, 1, 6, 3, 8, 9]\n",
      "[2, 6, 2, 6, 4, 1, 7, 3, 6, 9]\n",
      "[2, 6, 2, 6, 4, 1, 9, 3, 6, 9]\n",
      "[2, 6, 2, 6, 4, 1, 9, 3, 8, 9]\n",
      "[2, 6, 2, 6, 4, 4, 2, 3, 8, 2]\n",
      "[2, 6, 2, 6, 4, 9, 2, 3, 8, 2]\n",
      "[2, 6, 2, 6, 4, 9, 2, 3, 8, 9]\n",
      "[2, 6, 2, 6, 5, 1, 2, 3, 8, 9]\n",
      "[2, 6, 2, 6, 5, 1, 7, 3, 6, 9]\n",
      "[2, 6, 2, 6, 5, 1, 9, 1, 6, 9]\n",
      "[2, 6, 2, 6, 5, 1, 9, 3, 6, 9]\n",
      "[2, 6, 2, 6, 5, 1, 9, 3, 8, 9]\n",
      "[2, 6, 2, 6, 5, 4, 2, 3, 8, 2]\n",
      "[2, 6, 2, 6, 5, 4, 2, 9, 8, 2]\n",
      "[2, 6, 2, 6, 5, 9, 2, 1, 8, 8]\n",
      "[2, 6, 2, 6, 5, 9, 2, 3, 8, 2]\n",
      "[2, 6, 2, 6, 5, 9, 2, 3, 8, 8]\n",
      "[2, 6, 2, 6, 5, 9, 2, 3, 8, 9]\n",
      "[2, 6, 2, 6, 5, 9, 9, 1, 6, 6]\n",
      "[2, 6, 2, 6, 5, 9, 9, 1, 6, 8]\n",
      "[2, 6, 2, 6, 5, 9, 9, 1, 6, 9]\n",
      "[2, 6, 2, 6, 5, 9, 9, 1, 8, 2]\n",
      "[2, 6, 2, 6, 5, 9, 9, 1, 8, 6]\n",
      "[2, 6, 2, 6, 5, 9, 9, 1, 8, 8]\n",
      "[2, 6, 2, 6, 5, 9, 9, 3, 6, 6]\n",
      "[2, 6, 2, 6, 5, 9, 9, 3, 6, 9]\n",
      "[2, 6, 2, 6, 5, 9, 9, 3, 8, 2]\n",
      "[2, 6, 2, 6, 5, 9, 9, 3, 8, 6]\n",
      "[2, 6, 2, 6, 5, 9, 9, 3, 8, 8]\n",
      "[2, 6, 2, 6, 5, 9, 9, 3, 8, 9]\n",
      "[2, 6, 2, 6, 6, 4, 2, 3, 8, 2]\n",
      "[2, 6, 2, 6, 6, 4, 2, 9, 8, 2]\n",
      "[2, 6, 2, 6, 6, 9, 2, 1, 0, 8]\n",
      "[2, 6, 2, 6, 6, 9, 2, 1, 8, 8]\n",
      "[2, 6, 2, 6, 6, 9, 2, 3, 8, 2]\n",
      "[2, 6, 2, 6, 6, 9, 2, 3, 8, 8]\n",
      "[2, 6, 2, 6, 6, 9, 9, 1, 0, 8]\n",
      "[2, 6, 2, 6, 6, 9, 9, 1, 8, 8]\n",
      "[2, 6, 2, 6, 9, 4, 2, 3, 8, 2]\n",
      "[2, 6, 2, 6, 9, 4, 2, 9, 8, 2]\n",
      "[2, 6, 2, 9, 4, 4, 2, 3, 8, 2]\n",
      "[2, 6, 2, 9, 4, 4, 2, 9, 8, 2]\n",
      "[2, 6, 2, 9, 9, 4, 2, 3, 8, 2]\n",
      "[2, 6, 2, 9, 9, 4, 2, 9, 8, 2]\n",
      "[2, 8, 2, 9, 4, 4, 2, 9, 8, 2]\n",
      "[2, 8, 2, 9, 9, 4, 2, 9, 8, 2]\n",
      "[2, 9, 1, 9, 4, 4, 2, 9, 5, 2]\n",
      "[2, 9, 1, 9, 4, 4, 2, 9, 8, 2]\n",
      "[2, 9, 1, 9, 4, 6, 2, 9, 5, 2]\n",
      "[2, 9, 2, 6, 4, 1, 0, 3, 8, 9]\n",
      "[2, 9, 2, 6, 4, 1, 2, 3, 8, 2]\n",
      "[2, 9, 2, 6, 4, 1, 2, 3, 8, 9]\n",
      "[2, 9, 2, 6, 4, 1, 6, 3, 5, 9]\n",
      "[2, 9, 2, 6, 4, 1, 6, 3, 6, 9]\n",
      "[2, 9, 2, 6, 4, 1, 6, 3, 8, 9]\n",
      "[2, 9, 2, 6, 4, 1, 7, 3, 6, 9]\n",
      "[2, 9, 2, 6, 4, 1, 9, 3, 6, 9]\n",
      "[2, 9, 2, 6, 4, 4, 2, 3, 8, 2]\n",
      "[2, 9, 2, 6, 5, 1, 7, 3, 6, 9]\n",
      "[2, 9, 2, 7, 4, 1, 6, 3, 5, 9]\n",
      "[2, 9, 2, 7, 4, 1, 6, 3, 6, 9]\n",
      "[2, 9, 2, 9, 4, 1, 0, 3, 5, 9]\n",
      "[2, 9, 2, 9, 4, 1, 0, 3, 8, 2]\n",
      "[2, 9, 2, 9, 4, 1, 0, 3, 8, 9]\n",
      "[2, 9, 2, 9, 4, 1, 2, 3, 8, 2]\n",
      "[2, 9, 2, 9, 4, 1, 2, 3, 8, 9]\n",
      "[2, 9, 2, 9, 4, 1, 6, 3, 5, 9]\n",
      "[2, 9, 2, 9, 4, 1, 6, 3, 8, 9]\n",
      "[2, 9, 2, 9, 4, 4, 0, 3, 8, 2]\n",
      "[2, 9, 2, 9, 4, 4, 0, 9, 8, 2]\n",
      "[2, 9, 2, 9, 4, 4, 2, 3, 8, 2]\n",
      "[2, 9, 2, 9, 4, 4, 2, 9, 8, 2]\n",
      "[2, 9, 2, 9, 4, 6, 0, 3, 5, 9]\n",
      "[2, 9, 2, 9, 4, 6, 0, 3, 8, 2]\n",
      "[2, 9, 2, 9, 4, 6, 0, 3, 8, 9]\n",
      "[2, 9, 2, 9, 4, 6, 0, 9, 5, 2]\n",
      "[2, 9, 2, 9, 4, 6, 0, 9, 5, 9]\n",
      "[2, 9, 2, 9, 4, 6, 0, 9, 8, 2]\n",
      "[2, 9, 2, 9, 4, 6, 0, 9, 8, 9]\n",
      "[2, 9, 2, 9, 4, 6, 2, 9, 8, 2]\n",
      "[2, 9, 2, 9, 9, 4, 2, 9, 8, 2]\n",
      "[2, 9, 6, 7, 4, 1, 6, 3, 5, 9]\n",
      "[2, 9, 6, 9, 4, 1, 0, 3, 5, 9]\n",
      "[2, 9, 6, 9, 4, 1, 6, 3, 5, 9]\n",
      "[2, 9, 6, 9, 4, 4, 2, 9, 5, 2]\n",
      "[2, 9, 6, 9, 4, 4, 2, 9, 8, 2]\n",
      "[2, 9, 6, 9, 4, 6, 0, 3, 5, 9]\n",
      "[2, 9, 6, 9, 4, 6, 0, 9, 5, 2]\n",
      "[2, 9, 6, 9, 4, 6, 0, 9, 5, 7]\n",
      "[2, 9, 6, 9, 4, 6, 0, 9, 5, 9]\n",
      "[2, 9, 6, 9, 4, 6, 0, 9, 8, 2]\n",
      "[2, 9, 6, 9, 4, 6, 2, 9, 5, 2]\n",
      "[2, 9, 6, 9, 4, 6, 2, 9, 8, 2]\n",
      "[3, 0, 1, 9, 0, 3, 2, 9, 9, 1]\n",
      "[3, 0, 1, 9, 0, 3, 8, 8, 9, 1]\n",
      "[3, 0, 1, 9, 0, 3, 8, 9, 9, 1]\n",
      "[3, 0, 1, 9, 0, 4, 2, 9, 9, 1]\n",
      "[3, 0, 1, 9, 3, 3, 8, 8, 9, 1]\n",
      "[3, 0, 1, 9, 3, 3, 8, 9, 9, 1]\n",
      "[3, 0, 1, 9, 4, 3, 2, 9, 5, 1]\n",
      "[3, 0, 1, 9, 4, 3, 2, 9, 9, 1]\n",
      "[3, 0, 1, 9, 4, 3, 4, 9, 5, 1]\n",
      "[3, 0, 1, 9, 4, 3, 4, 9, 9, 1]\n",
      "[3, 0, 1, 9, 4, 3, 8, 8, 9, 1]\n",
      "[3, 0, 1, 9, 4, 3, 8, 9, 5, 1]\n",
      "[3, 0, 1, 9, 4, 3, 8, 9, 9, 1]\n",
      "[3, 0, 1, 9, 4, 4, 2, 9, 5, 1]\n",
      "[3, 0, 1, 9, 4, 4, 2, 9, 5, 2]\n",
      "[3, 0, 1, 9, 4, 4, 2, 9, 8, 2]\n",
      "[3, 0, 1, 9, 4, 4, 2, 9, 9, 1]\n",
      "[3, 0, 1, 9, 4, 4, 2, 9, 9, 2]\n",
      "[3, 0, 1, 9, 4, 6, 2, 9, 5, 1]\n",
      "[3, 0, 1, 9, 4, 6, 2, 9, 5, 2]\n",
      "[3, 0, 1, 9, 4, 6, 4, 9, 5, 1]\n",
      "[3, 0, 1, 9, 4, 6, 4, 9, 5, 2]\n",
      "[3, 0, 1, 9, 4, 6, 8, 9, 5, 1]\n",
      "[3, 0, 1, 9, 9, 4, 2, 9, 9, 1]\n",
      "[3, 0, 1, 9, 9, 4, 2, 9, 9, 2]\n",
      "[3, 0, 6, 9, 3, 3, 8, 8, 5, 1]\n",
      "[3, 0, 6, 9, 3, 3, 8, 8, 9, 1]\n",
      "[3, 0, 6, 9, 3, 6, 8, 8, 5, 1]\n",
      "[3, 0, 6, 9, 4, 3, 8, 8, 5, 1]\n",
      "[3, 0, 6, 9, 4, 3, 8, 8, 9, 1]\n",
      "[3, 0, 6, 9, 4, 3, 8, 9, 5, 1]\n",
      "[3, 0, 6, 9, 4, 3, 8, 9, 9, 1]\n",
      "[3, 0, 6, 9, 4, 6, 2, 9, 5, 2]\n",
      "[3, 0, 6, 9, 4, 6, 4, 9, 5, 1]\n",
      "[3, 0, 6, 9, 4, 6, 4, 9, 5, 2]\n",
      "[3, 0, 6, 9, 4, 6, 8, 8, 5, 1]\n",
      "[3, 0, 6, 9, 4, 6, 8, 9, 5, 1]\n",
      "[3, 0, 6, 9, 4, 6, 8, 9, 5, 2]\n",
      "[3, 0, 7, 9, 0, 3, 8, 8, 9, 1]\n",
      "[3, 0, 7, 9, 1, 3, 1, 8, 9, 1]\n",
      "[3, 0, 7, 9, 1, 3, 8, 8, 9, 1]\n",
      "[3, 0, 7, 9, 3, 3, 8, 8, 9, 1]\n",
      "[3, 0, 9, 9, 0, 3, 1, 8, 9, 1]\n",
      "[3, 0, 9, 9, 0, 3, 1, 9, 9, 1]\n",
      "[3, 0, 9, 9, 0, 3, 2, 9, 9, 1]\n",
      "[3, 0, 9, 9, 0, 3, 8, 8, 9, 1]\n",
      "[3, 0, 9, 9, 0, 3, 8, 9, 9, 1]\n",
      "[3, 0, 9, 9, 0, 4, 2, 9, 9, 1]\n",
      "[3, 0, 9, 9, 1, 3, 1, 8, 9, 1]\n",
      "[3, 0, 9, 9, 1, 3, 8, 8, 9, 1]\n",
      "[3, 0, 9, 9, 3, 3, 8, 8, 9, 1]\n",
      "[3, 0, 9, 9, 9, 4, 2, 9, 9, 1]\n",
      "[3, 3, 6, 7, 3, 3, 8, 8, 5, 1]\n",
      "[3, 3, 6, 7, 3, 6, 8, 8, 5, 1]\n",
      "[3, 3, 6, 9, 3, 3, 8, 8, 3, 1]\n",
      "[3, 3, 6, 9, 3, 3, 8, 8, 5, 1]\n",
      "[3, 3, 6, 9, 3, 3, 8, 8, 9, 1]\n",
      "[3, 3, 7, 4, 1, 3, 8, 8, 9, 1]\n",
      "[3, 3, 7, 4, 3, 3, 8, 8, 9, 1]\n",
      "[3, 3, 7, 7, 3, 3, 8, 8, 3, 1]\n",
      "[3, 3, 7, 7, 3, 3, 8, 8, 5, 1]\n",
      "[3, 3, 7, 7, 3, 3, 8, 8, 9, 1]\n",
      "[3, 3, 7, 7, 3, 6, 8, 8, 5, 1]\n",
      "[3, 3, 7, 8, 3, 3, 8, 8, 9, 1]\n",
      "[3, 3, 7, 9, 0, 3, 8, 8, 9, 1]\n",
      "[3, 3, 7, 9, 1, 3, 1, 8, 9, 1]\n",
      "[3, 3, 7, 9, 1, 3, 8, 8, 9, 1]\n",
      "[3, 3, 7, 9, 3, 3, 8, 8, 3, 1]\n",
      "[3, 3, 7, 9, 3, 3, 8, 8, 5, 1]\n",
      "[3, 3, 7, 9, 3, 3, 8, 8, 9, 1]\n",
      "[3, 4, 6, 7, 3, 3, 8, 8, 5, 1]\n",
      "[3, 4, 6, 7, 3, 6, 8, 5, 5, 1]\n",
      "[3, 4, 6, 7, 3, 6, 8, 8, 5, 1]\n",
      "[3, 4, 6, 7, 4, 6, 8, 5, 5, 1]\n",
      "[3, 4, 6, 7, 4, 6, 8, 5, 5, 7]\n",
      "[3, 4, 6, 7, 4, 6, 8, 8, 5, 1]\n",
      "[3, 4, 6, 9, 3, 3, 8, 8, 5, 1]\n",
      "[3, 4, 6, 9, 3, 6, 8, 8, 5, 1]\n",
      "[3, 4, 6, 9, 4, 6, 0, 5, 5, 7]\n",
      "[3, 4, 6, 9, 4, 6, 0, 9, 5, 2]\n",
      "[3, 4, 6, 9, 4, 6, 0, 9, 5, 7]\n",
      "[3, 4, 6, 9, 4, 6, 2, 9, 5, 2]\n",
      "[3, 4, 6, 9, 4, 6, 4, 9, 5, 2]\n",
      "[3, 4, 6, 9, 4, 6, 4, 9, 5, 7]\n",
      "[3, 4, 6, 9, 4, 6, 8, 5, 5, 1]\n",
      "[3, 4, 6, 9, 4, 6, 8, 5, 5, 7]\n",
      "[3, 4, 6, 9, 4, 6, 8, 8, 5, 1]\n",
      "[3, 4, 6, 9, 4, 6, 8, 9, 5, 1]\n",
      "[3, 4, 6, 9, 4, 6, 8, 9, 5, 2]\n",
      "[3, 4, 6, 9, 4, 6, 8, 9, 5, 7]\n",
      "[3, 4, 7, 7, 3, 6, 8, 8, 5, 1]\n",
      "[3, 9, 1, 9, 4, 4, 2, 9, 5, 2]\n",
      "[3, 9, 1, 9, 4, 4, 2, 9, 8, 2]\n",
      "[3, 9, 1, 9, 4, 6, 2, 9, 5, 2]\n",
      "[3, 9, 6, 9, 4, 6, 0, 9, 5, 2]\n",
      "[3, 9, 6, 9, 4, 6, 0, 9, 5, 7]\n",
      "[3, 9, 6, 9, 4, 6, 2, 9, 5, 2]\n",
      "[4, 6, 2, 3, 7, 1, 7, 1, 6, 9]\n",
      "[4, 6, 2, 6, 5, 1, 7, 1, 6, 0]\n",
      "[4, 6, 2, 6, 5, 1, 7, 1, 6, 9]\n",
      "[4, 6, 2, 6, 5, 1, 7, 3, 6, 9]\n",
      "[4, 6, 2, 6, 5, 1, 9, 1, 6, 0]\n",
      "[4, 6, 2, 6, 5, 1, 9, 1, 6, 9]\n",
      "[4, 6, 2, 6, 5, 1, 9, 3, 6, 9]\n",
      "[4, 6, 2, 6, 5, 9, 7, 1, 6, 0]\n",
      "[4, 6, 2, 6, 5, 9, 9, 1, 0, 8]\n",
      "[4, 6, 2, 6, 5, 9, 9, 1, 6, 0]\n",
      "[4, 6, 2, 6, 5, 9, 9, 1, 6, 6]\n",
      "[4, 6, 2, 6, 5, 9, 9, 1, 6, 8]\n",
      "[4, 6, 2, 6, 5, 9, 9, 1, 6, 9]\n",
      "[4, 6, 2, 6, 5, 9, 9, 1, 8, 8]\n",
      "[4, 6, 2, 6, 6, 9, 9, 1, 0, 8]\n",
      "[4, 6, 2, 6, 6, 9, 9, 1, 6, 8]\n",
      "[4, 6, 2, 6, 6, 9, 9, 1, 8, 8]\n",
      "[4, 6, 2, 6, 7, 1, 7, 1, 6, 9]\n",
      "[4, 9, 2, 6, 4, 1, 7, 3, 6, 9]\n",
      "[4, 9, 2, 6, 5, 1, 7, 1, 6, 9]\n",
      "[4, 9, 2, 6, 5, 1, 7, 3, 6, 9]\n",
      "[6, 2, 2, 7, 7, 1, 7, 1, 6, 9]\n",
      "[6, 2, 6, 7, 7, 1, 7, 1, 6, 9]\n",
      "[6, 2, 7, 7, 3, 1, 7, 6, 2, 5]\n",
      "[6, 2, 7, 7, 3, 1, 7, 6, 6, 5]\n",
      "[6, 2, 7, 7, 3, 1, 7, 6, 6, 9]\n",
      "[6, 2, 7, 7, 7, 1, 7, 1, 6, 9]\n",
      "[6, 2, 7, 7, 7, 1, 7, 6, 6, 5]\n",
      "[6, 2, 7, 7, 7, 1, 7, 6, 6, 9]\n",
      "[6, 3, 7, 7, 3, 1, 7, 6, 2, 5]\n",
      "[6, 3, 7, 7, 3, 1, 8, 6, 2, 1]\n",
      "[6, 3, 7, 7, 3, 1, 8, 6, 2, 5]\n",
      "[6, 3, 7, 7, 3, 1, 8, 6, 2, 9]\n",
      "[6, 3, 7, 7, 3, 1, 8, 8, 2, 1]\n",
      "[6, 3, 7, 7, 3, 1, 8, 8, 2, 5]\n",
      "[6, 3, 7, 7, 3, 1, 8, 8, 2, 7]\n",
      "[6, 3, 7, 7, 3, 1, 8, 8, 2, 9]\n",
      "[6, 3, 7, 7, 3, 1, 8, 8, 5, 1]\n",
      "[6, 3, 7, 7, 3, 1, 8, 8, 5, 7]\n",
      "[6, 3, 7, 7, 3, 2, 8, 6, 2, 1]\n",
      "[6, 3, 7, 7, 3, 2, 8, 8, 2, 1]\n",
      "[6, 3, 7, 7, 3, 3, 8, 8, 2, 1]\n",
      "[6, 3, 7, 7, 3, 3, 8, 8, 3, 1]\n",
      "[6, 3, 7, 7, 3, 3, 8, 8, 5, 1]\n",
      "[6, 3, 7, 7, 3, 6, 8, 8, 2, 1]\n",
      "[6, 3, 7, 7, 3, 6, 8, 8, 5, 1]\n",
      "[6, 4, 2, 7, 4, 1, 6, 3, 6, 9]\n",
      "[6, 4, 2, 7, 4, 1, 7, 1, 6, 9]\n",
      "[6, 4, 2, 7, 4, 1, 7, 3, 6, 9]\n",
      "[6, 4, 2, 7, 7, 1, 7, 1, 6, 9]\n",
      "[6, 4, 6, 7, 3, 1, 6, 5, 5, 9]\n",
      "[6, 4, 6, 7, 3, 1, 6, 5, 6, 9]\n",
      "[6, 4, 6, 7, 3, 1, 7, 1, 6, 9]\n",
      "[6, 4, 6, 7, 3, 1, 7, 5, 5, 9]\n",
      "[6, 4, 6, 7, 3, 1, 7, 5, 6, 9]\n",
      "[6, 4, 6, 7, 3, 1, 8, 5, 5, 7]\n",
      "[6, 4, 6, 7, 3, 1, 8, 5, 5, 9]\n",
      "[6, 4, 6, 7, 3, 1, 8, 5, 6, 9]\n",
      "[6, 4, 6, 7, 3, 1, 8, 8, 5, 7]\n",
      "[6, 4, 6, 7, 3, 1, 8, 8, 5, 9]\n",
      "[6, 4, 6, 7, 3, 6, 8, 5, 5, 1]\n",
      "[6, 4, 6, 7, 3, 6, 8, 5, 5, 7]\n",
      "[6, 4, 6, 7, 3, 6, 8, 8, 5, 1]\n",
      "[6, 4, 6, 7, 3, 6, 8, 8, 5, 7]\n",
      "[6, 4, 6, 7, 4, 1, 0, 5, 5, 9]\n",
      "[6, 4, 6, 7, 4, 1, 6, 3, 5, 9]\n",
      "[6, 4, 6, 7, 4, 1, 6, 3, 6, 9]\n",
      "[6, 4, 6, 7, 4, 1, 6, 5, 5, 7]\n",
      "[6, 4, 6, 7, 4, 1, 6, 5, 5, 9]\n",
      "[6, 4, 6, 7, 4, 1, 6, 5, 6, 9]\n",
      "[6, 4, 6, 7, 4, 1, 7, 1, 6, 9]\n",
      "[6, 4, 6, 7, 4, 1, 7, 3, 6, 9]\n",
      "[6, 4, 6, 7, 4, 1, 7, 5, 6, 9]\n",
      "[6, 4, 6, 7, 4, 1, 8, 5, 5, 7]\n",
      "[6, 4, 6, 7, 4, 1, 8, 5, 5, 9]\n",
      "[6, 4, 6, 7, 4, 6, 0, 5, 5, 7]\n",
      "[6, 4, 6, 7, 4, 6, 0, 5, 5, 9]\n",
      "[6, 4, 6, 7, 4, 6, 6, 5, 5, 7]\n",
      "[6, 4, 6, 7, 4, 6, 6, 5, 5, 9]\n",
      "[6, 4, 6, 7, 4, 6, 8, 5, 5, 1]\n",
      "[6, 4, 6, 7, 4, 6, 8, 5, 5, 7]\n",
      "[6, 4, 6, 7, 7, 1, 7, 1, 6, 9]\n",
      "[6, 4, 6, 9, 4, 1, 0, 5, 5, 9]\n",
      "[6, 4, 6, 9, 4, 1, 6, 3, 5, 9]\n",
      "[6, 4, 6, 9, 4, 1, 6, 5, 5, 9]\n",
      "[6, 4, 6, 9, 4, 6, 0, 5, 5, 7]\n",
      "[6, 4, 6, 9, 4, 6, 0, 5, 5, 9]\n",
      "[6, 4, 6, 9, 4, 6, 8, 5, 5, 7]\n",
      "[6, 4, 7, 7, 3, 1, 7, 1, 6, 9]\n",
      "[6, 4, 7, 7, 3, 1, 7, 5, 6, 9]\n",
      "[6, 4, 7, 7, 3, 1, 7, 6, 2, 5]\n",
      "[6, 4, 7, 7, 3, 1, 7, 6, 2, 9]\n",
      "[6, 4, 7, 7, 3, 1, 7, 6, 6, 5]\n",
      "[6, 4, 7, 7, 3, 1, 7, 6, 6, 9]\n",
      "[6, 4, 7, 7, 3, 1, 8, 5, 5, 9]\n",
      "[6, 4, 7, 7, 3, 1, 8, 5, 6, 9]\n",
      "[6, 4, 7, 7, 3, 1, 8, 6, 2, 5]\n",
      "[6, 4, 7, 7, 3, 1, 8, 6, 2, 9]\n",
      "[6, 4, 7, 7, 3, 1, 8, 6, 6, 9]\n",
      "[6, 4, 7, 7, 3, 1, 8, 8, 2, 7]\n",
      "[6, 4, 7, 7, 3, 1, 8, 8, 2, 9]\n",
      "[6, 4, 7, 7, 3, 1, 8, 8, 5, 1]\n",
      "[6, 4, 7, 7, 3, 1, 8, 8, 5, 7]\n",
      "[6, 4, 7, 7, 3, 1, 8, 8, 5, 9]\n",
      "[6, 4, 7, 7, 3, 1, 8, 8, 6, 9]\n",
      "[6, 4, 7, 7, 3, 6, 8, 8, 5, 1]\n",
      "[6, 4, 7, 7, 3, 6, 8, 8, 5, 7]\n",
      "[6, 4, 7, 7, 7, 1, 7, 1, 6, 9]\n",
      "[6, 4, 7, 7, 7, 1, 7, 6, 6, 9]\n",
      "[6, 6, 2, 3, 7, 1, 7, 1, 6, 9]\n",
      "[6, 6, 2, 6, 5, 1, 7, 1, 6, 9]\n",
      "[6, 6, 2, 6, 7, 1, 7, 1, 6, 9]\n",
      "[6, 6, 2, 7, 7, 1, 7, 1, 6, 9]\n",
      "[6, 6, 7, 7, 7, 1, 7, 1, 6, 9]\n",
      "[6, 9, 2, 6, 4, 1, 6, 3, 6, 9]\n",
      "[6, 9, 2, 6, 4, 1, 7, 1, 6, 9]\n",
      "[6, 9, 2, 6, 4, 1, 7, 3, 6, 9]\n",
      "[6, 9, 2, 6, 5, 1, 7, 1, 6, 9]\n",
      "[6, 9, 2, 6, 5, 1, 7, 3, 6, 9]\n",
      "[6, 9, 2, 6, 7, 1, 7, 1, 6, 9]\n",
      "[6, 9, 2, 7, 4, 1, 6, 3, 5, 9]\n",
      "[6, 9, 2, 7, 4, 1, 6, 3, 6, 9]\n",
      "[6, 9, 2, 7, 4, 1, 7, 1, 6, 9]\n",
      "[6, 9, 2, 7, 4, 1, 7, 3, 6, 9]\n",
      "[6, 9, 2, 7, 5, 1, 7, 1, 6, 9]\n",
      "[6, 9, 2, 7, 7, 1, 7, 1, 6, 9]\n",
      "[6, 9, 6, 7, 4, 1, 6, 3, 5, 9]\n",
      "[6, 9, 6, 7, 4, 1, 6, 3, 6, 9]\n",
      "[6, 9, 6, 9, 4, 1, 6, 3, 5, 9]\n",
      "[7, 6, 2, 6, 6, 9, 9, 1, 0, 3]\n",
      "[7, 6, 2, 6, 6, 9, 9, 1, 0, 8]\n",
      "[9, 0, 1, 9, 4, 4, 2, 9, 8, 2]\n",
      "[9, 0, 1, 9, 4, 4, 2, 9, 9, 2]\n",
      "[9, 0, 1, 9, 9, 4, 2, 9, 8, 2]\n",
      "[9, 0, 1, 9, 9, 4, 2, 9, 9, 1]\n",
      "[9, 0, 1, 9, 9, 4, 2, 9, 9, 2]\n",
      "[9, 0, 2, 9, 9, 4, 2, 9, 8, 2]\n",
      "[9, 0, 2, 9, 9, 4, 2, 9, 9, 2]\n",
      "[9, 0, 9, 1, 0, 3, 1, 8, 9, 1]\n",
      "[9, 0, 9, 1, 0, 3, 1, 9, 9, 1]\n",
      "[9, 0, 9, 1, 0, 4, 1, 9, 9, 1]\n",
      "[9, 0, 9, 1, 0, 4, 2, 9, 9, 1]\n",
      "[9, 0, 9, 1, 0, 4, 2, 9, 9, 2]\n",
      "[9, 0, 9, 1, 1, 3, 1, 8, 9, 1]\n",
      "[9, 0, 9, 1, 1, 3, 1, 9, 9, 1]\n",
      "[9, 0, 9, 1, 1, 4, 1, 9, 9, 1]\n",
      "[9, 0, 9, 1, 1, 4, 2, 9, 9, 1]\n",
      "[9, 0, 9, 1, 1, 4, 2, 9, 9, 2]\n",
      "[9, 0, 9, 1, 1, 4, 2, 9, 9, 3]\n",
      "[9, 0, 9, 1, 1, 4, 2, 9, 9, 8]\n",
      "[9, 0, 9, 1, 9, 4, 2, 9, 9, 2]\n",
      "[9, 0, 9, 9, 0, 3, 1, 8, 9, 1]\n",
      "[9, 0, 9, 9, 0, 3, 1, 9, 9, 1]\n",
      "[9, 0, 9, 9, 0, 3, 2, 9, 9, 1]\n",
      "[9, 0, 9, 9, 0, 4, 1, 9, 9, 1]\n",
      "[9, 0, 9, 9, 0, 4, 2, 9, 9, 1]\n",
      "[9, 0, 9, 9, 0, 4, 2, 9, 9, 2]\n",
      "[9, 0, 9, 9, 9, 4, 2, 9, 8, 2]\n",
      "[9, 0, 9, 9, 9, 4, 2, 9, 9, 1]\n",
      "[9, 0, 9, 9, 9, 4, 2, 9, 9, 2]\n",
      "[9, 5, 9, 1, 0, 4, 2, 9, 9, 2]\n",
      "[9, 5, 9, 1, 1, 4, 2, 9, 9, 2]\n",
      "[9, 5, 9, 1, 1, 4, 2, 9, 9, 3]\n",
      "[9, 5, 9, 1, 1, 4, 2, 9, 9, 8]\n",
      "[9, 6, 2, 1, 0, 4, 2, 2, 0, 8]\n",
      "[9, 6, 2, 1, 0, 4, 2, 9, 0, 2]\n",
      "[9, 6, 2, 1, 0, 4, 2, 9, 0, 8]\n",
      "[9, 6, 2, 1, 0, 4, 2, 9, 1, 2]\n",
      "[9, 6, 2, 1, 0, 4, 2, 9, 1, 8]\n",
      "[9, 6, 2, 1, 0, 4, 2, 9, 9, 2]\n",
      "[9, 6, 2, 1, 0, 4, 2, 9, 9, 8]\n",
      "[9, 6, 2, 1, 1, 4, 2, 2, 0, 3]\n",
      "[9, 6, 2, 1, 1, 4, 2, 2, 0, 8]\n",
      "[9, 6, 2, 1, 1, 4, 2, 9, 0, 3]\n",
      "[9, 6, 2, 1, 1, 4, 2, 9, 0, 8]\n",
      "[9, 6, 2, 1, 6, 4, 2, 2, 0, 3]\n",
      "[9, 6, 2, 1, 6, 4, 2, 2, 0, 8]\n",
      "[9, 6, 2, 1, 6, 4, 2, 9, 0, 2]\n",
      "[9, 6, 2, 1, 6, 4, 2, 9, 0, 8]\n",
      "[9, 6, 2, 1, 6, 4, 2, 9, 8, 2]\n",
      "[9, 6, 2, 1, 6, 4, 2, 9, 8, 8]\n",
      "[9, 6, 2, 1, 6, 9, 2, 1, 0, 3]\n",
      "[9, 6, 2, 1, 6, 9, 2, 1, 0, 8]\n",
      "[9, 6, 2, 1, 6, 9, 2, 2, 0, 3]\n",
      "[9, 6, 2, 1, 6, 9, 2, 2, 0, 8]\n",
      "[9, 6, 2, 1, 6, 9, 9, 1, 0, 3]\n",
      "[9, 6, 2, 1, 6, 9, 9, 1, 0, 8]\n",
      "[9, 6, 2, 1, 9, 4, 2, 9, 0, 2]\n",
      "[9, 6, 2, 1, 9, 4, 2, 9, 0, 8]\n",
      "[9, 6, 2, 1, 9, 4, 2, 9, 1, 2]\n",
      "[9, 6, 2, 1, 9, 4, 2, 9, 8, 2]\n",
      "[9, 6, 2, 1, 9, 4, 2, 9, 9, 2]\n",
      "[9, 6, 2, 6, 6, 4, 2, 1, 0, 8]\n",
      "[9, 6, 2, 6, 6, 4, 2, 2, 0, 8]\n",
      "[9, 6, 2, 6, 6, 4, 2, 3, 8, 2]\n",
      "[9, 6, 2, 6, 6, 4, 2, 3, 8, 8]\n",
      "[9, 6, 2, 6, 6, 4, 2, 9, 0, 8]\n",
      "[9, 6, 2, 6, 6, 4, 2, 9, 8, 2]\n",
      "[9, 6, 2, 6, 6, 4, 2, 9, 8, 8]\n",
      "[9, 6, 2, 6, 6, 9, 2, 1, 0, 8]\n",
      "[9, 6, 2, 6, 6, 9, 2, 1, 8, 8]\n",
      "[9, 6, 2, 6, 6, 9, 2, 2, 0, 8]\n",
      "[9, 6, 2, 6, 6, 9, 2, 3, 0, 8]\n",
      "[9, 6, 2, 6, 6, 9, 2, 3, 8, 2]\n",
      "[9, 6, 2, 6, 6, 9, 2, 3, 8, 8]\n",
      "[9, 6, 2, 6, 6, 9, 2, 9, 0, 8]\n",
      "[9, 6, 2, 6, 6, 9, 2, 9, 8, 8]\n",
      "[9, 6, 2, 6, 6, 9, 9, 1, 0, 3]\n",
      "[9, 6, 2, 6, 6, 9, 9, 1, 0, 8]\n",
      "[9, 6, 2, 6, 9, 4, 2, 9, 8, 2]\n",
      "[9, 6, 2, 9, 9, 4, 2, 9, 8, 2]\n",
      "[9, 6, 2, 9, 9, 4, 2, 9, 9, 2]\n",
      "[9, 6, 9, 1, 0, 4, 2, 9, 0, 8]\n",
      "[9, 6, 9, 1, 0, 4, 2, 9, 9, 2]\n",
      "[9, 6, 9, 1, 0, 4, 2, 9, 9, 8]\n",
      "[9, 6, 9, 1, 1, 4, 2, 9, 0, 3]\n",
      "[9, 6, 9, 1, 1, 4, 2, 9, 0, 8]\n",
      "[9, 6, 9, 1, 1, 4, 2, 9, 9, 2]\n",
      "[9, 6, 9, 1, 1, 4, 2, 9, 9, 3]\n",
      "[9, 6, 9, 1, 1, 4, 2, 9, 9, 8]\n",
      "[9, 6, 9, 1, 9, 4, 2, 9, 9, 2]\n",
      "[9, 6, 9, 9, 9, 4, 2, 9, 9, 2]\n",
      "[9, 8, 2, 9, 9, 4, 2, 9, 8, 2]\n",
      "[9, 8, 2, 9, 9, 4, 2, 9, 9, 2]\n",
      "[9, 8, 9, 9, 9, 4, 2, 9, 9, 2]\n"
     ]
    }
   ],
   "source": [
    "def qhull(cloud):\n",
    "    hull = ConvexHull(cloud)\n",
    "    return sorted({v for h_v in ConvexHull(cloud).vertices for v in h_v})\n",
    "\n",
    "\n",
    "hulls = [qhull(cloud) for cloud in point_clouds]\n",
    "\n",
    "MinkSumPoint = namedtuple(\"MinkSumPoint\", [\"point\", \"decomp\"])\n",
    "\n",
    "\n",
    "def mink_sum(point_clouds, hulls):\n",
    "    hull_points = [\n",
    "        [MinkSumPoint(cloud[vertex], [vertex]) for vertex in hull]\n",
    "        for cloud, hull in zip(point_clouds, hulls)\n",
    "    ]\n",
    "    hull_points.reverse()\n",
    "    mink_sum = hull_points.pop()\n",
    "    for operand in hull_points:\n",
    "        print(f\"Input lens {len(mink_sum)}, {len(operand)}\")\n",
    "        point_product = [\n",
    "            MinkSumPoint([x_a + x_b for x_a, x_b in zip(a.point, b.point)], a.decomp + b.decomp)\n",
    "            for a, b in product(mink_sum, operand)\n",
    "        ]\n",
    "        mink_sum = [point_product[i] for i in qhull([point for point, _ in point_product])]\n",
    "        print(f\"Lengths {len(point_product)}, {len(mink_sum)}\")\n",
    "    return mink_sum\n",
    "\n",
    "num_polys = 10\n",
    "mink_sum = mink_sum(point_clouds[:num_polys], hulls[:num_polys])\n",
    "print(len(mink_sum))\n",
    "\n",
    "for vertex in mink_sum:\n",
    "    print(vertex.decomp)"
   ]
  }
 ],
 "metadata": {
  "kernelspec": {
   "display_name": "gp",
   "language": "python",
   "name": "python3"
  },
  "language_info": {
   "codemirror_mode": {
    "name": "ipython",
    "version": 3
   },
   "file_extension": ".py",
   "mimetype": "text/x-python",
   "name": "python",
   "nbconvert_exporter": "python",
   "pygments_lexer": "ipython3",
   "version": "3.12.3"
  }
 },
 "nbformat": 4,
 "nbformat_minor": 2
}
