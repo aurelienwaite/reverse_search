{
 "cells": [
  {
   "cell_type": "code",
   "execution_count": 23,
   "metadata": {},
   "outputs": [
    {
     "name": "stdout",
     "output_type": "stream",
     "text": [
      "Requirement already satisfied: plotly in /Users/rorywaite/miniforge3/envs/reverse_search/lib/python3.12/site-packages (5.21.0)\n",
      "Requirement already satisfied: scikit-learn in /Users/rorywaite/miniforge3/envs/reverse_search/lib/python3.12/site-packages (1.4.2)\n",
      "Requirement already satisfied: numpy in /Users/rorywaite/miniforge3/envs/reverse_search/lib/python3.12/site-packages (1.26.4)\n",
      "Requirement already satisfied: pandas in /Users/rorywaite/miniforge3/envs/reverse_search/lib/python3.12/site-packages (2.2.2)\n",
      "Requirement already satisfied: nbformat in /Users/rorywaite/miniforge3/envs/reverse_search/lib/python3.12/site-packages (5.10.4)\n",
      "Collecting pyhull\n",
      "  Downloading pyhull-2015.2.1.tar.gz (318 kB)\n",
      "\u001b[2K     \u001b[90m━━━━━━━━━━━━━━━━━━━━━━━━━━━━━━━━━━━━━━━\u001b[0m \u001b[32m318.8/318.8 kB\u001b[0m \u001b[31m7.2 MB/s\u001b[0m eta \u001b[36m0:00:00\u001b[0m00:01\u001b[0m\n",
      "\u001b[?25h  Preparing metadata (setup.py) ... \u001b[?25ldone\n",
      "\u001b[?25hRequirement already satisfied: tenacity>=6.2.0 in /Users/rorywaite/miniforge3/envs/reverse_search/lib/python3.12/site-packages (from plotly) (8.2.3)\n",
      "Requirement already satisfied: packaging in /Users/rorywaite/miniforge3/envs/reverse_search/lib/python3.12/site-packages (from plotly) (24.0)\n",
      "Requirement already satisfied: scipy>=1.6.0 in /Users/rorywaite/miniforge3/envs/reverse_search/lib/python3.12/site-packages (from scikit-learn) (1.13.0)\n",
      "Requirement already satisfied: joblib>=1.2.0 in /Users/rorywaite/miniforge3/envs/reverse_search/lib/python3.12/site-packages (from scikit-learn) (1.4.0)\n",
      "Requirement already satisfied: threadpoolctl>=2.0.0 in /Users/rorywaite/miniforge3/envs/reverse_search/lib/python3.12/site-packages (from scikit-learn) (3.4.0)\n",
      "Requirement already satisfied: python-dateutil>=2.8.2 in /Users/rorywaite/miniforge3/envs/reverse_search/lib/python3.12/site-packages (from pandas) (2.9.0)\n",
      "Requirement already satisfied: pytz>=2020.1 in /Users/rorywaite/miniforge3/envs/reverse_search/lib/python3.12/site-packages (from pandas) (2024.1)\n",
      "Requirement already satisfied: tzdata>=2022.7 in /Users/rorywaite/miniforge3/envs/reverse_search/lib/python3.12/site-packages (from pandas) (2024.1)\n",
      "Requirement already satisfied: fastjsonschema>=2.15 in /Users/rorywaite/miniforge3/envs/reverse_search/lib/python3.12/site-packages (from nbformat) (2.19.1)\n",
      "Requirement already satisfied: jsonschema>=2.6 in /Users/rorywaite/miniforge3/envs/reverse_search/lib/python3.12/site-packages (from nbformat) (4.21.1)\n",
      "Requirement already satisfied: jupyter-core!=5.0.*,>=4.12 in /Users/rorywaite/miniforge3/envs/reverse_search/lib/python3.12/site-packages (from nbformat) (5.7.2)\n",
      "Requirement already satisfied: traitlets>=5.1 in /Users/rorywaite/miniforge3/envs/reverse_search/lib/python3.12/site-packages (from nbformat) (5.14.3)\n",
      "Requirement already satisfied: attrs>=22.2.0 in /Users/rorywaite/miniforge3/envs/reverse_search/lib/python3.12/site-packages (from jsonschema>=2.6->nbformat) (23.2.0)\n",
      "Requirement already satisfied: jsonschema-specifications>=2023.03.6 in /Users/rorywaite/miniforge3/envs/reverse_search/lib/python3.12/site-packages (from jsonschema>=2.6->nbformat) (2023.12.1)\n",
      "Requirement already satisfied: referencing>=0.28.4 in /Users/rorywaite/miniforge3/envs/reverse_search/lib/python3.12/site-packages (from jsonschema>=2.6->nbformat) (0.35.0)\n",
      "Requirement already satisfied: rpds-py>=0.7.1 in /Users/rorywaite/miniforge3/envs/reverse_search/lib/python3.12/site-packages (from jsonschema>=2.6->nbformat) (0.18.0)\n",
      "Requirement already satisfied: platformdirs>=2.5 in /Users/rorywaite/miniforge3/envs/reverse_search/lib/python3.12/site-packages (from jupyter-core!=5.0.*,>=4.12->nbformat) (4.2.1)\n",
      "Requirement already satisfied: six>=1.5 in /Users/rorywaite/miniforge3/envs/reverse_search/lib/python3.12/site-packages (from python-dateutil>=2.8.2->pandas) (1.16.0)\n",
      "Building wheels for collected packages: pyhull\n",
      "  Building wheel for pyhull (setup.py) ... \u001b[?25ldone\n",
      "\u001b[?25h  Created wheel for pyhull: filename=pyhull-2015.2.1-cp312-cp312-macosx_11_0_arm64.whl size=174840 sha256=dfcb04090c9461ddf4333a2e1f7355d5625aa23de9a201d9c03e1e164a61e242\n",
      "  Stored in directory: /Users/rorywaite/Library/Caches/pip/wheels/f4/f5/3a/b61e2fa2b618f779bbdb9e71a9f7e6916dbc9f05c3bab358c4\n",
      "Successfully built pyhull\n",
      "Installing collected packages: pyhull\n",
      "Successfully installed pyhull-2015.2.1\n",
      "Note: you may need to restart the kernel to use updated packages.\n"
     ]
    }
   ],
   "source": [
    "%pip install plotly scikit-learn numpy pandas nbformat pyhull"
   ]
  },
  {
   "cell_type": "code",
   "execution_count": 31,
   "metadata": {},
   "outputs": [],
   "source": [
    "from sklearn.datasets import make_blobs\n",
    "import numpy as np\n",
    "import json\n",
    "from collections import defaultdict, namedtuple\n",
    "import plotly.express as px\n",
    "from pyhull.convex_hull import ConvexHull\n",
    "from itertools import product"
   ]
  },
  {
   "cell_type": "code",
   "execution_count": 3,
   "metadata": {},
   "outputs": [],
   "source": [
    "rs = np.random.RandomState(42)\n",
    "num_cluster = 10\n",
    "num_dim = 3\n",
    "\n",
    "centres = [[rs.rand() for _ in range(num_dim)] for _ in range(num_cluster)]\n",
    "sigmas = [rs.rand() for _ in range(10)]\n",
    "blobs = make_blobs(\n",
    "                   n_samples=100, \n",
    "                   n_features=num_dim,\n",
    "                   centers=centres,\n",
    "                   cluster_std=sigmas,\n",
    "                   random_state=rs\n",
    "                   ) "
   ]
  },
  {
   "cell_type": "code",
   "execution_count": 6,
   "metadata": {},
   "outputs": [],
   "source": [
    "point_clouds = [[] for _ in range(num_cluster)]\n",
    "for sample, cluster in zip(blobs[0], blobs[1]):\n",
    "    point_clouds[int(cluster)].append(sample.tolist())\n",
    "inputs = [{\"vertices\" : points} for points in point_clouds]\n",
    "with open(\"synthetic.json\", \"wt\") as out_file:\n",
    "    json.dump(inputs, out_file, indent=2)"
   ]
  },
  {
   "cell_type": "code",
   "execution_count": 7,
   "metadata": {},
   "outputs": [],
   "source": [
    "with open(\"synthetic_out.json\", \"rt\") as in_file:\n",
    "    polys = json.load(in_file)"
   ]
  },
  {
   "cell_type": "code",
   "execution_count": 8,
   "metadata": {},
   "outputs": [
    {
     "name": "stdout",
     "output_type": "stream",
     "text": [
      "8\n"
     ]
    }
   ],
   "source": [
    "print(len(polys[5][\"essential_indices\"]))"
   ]
  },
  {
   "cell_type": "code",
   "execution_count": 9,
   "metadata": {},
   "outputs": [
    {
     "name": "stdout",
     "output_type": "stream",
     "text": [
      "[-2.08959101e+00  3.63087338e-12 -1.63927999e+00 -2.65557562e+01\n",
      "  2.54285482e-12 -7.55564118e+00 -3.76643191e+01  1.00000000e+00\n",
      " -1.26316542e+01  1.00008890e-12] 7 6\n",
      "[-7.29431196e-01  1.15973897e-12 -2.75665424e-01  2.56411559e-12\n",
      "  2.64444022e-12 -5.81603188e-02  1.00000000e+00 -2.63284624e-01\n",
      " -2.47089302e-01 -8.53040640e-01] 6 9\n",
      "[-2.30012395e+00 -1.78923630e+00  1.00000000e+00 -4.04672882e-02\n",
      "  1.85385041e-12 -4.56830358e-01  2.46469511e-12 -5.89222875e-01\n",
      "  1.24700250e-12 -5.48354881e-01] 2 0\n",
      "[ 1.07772125e-12  1.00000000e+00 -1.10466153e+00 -1.85085354e+00\n",
      "  1.89187555e-12 -3.68464584e-01 -1.09688472e+00 -1.09336382e-02\n",
      " -1.27667341e+00 -1.02450723e+00] 1 3\n",
      "[-3.69357486e+00  2.59436916e-12  3.15791837e-12 -7.49136587e+00\n",
      "  1.00000000e+00 -1.88345206e+00 -7.25269019e+00  2.61857203e-12\n",
      " -3.95700769e+00 -2.51273734e+00] 4 3\n",
      "[ 1.00000000e+00  1.15962795e-12 -1.33384026e+00  2.48795429e-12\n",
      " -1.04660325e+00 -4.38850256e-01 -4.46660383e-01 -5.16433924e-01\n",
      " -3.49783275e-01  1.97919459e-12] 0 2\n",
      "[-3.17766005e+00 -6.26235497e+00  1.23190347e-12  1.00000000e+00\n",
      " -3.28825501e+00 -2.52203587e+00 -2.03403190e+00 -3.13546736e+00\n",
      "  1.51478829e-12  1.13242749e-12] 3 1\n",
      "[ 2.82474044e-12 -2.28341943e+00 -1.42526225e-01  1.30728761e-12\n",
      " -1.54672277e+00 -1.10097398e+00 -2.57949698e+00 -9.92488194e-01\n",
      "  9.99950123e-13  1.00000000e+00] 9 6\n"
     ]
    }
   ],
   "source": [
    "poly_ind = 0\n",
    "vertices = np.array(polys[poly_ind][\"vertices\"])\n",
    "constant = np.ones([len(vertices), 1], dtype=float)\n",
    "vertices = np.concatenate([constant, vertices], axis=1)\n",
    "certs = {extreme: np.array(cert) for extreme, cert in polys[poly_ind][\"essential_certs\"].items()}\n",
    "\n",
    "for vertex, cert in certs.items():\n",
    "    scores = vertices @ cert\n",
    "    print(scores, vertex, np.argmin(scores))"
   ]
  },
  {
   "cell_type": "code",
   "execution_count": 10,
   "metadata": {},
   "outputs": [
    {
     "data": {
      "application/vnd.plotly.v1+json": {
       "config": {
        "plotlyServerURL": "https://plot.ly"
       },
       "data": [
        {
         "hovertemplate": "line={0, 1}<br>x=%{x}<br>y=%{y}<br>z=%{z}<extra></extra>",
         "legendgroup": "{0, 1}",
         "line": {
          "color": "#636efa",
          "dash": "solid"
         },
         "marker": {
          "symbol": "circle"
         },
         "mode": "lines",
         "name": "{0, 1}",
         "scene": "scene",
         "showlegend": true,
         "type": "scatter3d",
         "x": [
          -0.18494129779316737,
          -0.13684966971949653
         ],
         "y": [
          0.3480256917985953,
          0.5002734434216574
         ],
         "z": [
          0.41026362530136073,
          0.12059743459358352
         ]
        },
        {
         "hovertemplate": "line={0, 3}<br>x=%{x}<br>y=%{y}<br>z=%{z}<extra></extra>",
         "legendgroup": "{0, 3}",
         "line": {
          "color": "#EF553B",
          "dash": "solid"
         },
         "marker": {
          "symbol": "circle"
         },
         "mode": "lines",
         "name": "{0, 3}",
         "scene": "scene",
         "showlegend": true,
         "type": "scatter3d",
         "x": [
          -0.18494129779316737,
          0.23345858076322928
         ],
         "y": [
          0.3480256917985953,
          0.9443040301443992
         ],
         "z": [
          0.41026362530136073,
          0.804953357461367
         ]
        },
        {
         "hovertemplate": "line={0, 4}<br>x=%{x}<br>y=%{y}<br>z=%{z}<extra></extra>",
         "legendgroup": "{0, 4}",
         "line": {
          "color": "#00cc96",
          "dash": "solid"
         },
         "marker": {
          "symbol": "circle"
         },
         "mode": "lines",
         "name": "{0, 4}",
         "scene": "scene",
         "showlegend": true,
         "type": "scatter3d",
         "x": [
          -0.18494129779316737,
          0.284096598918533
         ],
         "y": [
          0.3480256917985953,
          0.31616913039433553
         ],
         "z": [
          0.41026362530136073,
          1.3169297650662286
         ]
        },
        {
         "hovertemplate": "line={0, 6}<br>x=%{x}<br>y=%{y}<br>z=%{z}<extra></extra>",
         "legendgroup": "{0, 6}",
         "line": {
          "color": "#ab63fa",
          "dash": "solid"
         },
         "marker": {
          "symbol": "circle"
         },
         "mode": "lines",
         "name": "{0, 6}",
         "scene": "scene",
         "showlegend": true,
         "type": "scatter3d",
         "x": [
          -0.18494129779316737,
          0.663137493583145
         ],
         "y": [
          0.3480256917985953,
          0.055815938685533334
         ],
         "z": [
          0.41026362530136073,
          0.5397146863129192
         ]
        },
        {
         "hovertemplate": "line={0, 9}<br>x=%{x}<br>y=%{y}<br>z=%{z}<extra></extra>",
         "legendgroup": "{0, 9}",
         "line": {
          "color": "#FFA15A",
          "dash": "solid"
         },
         "marker": {
          "symbol": "circle"
         },
         "mode": "lines",
         "name": "{0, 9}",
         "scene": "scene",
         "showlegend": true,
         "type": "scatter3d",
         "x": [
          -0.18494129779316737,
          0.10364911963015244
         ],
         "y": [
          0.3480256917985953,
          0.07333778121667009
         ],
         "z": [
          0.41026362530136073,
          0.8188677265471092
         ]
        },
        {
         "hovertemplate": "line={9, 4}<br>x=%{x}<br>y=%{y}<br>z=%{z}<extra></extra>",
         "legendgroup": "{9, 4}",
         "line": {
          "color": "#19d3f3",
          "dash": "solid"
         },
         "marker": {
          "symbol": "circle"
         },
         "mode": "lines",
         "name": "{9, 4}",
         "scene": "scene",
         "showlegend": true,
         "type": "scatter3d",
         "x": [
          0.10364911963015244,
          0.284096598918533
         ],
         "y": [
          0.07333778121667009,
          0.31616913039433553
         ],
         "z": [
          0.8188677265471092,
          1.3169297650662286
         ]
        },
        {
         "hovertemplate": "line={9, 5}<br>x=%{x}<br>y=%{y}<br>z=%{z}<extra></extra>",
         "legendgroup": "{9, 5}",
         "line": {
          "color": "#FF6692",
          "dash": "solid"
         },
         "marker": {
          "symbol": "circle"
         },
         "mode": "lines",
         "name": "{9, 5}",
         "scene": "scene",
         "showlegend": true,
         "type": "scatter3d",
         "x": [
          0.10364911963015244,
          0.6916079497234193
         ],
         "y": [
          0.07333778121667009,
          0.04981641091599395
         ],
         "z": [
          0.8188677265471092,
          0.5769025948256076
         ]
        },
        {
         "hovertemplate": "line={9, 6}<br>x=%{x}<br>y=%{y}<br>z=%{z}<extra></extra>",
         "legendgroup": "{9, 6}",
         "line": {
          "color": "#B6E880",
          "dash": "solid"
         },
         "marker": {
          "symbol": "circle"
         },
         "mode": "lines",
         "name": "{9, 6}",
         "scene": "scene",
         "showlegend": true,
         "type": "scatter3d",
         "x": [
          0.10364911963015244,
          0.663137493583145
         ],
         "y": [
          0.07333778121667009,
          0.055815938685533334
         ],
         "z": [
          0.8188677265471092,
          0.5397146863129192
         ]
        },
        {
         "hovertemplate": "line={1, 3}<br>x=%{x}<br>y=%{y}<br>z=%{z}<extra></extra>",
         "legendgroup": "{1, 3}",
         "line": {
          "color": "#FF97FF",
          "dash": "solid"
         },
         "marker": {
          "symbol": "circle"
         },
         "mode": "lines",
         "name": "{1, 3}",
         "scene": "scene",
         "showlegend": true,
         "type": "scatter3d",
         "x": [
          -0.13684966971949653,
          0.23345858076322928
         ],
         "y": [
          0.5002734434216574,
          0.9443040301443992
         ],
         "z": [
          0.12059743459358352,
          0.804953357461367
         ]
        },
        {
         "hovertemplate": "line={1, 6}<br>x=%{x}<br>y=%{y}<br>z=%{z}<extra></extra>",
         "legendgroup": "{1, 6}",
         "line": {
          "color": "#FECB52",
          "dash": "solid"
         },
         "marker": {
          "symbol": "circle"
         },
         "mode": "lines",
         "name": "{1, 6}",
         "scene": "scene",
         "showlegend": true,
         "type": "scatter3d",
         "x": [
          -0.13684966971949653,
          0.663137493583145
         ],
         "y": [
          0.5002734434216574,
          0.055815938685533334
         ],
         "z": [
          0.12059743459358352,
          0.5397146863129192
         ]
        },
        {
         "hovertemplate": "line={1, 7}<br>x=%{x}<br>y=%{y}<br>z=%{z}<extra></extra>",
         "legendgroup": "{1, 7}",
         "line": {
          "color": "#636efa",
          "dash": "solid"
         },
         "marker": {
          "symbol": "circle"
         },
         "mode": "lines",
         "name": "{1, 7}",
         "scene": "scene",
         "showlegend": true,
         "type": "scatter3d",
         "x": [
          -0.13684966971949653,
          0.7225470916178227
         ],
         "y": [
          0.5002734434216574,
          0.48965188446485935
         ],
         "z": [
          0.12059743459358352,
          0.5158175418080423
         ]
        },
        {
         "hovertemplate": "line={3, 7}<br>x=%{x}<br>y=%{y}<br>z=%{z}<extra></extra>",
         "legendgroup": "{3, 7}",
         "line": {
          "color": "#EF553B",
          "dash": "solid"
         },
         "marker": {
          "symbol": "circle"
         },
         "mode": "lines",
         "name": "{3, 7}",
         "scene": "scene",
         "showlegend": true,
         "type": "scatter3d",
         "x": [
          0.23345858076322928,
          0.7225470916178227
         ],
         "y": [
          0.9443040301443992,
          0.48965188446485935
         ],
         "z": [
          0.804953357461367,
          0.5158175418080423
         ]
        },
        {
         "hovertemplate": "line={4, 7}<br>x=%{x}<br>y=%{y}<br>z=%{z}<extra></extra>",
         "legendgroup": "{4, 7}",
         "line": {
          "color": "#00cc96",
          "dash": "solid"
         },
         "marker": {
          "symbol": "circle"
         },
         "mode": "lines",
         "name": "{4, 7}",
         "scene": "scene",
         "showlegend": true,
         "type": "scatter3d",
         "x": [
          0.284096598918533,
          0.7225470916178227
         ],
         "y": [
          0.31616913039433553,
          0.48965188446485935
         ],
         "z": [
          1.3169297650662286,
          0.5158175418080423
         ]
        },
        {
         "hovertemplate": "line={5, 7}<br>x=%{x}<br>y=%{y}<br>z=%{z}<extra></extra>",
         "legendgroup": "{5, 7}",
         "line": {
          "color": "#ab63fa",
          "dash": "solid"
         },
         "marker": {
          "symbol": "circle"
         },
         "mode": "lines",
         "name": "{5, 7}",
         "scene": "scene",
         "showlegend": true,
         "type": "scatter3d",
         "x": [
          0.6916079497234193,
          0.7225470916178227
         ],
         "y": [
          0.04981641091599395,
          0.48965188446485935
         ],
         "z": [
          0.5769025948256076,
          0.5158175418080423
         ]
        },
        {
         "hovertemplate": "line={6, 7}<br>x=%{x}<br>y=%{y}<br>z=%{z}<extra></extra>",
         "legendgroup": "{6, 7}",
         "line": {
          "color": "#FFA15A",
          "dash": "solid"
         },
         "marker": {
          "symbol": "circle"
         },
         "mode": "lines",
         "name": "{6, 7}",
         "scene": "scene",
         "showlegend": true,
         "type": "scatter3d",
         "x": [
          0.663137493583145,
          0.7225470916178227
         ],
         "y": [
          0.055815938685533334,
          0.48965188446485935
         ],
         "z": [
          0.5397146863129192,
          0.5158175418080423
         ]
        },
        {
         "hovertemplate": "line={3, 4}<br>x=%{x}<br>y=%{y}<br>z=%{z}<extra></extra>",
         "legendgroup": "{3, 4}",
         "line": {
          "color": "#19d3f3",
          "dash": "solid"
         },
         "marker": {
          "symbol": "circle"
         },
         "mode": "lines",
         "name": "{3, 4}",
         "scene": "scene",
         "showlegend": true,
         "type": "scatter3d",
         "x": [
          0.23345858076322928,
          0.284096598918533
         ],
         "y": [
          0.9443040301443992,
          0.31616913039433553
         ],
         "z": [
          0.804953357461367,
          1.3169297650662286
         ]
        },
        {
         "hovertemplate": "line={4, 5}<br>x=%{x}<br>y=%{y}<br>z=%{z}<extra></extra>",
         "legendgroup": "{4, 5}",
         "line": {
          "color": "#FF6692",
          "dash": "solid"
         },
         "marker": {
          "symbol": "circle"
         },
         "mode": "lines",
         "name": "{4, 5}",
         "scene": "scene",
         "showlegend": true,
         "type": "scatter3d",
         "x": [
          0.284096598918533,
          0.6916079497234193
         ],
         "y": [
          0.31616913039433553,
          0.04981641091599395
         ],
         "z": [
          1.3169297650662286,
          0.5769025948256076
         ]
        },
        {
         "hovertemplate": "line={5, 6}<br>x=%{x}<br>y=%{y}<br>z=%{z}<extra></extra>",
         "legendgroup": "{5, 6}",
         "line": {
          "color": "#B6E880",
          "dash": "solid"
         },
         "marker": {
          "symbol": "circle"
         },
         "mode": "lines",
         "name": "{5, 6}",
         "scene": "scene",
         "showlegend": true,
         "type": "scatter3d",
         "x": [
          0.6916079497234193,
          0.663137493583145
         ],
         "y": [
          0.04981641091599395,
          0.055815938685533334
         ],
         "z": [
          0.5769025948256076,
          0.5397146863129192
         ]
        }
       ],
       "layout": {
        "legend": {
         "title": {
          "text": "line"
         },
         "tracegroupgap": 0
        },
        "margin": {
         "t": 60
        },
        "scene": {
         "domain": {
          "x": [
           0,
           1
          ],
          "y": [
           0,
           1
          ]
         },
         "xaxis": {
          "title": {
           "text": "x"
          }
         },
         "yaxis": {
          "title": {
           "text": "y"
          }
         },
         "zaxis": {
          "title": {
           "text": "z"
          }
         }
        },
        "template": {
         "data": {
          "bar": [
           {
            "error_x": {
             "color": "#2a3f5f"
            },
            "error_y": {
             "color": "#2a3f5f"
            },
            "marker": {
             "line": {
              "color": "#E5ECF6",
              "width": 0.5
             },
             "pattern": {
              "fillmode": "overlay",
              "size": 10,
              "solidity": 0.2
             }
            },
            "type": "bar"
           }
          ],
          "barpolar": [
           {
            "marker": {
             "line": {
              "color": "#E5ECF6",
              "width": 0.5
             },
             "pattern": {
              "fillmode": "overlay",
              "size": 10,
              "solidity": 0.2
             }
            },
            "type": "barpolar"
           }
          ],
          "carpet": [
           {
            "aaxis": {
             "endlinecolor": "#2a3f5f",
             "gridcolor": "white",
             "linecolor": "white",
             "minorgridcolor": "white",
             "startlinecolor": "#2a3f5f"
            },
            "baxis": {
             "endlinecolor": "#2a3f5f",
             "gridcolor": "white",
             "linecolor": "white",
             "minorgridcolor": "white",
             "startlinecolor": "#2a3f5f"
            },
            "type": "carpet"
           }
          ],
          "choropleth": [
           {
            "colorbar": {
             "outlinewidth": 0,
             "ticks": ""
            },
            "type": "choropleth"
           }
          ],
          "contour": [
           {
            "colorbar": {
             "outlinewidth": 0,
             "ticks": ""
            },
            "colorscale": [
             [
              0,
              "#0d0887"
             ],
             [
              0.1111111111111111,
              "#46039f"
             ],
             [
              0.2222222222222222,
              "#7201a8"
             ],
             [
              0.3333333333333333,
              "#9c179e"
             ],
             [
              0.4444444444444444,
              "#bd3786"
             ],
             [
              0.5555555555555556,
              "#d8576b"
             ],
             [
              0.6666666666666666,
              "#ed7953"
             ],
             [
              0.7777777777777778,
              "#fb9f3a"
             ],
             [
              0.8888888888888888,
              "#fdca26"
             ],
             [
              1,
              "#f0f921"
             ]
            ],
            "type": "contour"
           }
          ],
          "contourcarpet": [
           {
            "colorbar": {
             "outlinewidth": 0,
             "ticks": ""
            },
            "type": "contourcarpet"
           }
          ],
          "heatmap": [
           {
            "colorbar": {
             "outlinewidth": 0,
             "ticks": ""
            },
            "colorscale": [
             [
              0,
              "#0d0887"
             ],
             [
              0.1111111111111111,
              "#46039f"
             ],
             [
              0.2222222222222222,
              "#7201a8"
             ],
             [
              0.3333333333333333,
              "#9c179e"
             ],
             [
              0.4444444444444444,
              "#bd3786"
             ],
             [
              0.5555555555555556,
              "#d8576b"
             ],
             [
              0.6666666666666666,
              "#ed7953"
             ],
             [
              0.7777777777777778,
              "#fb9f3a"
             ],
             [
              0.8888888888888888,
              "#fdca26"
             ],
             [
              1,
              "#f0f921"
             ]
            ],
            "type": "heatmap"
           }
          ],
          "heatmapgl": [
           {
            "colorbar": {
             "outlinewidth": 0,
             "ticks": ""
            },
            "colorscale": [
             [
              0,
              "#0d0887"
             ],
             [
              0.1111111111111111,
              "#46039f"
             ],
             [
              0.2222222222222222,
              "#7201a8"
             ],
             [
              0.3333333333333333,
              "#9c179e"
             ],
             [
              0.4444444444444444,
              "#bd3786"
             ],
             [
              0.5555555555555556,
              "#d8576b"
             ],
             [
              0.6666666666666666,
              "#ed7953"
             ],
             [
              0.7777777777777778,
              "#fb9f3a"
             ],
             [
              0.8888888888888888,
              "#fdca26"
             ],
             [
              1,
              "#f0f921"
             ]
            ],
            "type": "heatmapgl"
           }
          ],
          "histogram": [
           {
            "marker": {
             "pattern": {
              "fillmode": "overlay",
              "size": 10,
              "solidity": 0.2
             }
            },
            "type": "histogram"
           }
          ],
          "histogram2d": [
           {
            "colorbar": {
             "outlinewidth": 0,
             "ticks": ""
            },
            "colorscale": [
             [
              0,
              "#0d0887"
             ],
             [
              0.1111111111111111,
              "#46039f"
             ],
             [
              0.2222222222222222,
              "#7201a8"
             ],
             [
              0.3333333333333333,
              "#9c179e"
             ],
             [
              0.4444444444444444,
              "#bd3786"
             ],
             [
              0.5555555555555556,
              "#d8576b"
             ],
             [
              0.6666666666666666,
              "#ed7953"
             ],
             [
              0.7777777777777778,
              "#fb9f3a"
             ],
             [
              0.8888888888888888,
              "#fdca26"
             ],
             [
              1,
              "#f0f921"
             ]
            ],
            "type": "histogram2d"
           }
          ],
          "histogram2dcontour": [
           {
            "colorbar": {
             "outlinewidth": 0,
             "ticks": ""
            },
            "colorscale": [
             [
              0,
              "#0d0887"
             ],
             [
              0.1111111111111111,
              "#46039f"
             ],
             [
              0.2222222222222222,
              "#7201a8"
             ],
             [
              0.3333333333333333,
              "#9c179e"
             ],
             [
              0.4444444444444444,
              "#bd3786"
             ],
             [
              0.5555555555555556,
              "#d8576b"
             ],
             [
              0.6666666666666666,
              "#ed7953"
             ],
             [
              0.7777777777777778,
              "#fb9f3a"
             ],
             [
              0.8888888888888888,
              "#fdca26"
             ],
             [
              1,
              "#f0f921"
             ]
            ],
            "type": "histogram2dcontour"
           }
          ],
          "mesh3d": [
           {
            "colorbar": {
             "outlinewidth": 0,
             "ticks": ""
            },
            "type": "mesh3d"
           }
          ],
          "parcoords": [
           {
            "line": {
             "colorbar": {
              "outlinewidth": 0,
              "ticks": ""
             }
            },
            "type": "parcoords"
           }
          ],
          "pie": [
           {
            "automargin": true,
            "type": "pie"
           }
          ],
          "scatter": [
           {
            "fillpattern": {
             "fillmode": "overlay",
             "size": 10,
             "solidity": 0.2
            },
            "type": "scatter"
           }
          ],
          "scatter3d": [
           {
            "line": {
             "colorbar": {
              "outlinewidth": 0,
              "ticks": ""
             }
            },
            "marker": {
             "colorbar": {
              "outlinewidth": 0,
              "ticks": ""
             }
            },
            "type": "scatter3d"
           }
          ],
          "scattercarpet": [
           {
            "marker": {
             "colorbar": {
              "outlinewidth": 0,
              "ticks": ""
             }
            },
            "type": "scattercarpet"
           }
          ],
          "scattergeo": [
           {
            "marker": {
             "colorbar": {
              "outlinewidth": 0,
              "ticks": ""
             }
            },
            "type": "scattergeo"
           }
          ],
          "scattergl": [
           {
            "marker": {
             "colorbar": {
              "outlinewidth": 0,
              "ticks": ""
             }
            },
            "type": "scattergl"
           }
          ],
          "scattermapbox": [
           {
            "marker": {
             "colorbar": {
              "outlinewidth": 0,
              "ticks": ""
             }
            },
            "type": "scattermapbox"
           }
          ],
          "scatterpolar": [
           {
            "marker": {
             "colorbar": {
              "outlinewidth": 0,
              "ticks": ""
             }
            },
            "type": "scatterpolar"
           }
          ],
          "scatterpolargl": [
           {
            "marker": {
             "colorbar": {
              "outlinewidth": 0,
              "ticks": ""
             }
            },
            "type": "scatterpolargl"
           }
          ],
          "scatterternary": [
           {
            "marker": {
             "colorbar": {
              "outlinewidth": 0,
              "ticks": ""
             }
            },
            "type": "scatterternary"
           }
          ],
          "surface": [
           {
            "colorbar": {
             "outlinewidth": 0,
             "ticks": ""
            },
            "colorscale": [
             [
              0,
              "#0d0887"
             ],
             [
              0.1111111111111111,
              "#46039f"
             ],
             [
              0.2222222222222222,
              "#7201a8"
             ],
             [
              0.3333333333333333,
              "#9c179e"
             ],
             [
              0.4444444444444444,
              "#bd3786"
             ],
             [
              0.5555555555555556,
              "#d8576b"
             ],
             [
              0.6666666666666666,
              "#ed7953"
             ],
             [
              0.7777777777777778,
              "#fb9f3a"
             ],
             [
              0.8888888888888888,
              "#fdca26"
             ],
             [
              1,
              "#f0f921"
             ]
            ],
            "type": "surface"
           }
          ],
          "table": [
           {
            "cells": {
             "fill": {
              "color": "#EBF0F8"
             },
             "line": {
              "color": "white"
             }
            },
            "header": {
             "fill": {
              "color": "#C8D4E3"
             },
             "line": {
              "color": "white"
             }
            },
            "type": "table"
           }
          ]
         },
         "layout": {
          "annotationdefaults": {
           "arrowcolor": "#2a3f5f",
           "arrowhead": 0,
           "arrowwidth": 1
          },
          "autotypenumbers": "strict",
          "coloraxis": {
           "colorbar": {
            "outlinewidth": 0,
            "ticks": ""
           }
          },
          "colorscale": {
           "diverging": [
            [
             0,
             "#8e0152"
            ],
            [
             0.1,
             "#c51b7d"
            ],
            [
             0.2,
             "#de77ae"
            ],
            [
             0.3,
             "#f1b6da"
            ],
            [
             0.4,
             "#fde0ef"
            ],
            [
             0.5,
             "#f7f7f7"
            ],
            [
             0.6,
             "#e6f5d0"
            ],
            [
             0.7,
             "#b8e186"
            ],
            [
             0.8,
             "#7fbc41"
            ],
            [
             0.9,
             "#4d9221"
            ],
            [
             1,
             "#276419"
            ]
           ],
           "sequential": [
            [
             0,
             "#0d0887"
            ],
            [
             0.1111111111111111,
             "#46039f"
            ],
            [
             0.2222222222222222,
             "#7201a8"
            ],
            [
             0.3333333333333333,
             "#9c179e"
            ],
            [
             0.4444444444444444,
             "#bd3786"
            ],
            [
             0.5555555555555556,
             "#d8576b"
            ],
            [
             0.6666666666666666,
             "#ed7953"
            ],
            [
             0.7777777777777778,
             "#fb9f3a"
            ],
            [
             0.8888888888888888,
             "#fdca26"
            ],
            [
             1,
             "#f0f921"
            ]
           ],
           "sequentialminus": [
            [
             0,
             "#0d0887"
            ],
            [
             0.1111111111111111,
             "#46039f"
            ],
            [
             0.2222222222222222,
             "#7201a8"
            ],
            [
             0.3333333333333333,
             "#9c179e"
            ],
            [
             0.4444444444444444,
             "#bd3786"
            ],
            [
             0.5555555555555556,
             "#d8576b"
            ],
            [
             0.6666666666666666,
             "#ed7953"
            ],
            [
             0.7777777777777778,
             "#fb9f3a"
            ],
            [
             0.8888888888888888,
             "#fdca26"
            ],
            [
             1,
             "#f0f921"
            ]
           ]
          },
          "colorway": [
           "#636efa",
           "#EF553B",
           "#00cc96",
           "#ab63fa",
           "#FFA15A",
           "#19d3f3",
           "#FF6692",
           "#B6E880",
           "#FF97FF",
           "#FECB52"
          ],
          "font": {
           "color": "#2a3f5f"
          },
          "geo": {
           "bgcolor": "white",
           "lakecolor": "white",
           "landcolor": "#E5ECF6",
           "showlakes": true,
           "showland": true,
           "subunitcolor": "white"
          },
          "hoverlabel": {
           "align": "left"
          },
          "hovermode": "closest",
          "mapbox": {
           "style": "light"
          },
          "paper_bgcolor": "white",
          "plot_bgcolor": "#E5ECF6",
          "polar": {
           "angularaxis": {
            "gridcolor": "white",
            "linecolor": "white",
            "ticks": ""
           },
           "bgcolor": "#E5ECF6",
           "radialaxis": {
            "gridcolor": "white",
            "linecolor": "white",
            "ticks": ""
           }
          },
          "scene": {
           "xaxis": {
            "backgroundcolor": "#E5ECF6",
            "gridcolor": "white",
            "gridwidth": 2,
            "linecolor": "white",
            "showbackground": true,
            "ticks": "",
            "zerolinecolor": "white"
           },
           "yaxis": {
            "backgroundcolor": "#E5ECF6",
            "gridcolor": "white",
            "gridwidth": 2,
            "linecolor": "white",
            "showbackground": true,
            "ticks": "",
            "zerolinecolor": "white"
           },
           "zaxis": {
            "backgroundcolor": "#E5ECF6",
            "gridcolor": "white",
            "gridwidth": 2,
            "linecolor": "white",
            "showbackground": true,
            "ticks": "",
            "zerolinecolor": "white"
           }
          },
          "shapedefaults": {
           "line": {
            "color": "#2a3f5f"
           }
          },
          "ternary": {
           "aaxis": {
            "gridcolor": "white",
            "linecolor": "white",
            "ticks": ""
           },
           "baxis": {
            "gridcolor": "white",
            "linecolor": "white",
            "ticks": ""
           },
           "bgcolor": "#E5ECF6",
           "caxis": {
            "gridcolor": "white",
            "linecolor": "white",
            "ticks": ""
           }
          },
          "title": {
           "x": 0.05
          },
          "xaxis": {
           "automargin": true,
           "gridcolor": "white",
           "linecolor": "white",
           "ticks": "",
           "title": {
            "standoff": 15
           },
           "zerolinecolor": "white",
           "zerolinewidth": 2
          },
          "yaxis": {
           "automargin": true,
           "gridcolor": "white",
           "linecolor": "white",
           "ticks": "",
           "title": {
            "standoff": 15
           },
           "zerolinecolor": "white",
           "zerolinewidth": 2
          }
         }
        }
       }
      }
     },
     "metadata": {},
     "output_type": "display_data"
    }
   ],
   "source": [
    "poly_ind = 6\n",
    "poly = polys[poly_ind]\n",
    "\n",
    "dims = [\"x\", \"y\", \"z\"]\n",
    "vertices_by_col = {dims[i]: list(col) for i, col in enumerate(zip(*poly[\"vertices\"]))}\n",
    "vertices_by_col[\"extreme\"] = [str(i in poly[\"essential_indices\"]) for i in range(len(poly[\"vertices\"]))]\n",
    "vertices_by_col[\"text\"] = [str(i) for i in range(len(vertices_by_col[\"x\"]))]\n",
    "\n",
    "# Plot the edges\n",
    "\n",
    "lines = {}\n",
    "for start_vertex, adjacent in poly[\"adjacency\"].items():\n",
    "    for end_vertex in adjacent:\n",
    "        line = frozenset((int(start_vertex), int(end_vertex)))\n",
    "        count = lines.get(line, 0)\n",
    "        lines[line] = count + 1\n",
    "        \n",
    "for line, count in lines.items():\n",
    "    #print(line, count)\n",
    "    assert count == 2, \"Should be dupes\"\n",
    "\n",
    "lines_by_col = {dim: [] for dim in dims}\n",
    "lines_by_col[\"line\"] = []\n",
    "for line in lines:\n",
    "    for vertex in line:\n",
    "        for dim in dims:\n",
    "            lines_by_col[dim].append(vertices_by_col[dim][vertex])\n",
    "        lines_by_col[\"line\"].append(str(set(line)))\n",
    "\n",
    "#(df=vertices_by_col, x=\"x\", y=\"y\", z=\"z\", color=\"extreme\", text=\"text\")\n",
    "fig = px.line_3d(lines_by_col, x=\"x\", y=\"y\", z=\"z\", color=\"line\")\n",
    "#fig.add_scatter3d(**{dim: vertices_by_col[dim] for dim in dims})\n",
    "fig.show()"
   ]
  },
  {
   "cell_type": "code",
   "execution_count": 74,
   "metadata": {},
   "outputs": [
    {
     "name": "stdout",
     "output_type": "stream",
     "text": [
      "RSOut(param=array([0.47752922, 0.67299757, 0.56483636]), decomp=array([6, 9, 5, 5, 7, 1, 3, 7, 6, 4]))\n",
      "RSOut(param=array([0.7019203 , 0.61131388, 0.36551776]), decomp=array([6, 9, 6, 1, 7, 1, 3, 7, 6, 4]))\n",
      "RSOut(param=array([0.52311496, 0.57041956, 0.6332237 ]), decomp=array([6, 9, 6, 5, 6, 1, 3, 7, 6, 4]))\n",
      "RSOut(param=array([0.46589987, 0.61646849, 0.63474713]), decomp=array([6, 9, 5, 5, 6, 1, 3, 7, 6, 4]))\n",
      "RSOut(param=array([0.28896178, 0.7278815 , 0.62184372]), decomp=array([6, 9, 5, 5, 8, 1, 3, 7, 6, 4]))\n",
      "RSOut(param=array([0.05890775, 0.73826718, 0.67193114]), decomp=array([6, 7, 5, 5, 8, 1, 3, 7, 6, 4]))\n",
      "RSOut(param=array([0.04176987, 0.82094923, 0.56947136]), decomp=array([6, 7, 5, 8, 8, 1, 3, 7, 6, 4]))\n",
      "RSOut(param=array([-0.09156376,  0.79413795,  0.6008003 ]), decomp=array([6, 7, 5, 8, 8, 6, 3, 7, 6, 4]))\n",
      "RSOut(param=array([-0.29355309,  0.748141  ,  0.5950728 ]), decomp=array([6, 1, 5, 8, 8, 6, 3, 7, 6, 4]))\n",
      "RSOut(param=array([-0.445566  ,  0.62283951,  0.64307223]), decomp=array([3, 1, 5, 8, 8, 6, 3, 7, 6, 4]))\n",
      "RSOut(param=array([-0.56605858,  0.58241252,  0.58341524]), decomp=array([3, 1, 5, 8, 8, 3, 3, 7, 6, 4]))\n",
      "RSOut(param=array([-0.5599829 ,  0.52697497,  0.63930942]), decomp=array([3, 1, 5, 8, 8, 6, 3, 9, 6, 4]))\n",
      "RSOut(param=array([-0.58508143,  0.55052068,  0.59548863]), decomp=array([3, 1, 5, 8, 8, 3, 3, 9, 6, 4]))\n",
      "RSOut(param=array([-0.6414966 ,  0.49913184,  0.58253714]), decomp=array([3, 1, 5, 8, 8, 3, 3, 9, 6, 0]))\n",
      "RSOut(param=array([-0.7223375 ,  0.48625596,  0.49171504]), decomp=array([3, 1, 9, 8, 8, 3, 3, 9, 6, 0]))\n",
      "RSOut(param=array([-0.81441409,  0.41853623,  0.40194169]), decomp=array([3, 1, 9, 8, 8, 3, 3, 9, 1, 0]))\n",
      "RSOut(param=array([-0.84396204,  0.29648248,  0.44701925]), decomp=array([3, 1, 9, 9, 8, 3, 3, 9, 1, 0]))\n",
      "RSOut(param=array([-0.88079514,  0.31387031,  0.35452129]), decomp=array([3, 1, 9, 8, 8, 3, 0, 9, 1, 0]))\n",
      "RSOut(param=array([-0.92778196,  0.3191623 ,  0.19327714]), decomp=array([3, 1, 9, 8, 8, 3, 0, 9, 9, 0]))\n",
      "RSOut(param=array([-0.97495938,  0.22238303,  0.        ]), decomp=array([3, 1, 9, 8, 1, 3, 0, 9, 9, 0]))\n",
      "RSOut(param=array([-0.97637385,  0.21156628, -0.04397509]), decomp=array([0, 1, 9, 8, 1, 3, 0, 9, 9, 0]))\n",
      "RSOut(param=array([-0.98940643,  0.07644103, -0.12341668]), decomp=array([0, 1, 9, 8, 1, 3, 0, 1, 9, 0]))\n",
      "RSOut(param=array([-0.98964039,  0.13931441, -0.03468998]), decomp=array([9, 1, 9, 8, 1, 3, 0, 9, 9, 0]))\n",
      "RSOut(param=array([-0.98999082,  0.05579137, -0.12963603]), decomp=array([9, 1, 9, 8, 1, 3, 0, 1, 9, 0]))\n",
      "RSOut(param=array([-0.98898137,  0.04613776, -0.14066686]), decomp=array([9, 1, 9, 8, 1, 3, 1, 1, 9, 0]))\n",
      "RSOut(param=array([-0.85974595,  0.43579736,  0.26630352]), decomp=array([3, 1, 9, 8, 8, 3, 3, 9, 9, 0]))\n",
      "RSOut(param=array([-0.60348298,  0.47782408,  0.63835134]), decomp=array([3, 1, 5, 8, 8, 6, 3, 9, 6, 0]))\n",
      "RSOut(param=array([-0.48139061,  0.70094421,  0.52625117]), decomp=array([3, 1, 5, 8, 8, 6, 3, 7, 6, 3]))\n",
      "RSOut(param=array([-0.56866734,  0.63947016,  0.51739285]), decomp=array([3, 1, 5, 8, 8, 3, 3, 7, 6, 3]))\n",
      "RSOut(param=array([-0.62659182,  0.57958754,  0.52101917]), decomp=array([3, 1, 5, 8, 8, 3, 3, 9, 6, 3]))\n",
      "RSOut(param=array([-0.63613599,  0.61695123,  0.46335967]), decomp=array([3, 1, 3, 8, 8, 3, 3, 9, 6, 3]))\n",
      "RSOut(param=array([-0.67481737,  0.56856127,  0.47048867]), decomp=array([3, 1, 9, 8, 8, 3, 3, 9, 6, 3]))\n",
      "RSOut(param=array([-0.08544515,  0.68023635,  0.72799563]), decomp=array([6, 7, 5, 5, 8, 6, 3, 7, 6, 4]))\n",
      "RSOut(param=array([-0.32025408,  0.59919229,  0.73376149]), decomp=array([6, 1, 5, 5, 8, 6, 3, 7, 6, 4]))\n",
      "RSOut(param=array([-0.33682862,  0.58660987,  0.7365021 ]), decomp=array([3, 1, 5, 5, 8, 6, 3, 7, 6, 4]))\n",
      "RSOut(param=array([0.18292368, 0.83191439, 0.5238868 ]), decomp=array([6, 9, 5, 8, 8, 1, 3, 7, 6, 4]))\n",
      "RSOut(param=array([0.40565101, 0.80980709, 0.42386288]), decomp=array([6, 9, 5, 5, 8, 1, 3, 7, 7, 4]))\n",
      "RSOut(param=array([0.29131178, 0.88484857, 0.36356631]), decomp=array([6, 9, 5, 8, 8, 1, 3, 7, 7, 4]))\n",
      "RSOut(param=array([0.08963923, 0.92878817, 0.35960721]), decomp=array([6, 7, 5, 8, 8, 1, 3, 7, 7, 4]))\n",
      "RSOut(param=array([-0.00296627,  0.94962148,  0.31338513]), decomp=array([6, 1, 5, 8, 8, 1, 3, 7, 7, 4]))\n",
      "RSOut(param=array([-0.05881522,  0.86922982,  0.49089743]), decomp=array([6, 7, 5, 8, 8, 6, 3, 7, 7, 4]))\n",
      "RSOut(param=array([-0.18577963,  0.85590515,  0.48260988]), decomp=array([6, 1, 5, 8, 8, 6, 3, 7, 7, 4]))\n",
      "RSOut(param=array([-0.38353071,  0.76473501,  0.51776883]), decomp=array([3, 1, 5, 8, 8, 6, 3, 7, 7, 4]))\n",
      "RSOut(param=array([0.10681032, 0.97369861, 0.20125251]), decomp=array([6, 7, 5, 8, 8, 1, 3, 7, 7, 3]))\n",
      "RSOut(param=array([0.03400035, 0.98137818, 0.18905247]), decomp=array([6, 1, 5, 8, 8, 1, 3, 7, 7, 3]))\n",
      "RSOut(param=array([-0.10610318,  0.9727218 ,  0.20628723]), decomp=array([6, 1, 5, 8, 8, 6, 3, 7, 7, 3]))\n",
      "RSOut(param=array([-0.42372355,  0.76873343,  0.47906917]), decomp=array([3, 1, 5, 8, 8, 6, 3, 7, 7, 3]))\n",
      "RSOut(param=array([-0.52462362,  0.72547043,  0.44549154]), decomp=array([3, 1, 5, 8, 8, 3, 3, 7, 7, 3]))\n",
      "RSOut(param=array([-0.51505244,  0.83426928,  0.19676316]), decomp=array([3, 1, 3, 8, 8, 3, 3, 7, 7, 3]))\n",
      "RSOut(param=array([-0.66633636,  0.7398731 ,  0.09264801]), decomp=array([3, 1, 9, 8, 8, 3, 3, 7, 7, 3]))\n",
      "RSOut(param=array([-0.74224916,  0.67010443, -0.0051228 ]), decomp=array([3, 1, 9, 8, 8, 3, 3, 4, 7, 3]))\n",
      "RSOut(param=array([-0.76310598,  0.64601484, -0.01827783]), decomp=array([3, 1, 9, 8, 8, 3, 1, 4, 7, 3]))\n",
      "RSOut(param=array([-0.76342701,  0.64586657, -0.00596355]), decomp=array([3, 1, 9, 8, 8, 3, 3, 9, 7, 3]))\n",
      "RSOut(param=array([-0.8648609 ,  0.48284835,  0.13737941]), decomp=array([3, 1, 9, 8, 8, 3, 0, 9, 7, 3]))\n",
      "RSOut(param=array([-0.89676634,  0.44250438,  0.        ]), decomp=array([3, 1, 9, 8, 8, 3, 1, 9, 7, 3]))\n",
      "RSOut(param=array([-0.89165906,  0.44947198, -0.05402835]), decomp=array([0, 1, 9, 8, 8, 3, 1, 9, 7, 3]))\n",
      "RSOut(param=array([-0.91310839,  0.40295535, -0.06212938]), decomp=array([0, 1, 9, 8, 1, 3, 1, 9, 7, 3]))\n",
      "RSOut(param=array([-0.91692689,  0.39771003, -0.03273861]), decomp=array([3, 1, 9, 8, 1, 3, 1, 9, 7, 3]))\n",
      "RSOut(param=array([-0.91919505,  0.39364296, -0.01121038]), decomp=array([3, 1, 9, 8, 8, 3, 1, 9, 7, 0]))\n",
      "RSOut(param=array([-0.92228995,  0.3854986 , -0.02778647]), decomp=array([3, 1, 9, 8, 1, 3, 1, 9, 7, 0]))\n",
      "RSOut(param=array([-0.92294662,  0.38244576, -0.04364382]), decomp=array([0, 1, 9, 8, 1, 3, 1, 9, 7, 0]))\n",
      "RSOut(param=array([-0.92569533,  0.37826996,  0.        ]), decomp=array([3, 1, 9, 8, 8, 3, 1, 9, 9, 0]))\n",
      "RSOut(param=array([-0.940898  ,  0.33857068, -0.00899135]), decomp=array([3, 1, 9, 8, 1, 3, 1, 9, 9, 0]))\n",
      "RSOut(param=array([-0.96737561,  0.24330996, -0.07060228]), decomp=array([0, 1, 9, 8, 1, 3, 1, 9, 9, 0]))\n",
      "RSOut(param=array([-0.84683446,  0.4672076 ,  0.25414257]), decomp=array([3, 1, 9, 8, 8, 3, 3, 9, 7, 0]))\n",
      "RSOut(param=array([-0.87183726,  0.45207789,  0.18848173]), decomp=array([3, 1, 9, 8, 8, 3, 0, 9, 7, 0]))\n",
      "RSOut(param=array([-0.73015002,  0.68174184,  0.04592407]), decomp=array([3, 1, 9, 8, 8, 3, 3, 8, 7, 3]))\n",
      "RSOut(param=array([-0.64060745,  0.63752933,  0.42799351]), decomp=array([3, 1, 3, 8, 8, 3, 3, 9, 7, 3]))\n",
      "RSOut(param=array([-0.62726208,  0.626767  ,  0.46228283]), decomp=array([3, 1, 5, 8, 8, 3, 3, 9, 7, 3]))\n",
      "RSOut(param=array([-0.36500055,  0.88606596,  0.28576512]), decomp=array([6, 1, 5, 8, 8, 3, 3, 7, 7, 3]))\n",
      "RSOut(param=array([-0.30326607,  0.95161069,  0.04966675]), decomp=array([6, 1, 3, 8, 8, 3, 3, 7, 7, 3]))\n",
      "RSOut(param=array([-0.40742028,  0.91095668, -0.06454947]), decomp=array([0, 1, 3, 8, 8, 3, 3, 7, 7, 3]))\n",
      "RSOut(param=array([-0.57809823,  0.81543195, -0.02954951]), decomp=array([0, 1, 9, 8, 8, 3, 3, 7, 7, 3]))\n",
      "RSOut(param=array([-0.41481999,  0.8850529 , -0.21120072]), decomp=array([0, 1, 3, 8, 8, 3, 3, 4, 7, 3]))\n",
      "RSOut(param=array([-0.60437716,  0.79062919, -0.09815158]), decomp=array([0, 1, 9, 8, 8, 3, 3, 4, 7, 3]))\n",
      "RSOut(param=array([-0.75332619,  0.65504408, -0.05845424]), decomp=array([0, 1, 9, 8, 8, 3, 1, 4, 7, 3]))\n",
      "RSOut(param=array([-0.8000533 ,  0.58661275, -0.12569879]), decomp=array([0, 1, 9, 8, 8, 3, 1, 1, 7, 3]))\n",
      "RSOut(param=array([-0.74868545,  0.45539254, -0.48175484]), decomp=array([0, 1, 9, 8, 1, 3, 1, 1, 7, 3]))\n",
      "RSOut(param=array([-0.57494231,  0.28678546, -0.76628679]), decomp=array([0, 3, 9, 8, 1, 3, 1, 1, 7, 3]))\n",
      "RSOut(param=array([-0.58465079,  0.25517236, -0.77011072]), decomp=array([0, 3, 9, 8, 1, 3, 1, 1, 7, 7]))\n",
      "RSOut(param=array([-0.61144847,  0.01475134, -0.79114674]), decomp=array([0, 3, 9, 8, 1, 4, 1, 1, 7, 7]))\n",
      "RSOut(param=array([-0.65283178,  0.02351365, -0.75713789]), decomp=array([0, 3, 9, 8, 1, 3, 1, 1, 9, 7]))\n",
      "RSOut(param=array([-0.65053251, -0.01170148, -0.75938826]), decomp=array([0, 3, 9, 8, 1, 4, 1, 1, 9, 7]))\n",
      "RSOut(param=array([-0.64592905, -0.08817062, -0.7582886 ]), decomp=array([0, 3, 9, 2, 1, 4, 1, 1, 9, 7]))\n",
      "RSOut(param=array([-0.59179044, -0.47760911, -0.64936401]), decomp=array([0, 3, 9, 2, 1, 4, 1, 1, 9, 5]))\n",
      "RSOut(param=array([-0.574133  , -0.53396346, -0.62068858]), decomp=array([0, 3, 9, 2, 2, 4, 1, 1, 9, 5]))\n",
      "RSOut(param=array([-0.87037333,  0.19885475, -0.45045205]), decomp=array([0, 1, 9, 8, 1, 3, 1, 1, 9, 3]))\n",
      "RSOut(param=array([-0.92652726,  0.36467416, -0.09252021]), decomp=array([0, 1, 9, 8, 1, 3, 1, 1, 7, 0]))\n",
      "RSOut(param=array([-0.9572446 ,  0.14315931, -0.25137262]), decomp=array([0, 1, 9, 8, 1, 3, 1, 1, 9, 0]))\n",
      "RSOut(param=array([-0.9814468 ,  0.        , -0.19173465]), decomp=array([0, 1, 9, 9, 1, 3, 1, 1, 9, 0]))\n",
      "RSOut(param=array([-0.85699463, -0.24912   , -0.45110912]), decomp=array([0, 1, 9, 9, 1, 4, 1, 1, 9, 0]))\n",
      "RSOut(param=array([-0.66068712, -0.48162951, -0.57578255]), decomp=array([0, 3, 9, 9, 1, 4, 1, 1, 9, 0]))\n",
      "RSOut(param=array([-0.86518709, -0.08359749, -0.49443175]), decomp=array([0, 1, 9, 8, 1, 4, 1, 1, 9, 0]))\n",
      "RSOut(param=array([-0.692004  ,  0.16533829, -0.70270457]), decomp=array([0, 1, 9, 8, 1, 3, 1, 1, 7, 7]))\n",
      "RSOut(param=array([-0.81889013,  0.06312583, -0.5704683 ]), decomp=array([0, 1, 9, 8, 1, 3, 1, 1, 9, 7]))\n",
      "RSOut(param=array([-0.67197695,  0.        , -0.74057206]), decomp=array([0, 1, 9, 8, 1, 4, 1, 1, 9, 7]))\n",
      "RSOut(param=array([-0.73661956, -0.20691132, -0.64387835]), decomp=array([0, 1, 9, 2, 1, 4, 1, 1, 9, 7]))\n",
      "RSOut(param=array([-0.80018403, -0.18918204, -0.56913591]), decomp=array([0, 1, 9, 9, 1, 4, 1, 1, 9, 7]))\n",
      "RSOut(param=array([-0.65237226, -0.47516134, -0.59045079]), decomp=array([0, 3, 9, 9, 1, 4, 1, 1, 9, 7]))\n",
      "RSOut(param=array([-0.65013309, -0.49003968, -0.58067898]), decomp=array([0, 3, 9, 9, 2, 4, 1, 1, 9, 7]))\n",
      "RSOut(param=array([-0.63760335, -0.48762205, -0.59639475]), decomp=array([0, 3, 9, 9, 1, 4, 1, 1, 9, 5]))\n",
      "RSOut(param=array([-0.40563878,  0.84084125, -0.35838969]), decomp=array([0, 1, 3, 8, 8, 3, 1, 4, 7, 3]))\n",
      "RSOut(param=array([0.26939572, 0.94747424, 0.17239058]), decomp=array([6, 9, 2, 8, 8, 1, 3, 7, 7, 4]))\n",
      "RSOut(param=array([0.19552912, 0.96284542, 0.18627148]), decomp=array([6, 7, 2, 8, 8, 1, 3, 7, 7, 4]))\n",
      "RSOut(param=array([0.16347555, 0.97671398, 0.1389444 ]), decomp=array([6, 7, 2, 8, 8, 1, 3, 7, 7, 3]))\n",
      "RSOut(param=array([0., 1., 0.]), decomp=array([6, 1, 2, 8, 8, 1, 3, 7, 7, 3]))\n",
      "RSOut(param=array([ 0.01520743,  0.97981935, -0.19930573]), decomp=array([6, 1, 2, 8, 8, 2, 3, 7, 7, 3]))\n",
      "RSOut(param=array([-0.05149577,  0.96770586, -0.24676621]), decomp=array([0, 1, 2, 8, 8, 2, 3, 7, 7, 3]))\n",
      "RSOut(param=array([ 0.00642785,  0.96643024, -0.25684875]), decomp=array([1, 1, 2, 8, 8, 2, 3, 7, 7, 3]))\n",
      "RSOut(param=array([-0.01645306,  0.96059705, -0.2774574 ]), decomp=array([1, 1, 2, 8, 8, 2, 3, 4, 7, 3]))\n",
      "RSOut(param=array([-0.05817725,  0.94878057, -0.31053315]), decomp=array([0, 1, 2, 8, 8, 2, 3, 4, 7, 3]))\n",
      "RSOut(param=array([-0.17449354,  0.86086113, -0.47798548]), decomp=array([0, 1, 2, 8, 8, 2, 1, 4, 7, 3]))\n",
      "RSOut(param=array([-0.2158459 ,  0.81704443, -0.53464844]), decomp=array([0, 3, 2, 8, 8, 2, 1, 4, 7, 3]))\n",
      "RSOut(param=array([-0.22516593,  0.81104969, -0.5399062 ]), decomp=array([0, 3, 2, 8, 8, 3, 1, 4, 7, 3]))\n",
      "RSOut(param=array([-0.24850354,  0.78646935, -0.56543077]), decomp=array([0, 3, 2, 8, 8, 3, 1, 1, 7, 3]))\n",
      "RSOut(param=array([-0.37638163,  0.63418663, -0.67538447]), decomp=array([0, 3, 2, 8, 1, 3, 1, 1, 7, 3]))\n",
      "RSOut(param=array([-0.53537967,  0.30655342, -0.78701564]), decomp=array([0, 3, 0, 8, 1, 3, 1, 1, 7, 3]))\n",
      "RSOut(param=array([-0.55025572,  0.25347487, -0.79559357]), decomp=array([0, 3, 0, 8, 1, 3, 1, 1, 7, 7]))\n",
      "RSOut(param=array([-0.60022258,  0.01251039, -0.79973517]), decomp=array([0, 3, 0, 8, 1, 4, 1, 1, 7, 7]))\n",
      "RSOut(param=array([-0.60559426,  0.0011622 , -0.79577273]), decomp=array([0, 3, 0, 8, 1, 4, 1, 1, 9, 7]))\n",
      "RSOut(param=array([-0.58653559,  0.02860755, -0.80941807]), decomp=array([0, 3, 0, 8, 1, 5, 1, 1, 7, 7]))\n",
      "RSOut(param=array([-0.22326214,  0.80841105, -0.54463344]), decomp=array([0, 3, 2, 8, 8, 2, 1, 1, 7, 3]))\n",
      "RSOut(param=array([-0.00202085,  0.99833595, -0.05763019]), decomp=array([6, 1, 2, 8, 8, 6, 3, 7, 7, 3]))\n",
      "RSOut(param=array([-0.14440545,  0.9895186 ,  0.        ]), decomp=array([6, 1, 2, 8, 8, 3, 3, 7, 7, 3]))\n",
      "RSOut(param=array([-0.25543841,  0.95542711, -0.14802116]), decomp=array([0, 1, 2, 8, 8, 3, 3, 7, 7, 3]))\n",
      "RSOut(param=array([-0.23106677,  0.92156886, -0.31195991]), decomp=array([0, 1, 2, 8, 8, 3, 3, 4, 7, 3]))\n",
      "RSOut(param=array([-0.24812294,  0.84150505, -0.47990026]), decomp=array([0, 1, 2, 8, 8, 3, 1, 4, 7, 3]))\n",
      "RSOut(param=array([-0.37775562,  0.78844187, -0.48544835]), decomp=array([0, 1, 2, 8, 8, 3, 1, 1, 7, 3]))\n",
      "RSOut(param=array([-0.3654512 ,  0.73328738, -0.5733542 ]), decomp=array([0, 1, 2, 8, 1, 3, 1, 1, 7, 3]))\n",
      "RSOut(param=array([-0.42334953,  0.61502187, -0.66522423]), decomp=array([0, 1, 0, 8, 1, 3, 1, 1, 7, 3]))\n",
      "RSOut(param=array([0.2317186 , 0.96513152, 0.12176881]), decomp=array([6, 9, 2, 8, 8, 1, 3, 7, 7, 3]))\n",
      "RSOut(param=array([0.18733189, 0.98130497, 0.04412839]), decomp=array([6, 5, 2, 8, 8, 1, 3, 7, 7, 3]))\n",
      "RSOut(param=array([0.44698747, 0.77940048, 0.43901833]), decomp=array([6, 9, 6, 5, 8, 1, 3, 7, 6, 4]))\n",
      "RSOut(param=array([0.62509689, 0.47329087, 0.62068481]), decomp=array([6, 9, 6, 5, 7, 1, 4, 7, 6, 4]))\n",
      "RSOut(param=array([0.71443742, 0.43365864, 0.54910778]), decomp=array([6, 9, 6, 1, 7, 1, 4, 7, 6, 4]))\n",
      "RSOut(param=array([0.8257305 , 0.16891626, 0.53817881]), decomp=array([6, 9, 6, 1, 7, 1, 4, 7, 2, 4]))\n",
      "RSOut(param=array([0.84087685, 0.07464019, 0.536055  ]), decomp=array([6, 9, 6, 1, 7, 1, 4, 7, 2, 9]))\n",
      "RSOut(param=array([ 0.84913399, -0.0729559 ,  0.52311462]), decomp=array([6, 9, 6, 1, 7, 1, 4, 6, 2, 9]))\n",
      "RSOut(param=array([0.71917277, 0.20506316, 0.66388224]), decomp=array([6, 9, 6, 3, 7, 1, 4, 7, 6, 4]))\n",
      "RSOut(param=array([0.77899526, 0.12915537, 0.61358396]), decomp=array([6, 9, 6, 3, 7, 1, 4, 7, 2, 4]))\n",
      "RSOut(param=array([ 0.75803481, -0.01217501,  0.65210045]), decomp=array([6, 9, 6, 3, 7, 1, 4, 7, 2, 9]))\n",
      "RSOut(param=array([ 0.80241321, -0.15042616,  0.57749892]), decomp=array([6, 9, 6, 3, 7, 1, 4, 6, 2, 9]))\n",
      "RSOut(param=array([ 0.71513908, -0.35295503,  0.60332317]), decomp=array([2, 9, 6, 3, 7, 1, 4, 6, 2, 9]))\n",
      "RSOut(param=array([ 0.618204  , -0.54069022,  0.5705067 ]), decomp=array([2, 9, 6, 3, 9, 1, 4, 6, 2, 9]))\n",
      "RSOut(param=array([ 0.48343473, -0.68675263,  0.54282749]), decomp=array([2, 9, 6, 3, 9, 1, 4, 6, 2, 6]))\n",
      "RSOut(param=array([ 0.7512336 , -0.38478907,  0.53626994]), decomp=array([2, 9, 6, 3, 7, 1, 5, 6, 2, 9]))\n",
      "RSOut(param=array([ 0.7020201 , -0.51527452,  0.4915892 ]), decomp=array([2, 9, 6, 3, 7, 1, 5, 6, 2, 6]))\n",
      "RSOut(param=array([ 0.58156565, -0.71318403,  0.39134375]), decomp=array([2, 9, 6, 3, 9, 1, 5, 6, 2, 6]))\n",
      "RSOut(param=array([ 0.37761229, -0.82786153,  0.41479422]), decomp=array([2, 9, 8, 3, 9, 1, 5, 6, 2, 6]))\n",
      "RSOut(param=array([ 0.27389443, -0.85154486,  0.44704943]), decomp=array([2, 9, 8, 3, 2, 1, 5, 6, 2, 6]))\n",
      "RSOut(param=array([ 0.26927105, -0.86313946,  0.42718072]), decomp=array([2, 9, 8, 3, 2, 9, 5, 6, 2, 6]))\n",
      "RSOut(param=array([ 0.37737076, -0.89435504,  0.24025066]), decomp=array([2, 9, 8, 3, 9, 9, 5, 6, 2, 6]))\n",
      "RSOut(param=array([ 0.37991715, -0.92120491,  0.08393131]), decomp=array([2, 6, 8, 3, 9, 9, 5, 6, 2, 6]))\n",
      "RSOut(param=array([ 0.27640225, -0.96104204,  0.        ]), decomp=array([2, 2, 8, 3, 9, 9, 5, 6, 2, 6]))\n",
      "RSOut(param=array([ 0.15213993, -0.96197781, -0.22683063]), decomp=array([2, 8, 8, 3, 9, 9, 5, 6, 2, 6]))\n",
      "RSOut(param=array([ 0.12758432, -0.96255585, -0.23918292]), decomp=array([2, 8, 8, 3, 2, 9, 5, 6, 2, 6]))\n",
      "RSOut(param=array([ 0.0520102 , -0.958135  , -0.28155332]), decomp=array([2, 8, 8, 3, 2, 9, 6, 6, 2, 6]))\n",
      "RSOut(param=array([ 0.01412655, -0.95324263, -0.30187569]), decomp=array([9, 8, 8, 3, 2, 9, 6, 6, 2, 6]))\n",
      "RSOut(param=array([-0.01854047, -0.93842797, -0.34497709]), decomp=array([9, 8, 0, 3, 2, 9, 6, 6, 2, 6]))\n",
      "RSOut(param=array([-0.02131482, -0.93723726, -0.34804023]), decomp=array([9, 8, 0, 9, 2, 9, 6, 6, 2, 6]))\n",
      "RSOut(param=array([-0.05460954, -0.92849502, -0.36730749]), decomp=array([9, 8, 0, 9, 2, 4, 6, 6, 2, 6]))\n",
      "RSOut(param=array([-0.17034853, -0.900431  , -0.40025667]), decomp=array([9, 8, 0, 9, 2, 4, 6, 1, 2, 6]))\n",
      "RSOut(param=array([-0.24628975, -0.88557354, -0.39382847]), decomp=array([9, 8, 0, 9, 2, 4, 9, 1, 2, 6]))\n",
      "RSOut(param=array([-0.28974162, -0.85106449, -0.43788014]), decomp=array([9, 8, 0, 9, 2, 4, 0, 1, 2, 6]))\n",
      "RSOut(param=array([-0.34182963, -0.79416797, -0.50244376]), decomp=array([9, 8, 0, 9, 2, 4, 1, 1, 2, 6]))\n",
      "RSOut(param=array([-0.36620333, -0.7662618 , -0.52795642]), decomp=array([9, 3, 0, 9, 2, 4, 1, 1, 2, 6]))\n",
      "RSOut(param=array([-0.37057302, -0.7586654 , -0.53581941]), decomp=array([0, 3, 0, 9, 2, 4, 1, 1, 2, 6]))\n",
      "RSOut(param=array([-0.38435566, -0.75857766, -0.526147  ]), decomp=array([9, 3, 0, 9, 2, 4, 1, 1, 9, 6]))\n",
      "RSOut(param=array([-0.46134664, -0.70150794, -0.54318126]), decomp=array([0, 3, 0, 9, 2, 4, 1, 1, 9, 6]))\n",
      "RSOut(param=array([-0.41925811, -0.78132067, -0.46234257]), decomp=array([9, 8, 0, 9, 2, 4, 0, 1, 9, 6]))\n",
      "RSOut(param=array([-0.43193042, -0.75448273, -0.49415779]), decomp=array([9, 8, 0, 9, 2, 4, 1, 1, 9, 6]))\n",
      "RSOut(param=array([-0.02070371, -0.93909742, -0.3430268 ]), decomp=array([9, 8, 8, 9, 2, 9, 6, 6, 2, 6]))\n",
      "RSOut(param=array([-0.01505879, -0.95491978, -0.29648179]), decomp=array([9, 8, 8, 3, 2, 4, 6, 6, 2, 6]))\n",
      "RSOut(param=array([-0.04295161, -0.94549848, -0.32278131]), decomp=array([9, 8, 8, 9, 2, 4, 6, 6, 2, 6]))\n",
      "RSOut(param=array([-0.13372968, -0.9314119 , -0.33850886]), decomp=array([9, 8, 8, 9, 2, 4, 6, 1, 2, 6]))\n",
      "RSOut(param=array([ 0.0975051 , -0.98348782, -0.15246134]), decomp=array([2, 2, 8, 3, 2, 9, 5, 6, 2, 6]))\n",
      "RSOut(param=array([ 0., -1.,  0.]), decomp=array([2, 2, 8, 3, 2, 4, 5, 6, 2, 6]))\n",
      "RSOut(param=array([-0.05187434, -0.99450063, -0.09098102]), decomp=array([2, 2, 8, 9, 2, 4, 5, 6, 2, 6]))\n",
      "RSOut(param=array([-0.05510918, -0.98667517, -0.15308523]), decomp=array([2, 2, 8, 9, 2, 4, 6, 6, 2, 6]))\n",
      "RSOut(param=array([-0.12595656, -0.94926636, -0.28814634]), decomp=array([9, 2, 8, 9, 2, 4, 6, 6, 2, 6]))\n",
      "RSOut(param=array([-0.17126575, -0.93046955, -0.32387414]), decomp=array([9, 2, 8, 9, 2, 4, 6, 1, 2, 6]))\n",
      "RSOut(param=array([-0.19245171, -0.91783046, -0.3472025 ]), decomp=array([9, 2, 0, 9, 2, 4, 6, 1, 2, 6]))\n",
      "RSOut(param=array([-0.00198018, -0.98234885, -0.18704765]), decomp=array([2, 2, 8, 3, 2, 4, 6, 6, 2, 6]))\n",
      "RSOut(param=array([-0.01080334, -0.9652467 , -0.26111703]), decomp=array([9, 2, 8, 3, 2, 4, 6, 6, 2, 6]))\n",
      "RSOut(param=array([ 0.04363199, -0.97200305, -0.23088161]), decomp=array([2, 2, 8, 3, 2, 9, 6, 6, 2, 6]))\n",
      "RSOut(param=array([ 0.00670399, -0.9621552 , -0.27241959]), decomp=array([9, 2, 8, 3, 2, 9, 6, 6, 2, 6]))\n",
      "RSOut(param=array([ 0.45177287, -0.88636435,  0.10128921]), decomp=array([2, 9, 6, 3, 9, 9, 5, 6, 2, 6]))\n",
      "RSOut(param=array([ 0.40567414, -0.9140093 ,  0.00393587]), decomp=array([2, 6, 6, 3, 9, 9, 5, 6, 2, 6]))\n",
      "RSOut(param=array([ 0.64105212, -0.53474311,  0.550547  ]), decomp=array([2, 9, 6, 3, 7, 1, 4, 6, 2, 6]))\n",
      "RSOut(param=array([ 0.78067748, -0.26883854,  0.56415292]), decomp=array([4, 9, 6, 3, 7, 1, 4, 6, 2, 9]))\n",
      "RSOut(param=array([ 0.82403701, -0.24747942,  0.50962432]), decomp=array([4, 9, 6, 3, 7, 1, 5, 6, 2, 9]))\n",
      "RSOut(param=array([ 0.79206382, -0.38701736,  0.47207253]), decomp=array([4, 9, 6, 3, 7, 1, 5, 6, 2, 6]))\n",
      "RSOut(param=array([ 0.69942885, -0.66117043,  0.27139077]), decomp=array([4, 9, 6, 3, 9, 1, 5, 6, 2, 6]))\n",
      "RSOut(param=array([ 0.83794603, -0.17374673,  0.51735725]), decomp=array([6, 9, 6, 3, 7, 1, 5, 6, 2, 9]))\n",
      "RSOut(param=array([0.5754983 , 0.39345763, 0.71693291]), decomp=array([6, 9, 6, 5, 6, 1, 4, 7, 6, 4]))\n",
      "RSOut(param=array([0.13231773, 0.15845878, 0.97845942]), decomp=array([6, 9, 5, 5, 6, 1, 4, 7, 6, 4]))\n",
      "RSOut(param=array([-0.00797414,  0.21359578,  0.97688958]), decomp=array([6, 7, 5, 5, 6, 1, 4, 7, 6, 4]))\n",
      "RSOut(param=array([-0.024548  ,  0.19246055,  0.98099762]), decomp=array([6, 7, 5, 5, 6, 6, 4, 7, 6, 4]))\n",
      "RSOut(param=array([-0.04832657,  0.1620041 ,  0.98560601]), decomp=array([6, 7, 5, 5, 0, 6, 4, 7, 6, 4]))\n",
      "RSOut(param=array([-0.08172151,  0.09381644,  0.99222985]), decomp=array([6, 7, 5, 5, 0, 6, 4, 9, 6, 4]))\n",
      "RSOut(param=array([-0.08515076, -0.055869  ,  0.99480048]), decomp=array([2, 7, 5, 5, 0, 6, 4, 9, 6, 4]))\n",
      "RSOut(param=array([-0.13077531, -0.14262839,  0.98109885]), decomp=array([2, 7, 5, 9, 0, 6, 4, 9, 6, 4]))\n",
      "RSOut(param=array([-0.15845572, -0.25271217,  0.95447805]), decomp=array([2, 7, 5, 9, 0, 6, 4, 9, 6, 9]))\n",
      "RSOut(param=array([-0.16774909, -0.37367964,  0.91226299]), decomp=array([2, 2, 5, 9, 0, 6, 4, 9, 6, 9]))\n",
      "RSOut(param=array([-0.20122218, -0.4525389 ,  0.86874518]), decomp=array([2, 2, 8, 9, 0, 6, 4, 9, 6, 9]))\n",
      "RSOut(param=array([-0.26209203, -0.44850039,  0.85449118]), decomp=array([2, 2, 8, 9, 2, 6, 4, 9, 6, 9]))\n",
      "RSOut(param=array([-0.27164452, -0.48162227,  0.83321621]), decomp=array([2, 2, 8, 9, 2, 4, 4, 9, 6, 9]))\n",
      "RSOut(param=array([-0.38563283, -0.49528746,  0.77844567]), decomp=array([2, 2, 8, 9, 2, 4, 4, 9, 1, 9]))\n",
      "RSOut(param=array([-0.51237305, -0.62311405,  0.59093378]), decomp=array([2, 2, 8, 9, 2, 4, 4, 9, 1, 0]))\n",
      "RSOut(param=array([-0.52531422, -0.70143608,  0.48169741]), decomp=array([2, 2, 8, 9, 2, 4, 9, 9, 1, 0]))\n",
      "RSOut(param=array([-0.58580111, -0.70543639,  0.39899444]), decomp=array([9, 2, 8, 9, 2, 4, 9, 9, 1, 0]))\n",
      "RSOut(param=array([-0.57830829, -0.75868857,  0.2999186 ]), decomp=array([9, 2, 8, 9, 2, 4, 9, 9, 9, 0]))\n",
      "RSOut(param=array([-0.34959602, -0.37849609,  0.85704337]), decomp=array([2, 2, 5, 9, 2, 6, 4, 9, 6, 9]))\n",
      "RSOut(param=array([-0.34956933, -0.41973055,  0.83763211]), decomp=array([2, 2, 5, 9, 2, 4, 4, 9, 6, 9]))\n",
      "RSOut(param=array([-0.40182408, -0.37413809,  0.83579789]), decomp=array([2, 2, 5, 9, 2, 6, 4, 9, 1, 9]))\n",
      "RSOut(param=array([-0.40517425, -0.39890641,  0.82262233]), decomp=array([2, 2, 5, 9, 2, 4, 4, 9, 1, 9]))\n",
      "RSOut(param=array([-0.16921105,  0.05143373,  0.98423686]), decomp=array([3, 7, 5, 5, 0, 6, 4, 9, 6, 4]))\n",
      "RSOut(param=array([-0.30312105, -0.11125895,  0.94643493]), decomp=array([3, 7, 5, 9, 0, 6, 4, 9, 6, 4]))\n",
      "RSOut(param=array([-0.40616867, -0.20391914,  0.89075473]), decomp=array([3, 2, 5, 9, 0, 6, 4, 9, 6, 4]))\n",
      "RSOut(param=array([-0.46108648, -0.2346496 ,  0.85576797]), decomp=array([3, 2, 5, 9, 2, 6, 4, 9, 6, 4]))\n",
      "RSOut(param=array([-0.50477319, -0.21147051,  0.83694937]), decomp=array([3, 2, 5, 9, 2, 6, 4, 9, 6, 0]))\n",
      "RSOut(param=array([-0.55786491, -0.2137791 ,  0.80192596]), decomp=array([3, 2, 5, 9, 2, 6, 4, 9, 1, 0]))\n",
      "RSOut(param=array([-0.58621041, -0.31496337,  0.74642844]), decomp=array([3, 2, 5, 9, 2, 4, 4, 9, 1, 0]))\n",
      "RSOut(param=array([-0.57270163, -0.44983931,  0.68531557]), decomp=array([3, 2, 8, 9, 2, 4, 4, 9, 1, 0]))\n",
      "RSOut(param=array([-0.6075519 , -0.5983834 ,  0.52231981]), decomp=array([9, 2, 8, 9, 2, 4, 4, 9, 1, 0]))\n",
      "RSOut(param=array([-0.70072239, -0.43397582,  0.56626241]), decomp=array([3, 2, 9, 9, 2, 4, 4, 9, 1, 0]))\n",
      "RSOut(param=array([-0.64263375, -0.56916731,  0.51290392]), decomp=array([9, 2, 9, 9, 2, 4, 4, 9, 1, 0]))\n",
      "RSOut(param=array([-0.76800964, -0.44093827,  0.46447243]), decomp=array([3, 2, 9, 9, 2, 4, 9, 9, 1, 0]))\n",
      "RSOut(param=array([-0.69132348, -0.57497711,  0.43757648]), decomp=array([9, 2, 9, 9, 2, 4, 9, 9, 1, 0]))\n",
      "RSOut(param=array([-0.71006311, -0.66209177,  0.23967659]), decomp=array([9, 2, 9, 9, 2, 4, 9, 9, 9, 0]))\n",
      "RSOut(param=array([-0.7257852 , -0.68429495, -0.07054268]), decomp=array([9, 2, 9, 9, 2, 4, 0, 9, 9, 0]))\n",
      "RSOut(param=array([-0.64612602, -0.7173027 , -0.26076429]), decomp=array([9, 2, 9, 9, 2, 4, 0, 1, 9, 0]))\n",
      "RSOut(param=array([-0.61869179, -0.64178387, -0.45313788]), decomp=array([9, 2, 9, 9, 2, 4, 1, 1, 9, 0]))\n",
      "RSOut(param=array([-0.61618979, -0.63337647, -0.4681286 ]), decomp=array([9, 8, 9, 9, 2, 4, 1, 1, 9, 0]))\n",
      "RSOut(param=array([-0.58111926, -0.68601697, -0.43781402]), decomp=array([9, 2, 9, 9, 2, 4, 0, 1, 9, 5]))\n",
      "RSOut(param=array([-0.59833648, -0.65997481, -0.45434206]), decomp=array([9, 2, 9, 9, 2, 4, 1, 1, 9, 5]))\n",
      "RSOut(param=array([-0.57479816, -0.66857065, -0.47182662]), decomp=array([9, 8, 9, 9, 2, 4, 1, 1, 9, 5]))\n",
      "RSOut(param=array([-0.56639842, -0.65934965, -0.49441972]), decomp=array([9, 3, 9, 9, 2, 4, 1, 1, 9, 5]))\n",
      "RSOut(param=array([-0.58847994, -0.59544166, -0.54693747]), decomp=array([0, 3, 9, 9, 2, 4, 1, 1, 9, 5]))\n",
      "RSOut(param=array([-0.54114909, -0.8257579 , -0.15900174]), decomp=array([9, 2, 9, 9, 2, 4, 9, 1, 9, 0]))\n",
      "RSOut(param=array([-0.36262853, -0.27299901,  0.89105111]), decomp=array([3, 2, 5, 9, 0, 6, 4, 9, 6, 9]))\n",
      "RSOut(param=array([-0.42841401, -0.28682305,  0.8568512 ]), decomp=array([3, 2, 5, 9, 2, 6, 4, 9, 6, 9]))\n",
      "RSOut(param=array([-0.45729208, -0.32168783,  0.82909643]), decomp=array([3, 2, 5, 9, 2, 6, 4, 9, 1, 9]))\n",
      "RSOut(param=array([-0.44762985, -0.37542356,  0.8115939 ]), decomp=array([3, 2, 5, 9, 2, 4, 4, 9, 1, 9]))\n",
      "RSOut(param=array([-0.46129057, -0.41746496,  0.78290103]), decomp=array([3, 2, 8, 9, 2, 4, 4, 9, 1, 9]))\n",
      "RSOut(param=array([-0.45990527, -0.11063416,  0.88104893]), decomp=array([3, 7, 5, 9, 4, 6, 4, 9, 6, 4]))\n",
      "RSOut(param=array([-0.48462184, -0.14063252,  0.86334476]), decomp=array([3, 2, 5, 9, 4, 6, 4, 9, 6, 4]))\n",
      "RSOut(param=array([-0.53952077, -0.14140737,  0.83001283]), decomp=array([3, 2, 5, 9, 4, 6, 4, 9, 6, 0]))\n",
      "RSOut(param=array([-0.57063699, -0.15591761,  0.80626493]), decomp=array([3, 2, 5, 9, 4, 6, 4, 9, 1, 0]))\n",
      "RSOut(param=array([-0.28533118, -0.23015833,  0.93038339]), decomp=array([3, 7, 5, 9, 0, 6, 4, 9, 6, 9]))\n",
      "RSOut(param=array([0.4317181 , 0.07670031, 0.89874165]), decomp=array([6, 9, 5, 3, 6, 1, 4, 7, 6, 4]))\n",
      "RSOut(param=array([ 0.12111238, -0.06028705,  0.99080637]), decomp=array([6, 9, 5, 3, 6, 1, 4, 9, 6, 4]))\n",
      "RSOut(param=array([ 0.06683332, -0.10958166,  0.99172837]), decomp=array([2, 9, 5, 3, 6, 1, 4, 9, 6, 4]))\n",
      "RSOut(param=array([ 0.01410266, -0.13445805,  0.99081893]), decomp=array([2, 9, 5, 3, 0, 1, 4, 9, 6, 4]))\n",
      "RSOut(param=array([-0.02177389, -0.15927286,  0.98699446]), decomp=array([2, 9, 5, 3, 0, 6, 4, 9, 6, 4]))\n",
      "RSOut(param=array([ 0.39360414, -0.10676987,  0.91305858]), decomp=array([6, 9, 5, 3, 6, 1, 4, 7, 6, 9]))\n",
      "RSOut(param=array([ 0.3271394 , -0.17917836,  0.92783346]), decomp=array([2, 9, 5, 3, 6, 1, 4, 7, 6, 9]))\n",
      "RSOut(param=array([ 0.15056713, -0.21638592,  0.96462774]), decomp=array([2, 9, 5, 3, 6, 1, 4, 9, 6, 9]))\n",
      "RSOut(param=array([ 0.0172381 , -0.18900843,  0.98182415]), decomp=array([2, 9, 5, 3, 0, 1, 4, 9, 6, 9]))\n",
      "RSOut(param=array([-0.02369129, -0.39216228,  0.91959093]), decomp=array([2, 9, 5, 3, 0, 6, 4, 9, 6, 9]))\n",
      "RSOut(param=array([-0.07595412, -0.32761405,  0.94175369]), decomp=array([2, 9, 5, 9, 0, 6, 4, 9, 6, 9]))\n",
      "RSOut(param=array([ 0.13531458, -0.37294049,  0.91793538]), decomp=array([2, 9, 5, 3, 6, 1, 4, 9, 2, 9]))\n",
      "RSOut(param=array([ 0.20671002, -0.48595797,  0.84918539]), decomp=array([2, 9, 8, 3, 6, 1, 4, 9, 2, 9]))\n",
      "RSOut(param=array([ 0.05296957, -0.51118444,  0.85783722]), decomp=array([2, 9, 8, 3, 0, 1, 4, 9, 2, 9]))\n",
      "RSOut(param=array([ 0.05810179, -0.6590219 ,  0.7498762 ]), decomp=array([2, 2, 8, 3, 0, 1, 4, 9, 2, 9]))\n",
      "RSOut(param=array([ 0.09779024, -0.71118692,  0.69616825]), decomp=array([2, 2, 8, 3, 2, 1, 4, 9, 2, 9]))\n",
      "RSOut(param=array([ 0.03489895, -0.76125648,  0.6475111 ]), decomp=array([2, 2, 8, 3, 2, 4, 4, 9, 2, 9]))\n",
      "RSOut(param=array([-0.02946634, -0.88851265,  0.45790502]), decomp=array([2, 2, 8, 3, 2, 4, 4, 9, 2, 6]))\n",
      "RSOut(param=array([-0.04434167, -0.88882342,  0.45609949]), decomp=array([2, 2, 8, 9, 2, 4, 4, 9, 2, 6]))\n",
      "RSOut(param=array([-0.0339369 , -0.89559146,  0.44358113]), decomp=array([2, 2, 8, 3, 2, 4, 9, 9, 2, 6]))\n",
      "RSOut(param=array([-0.02012499, -0.60504812,  0.79593452]), decomp=array([2, 2, 8, 3, 0, 4, 4, 9, 2, 9]))\n",
      "RSOut(param=array([ 0.13677726, -0.72632421,  0.67360606]), decomp=array([2, 9, 8, 3, 2, 1, 4, 9, 2, 9]))\n",
      "RSOut(param=array([-0.02407751, -0.48139567,  0.87617263]), decomp=array([2, 9, 8, 3, 0, 6, 4, 9, 2, 9]))\n",
      "RSOut(param=array([-0.02418869, -0.52831248,  0.84870539]), decomp=array([2, 2, 8, 3, 0, 6, 4, 9, 2, 9]))\n",
      "RSOut(param=array([ 0.0625562 , -0.39442983,  0.91679432]), decomp=array([2, 9, 5, 3, 0, 1, 4, 9, 2, 9]))\n",
      "RSOut(param=array([-0.02381104, -0.41509827,  0.90946493]), decomp=array([2, 9, 5, 3, 0, 6, 4, 9, 2, 9]))\n",
      "RSOut(param=array([-0.04422896, -0.42170189,  0.90565519]), decomp=array([2, 9, 5, 9, 0, 6, 4, 9, 2, 9]))\n",
      "RSOut(param=array([-0.07212042, -0.42799294,  0.90089993]), decomp=array([2, 2, 5, 9, 0, 6, 4, 9, 2, 9]))\n",
      "RSOut(param=array([-0.04776501, -0.44091678,  0.89627613]), decomp=array([2, 9, 8, 9, 0, 6, 4, 9, 2, 9]))\n",
      "RSOut(param=array([-0.0974909 , -0.49579665,  0.86294913]), decomp=array([2, 2, 8, 9, 0, 6, 4, 9, 2, 9]))\n",
      "RSOut(param=array([-0.20660014, -0.48878666,  0.84758716]), decomp=array([2, 2, 8, 9, 2, 6, 4, 9, 2, 9]))\n",
      "RSOut(param=array([-0.05246017, -0.58555351,  0.8089345 ]), decomp=array([2, 2, 8, 9, 0, 4, 4, 9, 2, 9]))\n",
      "RSOut(param=array([-0.22656884, -0.72173733,  0.654035  ]), decomp=array([2, 2, 8, 9, 2, 4, 4, 9, 2, 9]))\n",
      "RSOut(param=array([-0.19938458, -0.87307973,  0.4449467 ]), decomp=array([2, 2, 8, 9, 2, 4, 9, 9, 2, 9]))\n",
      "RSOut(param=array([-0.27442198, -0.94416888,  0.18231208]), decomp=array([2, 2, 8, 9, 2, 4, 9, 9, 2, 6]))\n",
      "RSOut(param=array([-0.35665298, -0.93354998,  0.03582014]), decomp=array([9, 2, 8, 9, 2, 4, 9, 9, 2, 6]))\n",
      "RSOut(param=array([-0.4871583 , -0.86495144, -0.12056447]), decomp=array([9, 2, 9, 9, 2, 4, 9, 9, 2, 6]))\n",
      "RSOut(param=array([-0.51464489, -0.84644652, -0.13663425]), decomp=array([9, 2, 9, 9, 2, 4, 9, 9, 9, 6]))\n",
      "RSOut(param=array([-0.51608611, -0.83936337, -0.17065832]), decomp=array([9, 2, 9, 9, 2, 4, 9, 1, 9, 6]))\n",
      "RSOut(param=array([-0.35782324, -0.85947641,  0.36505183]), decomp=array([2, 2, 8, 9, 2, 4, 9, 9, 2, 8]))\n",
      "RSOut(param=array([-0.44223759, -0.88149194,  0.16552301]), decomp=array([9, 2, 8, 9, 2, 4, 9, 9, 2, 8]))\n",
      "RSOut(param=array([-0.50645478, -0.86012412, -0.06074579]), decomp=array([9, 2, 9, 9, 2, 4, 9, 9, 2, 8]))\n",
      "RSOut(param=array([-0.52008524, -0.84777687, -0.10385432]), decomp=array([9, 2, 9, 9, 2, 4, 9, 9, 9, 8]))\n",
      "RSOut(param=array([-0.4389383 , -0.71686383,  0.54170049]), decomp=array([2, 2, 8, 9, 2, 4, 4, 9, 2, 0]))\n",
      "RSOut(param=array([-0.48214299, -0.77374881,  0.41091474]), decomp=array([2, 2, 8, 9, 2, 4, 9, 9, 2, 0]))\n",
      "RSOut(param=array([-0.50971652, -0.80341307,  0.30776046]), decomp=array([9, 2, 8, 9, 2, 4, 9, 9, 2, 0]))\n",
      "RSOut(param=array([-0.52629406, -0.85025647,  0.00886045]), decomp=array([9, 2, 9, 9, 2, 4, 9, 9, 2, 0]))\n",
      "RSOut(param=array([-0.40312861, -0.75332579,  0.51960329]), decomp=array([2, 2, 8, 9, 2, 4, 4, 9, 2, 8]))\n",
      "RSOut(param=array([ 0.20598382, -0.10919271,  0.97244415]), decomp=array([6, 9, 5, 3, 6, 1, 4, 9, 6, 9]))\n",
      "RSOut(param=array([ 0.46030142, -0.15493084,  0.87413903]), decomp=array([6, 9, 5, 3, 6, 1, 4, 7, 2, 9]))\n",
      "RSOut(param=array([ 0.40627348, -0.22501247,  0.88561349]), decomp=array([2, 9, 5, 3, 6, 1, 4, 7, 2, 9]))\n",
      "RSOut(param=array([ 0.40009205, -0.33474761,  0.8531532 ]), decomp=array([2, 9, 5, 3, 6, 1, 4, 6, 2, 9]))\n",
      "RSOut(param=array([-0.01488987,  0.10386215,  0.99448024]), decomp=array([6, 9, 5, 5, 0, 1, 4, 7, 6, 4]))\n",
      "RSOut(param=array([0.18196614, 0.55324887, 0.81289852]), decomp=array([6, 9, 5, 5, 8, 1, 4, 7, 6, 4]))\n",
      "RSOut(param=array([0.03867792, 0.59163778, 0.80527558]), decomp=array([6, 7, 5, 5, 8, 1, 4, 7, 6, 4]))\n",
      "RSOut(param=array([-0.15133032,  0.50379993,  0.8504615 ]), decomp=array([6, 7, 5, 5, 8, 6, 4, 7, 6, 4]))\n",
      "RSOut(param=array([-0.33229753,  0.45400951,  0.8267126 ]), decomp=array([3, 7, 5, 5, 8, 6, 4, 7, 6, 4]))\n",
      "RSOut(param=array([-0.39926828,  0.50490628,  0.76528066]), decomp=array([3, 1, 5, 5, 8, 6, 4, 7, 6, 4]))\n",
      "RSOut(param=array([-0.45685368,  0.52199224,  0.72028384]), decomp=array([3, 1, 5, 8, 8, 6, 4, 7, 6, 4]))\n",
      "RSOut(param=array([-0.56069781,  0.45311305,  0.69304151]), decomp=array([3, 1, 5, 8, 8, 6, 4, 9, 6, 4]))\n",
      "RSOut(param=array([-0.61809383,  0.39672522,  0.67865242]), decomp=array([3, 1, 5, 8, 8, 6, 4, 9, 6, 0]))\n",
      "RSOut(param=array([-0.6585877 ,  0.40750848,  0.63261289]), decomp=array([3, 1, 5, 8, 8, 3, 4, 9, 6, 0]))\n",
      "RSOut(param=array([-0.72899035,  0.37278255,  0.57411344]), decomp=array([3, 1, 9, 8, 8, 3, 4, 9, 6, 0]))\n",
      "RSOut(param=array([-0.77026572,  0.3487569 ,  0.53390949]), decomp=array([3, 1, 9, 8, 8, 3, 4, 9, 1, 0]))\n",
      "RSOut(param=array([-0.47055178,  0.40171017,  0.78562711]), decomp=array([3, 1, 5, 5, 8, 6, 4, 9, 6, 4]))\n",
      "RSOut(param=array([-0.52660898,  0.227873  ,  0.81899749]), decomp=array([3, 1, 5, 9, 8, 6, 4, 9, 6, 4]))\n",
      "RSOut(param=array([-0.62753159,  0.086792  ,  0.77373849]), decomp=array([3, 1, 5, 9, 8, 6, 4, 9, 6, 0]))\n",
      "RSOut(param=array([-0.56855204, -0.11581754,  0.81445373]), decomp=array([3, 1, 5, 9, 4, 6, 4, 9, 6, 0]))\n",
      "RSOut(param=array([-0.60126954, -0.12812682,  0.78870682]), decomp=array([3, 1, 5, 9, 4, 6, 4, 9, 1, 0]))\n",
      "RSOut(param=array([-0.62634452, -0.16742916,  0.76135407]), decomp=array([3, 1, 5, 9, 2, 6, 4, 9, 1, 0]))\n",
      "RSOut(param=array([-0.66047544, -0.19398359,  0.72535685]), decomp=array([3, 1, 5, 9, 2, 4, 4, 9, 1, 0]))\n",
      "RSOut(param=array([-0.67721856, -0.10777033,  0.72784654]), decomp=array([3, 1, 5, 9, 4, 3, 4, 9, 1, 0]))\n",
      "RSOut(param=array([-0.70961293, -0.09813953,  0.69772353]), decomp=array([3, 1, 9, 9, 4, 3, 4, 9, 1, 0]))\n",
      "RSOut(param=array([-0.68333487, -0.13735428,  0.71706852]), decomp=array([3, 1, 5, 9, 2, 3, 4, 9, 1, 0]))\n",
      "RSOut(param=array([-0.68508213,  0.318126  ,  0.6553307 ]), decomp=array([3, 1, 5, 9, 8, 3, 4, 9, 6, 0]))\n",
      "RSOut(param=array([-0.73465731,  0.32476918,  0.59565394]), decomp=array([3, 1, 9, 9, 8, 3, 4, 9, 6, 0]))\n",
      "RSOut(param=array([-0.70098547,  0.05654947,  0.71093005]), decomp=array([3, 1, 5, 9, 8, 3, 4, 9, 1, 0]))\n",
      "RSOut(param=array([-0.81414616,  0.07313649,  0.57603566]), decomp=array([3, 1, 9, 9, 8, 3, 4, 9, 1, 0]))\n",
      "RSOut(param=array([-0.86022477, -0.09972917,  0.50006743]), decomp=array([3, 1, 9, 9, 2, 3, 4, 9, 1, 0]))\n",
      "RSOut(param=array([-0.79767018, -0.26073415,  0.54381981]), decomp=array([3, 1, 9, 9, 2, 4, 4, 9, 1, 0]))\n",
      "RSOut(param=array([-0.87585442, -0.2482596 ,  0.41381905]), decomp=array([3, 1, 9, 9, 2, 4, 0, 9, 1, 0]))\n",
      "RSOut(param=array([-0.92156744, -0.19629421,  0.33493588]), decomp=array([3, 1, 9, 9, 2, 4, 0, 9, 9, 0]))\n",
      "RSOut(param=array([-0.91468688, -0.40106983,  0.04990887]), decomp=array([9, 1, 9, 9, 2, 4, 0, 9, 9, 0]))\n",
      "RSOut(param=array([-0.79518511, -0.53911366, -0.27755559]), decomp=array([9, 1, 9, 9, 2, 4, 0, 1, 9, 0]))\n",
      "RSOut(param=array([-0.64305772, -0.61300656, -0.4590204 ]), decomp=array([9, 1, 9, 9, 2, 4, 1, 1, 9, 0]))\n",
      "RSOut(param=array([-0.69137121, -0.51636819, -0.50534122]), decomp=array([0, 1, 9, 9, 2, 4, 1, 1, 9, 0]))\n",
      "RSOut(param=array([-0.65531203, -0.49324379, -0.57208104]), decomp=array([0, 3, 9, 9, 2, 4, 1, 1, 9, 0]))\n",
      "RSOut(param=array([-0.62141414, -0.61605907, -0.48406167]), decomp=array([9, 3, 9, 9, 2, 4, 1, 1, 9, 0]))\n",
      "RSOut(param=array([-0.83139135, -0.35542955,  0.42715132]), decomp=array([3, 1, 9, 9, 2, 4, 9, 9, 1, 0]))\n",
      "RSOut(param=array([-0.80522765, -0.43203966,  0.40614057]), decomp=array([9, 1, 9, 9, 2, 4, 9, 9, 1, 0]))\n",
      "RSOut(param=array([-0.8276806 , -0.43999188,  0.3483561 ]), decomp=array([9, 1, 9, 9, 2, 4, 9, 9, 9, 0]))\n",
      "RSOut(param=array([-0.8561919 , -0.34692352,  0.38285703]), decomp=array([3, 1, 9, 9, 2, 4, 9, 9, 9, 0]))\n",
      "RSOut(param=array([-0.90616425, -0.07132072,  0.41686893]), decomp=array([3, 1, 9, 9, 2, 3, 0, 9, 1, 0]))\n",
      "RSOut(param=array([-0.94553145, -0.07681878,  0.31633707]), decomp=array([3, 1, 9, 9, 2, 3, 0, 9, 9, 0]))\n",
      "RSOut(param=array([-0.97677135, -0.11092309,  0.18334064]), decomp=array([9, 1, 9, 9, 2, 3, 0, 9, 9, 0]))\n",
      "RSOut(param=array([-0.89542812,  0.20501195,  0.39519436]), decomp=array([3, 1, 9, 9, 8, 3, 0, 9, 1, 0]))\n",
      "RSOut(param=array([-0.94858157,  0.15430646,  0.27637386]), decomp=array([3, 1, 9, 9, 8, 3, 0, 9, 9, 0]))\n",
      "RSOut(param=array([-0.98482463,  0.09327812,  0.14635448]), decomp=array([3, 1, 9, 9, 1, 3, 0, 9, 9, 0]))\n",
      "RSOut(param=array([-1.,  0.,  0.]), decomp=array([9, 1, 9, 9, 1, 3, 0, 9, 9, 0]))\n",
      "RSOut(param=array([-0.98253667, -0.16919737, -0.07742053]), decomp=array([9, 1, 9, 9, 1, 4, 0, 9, 9, 0]))\n",
      "RSOut(param=array([-0.98926985,  0.        , -0.14609983]), decomp=array([9, 1, 9, 9, 1, 3, 0, 1, 9, 0]))\n",
      "RSOut(param=array([-0.97431499, -0.13136095, -0.18290599]), decomp=array([9, 1, 9, 9, 1, 4, 0, 1, 9, 0]))\n",
      "RSOut(param=array([-0.9860343 ,  0.        , -0.16654239]), decomp=array([9, 1, 9, 9, 1, 3, 1, 1, 9, 0]))\n",
      "RSOut(param=array([-0.97207377, -0.09111252, -0.21626624]), decomp=array([9, 1, 9, 9, 1, 4, 1, 1, 9, 0]))\n",
      "RSOut(param=array([-0.64501894, -0.06215757,  0.76163443]), decomp=array([3, 1, 5, 9, 8, 6, 4, 9, 1, 0]))\n",
      "RSOut(param=array([-0.32239254,  0.58105241,  0.7472892 ]), decomp=array([6, 1, 5, 5, 8, 6, 4, 7, 6, 4]))\n",
      "RSOut(param=array([-0.1337336 ,  0.16815729,  0.97664653]), decomp=array([6, 7, 5, 5, 8, 6, 4, 9, 6, 4]))\n",
      "RSOut(param=array([-0.29049498,  0.23112366,  0.9285443 ]), decomp=array([3, 7, 5, 5, 8, 6, 4, 9, 6, 4]))\n",
      "RSOut(param=array([-0.39666657,  0.06625425,  0.91556868]), decomp=array([3, 7, 5, 9, 8, 6, 4, 9, 6, 4]))\n",
      "RSOut(param=array([-0.50958592, -0.09195459,  0.85549199]), decomp=array([3, 2, 5, 9, 8, 6, 4, 9, 6, 4]))\n",
      "RSOut(param=array([-0.53162458, -0.10079719,  0.8409609 ]), decomp=array([3, 2, 5, 9, 8, 6, 4, 9, 6, 0]))\n",
      "RSOut(param=array([-0.01764266,  0.12908767,  0.99147623]), decomp=array([6, 9, 5, 5, 6, 6, 4, 7, 6, 4]))\n",
      "RSOut(param=array([-0.02014702,  0.11302727,  0.9933876 ]), decomp=array([6, 9, 5, 5, 0, 6, 4, 7, 6, 4]))\n",
      "RSOut(param=array([0.04433771, 0.        , 0.9990166 ]), decomp=array([6, 9, 5, 5, 6, 1, 4, 9, 6, 4]))\n",
      "RSOut(param=array([ 0.03676431, -0.07523748,  0.99648769]), decomp=array([2, 9, 5, 5, 6, 1, 4, 9, 6, 4]))\n",
      "RSOut(param=array([0., 0., 1.]), decomp=array([6, 9, 5, 5, 0, 1, 4, 9, 6, 4]))\n",
      "RSOut(param=array([ 0.00452269, -0.07343502,  0.99728975]), decomp=array([2, 9, 5, 5, 0, 1, 4, 9, 6, 4]))\n",
      "RSOut(param=array([-0.03429111, -0.02154178,  0.9991797 ]), decomp=array([6, 9, 5, 5, 0, 6, 4, 9, 6, 4]))\n",
      "RSOut(param=array([-0.03901544, -0.06554227,  0.99708676]), decomp=array([2, 9, 5, 5, 0, 6, 4, 9, 6, 4]))\n",
      "RSOut(param=array([-0.05505377, -0.1482921 ,  0.98741001]), decomp=array([2, 9, 5, 9, 0, 6, 4, 9, 6, 4]))\n",
      "RSOut(param=array([0.59749419, 0.26515488, 0.75676521]), decomp=array([6, 9, 6, 3, 6, 1, 4, 7, 6, 4]))\n",
      "RSOut(param=array([0.68397005, 0.05967541, 0.72706521]), decomp=array([6, 9, 6, 3, 6, 1, 4, 7, 2, 4]))\n",
      "RSOut(param=array([ 0.5371287 , -0.03072151,  0.84294066]), decomp=array([6, 9, 6, 3, 6, 1, 4, 7, 6, 9]))\n",
      "RSOut(param=array([ 0.62690938, -0.09626193,  0.77312241]), decomp=array([6, 9, 6, 3, 6, 1, 4, 7, 2, 9]))\n",
      "RSOut(param=array([ 0.49165377, -0.21991941,  0.84256277]), decomp=array([2, 9, 6, 3, 6, 1, 4, 7, 2, 9]))\n",
      "RSOut(param=array([ 0.66506745, -0.20134745,  0.71912759]), decomp=array([6, 9, 6, 3, 6, 1, 4, 6, 2, 9]))\n",
      "RSOut(param=array([ 0.55680929, -0.35913269,  0.74899074]), decomp=array([2, 9, 6, 3, 6, 1, 4, 6, 2, 9]))\n",
      "RSOut(param=array([ 0.32743115, -0.66787564,  0.66837936]), decomp=array([2, 9, 8, 3, 6, 1, 4, 6, 2, 9]))\n",
      "RSOut(param=array([ 0.15639767, -0.72208344,  0.6738956 ]), decomp=array([2, 9, 8, 3, 0, 1, 4, 6, 2, 9]))\n",
      "RSOut(param=array([ 0.22285664, -0.79889919,  0.55865464]), decomp=array([2, 9, 8, 3, 2, 1, 4, 6, 2, 9]))\n",
      "RSOut(param=array([ 0.1350687 , -0.75627386,  0.64016115]), decomp=array([2, 2, 8, 3, 2, 1, 4, 6, 2, 9]))\n",
      "RSOut(param=array([ 0.11700085, -0.82196623,  0.55738883]), decomp=array([2, 2, 8, 3, 2, 4, 4, 6, 2, 9]))\n",
      "RSOut(param=array([ 0.12012577, -0.88193713,  0.45580336]), decomp=array([2, 2, 8, 3, 2, 4, 4, 6, 2, 6]))\n",
      "RSOut(param=array([ 0.03359033, -0.93261448,  0.35930756]), decomp=array([2, 2, 8, 3, 2, 4, 9, 6, 2, 6]))\n",
      "RSOut(param=array([-0.1383655 , -0.9884737 ,  0.06143885]), decomp=array([2, 2, 8, 9, 2, 4, 9, 6, 2, 6]))\n",
      "RSOut(param=array([-0.24401898, -0.96279373, -0.11611622]), decomp=array([9, 2, 8, 9, 2, 4, 9, 6, 2, 6]))\n",
      "RSOut(param=array([-0.32246241, -0.91316179, -0.24930613]), decomp=array([9, 2, 8, 9, 2, 4, 9, 1, 2, 6]))\n",
      "RSOut(param=array([-0.24611696, -0.90224308, -0.35409583]), decomp=array([9, 2, 0, 9, 2, 4, 9, 1, 2, 6]))\n",
      "RSOut(param=array([-0.30955552, -0.87057473, -0.38245918]), decomp=array([9, 2, 0, 9, 2, 4, 0, 1, 2, 6]))\n",
      "RSOut(param=array([-0.3109968 , -0.88672794, -0.34204466]), decomp=array([9, 2, 1, 9, 2, 4, 9, 1, 2, 6]))\n",
      "RSOut(param=array([-0.3579436 , -0.85947087, -0.36494684]), decomp=array([9, 2, 1, 9, 2, 4, 0, 1, 2, 6]))\n",
      "RSOut(param=array([-0.41179442, -0.80611534, -0.42497461]), decomp=array([9, 8, 1, 9, 2, 4, 0, 1, 2, 6]))\n",
      "RSOut(param=array([-0.45544752, -0.86581763, -0.20718925]), decomp=array([9, 2, 9, 9, 2, 4, 9, 1, 2, 6]))\n",
      "RSOut(param=array([-0.41705231, -0.8463747 , -0.33123592]), decomp=array([9, 2, 9, 9, 2, 4, 0, 1, 2, 6]))\n",
      "RSOut(param=array([-0.41758509, -0.8024416 , -0.42627476]), decomp=array([9, 8, 9, 9, 2, 4, 0, 1, 2, 6]))\n",
      "RSOut(param=array([-0.50593562, -0.77884468, -0.37071568]), decomp=array([9, 2, 9, 9, 2, 4, 0, 1, 9, 6]))\n",
      "RSOut(param=array([-0.45735121, -0.76468988, -0.45395953]), decomp=array([9, 8, 9, 9, 2, 4, 0, 1, 9, 6]))\n",
      "RSOut(param=array([-0.47990581, -0.72939876, -0.4875119 ]), decomp=array([9, 8, 9, 9, 2, 4, 1, 1, 9, 6]))\n",
      "RSOut(param=array([-0.48142986, -0.71102467, -0.51251264]), decomp=array([9, 3, 9, 9, 2, 4, 1, 1, 9, 6]))\n",
      "RSOut(param=array([-0.52467761, -0.66006597, -0.53761169]), decomp=array([0, 3, 9, 9, 2, 4, 1, 1, 9, 6]))\n",
      "RSOut(param=array([-0.56520768, -0.68775755, -0.45555441]), decomp=array([9, 2, 9, 9, 2, 4, 1, 1, 9, 6]))\n",
      "RSOut(param=array([ 0.29457503, -0.79517966,  0.53001402]), decomp=array([2, 9, 8, 3, 6, 1, 4, 6, 2, 6]))\n",
      "RSOut(param=array([ 0.25572838, -0.82329234,  0.50674719]), decomp=array([2, 9, 8, 3, 2, 1, 4, 6, 2, 6]))\n",
      "RSOut(param=array([ 0.20416113, -0.82838228,  0.52163304]), decomp=array([2, 2, 8, 3, 2, 1, 4, 6, 2, 6]))\n",
      "RSOut(param=array([ 0.21253848, -0.86076107,  0.46251246]), decomp=array([2, 2, 8, 3, 2, 9, 4, 6, 2, 6]))\n",
      "RSOut(param=array([ 0.25229423, -0.85508851,  0.45295835]), decomp=array([2, 9, 8, 3, 2, 9, 4, 6, 2, 6]))\n",
      "RSOut(param=array([ 0.31188948, -0.81192787,  0.49345524]), decomp=array([2, 9, 8, 3, 9, 1, 4, 6, 2, 6]))\n",
      "RSOut(param=array([ 0.45973884, -0.68795973,  0.56156176]), decomp=array([2, 9, 6, 3, 6, 1, 4, 6, 2, 6]))\n",
      "RSOut(param=array([0.47683193, 0.78646236, 0.39256625]), decomp=array([6, 9, 6, 5, 7, 1, 3, 7, 7, 4]))\n",
      "RSOut(param=array([0.54766763, 0.81383635, 0.19424353]), decomp=array([6, 9, 6, 6, 7, 1, 3, 7, 7, 4]))\n",
      "RSOut(param=array([0.49782958, 0.86727212, 0.00218592]), decomp=array([6, 5, 6, 6, 7, 1, 3, 7, 7, 4]))\n",
      "RSOut(param=array([0.4077431 , 0.90943527, 0.0816887 ]), decomp=array([6, 9, 2, 6, 7, 1, 3, 7, 7, 4]))\n",
      "RSOut(param=array([0.44627236, 0.89489544, 0.00176746]), decomp=array([6, 5, 2, 6, 7, 1, 3, 7, 7, 4]))\n",
      "RSOut(param=array([0.37097921, 0.92864117, 0.        ]), decomp=array([6, 5, 2, 6, 7, 1, 3, 7, 7, 3]))\n",
      "RSOut(param=array([ 0.46501395,  0.84680372, -0.25823533]), decomp=array([1, 5, 2, 6, 7, 1, 3, 7, 7, 3]))\n",
      "RSOut(param=array([ 0.22139919,  0.92904748, -0.29640038]), decomp=array([1, 5, 2, 6, 5, 1, 3, 7, 7, 3]))\n",
      "RSOut(param=array([ 0.18062044,  0.93365294, -0.30930315]), decomp=array([1, 3, 2, 6, 5, 1, 3, 7, 7, 3]))\n",
      "RSOut(param=array([ 0.23699223,  0.9117485 , -0.33548376]), decomp=array([1, 5, 2, 6, 5, 1, 3, 4, 7, 3]))\n",
      "RSOut(param=array([ 0.21489751,  0.90697015, -0.36224881]), decomp=array([1, 3, 2, 6, 5, 1, 3, 4, 7, 3]))\n",
      "RSOut(param=array([ 0.1230064 ,  0.86142754, -0.4927596 ]), decomp=array([1, 3, 2, 6, 5, 8, 3, 4, 7, 3]))\n",
      "RSOut(param=array([-0.0225152 ,  0.85393102, -0.51989892]), decomp=array([0, 3, 2, 6, 5, 8, 3, 4, 7, 3]))\n",
      "RSOut(param=array([-0.04593276,  0.81281272, -0.58071134]), decomp=array([0, 3, 2, 6, 5, 8, 1, 4, 7, 3]))\n",
      "RSOut(param=array([-0.11648822,  0.7982194 , -0.590996  ]), decomp=array([0, 3, 2, 6, 5, 2, 1, 4, 7, 3]))\n",
      "RSOut(param=array([-0.14133105,  0.77303346, -0.61842122]), decomp=array([0, 3, 2, 6, 5, 2, 1, 1, 7, 3]))\n",
      "RSOut(param=array([-0.05782212,  0.73229835, -0.67852467]), decomp=array([0, 3, 2, 6, 5, 8, 1, 1, 7, 3]))\n",
      "RSOut(param=array([ 0.01537992,  0.38878166, -0.92120154]), decomp=array([0, 3, 0, 6, 5, 8, 1, 1, 7, 3]))\n",
      "RSOut(param=array([ 0.02065171,  0.29504627, -0.95525976]), decomp=array([0, 3, 0, 6, 5, 8, 1, 1, 7, 7]))\n",
      "RSOut(param=array([-0.17086097,  0.60684996, -0.77623428]), decomp=array([0, 3, 2, 6, 1, 8, 1, 1, 7, 3]))\n",
      "RSOut(param=array([-0.12659614,  0.40192037, -0.90688116]), decomp=array([0, 3, 0, 6, 1, 8, 1, 1, 7, 3]))\n",
      "RSOut(param=array([-0.10844645,  0.23692535, -0.96545624]), decomp=array([0, 3, 0, 6, 1, 8, 1, 1, 7, 7]))\n",
      "RSOut(param=array([ 0.06017258,  0.78740376, -0.61349375]), decomp=array([1, 3, 2, 6, 5, 8, 1, 4, 7, 3]))\n",
      "RSOut(param=array([ 0.09691566,  0.67958416, -0.7271676 ]), decomp=array([1, 3, 2, 6, 5, 8, 1, 1, 7, 3]))\n",
      "RSOut(param=array([ 0.07217262,  0.38184663, -0.92140342]), decomp=array([1, 3, 0, 6, 5, 8, 1, 1, 7, 3]))\n",
      "RSOut(param=array([ 0.424252  ,  0.8049493 , -0.41480943]), decomp=array([1, 5, 2, 6, 7, 1, 3, 4, 7, 3]))\n",
      "RSOut(param=array([ 0.36464308,  0.78754063, -0.49680497]), decomp=array([1, 3, 2, 6, 7, 1, 3, 4, 7, 3]))\n",
      "RSOut(param=array([ 0.27235901,  0.77820849, -0.56587287]), decomp=array([1, 3, 2, 6, 7, 8, 3, 4, 7, 3]))\n",
      "RSOut(param=array([ 0.2377038 ,  0.71358152, -0.65901314]), decomp=array([1, 3, 2, 6, 7, 8, 1, 4, 7, 3]))\n",
      "RSOut(param=array([ 0.25126024,  0.57143029, -0.78123986]), decomp=array([1, 3, 2, 6, 7, 8, 1, 1, 7, 3]))\n",
      "RSOut(param=array([ 0.09987924,  0.36194842, -0.92683196]), decomp=array([1, 3, 0, 6, 7, 8, 1, 1, 7, 3]))\n",
      "RSOut(param=array([0.38436193, 0.89424756, 0.229319  ]), decomp=array([6, 9, 6, 6, 8, 1, 3, 7, 7, 4]))\n",
      "RSOut(param=array([0.33593798, 0.93432142, 0.11911828]), decomp=array([6, 9, 2, 6, 8, 1, 3, 7, 7, 4]))\n",
      "RSOut(param=array([0.35566266, 0.93302457, 0.05449068]), decomp=array([6, 5, 2, 6, 8, 1, 3, 7, 7, 4]))\n",
      "RSOut(param=array([0.28409684, 0.95417964, 0.09396914]), decomp=array([6, 9, 2, 6, 8, 1, 3, 7, 7, 3]))\n",
      "RSOut(param=array([0.28870876, 0.95720252, 0.02026281]), decomp=array([6, 5, 2, 6, 8, 1, 3, 7, 7, 3]))\n",
      "RSOut(param=array([ 0.17719551,  0.95115974, -0.25277835]), decomp=array([1, 5, 2, 6, 8, 1, 3, 7, 7, 3]))\n",
      "RSOut(param=array([ 0.10811539,  0.95922821, -0.26113655]), decomp=array([1, 3, 2, 6, 8, 1, 3, 7, 7, 3]))\n",
      "RSOut(param=array([ 0.07820928,  0.95879747, -0.273113  ]), decomp=array([1, 3, 2, 6, 8, 2, 3, 7, 7, 3]))\n",
      "RSOut(param=array([ 0.00574921,  0.93064164, -0.36588672]), decomp=array([1, 3, 2, 6, 8, 2, 3, 4, 7, 3]))\n",
      "RSOut(param=array([-0.07994903,  0.87980654, -0.46856013]), decomp=array([0, 3, 2, 6, 8, 2, 3, 4, 7, 3]))\n",
      "RSOut(param=array([-0.14204483,  0.83553911, -0.53075198]), decomp=array([0, 3, 2, 6, 8, 2, 1, 4, 7, 3]))\n",
      "RSOut(param=array([-0.12371592,  0.80303259, -0.582952  ]), decomp=array([0, 3, 2, 6, 3, 2, 1, 4, 7, 3]))\n",
      "RSOut(param=array([-0.14860409,  0.78453931, -0.60200905]), decomp=array([0, 3, 2, 6, 3, 2, 1, 1, 7, 3]))\n",
      "RSOut(param=array([-0.2127986 ,  0.79603012, -0.56661522]), decomp=array([0, 3, 2, 6, 8, 2, 1, 1, 7, 3]))\n",
      "RSOut(param=array([-0.21189599,  0.74719461, -0.62992086]), decomp=array([0, 3, 2, 6, 1, 2, 1, 1, 7, 3]))\n",
      "RSOut(param=array([-0.335767  ,  0.5992578 , -0.72673971]), decomp=array([0, 3, 0, 6, 1, 2, 1, 1, 7, 3]))\n",
      "RSOut(param=array([-0.34594537,  0.62432706, -0.70038385]), decomp=array([0, 3, 2, 6, 1, 3, 1, 1, 7, 3]))\n",
      "RSOut(param=array([-0.51324367,  0.28900491, -0.80811948]), decomp=array([0, 3, 0, 6, 1, 3, 1, 1, 7, 3]))\n",
      "RSOut(param=array([-0.51677246,  0.27933992, -0.80926845]), decomp=array([0, 3, 0, 6, 1, 3, 1, 1, 7, 7]))\n",
      "RSOut(param=array([-0.26321895,  0.5931993 , -0.76080903]), decomp=array([0, 3, 2, 6, 1, 5, 1, 1, 7, 3]))\n",
      "RSOut(param=array([-0.3376273 ,  0.41493005, -0.84489104]), decomp=array([0, 3, 0, 6, 1, 5, 1, 1, 7, 3]))\n",
      "RSOut(param=array([-0.33319105,  0.15257904, -0.93043181]), decomp=array([0, 3, 0, 6, 1, 5, 1, 1, 7, 7]))\n",
      "RSOut(param=array([-0.55385865,  0.        , -0.83261071]), decomp=array([0, 3, 0, 2, 1, 5, 1, 1, 7, 7]))\n",
      "RSOut(param=array([-0.58378301,  0.00089172, -0.81190923]), decomp=array([0, 3, 0, 2, 1, 4, 1, 1, 7, 7]))\n",
      "RSOut(param=array([-0.59966156,  0.        , -0.80025372]), decomp=array([0, 3, 0, 2, 1, 4, 1, 1, 9, 7]))\n",
      "RSOut(param=array([-0.52930692, -0.44572324, -0.72191757]), decomp=array([0, 3, 0, 2, 1, 4, 1, 1, 9, 5]))\n",
      "RSOut(param=array([-0.53258972, -0.53528721, -0.65560338]), decomp=array([0, 3, 0, 2, 2, 4, 1, 1, 9, 5]))\n",
      "RSOut(param=array([-0.35061246, -0.16189424, -0.92242135]), decomp=array([0, 3, 0, 2, 1, 5, 1, 1, 9, 7]))\n",
      "RSOut(param=array([-0.31351748, -0.15699104, -0.93651514]), decomp=array([0, 3, 0, 2, 1, 5, 1, 1, 7, 5]))\n",
      "RSOut(param=array([-0.33571458, -0.18475093, -0.92366813]), decomp=array([0, 3, 0, 2, 1, 5, 1, 1, 9, 5]))\n",
      "RSOut(param=array([-0.58051845,  0.01701031, -0.8140694 ]), decomp=array([0, 3, 0, 4, 1, 5, 1, 1, 7, 7]))\n",
      "RSOut(param=array([-0.58721376,  0.01156189, -0.80934932]), decomp=array([0, 3, 0, 4, 1, 4, 1, 1, 7, 7]))\n",
      "RSOut(param=array([-0.24378964,  0.78320757, -0.57197248]), decomp=array([0, 3, 2, 6, 8, 3, 1, 1, 7, 3]))\n",
      "RSOut(param=array([ 0.09977616,  0.95355155, -0.28422555]), decomp=array([1, 3, 2, 6, 8, 8, 3, 7, 7, 3]))\n",
      "RSOut(param=array([ 0.10260361,  0.93763518, -0.33213365]), decomp=array([1, 3, 2, 6, 8, 8, 3, 4, 7, 3]))\n",
      "RSOut(param=array([-0.02253682,  0.87488929, -0.48379832]), decomp=array([0, 3, 2, 6, 8, 8, 3, 4, 7, 3]))\n",
      "RSOut(param=array([-0.05963196,  0.84900757, -0.52500493]), decomp=array([0, 3, 2, 6, 8, 8, 1, 4, 7, 3]))\n",
      "RSOut(param=array([-0.07679935,  0.83471849, -0.54529525]), decomp=array([0, 3, 2, 6, 3, 8, 1, 4, 7, 3]))\n",
      "RSOut(param=array([ 0.15337239,  0.93575568, -0.31755034]), decomp=array([1, 3, 2, 6, 8, 1, 3, 4, 7, 3]))\n",
      "RSOut(param=array([ 0.08253026,  0.97563762, -0.20327319]), decomp=array([6, 1, 2, 6, 8, 1, 3, 7, 7, 3]))\n",
      "RSOut(param=array([ 0.08637099,  0.9676217 , -0.23716725]), decomp=array([1, 1, 2, 6, 8, 1, 3, 7, 7, 3]))\n",
      "RSOut(param=array([ 0.05999043,  0.97251522, -0.22497841]), decomp=array([6, 1, 2, 6, 8, 2, 3, 7, 7, 3]))\n",
      "RSOut(param=array([ 0.04485889,  0.96478459, -0.25918793]), decomp=array([1, 1, 2, 6, 8, 2, 3, 7, 7, 3]))\n",
      "RSOut(param=array([ 0.0174249 ,  0.95707785, -0.28930669]), decomp=array([1, 1, 2, 6, 8, 2, 3, 4, 7, 3]))\n",
      "RSOut(param=array([-0.03823194,  0.93535368, -0.35164159]), decomp=array([0, 1, 2, 6, 8, 2, 3, 4, 7, 3]))\n",
      "RSOut(param=array([-0.15796986,  0.86415107, -0.4777954 ]), decomp=array([0, 1, 2, 6, 8, 2, 1, 4, 7, 3]))\n",
      "RSOut(param=array([0.7205799 , 0.68363531, 0.11579018]), decomp=array([6, 9, 6, 6, 7, 1, 7, 7, 7, 4]))\n",
      "RSOut(param=array([ 0.72234179,  0.69153573, -0.00081758]), decomp=array([6, 9, 6, 6, 7, 1, 7, 7, 7, 2]))\n",
      "RSOut(param=array([ 0.75294872,  0.65367969, -0.0759677 ]), decomp=array([1, 9, 6, 6, 7, 1, 7, 7, 7, 2]))\n",
      "RSOut(param=array([ 0.68443092,  0.7092732 , -0.16877751]), decomp=array([1, 5, 6, 6, 7, 1, 7, 7, 7, 2]))\n",
      "RSOut(param=array([ 0.68066065,  0.67584643, -0.2827237 ]), decomp=array([1, 5, 6, 6, 7, 1, 7, 3, 7, 2]))\n",
      "RSOut(param=array([ 0.65375683,  0.68593227, -0.31952923]), decomp=array([1, 5, 6, 6, 7, 1, 7, 3, 7, 3]))\n",
      "RSOut(param=array([ 0.72330733,  0.59161154, -0.35612118]), decomp=array([1, 5, 6, 6, 7, 1, 7, 3, 7, 6]))\n",
      "RSOut(param=array([ 0.68331455,  0.32240539, -0.65508472]), decomp=array([1, 3, 6, 6, 7, 1, 7, 3, 7, 6]))\n",
      "RSOut(param=array([ 0.61773666,  0.58724958, -0.52300989]), decomp=array([1, 5, 2, 6, 7, 1, 7, 3, 7, 6]))\n",
      "RSOut(param=array([ 0.60355191,  0.41221887, -0.68249593]), decomp=array([1, 3, 2, 6, 7, 1, 7, 3, 7, 6]))\n",
      "RSOut(param=array([ 0.4561673 ,  0.54799953, -0.70114757]), decomp=array([1, 3, 2, 6, 7, 8, 7, 3, 7, 6]))\n",
      "RSOut(param=array([ 0.48926601,  0.17918701, -0.85352843]), decomp=array([1, 3, 2, 6, 7, 8, 7, 1, 7, 6]))\n",
      "RSOut(param=array([ 0.45677026,  0.04795511, -0.88829119]), decomp=array([1, 3, 0, 6, 7, 8, 7, 1, 7, 6]))\n",
      "RSOut(param=array([ 0.42927212, -0.02422168, -0.90285035]), decomp=array([1, 3, 0, 6, 7, 8, 7, 1, 3, 6]))\n",
      "RSOut(param=array([ 0.40127046, -0.03965995, -0.9151006 ]), decomp=array([1, 3, 0, 6, 7, 8, 1, 1, 3, 6]))\n",
      "RSOut(param=array([ 0.29724331,  0.35832575, -0.8850136 ]), decomp=array([1, 3, 2, 6, 7, 8, 1, 1, 7, 6]))\n",
      "RSOut(param=array([ 0.29468835,  0.08070821, -0.95217906]), decomp=array([1, 3, 0, 6, 7, 8, 1, 1, 7, 6]))\n",
      "RSOut(param=array([ 0.05819395, -0.00710899, -0.99827998]), decomp=array([0, 3, 0, 6, 7, 8, 1, 1, 7, 6]))\n",
      "RSOut(param=array([ 0.,  0., -1.]), decomp=array([0, 3, 0, 6, 1, 8, 1, 1, 7, 6]))\n",
      "RSOut(param=array([-0.04206919, -0.09955862, -0.99414197]), decomp=array([0, 3, 0, 2, 1, 8, 1, 1, 7, 6]))\n",
      "RSOut(param=array([-0.19526345, -0.13164081, -0.97187596]), decomp=array([0, 3, 0, 2, 1, 5, 1, 1, 7, 6]))\n",
      "RSOut(param=array([-0.17358001, -0.22739969, -0.95820633]), decomp=array([0, 3, 0, 2, 1, 5, 1, 1, 3, 6]))\n",
      "RSOut(param=array([-0.22262932, -0.23724182, -0.94559638]), decomp=array([0, 3, 0, 2, 1, 5, 1, 1, 9, 6]))\n",
      "RSOut(param=array([-0.16656535,  0.00204478, -0.9860283 ]), decomp=array([0, 3, 0, 6, 1, 5, 1, 1, 7, 6]))\n",
      "RSOut(param=array([ 0.03124474,  0.24866624, -0.96808515]), decomp=array([0, 3, 0, 6, 5, 8, 1, 1, 7, 6]))\n",
      "RSOut(param=array([ 0.12880989, -0.07883627, -0.98853065]), decomp=array([1, 3, 0, 2, 7, 8, 1, 1, 7, 6]))\n",
      "RSOut(param=array([ 0.06043906, -0.10875562, -0.99222948]), decomp=array([0, 3, 0, 2, 7, 8, 1, 1, 7, 6]))\n",
      "RSOut(param=array([ 0.02975585, -0.14877724, -0.98842295]), decomp=array([0, 3, 0, 2, 9, 8, 1, 1, 7, 6]))\n",
      "RSOut(param=array([ 0.06571206,  0.31206338, -0.94778604]), decomp=array([1, 3, 0, 6, 5, 8, 1, 1, 7, 6]))\n",
      "RSOut(param=array([ 0.42699376,  0.55908222, -0.71070627]), decomp=array([1, 3, 2, 6, 7, 8, 7, 4, 7, 6]))\n",
      "RSOut(param=array([ 0.6356093 ,  0.7191521 , -0.28075089]), decomp=array([1, 5, 6, 6, 7, 1, 7, 7, 7, 3]))\n",
      "RSOut(param=array([ 0.58699856,  0.75401139, -0.29478723]), decomp=array([1, 5, 2, 6, 7, 1, 7, 7, 7, 3]))\n",
      "RSOut(param=array([ 0.57688633,  0.7069363 , -0.40919828]), decomp=array([1, 5, 2, 6, 7, 1, 7, 3, 7, 3]))\n",
      "RSOut(param=array([ 0.5089682 ,  0.64233253, -0.57302731]), decomp=array([1, 3, 2, 6, 7, 1, 7, 3, 7, 3]))\n",
      "RSOut(param=array([ 0.45328303,  0.58621373, -0.67148191]), decomp=array([1, 3, 2, 6, 7, 8, 7, 3, 7, 3]))\n",
      "RSOut(param=array([ 0.47596679,  0.74570345, -0.4662424 ]), decomp=array([1, 5, 2, 6, 7, 1, 7, 4, 7, 3]))\n",
      "RSOut(param=array([ 0.43598755,  0.70674126, -0.55716394]), decomp=array([1, 3, 2, 6, 7, 1, 7, 4, 7, 3]))\n",
      "RSOut(param=array([ 0.38050804,  0.6380689 , -0.66938905]), decomp=array([1, 3, 2, 6, 7, 8, 7, 4, 7, 3]))\n",
      "RSOut(param=array([ 0.37684562,  0.56583058, -0.73336425]), decomp=array([1, 3, 2, 6, 7, 8, 7, 1, 7, 3]))\n",
      "RSOut(param=array([ 0.6609458 ,  0.74678453, -0.07391558]), decomp=array([6, 5, 6, 6, 7, 1, 7, 7, 7, 2]))\n",
      "RSOut(param=array([0.63667376, 0.771126  , 0.00334842]), decomp=array([6, 9, 6, 6, 7, 1, 3, 7, 7, 2]))\n",
      "RSOut(param=array([4.99776419e-01, 8.66154364e-01, 3.84908302e-04]), decomp=array([6, 5, 6, 6, 7, 1, 3, 7, 7, 2]))\n",
      "RSOut(param=array([ 0.59890832,  0.78868943, -0.13884452]), decomp=array([1, 5, 6, 6, 7, 1, 3, 7, 7, 2]))\n",
      "RSOut(param=array([ 0.59580535,  0.77666119, -0.20448319]), decomp=array([1, 5, 6, 6, 7, 1, 3, 7, 7, 3]))\n",
      "RSOut(param=array([0.49716581, 0.86765555, 0.        ]), decomp=array([6, 5, 2, 6, 7, 1, 3, 7, 7, 2]))\n",
      "RSOut(param=array([ 0.55166044,  0.82398286, -0.12931746]), decomp=array([1, 5, 2, 6, 7, 1, 3, 7, 7, 2]))\n",
      "RSOut(param=array([0.43117461, 0.81602368, 0.38495949]), decomp=array([6, 9, 6, 5, 8, 1, 3, 7, 7, 4]))\n",
      "RSOut(param=array([0.42367977, 0.82843659, 0.36631717]), decomp=array([6, 9, 6, 8, 8, 1, 3, 7, 7, 4]))\n"
     ]
    }
   ],
   "source": [
    "with open(\"states_out.jsonl\") as states_file:\n",
    "    states_data = [json.loads(line) for line in states_file]\n",
    "\n",
    "RSOut = namedtuple(\"RSOut\", [\"param\", \"decomp\"])\n",
    "\n",
    "states  = [RSOut(np.array(item[\"param\"][\"data\"]), np.array(item[\"minkowski_decomp\"])) for item in states_data]\n",
    "\n",
    "for state in states:\n",
    "    print(state)\n"
   ]
  },
  {
   "cell_type": "code",
   "execution_count": 75,
   "metadata": {},
   "outputs": [
    {
     "name": "stdout",
     "output_type": "stream",
     "text": [
      "0, 1, 2, 3, 4, 5, 6, 7, 8, 9, 10, 11, 12, 13, 14, 15, 16, 17, 18, 19, 20, 21, 22, 23, 24, 25, 26, 27, 28, 29, 30, 31, 32, 33, 34, 35, 36, 37, 38, 39, 40, 41, 42, 43, 44, 45, 46, 47, 48, 49, 50, 51, 52, 53, 54, 55, 56, 57, 58, 59, 60, 61, 62, 63, 64, 65, 66, 67, 68, 69, 70, 71, 72, 73, 74, 75, 76, 77, 78, 79, 80, 81, 82, 83, 84, 85, 86, 87, 88, 89, 90, 91, 92, 93, 94, 95, 96, 97, 98, 99, 100, 101, 102, 103, 104, 105, 106, 107, 108, 109, 110, 111, 112, 113, 114, 115, 116, 117, 118, 119, 120, 121, 122, 123, 124, 125, 126, 127, 128, 129, 130, 131, 132, 133, 134, 135, 136, 137, 138, 139, 140, 141, 142, 143, 144, 145, 146, 147, 148, 149, 150, 151, 152, 153, 154, 155, 156, 157, 158, 159, 160, 161, 162, 163, 164, 165, 166, 167, 168, 169, 170, 171, 172, 173, 174, 175, 176, 177, 178, 179, 180, 181, 182, 183, 184, 185, 186, 187, 188, 189, 190, 191, 192, 193, 194, 195, 196, 197, 198, 199, 200, 201, 202, 203, 204, 205, 206, 207, 208, 209, 210, 211, 212, 213, 214, 215, 216, 217, 218, 219, 220, 221, 222, 223, 224, 225, 226, 227, 228, 229, 230, 231, 232, 233, 234, 235, 236, 237, 238, 239, 240, 241, 242, 243, 244, 245, 246, 247, 248, 249, 250, 251, 252, 253, 254, 255, 256, 257, 258, 259, 260, 261, 262, 263, 264, 265, 266, 267, 268, 269, 270, 271, 272, 273, 274, 275, 276, 277, 278, 279, 280, 281, 282, 283, 284, 285, 286, 287, 288, 289, 290, 291, 292, 293, 294, 295, 296, 297, 298, 299, 300, 301, 302, 303, 304, 305, 306, 307, 308, 309, 310, 311, 312, 313, 314, 315, 316, 317, 318, 319, 320, 321, 322, 323, 324, 325, 326, 327, 328, 329, 330, 331, 332, 333, 334, 335, 336, 337, 338, 339, 340, 341, 342, 343, 344, 345, 346, 347, 348, 349, 350, 351, 352, 353, 354, 355, 356, 357, 358, 359, 360, 361, 362, 363, 364, 365, 366, 367, 368, 369, 370, 371, 372, 373, 374, 375, 376, 377, 378, 379, 380, 381, 382, 383, 384, 385, 386, 387, 388, 389, 390, 391, 392, 393, 394, 395, 396, 397, 398, 399, 400, 401, 402, 403, 404, 405, 406, 407, 408, 409, 410, 411, 412, 413, 414, 415, 416, 417, 418, 419, 420, 421, 422, 423, 424, 425, 426, 427, 428, 429, 430, 431, 432, 433, 434, 435, 436, 437, 438, 439, 440, 441, 442, 443, 444, 445, 446, 447, 448, 449, 450, 451, 452, 453, 454, 455, 456, 457, 458, 459, 460, 461, 462, 463, 464, 465, 466, 467, 468, 469, 470, 471, 472, 473, 474, 475, 476, 477, 478, 479, 480, 481, 482, 483, 484, 485, 486, 487, 488, 489, 490, 491, 492, 493, 494, 495, 496, 497, 498, 499, 500, 501, 502, 503, 504, 505, 506, 507, 508, 509, 510, 511, 512, 513, 514, 515, 516, 517, 518, 519, 520, 521, 522, 523, 524, 525, 526, 527, 528, 529, 530, 531, 532, "
     ]
    }
   ],
   "source": [
    "np_poly = np.array(point_clouds)\n",
    "\n",
    "decomps_counter = 0\n",
    "decomps = {}\n",
    "\n",
    "for state in states:\n",
    "    param = np.array(state.param)\n",
    "    scores = np_poly @ param\n",
    "    maximised = np.argmax(scores, axis=1)\n",
    "    #print(\"python: \", maximised)\n",
    "    #print(\"rs out: \", state.decomp)\n",
    "    assert(np.array_equal(state.decomp, maximised))\n",
    "    \n",
    "    decomp_key = tuple(state.decomp)\n",
    "    if decomp_key not in decomps:\n",
    "        decomps[decomp_key] = decomps_counter\n",
    "        decomps_counter += 1\n",
    "    print(f\"{decomps[decomp_key]}, \", end=\"\")\n",
    "\n",
    "#print(f\"Num decomps {len(decomps)}, num states {len(states)}\")"
   ]
  },
  {
   "cell_type": "markdown",
   "metadata": {},
   "source": []
  },
  {
   "cell_type": "markdown",
   "metadata": {},
   "source": [
    "Now we try to compute a Minkowski sum directly through qhull\n",
    "\n",
    "- I'm giving up on using qhull as its numerical stability mechanisms mean that we get different results"
   ]
  },
  {
   "cell_type": "code",
   "execution_count": 78,
   "metadata": {},
   "outputs": [
    {
     "name": "stdout",
     "output_type": "stream",
     "text": [
      "Input lens 8, 9\n",
      "Lengths 72, 29\n",
      "Input lens 29, 7\n",
      "Lengths 203, 58\n",
      "Input lens 58, 7\n",
      "Lengths 406, 93\n",
      "Input lens 93, 8\n",
      "Lengths 744, 158\n",
      "Input lens 158, 8\n",
      "Lengths 1264, 234\n",
      "Input lens 234, 10\n",
      "Lengths 2340, 332\n",
      "Input lens 332, 8\n",
      "Lengths 2656, 435\n",
      "Input lens 435, 8\n",
      "Lengths 3480, 549\n",
      "Input lens 549, 9\n",
      "Lengths 4941, 696\n",
      "696\n",
      "[0, 0, 7, 1, 1, 3, 1, 8, 9, 1]\n",
      "[0, 0, 7, 9, 1, 3, 1, 8, 9, 1]\n",
      "[0, 0, 9, 1, 0, 3, 1, 8, 9, 1]\n",
      "[0, 0, 9, 1, 1, 3, 1, 8, 9, 1]\n",
      "[0, 0, 9, 1, 1, 3, 1, 9, 9, 1]\n",
      "[0, 0, 9, 1, 1, 4, 1, 8, 9, 1]\n",
      "[0, 0, 9, 1, 1, 4, 1, 9, 9, 1]\n",
      "[0, 0, 9, 1, 1, 4, 1, 9, 9, 3]\n",
      "[0, 0, 9, 1, 1, 4, 2, 9, 9, 1]\n",
      "[0, 0, 9, 1, 1, 4, 2, 9, 9, 3]\n",
      "[0, 0, 9, 9, 0, 3, 1, 8, 9, 1]\n",
      "[0, 0, 9, 9, 1, 3, 1, 8, 9, 1]\n",
      "[0, 3, 7, 1, 1, 2, 1, 6, 0, 3]\n",
      "[0, 3, 7, 1, 1, 2, 1, 6, 2, 3]\n",
      "[0, 3, 7, 1, 1, 2, 3, 6, 2, 3]\n",
      "[0, 3, 7, 1, 1, 2, 5, 6, 2, 3]\n",
      "[0, 3, 7, 1, 1, 2, 8, 6, 2, 3]\n",
      "[0, 3, 7, 1, 1, 2, 8, 8, 2, 3]\n",
      "[0, 3, 7, 1, 1, 3, 1, 6, 0, 3]\n",
      "[0, 3, 7, 1, 1, 3, 1, 6, 2, 3]\n",
      "[0, 3, 7, 1, 1, 3, 1, 8, 0, 1]\n",
      "[0, 3, 7, 1, 1, 3, 1, 8, 0, 3]\n",
      "[0, 3, 7, 1, 1, 3, 1, 8, 2, 1]\n",
      "[0, 3, 7, 1, 1, 3, 1, 8, 2, 3]\n",
      "[0, 3, 7, 1, 1, 3, 1, 8, 9, 1]\n",
      "[0, 3, 7, 1, 1, 3, 1, 8, 9, 3]\n",
      "[0, 3, 7, 1, 1, 3, 8, 6, 2, 3]\n",
      "[0, 3, 7, 1, 1, 3, 8, 8, 2, 1]\n",
      "[0, 3, 7, 1, 1, 3, 8, 8, 2, 3]\n",
      "[0, 3, 7, 1, 1, 3, 8, 8, 9, 1]\n",
      "[0, 3, 7, 1, 1, 5, 1, 6, 0, 3]\n",
      "[0, 3, 7, 1, 1, 5, 1, 6, 2, 3]\n",
      "[0, 3, 7, 1, 1, 8, 1, 6, 0, 3]\n",
      "[0, 3, 7, 1, 1, 8, 1, 6, 2, 3]\n",
      "[0, 3, 7, 1, 1, 8, 5, 6, 0, 3]\n",
      "[0, 3, 7, 1, 1, 8, 5, 6, 2, 3]\n",
      "[0, 3, 7, 4, 1, 2, 3, 6, 2, 3]\n",
      "[0, 3, 7, 4, 1, 2, 5, 6, 2, 3]\n",
      "[0, 3, 7, 4, 1, 2, 8, 6, 2, 1]\n",
      "[0, 3, 7, 4, 1, 2, 8, 6, 2, 3]\n",
      "[0, 3, 7, 4, 1, 2, 8, 8, 2, 1]\n",
      "[0, 3, 7, 4, 1, 2, 8, 8, 2, 3]\n",
      "[0, 3, 7, 4, 1, 3, 8, 8, 2, 1]\n",
      "[0, 3, 7, 4, 1, 3, 8, 8, 2, 3]\n",
      "[0, 3, 7, 4, 1, 3, 8, 8, 3, 1]\n",
      "[0, 3, 7, 4, 1, 3, 8, 8, 9, 1]\n",
      "[0, 3, 7, 4, 1, 8, 3, 6, 2, 3]\n",
      "[0, 3, 7, 4, 1, 8, 5, 6, 2, 3]\n",
      "[0, 3, 7, 4, 1, 8, 8, 6, 2, 3]\n",
      "[0, 3, 7, 4, 3, 2, 8, 6, 2, 1]\n",
      "[0, 3, 7, 4, 3, 2, 8, 6, 2, 3]\n",
      "[0, 3, 7, 4, 3, 2, 8, 8, 2, 1]\n",
      "[0, 3, 7, 4, 3, 3, 8, 8, 2, 1]\n",
      "[0, 3, 7, 4, 3, 3, 8, 8, 3, 1]\n",
      "[0, 3, 7, 4, 3, 3, 8, 8, 9, 1]\n",
      "[0, 3, 7, 4, 3, 8, 5, 6, 2, 3]\n",
      "[0, 3, 7, 4, 3, 8, 8, 6, 2, 3]\n",
      "[0, 3, 7, 7, 3, 2, 8, 8, 2, 1]\n",
      "[0, 3, 7, 7, 3, 3, 8, 8, 2, 1]\n",
      "[0, 3, 7, 7, 3, 3, 8, 8, 3, 1]\n",
      "[0, 3, 7, 7, 3, 3, 8, 8, 9, 1]\n",
      "[0, 3, 7, 9, 1, 3, 1, 8, 9, 1]\n",
      "[0, 3, 7, 9, 1, 3, 8, 8, 9, 1]\n",
      "[0, 3, 9, 1, 1, 3, 1, 8, 9, 1]\n",
      "[0, 5, 7, 1, 1, 5, 1, 2, 0, 3]\n",
      "[0, 5, 9, 1, 1, 4, 1, 2, 0, 3]\n",
      "[0, 5, 9, 1, 1, 4, 1, 2, 9, 3]\n",
      "[0, 5, 9, 1, 1, 4, 1, 9, 9, 3]\n",
      "[0, 5, 9, 1, 1, 4, 2, 2, 0, 3]\n",
      "[0, 5, 9, 1, 1, 4, 2, 2, 9, 3]\n",
      "[0, 5, 9, 1, 1, 4, 2, 9, 9, 3]\n",
      "[0, 5, 9, 1, 1, 5, 1, 2, 0, 3]\n",
      "[0, 6, 2, 1, 1, 4, 1, 2, 0, 3]\n",
      "[0, 6, 2, 1, 1, 4, 2, 2, 0, 3]\n",
      "[0, 6, 2, 1, 1, 4, 2, 9, 0, 3]\n",
      "[0, 6, 2, 1, 1, 9, 1, 2, 0, 3]\n",
      "[0, 6, 2, 1, 1, 9, 2, 2, 0, 3]\n",
      "[0, 6, 2, 1, 1, 9, 9, 2, 0, 3]\n",
      "[0, 6, 2, 1, 6, 4, 2, 2, 0, 3]\n",
      "[0, 6, 2, 1, 6, 9, 2, 1, 0, 3]\n",
      "[0, 6, 2, 1, 6, 9, 2, 2, 0, 3]\n",
      "[0, 6, 2, 1, 6, 9, 9, 1, 0, 3]\n",
      "[0, 6, 2, 1, 6, 9, 9, 2, 0, 3]\n",
      "[0, 6, 3, 1, 1, 5, 1, 2, 0, 3]\n",
      "[0, 6, 3, 1, 1, 8, 1, 2, 0, 3]\n",
      "[0, 6, 3, 1, 1, 8, 7, 2, 0, 3]\n",
      "[0, 6, 3, 1, 1, 8, 9, 2, 0, 3]\n",
      "[0, 6, 3, 1, 1, 9, 1, 2, 0, 3]\n",
      "[0, 6, 3, 1, 1, 9, 7, 2, 0, 3]\n",
      "[0, 6, 3, 1, 1, 9, 9, 2, 0, 3]\n",
      "[0, 6, 7, 1, 1, 5, 1, 2, 0, 3]\n",
      "[0, 6, 7, 1, 1, 5, 1, 6, 0, 3]\n",
      "[0, 6, 7, 1, 1, 8, 1, 2, 0, 3]\n",
      "[0, 6, 7, 1, 1, 8, 1, 6, 0, 3]\n",
      "[0, 6, 7, 1, 1, 8, 5, 6, 0, 3]\n",
      "[0, 6, 7, 1, 1, 8, 7, 2, 0, 3]\n",
      "[0, 6, 7, 1, 1, 8, 7, 6, 0, 3]\n",
      "[0, 6, 7, 1, 1, 8, 9, 2, 0, 3]\n",
      "[0, 6, 8, 1, 1, 4, 1, 2, 0, 3]\n",
      "[0, 6, 8, 1, 1, 4, 2, 2, 0, 3]\n",
      "[0, 6, 8, 1, 1, 9, 1, 2, 0, 3]\n",
      "[0, 6, 9, 1, 1, 4, 1, 2, 0, 3]\n",
      "[0, 6, 9, 1, 1, 4, 2, 2, 0, 3]\n",
      "[0, 6, 9, 1, 1, 4, 2, 2, 9, 3]\n",
      "[0, 6, 9, 1, 1, 4, 2, 9, 0, 3]\n",
      "[0, 6, 9, 1, 1, 4, 2, 9, 9, 3]\n",
      "[0, 6, 9, 1, 1, 5, 1, 2, 0, 3]\n",
      "[0, 6, 9, 1, 1, 9, 1, 2, 0, 3]\n",
      "[0, 7, 7, 1, 1, 3, 1, 6, 0, 3]\n",
      "[0, 7, 7, 1, 1, 3, 1, 8, 0, 3]\n",
      "[0, 7, 7, 1, 1, 3, 1, 8, 9, 1]\n",
      "[0, 7, 7, 1, 1, 3, 1, 8, 9, 3]\n",
      "[0, 7, 7, 1, 1, 4, 1, 2, 0, 3]\n",
      "[0, 7, 7, 1, 1, 4, 1, 4, 0, 3]\n",
      "[0, 7, 7, 1, 1, 4, 1, 8, 0, 3]\n",
      "[0, 7, 7, 1, 1, 4, 1, 8, 9, 3]\n",
      "[0, 7, 7, 1, 1, 5, 1, 2, 0, 3]\n",
      "[0, 7, 7, 1, 1, 5, 1, 4, 0, 3]\n",
      "[0, 7, 7, 1, 1, 5, 1, 6, 0, 3]\n",
      "[0, 7, 7, 1, 1, 5, 1, 8, 0, 3]\n",
      "[0, 7, 7, 1, 1, 8, 1, 6, 0, 3]\n",
      "[0, 7, 7, 1, 1, 8, 5, 6, 0, 3]\n",
      "[0, 7, 9, 1, 1, 3, 1, 8, 9, 1]\n",
      "[0, 7, 9, 1, 1, 3, 1, 8, 9, 3]\n",
      "[0, 7, 9, 1, 1, 4, 1, 2, 0, 3]\n",
      "[0, 7, 9, 1, 1, 4, 1, 2, 9, 1]\n",
      "[0, 7, 9, 1, 1, 4, 1, 2, 9, 3]\n",
      "[0, 7, 9, 1, 1, 4, 1, 8, 0, 3]\n",
      "[0, 7, 9, 1, 1, 4, 1, 8, 9, 1]\n",
      "[0, 7, 9, 1, 1, 4, 1, 8, 9, 3]\n",
      "[0, 7, 9, 1, 1, 4, 1, 9, 9, 1]\n",
      "[0, 7, 9, 1, 1, 4, 1, 9, 9, 3]\n",
      "[0, 7, 9, 1, 1, 4, 2, 9, 9, 3]\n",
      "[0, 7, 9, 1, 1, 5, 1, 2, 0, 3]\n",
      "[1, 2, 7, 3, 7, 1, 7, 1, 6, 5]\n",
      "[1, 2, 7, 3, 7, 1, 7, 1, 6, 9]\n",
      "[1, 2, 7, 3, 7, 1, 7, 6, 6, 5]\n",
      "[1, 2, 7, 7, 3, 1, 7, 6, 2, 5]\n",
      "[1, 2, 7, 7, 3, 1, 7, 6, 6, 5]\n",
      "[1, 2, 7, 7, 7, 1, 7, 1, 6, 5]\n",
      "[1, 2, 7, 7, 7, 1, 7, 1, 6, 9]\n",
      "[1, 2, 7, 7, 7, 1, 7, 6, 6, 5]\n",
      "[1, 2, 7, 7, 7, 1, 7, 6, 6, 9]\n",
      "[1, 3, 7, 1, 1, 8, 5, 6, 0, 3]\n",
      "[1, 3, 7, 1, 1, 8, 5, 6, 2, 3]\n",
      "[1, 3, 7, 1, 1, 8, 7, 6, 0, 3]\n",
      "[1, 3, 7, 1, 1, 8, 7, 6, 2, 3]\n",
      "[1, 3, 7, 1, 7, 8, 7, 6, 2, 3]\n",
      "[1, 3, 7, 3, 7, 1, 7, 6, 2, 3]\n",
      "[1, 3, 7, 3, 7, 1, 7, 6, 2, 5]\n",
      "[1, 3, 7, 3, 7, 1, 7, 6, 6, 5]\n",
      "[1, 3, 7, 3, 7, 8, 7, 6, 2, 3]\n",
      "[1, 3, 7, 4, 1, 8, 5, 6, 2, 3]\n",
      "[1, 3, 7, 4, 1, 8, 7, 6, 2, 3]\n",
      "[1, 3, 7, 4, 3, 1, 5, 6, 2, 3]\n",
      "[1, 3, 7, 4, 3, 1, 5, 6, 2, 5]\n",
      "[1, 3, 7, 4, 3, 1, 7, 6, 2, 3]\n",
      "[1, 3, 7, 4, 3, 1, 7, 6, 2, 5]\n",
      "[1, 3, 7, 4, 3, 1, 8, 6, 2, 3]\n",
      "[1, 3, 7, 4, 3, 2, 8, 6, 2, 1]\n",
      "[1, 3, 7, 4, 3, 2, 8, 6, 2, 3]\n",
      "[1, 3, 7, 4, 3, 2, 8, 8, 2, 1]\n",
      "[1, 3, 7, 4, 3, 8, 5, 6, 2, 3]\n",
      "[1, 3, 7, 4, 3, 8, 7, 6, 2, 3]\n",
      "[1, 3, 7, 4, 3, 8, 8, 6, 2, 3]\n",
      "[1, 3, 7, 4, 7, 1, 7, 6, 2, 3]\n",
      "[1, 3, 7, 4, 7, 1, 7, 6, 2, 5]\n",
      "[1, 3, 7, 4, 7, 8, 7, 6, 2, 3]\n",
      "[1, 3, 7, 7, 3, 1, 5, 6, 2, 3]\n",
      "[1, 3, 7, 7, 3, 1, 5, 6, 2, 5]\n",
      "[1, 3, 7, 7, 3, 1, 7, 6, 2, 5]\n",
      "[1, 3, 7, 7, 3, 1, 7, 6, 6, 5]\n",
      "[1, 3, 7, 7, 3, 1, 8, 6, 2, 1]\n",
      "[1, 3, 7, 7, 3, 1, 8, 6, 2, 3]\n",
      "[1, 3, 7, 7, 3, 1, 8, 6, 2, 5]\n",
      "[1, 3, 7, 7, 3, 2, 8, 6, 2, 1]\n",
      "[1, 3, 7, 7, 3, 2, 8, 6, 2, 3]\n",
      "[1, 3, 7, 7, 3, 2, 8, 8, 2, 1]\n",
      "[1, 3, 7, 7, 3, 8, 8, 6, 2, 3]\n",
      "[1, 3, 7, 7, 7, 1, 7, 6, 2, 5]\n",
      "[1, 3, 7, 7, 7, 1, 7, 6, 6, 5]\n",
      "[1, 6, 2, 1, 1, 9, 7, 2, 0, 3]\n",
      "[1, 6, 2, 1, 1, 9, 9, 2, 0, 3]\n",
      "[1, 6, 2, 1, 6, 9, 7, 1, 0, 3]\n",
      "[1, 6, 2, 1, 6, 9, 7, 1, 6, 3]\n",
      "[1, 6, 2, 1, 6, 9, 7, 2, 0, 3]\n",
      "[1, 6, 2, 1, 6, 9, 9, 1, 0, 3]\n",
      "[1, 6, 2, 1, 6, 9, 9, 2, 0, 3]\n",
      "[1, 6, 2, 1, 7, 8, 7, 1, 0, 3]\n",
      "[1, 6, 2, 1, 7, 8, 7, 1, 6, 3]\n",
      "[1, 6, 2, 1, 7, 9, 7, 1, 0, 3]\n",
      "[1, 6, 2, 1, 7, 9, 7, 1, 6, 3]\n",
      "[1, 6, 2, 3, 5, 1, 7, 1, 6, 0]\n",
      "[1, 6, 2, 3, 5, 1, 7, 1, 6, 3]\n",
      "[1, 6, 2, 3, 5, 1, 7, 1, 6, 5]\n",
      "[1, 6, 2, 3, 5, 1, 7, 1, 6, 9]\n",
      "[1, 6, 2, 3, 6, 1, 7, 1, 6, 3]\n",
      "[1, 6, 2, 3, 6, 1, 7, 1, 6, 5]\n",
      "[1, 6, 2, 3, 6, 9, 7, 1, 6, 3]\n",
      "[1, 6, 2, 3, 7, 1, 7, 1, 6, 0]\n",
      "[1, 6, 2, 3, 7, 1, 7, 1, 6, 3]\n",
      "[1, 6, 2, 3, 7, 1, 7, 1, 6, 5]\n",
      "[1, 6, 2, 3, 7, 1, 7, 1, 6, 9]\n",
      "[1, 6, 2, 3, 7, 8, 7, 1, 6, 3]\n",
      "[1, 6, 2, 3, 7, 9, 7, 1, 6, 3]\n",
      "[1, 6, 2, 6, 5, 1, 7, 1, 6, 0]\n",
      "[1, 6, 2, 6, 5, 1, 7, 1, 6, 3]\n",
      "[1, 6, 2, 6, 5, 1, 7, 1, 6, 5]\n",
      "[1, 6, 2, 6, 5, 1, 7, 1, 6, 9]\n",
      "[1, 6, 2, 6, 5, 9, 7, 1, 6, 0]\n",
      "[1, 6, 2, 6, 5, 9, 7, 1, 6, 3]\n",
      "[1, 6, 2, 6, 5, 9, 7, 1, 6, 5]\n",
      "[1, 6, 2, 6, 5, 9, 9, 1, 6, 0]\n",
      "[1, 6, 2, 6, 5, 9, 9, 1, 6, 3]\n",
      "[1, 6, 2, 6, 5, 9, 9, 1, 6, 5]\n",
      "[1, 6, 2, 6, 5, 9, 9, 1, 6, 6]\n",
      "[1, 6, 2, 6, 5, 9, 9, 1, 6, 8]\n",
      "[1, 6, 2, 6, 6, 1, 7, 1, 6, 3]\n",
      "[1, 6, 2, 6, 6, 9, 7, 1, 0, 3]\n",
      "[1, 6, 2, 6, 6, 9, 7, 1, 6, 3]\n",
      "[1, 6, 2, 6, 6, 9, 9, 1, 0, 3]\n",
      "[1, 6, 2, 6, 6, 9, 9, 1, 0, 8]\n",
      "[1, 6, 2, 6, 6, 9, 9, 1, 6, 3]\n",
      "[1, 6, 2, 6, 6, 9, 9, 1, 6, 8]\n",
      "[1, 6, 2, 6, 7, 1, 7, 1, 6, 9]\n",
      "[1, 6, 2, 7, 7, 1, 7, 1, 6, 9]\n",
      "[1, 6, 3, 1, 1, 8, 7, 1, 0, 3]\n",
      "[1, 6, 3, 1, 1, 8, 7, 2, 0, 3]\n",
      "[1, 6, 3, 1, 1, 8, 7, 6, 0, 3]\n",
      "[1, 6, 3, 1, 1, 9, 7, 1, 0, 3]\n",
      "[1, 6, 3, 1, 1, 9, 7, 2, 0, 3]\n",
      "[1, 6, 3, 1, 1, 9, 9, 2, 0, 3]\n",
      "[1, 6, 3, 1, 6, 8, 7, 1, 0, 3]\n",
      "[1, 6, 3, 1, 6, 9, 7, 1, 0, 3]\n",
      "[1, 6, 3, 1, 6, 9, 7, 2, 0, 3]\n",
      "[1, 6, 3, 1, 7, 8, 7, 1, 0, 3]\n",
      "[1, 6, 3, 1, 7, 8, 7, 1, 2, 3]\n",
      "[1, 6, 3, 1, 7, 8, 7, 1, 6, 3]\n",
      "[1, 6, 3, 1, 7, 8, 7, 6, 0, 3]\n",
      "[1, 6, 3, 1, 7, 9, 7, 1, 0, 3]\n",
      "[1, 6, 3, 3, 7, 1, 7, 1, 6, 3]\n",
      "[1, 6, 3, 3, 7, 1, 7, 1, 6, 5]\n",
      "[1, 6, 3, 3, 7, 8, 7, 1, 2, 3]\n",
      "[1, 6, 3, 3, 7, 8, 7, 1, 6, 3]\n",
      "[1, 6, 7, 1, 1, 8, 5, 6, 0, 3]\n",
      "[1, 6, 7, 1, 1, 8, 7, 2, 0, 3]\n",
      "[1, 6, 7, 1, 1, 8, 7, 6, 0, 3]\n",
      "[1, 6, 7, 1, 1, 8, 7, 6, 2, 3]\n",
      "[1, 6, 7, 1, 7, 8, 7, 1, 0, 3]\n",
      "[1, 6, 7, 1, 7, 8, 7, 1, 2, 3]\n",
      "[1, 6, 7, 1, 7, 8, 7, 6, 0, 3]\n",
      "[1, 6, 7, 1, 7, 8, 7, 6, 2, 3]\n",
      "[1, 6, 7, 3, 7, 1, 7, 1, 2, 3]\n",
      "[1, 6, 7, 3, 7, 1, 7, 1, 6, 3]\n",
      "[1, 6, 7, 3, 7, 1, 7, 1, 6, 5]\n",
      "[1, 6, 7, 3, 7, 1, 7, 1, 6, 9]\n",
      "[1, 6, 7, 3, 7, 1, 7, 6, 2, 3]\n",
      "[1, 6, 7, 3, 7, 1, 7, 6, 2, 5]\n",
      "[1, 6, 7, 3, 7, 1, 7, 6, 6, 3]\n",
      "[1, 6, 7, 3, 7, 1, 7, 6, 6, 5]\n",
      "[1, 6, 7, 3, 7, 8, 7, 1, 2, 3]\n",
      "[1, 6, 7, 3, 7, 8, 7, 1, 6, 3]\n",
      "[1, 6, 7, 3, 7, 8, 7, 6, 2, 3]\n",
      "[1, 6, 7, 4, 7, 8, 7, 6, 2, 3]\n",
      "[1, 6, 7, 7, 7, 1, 7, 1, 6, 9]\n",
      "[2, 0, 1, 9, 4, 4, 2, 9, 8, 2]\n",
      "[2, 0, 1, 9, 9, 4, 2, 9, 8, 2]\n",
      "[2, 0, 2, 9, 4, 4, 2, 9, 8, 2]\n",
      "[2, 0, 2, 9, 9, 4, 2, 9, 8, 2]\n",
      "[2, 4, 6, 9, 4, 1, 0, 3, 5, 9]\n",
      "[2, 4, 6, 9, 4, 1, 0, 5, 5, 9]\n",
      "[2, 4, 6, 9, 4, 1, 6, 3, 5, 9]\n",
      "[2, 4, 6, 9, 4, 1, 6, 5, 5, 9]\n",
      "[2, 4, 6, 9, 4, 6, 0, 3, 5, 9]\n",
      "[2, 4, 6, 9, 4, 6, 0, 5, 5, 7]\n",
      "[2, 4, 6, 9, 4, 6, 0, 5, 5, 9]\n",
      "[2, 4, 6, 9, 4, 6, 0, 9, 5, 7]\n",
      "[2, 4, 6, 9, 4, 6, 0, 9, 5, 9]\n",
      "[2, 6, 2, 6, 4, 1, 2, 3, 8, 2]\n",
      "[2, 6, 2, 6, 4, 1, 2, 3, 8, 9]\n",
      "[2, 6, 2, 6, 4, 1, 6, 3, 6, 9]\n",
      "[2, 6, 2, 6, 4, 1, 6, 3, 8, 9]\n",
      "[2, 6, 2, 6, 4, 1, 7, 3, 6, 9]\n",
      "[2, 6, 2, 6, 4, 1, 9, 3, 6, 9]\n",
      "[2, 6, 2, 6, 4, 1, 9, 3, 8, 9]\n",
      "[2, 6, 2, 6, 4, 4, 2, 3, 8, 2]\n",
      "[2, 6, 2, 6, 4, 9, 2, 3, 8, 2]\n",
      "[2, 6, 2, 6, 4, 9, 2, 3, 8, 9]\n",
      "[2, 6, 2, 6, 5, 1, 2, 3, 8, 9]\n",
      "[2, 6, 2, 6, 5, 1, 7, 3, 6, 9]\n",
      "[2, 6, 2, 6, 5, 1, 9, 1, 6, 9]\n",
      "[2, 6, 2, 6, 5, 1, 9, 3, 6, 9]\n",
      "[2, 6, 2, 6, 5, 1, 9, 3, 8, 9]\n",
      "[2, 6, 2, 6, 5, 4, 2, 3, 8, 2]\n",
      "[2, 6, 2, 6, 5, 4, 2, 9, 8, 2]\n",
      "[2, 6, 2, 6, 5, 9, 2, 1, 8, 8]\n",
      "[2, 6, 2, 6, 5, 9, 2, 3, 8, 2]\n",
      "[2, 6, 2, 6, 5, 9, 2, 3, 8, 8]\n",
      "[2, 6, 2, 6, 5, 9, 2, 3, 8, 9]\n",
      "[2, 6, 2, 6, 5, 9, 9, 1, 6, 6]\n",
      "[2, 6, 2, 6, 5, 9, 9, 1, 6, 8]\n",
      "[2, 6, 2, 6, 5, 9, 9, 1, 6, 9]\n",
      "[2, 6, 2, 6, 5, 9, 9, 1, 8, 2]\n",
      "[2, 6, 2, 6, 5, 9, 9, 1, 8, 6]\n",
      "[2, 6, 2, 6, 5, 9, 9, 1, 8, 8]\n",
      "[2, 6, 2, 6, 5, 9, 9, 3, 6, 6]\n",
      "[2, 6, 2, 6, 5, 9, 9, 3, 6, 9]\n",
      "[2, 6, 2, 6, 5, 9, 9, 3, 8, 2]\n",
      "[2, 6, 2, 6, 5, 9, 9, 3, 8, 6]\n",
      "[2, 6, 2, 6, 5, 9, 9, 3, 8, 8]\n",
      "[2, 6, 2, 6, 5, 9, 9, 3, 8, 9]\n",
      "[2, 6, 2, 6, 6, 4, 2, 3, 8, 2]\n",
      "[2, 6, 2, 6, 6, 4, 2, 9, 8, 2]\n",
      "[2, 6, 2, 6, 6, 9, 2, 1, 0, 8]\n",
      "[2, 6, 2, 6, 6, 9, 2, 1, 8, 8]\n",
      "[2, 6, 2, 6, 6, 9, 2, 3, 8, 2]\n",
      "[2, 6, 2, 6, 6, 9, 2, 3, 8, 8]\n",
      "[2, 6, 2, 6, 6, 9, 9, 1, 0, 8]\n",
      "[2, 6, 2, 6, 6, 9, 9, 1, 8, 8]\n",
      "[2, 6, 2, 6, 9, 4, 2, 3, 8, 2]\n",
      "[2, 6, 2, 6, 9, 4, 2, 9, 8, 2]\n",
      "[2, 6, 2, 9, 4, 4, 2, 3, 8, 2]\n",
      "[2, 6, 2, 9, 4, 4, 2, 9, 8, 2]\n",
      "[2, 6, 2, 9, 9, 4, 2, 3, 8, 2]\n",
      "[2, 6, 2, 9, 9, 4, 2, 9, 8, 2]\n",
      "[2, 8, 2, 9, 4, 4, 2, 9, 8, 2]\n",
      "[2, 8, 2, 9, 9, 4, 2, 9, 8, 2]\n",
      "[2, 9, 1, 9, 4, 4, 2, 9, 5, 2]\n",
      "[2, 9, 1, 9, 4, 4, 2, 9, 8, 2]\n",
      "[2, 9, 1, 9, 4, 6, 2, 9, 5, 2]\n",
      "[2, 9, 2, 6, 4, 1, 0, 3, 8, 9]\n",
      "[2, 9, 2, 6, 4, 1, 2, 3, 8, 2]\n",
      "[2, 9, 2, 6, 4, 1, 2, 3, 8, 9]\n",
      "[2, 9, 2, 6, 4, 1, 6, 3, 5, 9]\n",
      "[2, 9, 2, 6, 4, 1, 6, 3, 6, 9]\n",
      "[2, 9, 2, 6, 4, 1, 6, 3, 8, 9]\n",
      "[2, 9, 2, 6, 4, 1, 7, 3, 6, 9]\n",
      "[2, 9, 2, 6, 4, 1, 9, 3, 6, 9]\n",
      "[2, 9, 2, 6, 4, 4, 2, 3, 8, 2]\n",
      "[2, 9, 2, 6, 5, 1, 7, 3, 6, 9]\n",
      "[2, 9, 2, 7, 4, 1, 6, 3, 5, 9]\n",
      "[2, 9, 2, 7, 4, 1, 6, 3, 6, 9]\n",
      "[2, 9, 2, 9, 4, 1, 0, 3, 5, 9]\n",
      "[2, 9, 2, 9, 4, 1, 0, 3, 8, 2]\n",
      "[2, 9, 2, 9, 4, 1, 0, 3, 8, 9]\n",
      "[2, 9, 2, 9, 4, 1, 2, 3, 8, 2]\n",
      "[2, 9, 2, 9, 4, 1, 2, 3, 8, 9]\n",
      "[2, 9, 2, 9, 4, 1, 6, 3, 5, 9]\n",
      "[2, 9, 2, 9, 4, 1, 6, 3, 8, 9]\n",
      "[2, 9, 2, 9, 4, 4, 0, 3, 8, 2]\n",
      "[2, 9, 2, 9, 4, 4, 0, 9, 8, 2]\n",
      "[2, 9, 2, 9, 4, 4, 2, 3, 8, 2]\n",
      "[2, 9, 2, 9, 4, 4, 2, 9, 8, 2]\n",
      "[2, 9, 2, 9, 4, 6, 0, 3, 5, 9]\n",
      "[2, 9, 2, 9, 4, 6, 0, 3, 8, 2]\n",
      "[2, 9, 2, 9, 4, 6, 0, 3, 8, 9]\n",
      "[2, 9, 2, 9, 4, 6, 0, 9, 5, 2]\n",
      "[2, 9, 2, 9, 4, 6, 0, 9, 5, 9]\n",
      "[2, 9, 2, 9, 4, 6, 0, 9, 8, 2]\n",
      "[2, 9, 2, 9, 4, 6, 0, 9, 8, 9]\n",
      "[2, 9, 2, 9, 4, 6, 2, 9, 8, 2]\n",
      "[2, 9, 2, 9, 9, 4, 2, 9, 8, 2]\n",
      "[2, 9, 6, 7, 4, 1, 6, 3, 5, 9]\n",
      "[2, 9, 6, 9, 4, 1, 0, 3, 5, 9]\n",
      "[2, 9, 6, 9, 4, 1, 6, 3, 5, 9]\n",
      "[2, 9, 6, 9, 4, 4, 2, 9, 5, 2]\n",
      "[2, 9, 6, 9, 4, 4, 2, 9, 8, 2]\n",
      "[2, 9, 6, 9, 4, 6, 0, 3, 5, 9]\n",
      "[2, 9, 6, 9, 4, 6, 0, 9, 5, 2]\n",
      "[2, 9, 6, 9, 4, 6, 0, 9, 5, 7]\n",
      "[2, 9, 6, 9, 4, 6, 0, 9, 5, 9]\n",
      "[2, 9, 6, 9, 4, 6, 0, 9, 8, 2]\n",
      "[2, 9, 6, 9, 4, 6, 2, 9, 5, 2]\n",
      "[2, 9, 6, 9, 4, 6, 2, 9, 8, 2]\n",
      "[3, 0, 1, 9, 0, 3, 2, 9, 9, 1]\n",
      "[3, 0, 1, 9, 0, 3, 8, 8, 9, 1]\n",
      "[3, 0, 1, 9, 0, 3, 8, 9, 9, 1]\n",
      "[3, 0, 1, 9, 0, 4, 2, 9, 9, 1]\n",
      "[3, 0, 1, 9, 3, 3, 8, 8, 9, 1]\n",
      "[3, 0, 1, 9, 3, 3, 8, 9, 9, 1]\n",
      "[3, 0, 1, 9, 4, 3, 2, 9, 5, 1]\n",
      "[3, 0, 1, 9, 4, 3, 2, 9, 9, 1]\n",
      "[3, 0, 1, 9, 4, 3, 4, 9, 5, 1]\n",
      "[3, 0, 1, 9, 4, 3, 4, 9, 9, 1]\n",
      "[3, 0, 1, 9, 4, 3, 8, 8, 9, 1]\n",
      "[3, 0, 1, 9, 4, 3, 8, 9, 5, 1]\n",
      "[3, 0, 1, 9, 4, 3, 8, 9, 9, 1]\n",
      "[3, 0, 1, 9, 4, 4, 2, 9, 5, 1]\n",
      "[3, 0, 1, 9, 4, 4, 2, 9, 5, 2]\n",
      "[3, 0, 1, 9, 4, 4, 2, 9, 8, 2]\n",
      "[3, 0, 1, 9, 4, 4, 2, 9, 9, 1]\n",
      "[3, 0, 1, 9, 4, 4, 2, 9, 9, 2]\n",
      "[3, 0, 1, 9, 4, 6, 2, 9, 5, 1]\n",
      "[3, 0, 1, 9, 4, 6, 2, 9, 5, 2]\n",
      "[3, 0, 1, 9, 4, 6, 4, 9, 5, 1]\n",
      "[3, 0, 1, 9, 4, 6, 4, 9, 5, 2]\n",
      "[3, 0, 1, 9, 4, 6, 8, 9, 5, 1]\n",
      "[3, 0, 1, 9, 9, 4, 2, 9, 9, 1]\n",
      "[3, 0, 1, 9, 9, 4, 2, 9, 9, 2]\n",
      "[3, 0, 6, 9, 3, 3, 8, 8, 5, 1]\n",
      "[3, 0, 6, 9, 3, 3, 8, 8, 9, 1]\n",
      "[3, 0, 6, 9, 3, 6, 8, 8, 5, 1]\n",
      "[3, 0, 6, 9, 4, 3, 8, 8, 5, 1]\n",
      "[3, 0, 6, 9, 4, 3, 8, 8, 9, 1]\n",
      "[3, 0, 6, 9, 4, 3, 8, 9, 5, 1]\n",
      "[3, 0, 6, 9, 4, 3, 8, 9, 9, 1]\n",
      "[3, 0, 6, 9, 4, 6, 2, 9, 5, 2]\n",
      "[3, 0, 6, 9, 4, 6, 4, 9, 5, 1]\n",
      "[3, 0, 6, 9, 4, 6, 4, 9, 5, 2]\n",
      "[3, 0, 6, 9, 4, 6, 8, 8, 5, 1]\n",
      "[3, 0, 6, 9, 4, 6, 8, 9, 5, 1]\n",
      "[3, 0, 6, 9, 4, 6, 8, 9, 5, 2]\n",
      "[3, 0, 7, 9, 0, 3, 8, 8, 9, 1]\n",
      "[3, 0, 7, 9, 1, 3, 1, 8, 9, 1]\n",
      "[3, 0, 7, 9, 1, 3, 8, 8, 9, 1]\n",
      "[3, 0, 7, 9, 3, 3, 8, 8, 9, 1]\n",
      "[3, 0, 9, 9, 0, 3, 1, 8, 9, 1]\n",
      "[3, 0, 9, 9, 0, 3, 1, 9, 9, 1]\n",
      "[3, 0, 9, 9, 0, 3, 2, 9, 9, 1]\n",
      "[3, 0, 9, 9, 0, 3, 8, 8, 9, 1]\n",
      "[3, 0, 9, 9, 0, 3, 8, 9, 9, 1]\n",
      "[3, 0, 9, 9, 0, 4, 2, 9, 9, 1]\n",
      "[3, 0, 9, 9, 1, 3, 1, 8, 9, 1]\n",
      "[3, 0, 9, 9, 1, 3, 8, 8, 9, 1]\n",
      "[3, 0, 9, 9, 3, 3, 8, 8, 9, 1]\n",
      "[3, 0, 9, 9, 9, 4, 2, 9, 9, 1]\n",
      "[3, 3, 6, 7, 3, 3, 8, 8, 5, 1]\n",
      "[3, 3, 6, 7, 3, 6, 8, 8, 5, 1]\n",
      "[3, 3, 6, 9, 3, 3, 8, 8, 3, 1]\n",
      "[3, 3, 6, 9, 3, 3, 8, 8, 5, 1]\n",
      "[3, 3, 6, 9, 3, 3, 8, 8, 9, 1]\n",
      "[3, 3, 7, 4, 1, 3, 8, 8, 9, 1]\n",
      "[3, 3, 7, 4, 3, 3, 8, 8, 9, 1]\n",
      "[3, 3, 7, 7, 3, 3, 8, 8, 3, 1]\n",
      "[3, 3, 7, 7, 3, 3, 8, 8, 5, 1]\n",
      "[3, 3, 7, 7, 3, 3, 8, 8, 9, 1]\n",
      "[3, 3, 7, 7, 3, 6, 8, 8, 5, 1]\n",
      "[3, 3, 7, 8, 3, 3, 8, 8, 9, 1]\n",
      "[3, 3, 7, 9, 0, 3, 8, 8, 9, 1]\n",
      "[3, 3, 7, 9, 1, 3, 1, 8, 9, 1]\n",
      "[3, 3, 7, 9, 1, 3, 8, 8, 9, 1]\n",
      "[3, 3, 7, 9, 3, 3, 8, 8, 3, 1]\n",
      "[3, 3, 7, 9, 3, 3, 8, 8, 5, 1]\n",
      "[3, 3, 7, 9, 3, 3, 8, 8, 9, 1]\n",
      "[3, 4, 6, 7, 3, 3, 8, 8, 5, 1]\n",
      "[3, 4, 6, 7, 3, 6, 8, 5, 5, 1]\n",
      "[3, 4, 6, 7, 3, 6, 8, 8, 5, 1]\n",
      "[3, 4, 6, 7, 4, 6, 8, 5, 5, 1]\n",
      "[3, 4, 6, 7, 4, 6, 8, 5, 5, 7]\n",
      "[3, 4, 6, 7, 4, 6, 8, 8, 5, 1]\n",
      "[3, 4, 6, 9, 3, 3, 8, 8, 5, 1]\n",
      "[3, 4, 6, 9, 3, 6, 8, 8, 5, 1]\n",
      "[3, 4, 6, 9, 4, 6, 0, 5, 5, 7]\n",
      "[3, 4, 6, 9, 4, 6, 0, 9, 5, 2]\n",
      "[3, 4, 6, 9, 4, 6, 0, 9, 5, 7]\n",
      "[3, 4, 6, 9, 4, 6, 2, 9, 5, 2]\n",
      "[3, 4, 6, 9, 4, 6, 4, 9, 5, 2]\n",
      "[3, 4, 6, 9, 4, 6, 4, 9, 5, 7]\n",
      "[3, 4, 6, 9, 4, 6, 8, 5, 5, 1]\n",
      "[3, 4, 6, 9, 4, 6, 8, 5, 5, 7]\n",
      "[3, 4, 6, 9, 4, 6, 8, 8, 5, 1]\n",
      "[3, 4, 6, 9, 4, 6, 8, 9, 5, 1]\n",
      "[3, 4, 6, 9, 4, 6, 8, 9, 5, 2]\n",
      "[3, 4, 6, 9, 4, 6, 8, 9, 5, 7]\n",
      "[3, 4, 7, 7, 3, 6, 8, 8, 5, 1]\n",
      "[3, 9, 1, 9, 4, 4, 2, 9, 5, 2]\n",
      "[3, 9, 1, 9, 4, 4, 2, 9, 8, 2]\n",
      "[3, 9, 1, 9, 4, 6, 2, 9, 5, 2]\n",
      "[3, 9, 6, 9, 4, 6, 0, 9, 5, 2]\n",
      "[3, 9, 6, 9, 4, 6, 0, 9, 5, 7]\n",
      "[3, 9, 6, 9, 4, 6, 2, 9, 5, 2]\n",
      "[4, 6, 2, 3, 7, 1, 7, 1, 6, 9]\n",
      "[4, 6, 2, 6, 5, 1, 7, 1, 6, 0]\n",
      "[4, 6, 2, 6, 5, 1, 7, 1, 6, 9]\n",
      "[4, 6, 2, 6, 5, 1, 7, 3, 6, 9]\n",
      "[4, 6, 2, 6, 5, 1, 9, 1, 6, 0]\n",
      "[4, 6, 2, 6, 5, 1, 9, 1, 6, 9]\n",
      "[4, 6, 2, 6, 5, 1, 9, 3, 6, 9]\n",
      "[4, 6, 2, 6, 5, 9, 7, 1, 6, 0]\n",
      "[4, 6, 2, 6, 5, 9, 9, 1, 0, 8]\n",
      "[4, 6, 2, 6, 5, 9, 9, 1, 6, 0]\n",
      "[4, 6, 2, 6, 5, 9, 9, 1, 6, 6]\n",
      "[4, 6, 2, 6, 5, 9, 9, 1, 6, 8]\n",
      "[4, 6, 2, 6, 5, 9, 9, 1, 6, 9]\n",
      "[4, 6, 2, 6, 5, 9, 9, 1, 8, 8]\n",
      "[4, 6, 2, 6, 6, 9, 9, 1, 0, 8]\n",
      "[4, 6, 2, 6, 6, 9, 9, 1, 6, 8]\n",
      "[4, 6, 2, 6, 6, 9, 9, 1, 8, 8]\n",
      "[4, 6, 2, 6, 7, 1, 7, 1, 6, 9]\n",
      "[4, 9, 2, 6, 4, 1, 7, 3, 6, 9]\n",
      "[4, 9, 2, 6, 5, 1, 7, 1, 6, 9]\n",
      "[4, 9, 2, 6, 5, 1, 7, 3, 6, 9]\n",
      "[6, 2, 2, 7, 7, 1, 7, 1, 6, 9]\n",
      "[6, 2, 6, 7, 7, 1, 7, 1, 6, 9]\n",
      "[6, 2, 7, 7, 3, 1, 7, 6, 2, 5]\n",
      "[6, 2, 7, 7, 3, 1, 7, 6, 6, 5]\n",
      "[6, 2, 7, 7, 3, 1, 7, 6, 6, 9]\n",
      "[6, 2, 7, 7, 7, 1, 7, 1, 6, 9]\n",
      "[6, 2, 7, 7, 7, 1, 7, 6, 6, 5]\n",
      "[6, 2, 7, 7, 7, 1, 7, 6, 6, 9]\n",
      "[6, 3, 7, 7, 3, 1, 7, 6, 2, 5]\n",
      "[6, 3, 7, 7, 3, 1, 8, 6, 2, 1]\n",
      "[6, 3, 7, 7, 3, 1, 8, 6, 2, 5]\n",
      "[6, 3, 7, 7, 3, 1, 8, 6, 2, 9]\n",
      "[6, 3, 7, 7, 3, 1, 8, 8, 2, 1]\n",
      "[6, 3, 7, 7, 3, 1, 8, 8, 2, 5]\n",
      "[6, 3, 7, 7, 3, 1, 8, 8, 2, 7]\n",
      "[6, 3, 7, 7, 3, 1, 8, 8, 2, 9]\n",
      "[6, 3, 7, 7, 3, 1, 8, 8, 5, 1]\n",
      "[6, 3, 7, 7, 3, 1, 8, 8, 5, 7]\n",
      "[6, 3, 7, 7, 3, 2, 8, 6, 2, 1]\n",
      "[6, 3, 7, 7, 3, 2, 8, 8, 2, 1]\n",
      "[6, 3, 7, 7, 3, 3, 8, 8, 2, 1]\n",
      "[6, 3, 7, 7, 3, 3, 8, 8, 3, 1]\n",
      "[6, 3, 7, 7, 3, 3, 8, 8, 5, 1]\n",
      "[6, 3, 7, 7, 3, 6, 8, 8, 2, 1]\n",
      "[6, 3, 7, 7, 3, 6, 8, 8, 5, 1]\n",
      "[6, 4, 2, 7, 4, 1, 6, 3, 6, 9]\n",
      "[6, 4, 2, 7, 4, 1, 7, 1, 6, 9]\n",
      "[6, 4, 2, 7, 4, 1, 7, 3, 6, 9]\n",
      "[6, 4, 2, 7, 7, 1, 7, 1, 6, 9]\n",
      "[6, 4, 6, 7, 3, 1, 6, 5, 5, 9]\n",
      "[6, 4, 6, 7, 3, 1, 6, 5, 6, 9]\n",
      "[6, 4, 6, 7, 3, 1, 7, 1, 6, 9]\n",
      "[6, 4, 6, 7, 3, 1, 7, 5, 5, 9]\n",
      "[6, 4, 6, 7, 3, 1, 7, 5, 6, 9]\n",
      "[6, 4, 6, 7, 3, 1, 8, 5, 5, 7]\n",
      "[6, 4, 6, 7, 3, 1, 8, 5, 5, 9]\n",
      "[6, 4, 6, 7, 3, 1, 8, 5, 6, 9]\n",
      "[6, 4, 6, 7, 3, 1, 8, 8, 5, 7]\n",
      "[6, 4, 6, 7, 3, 1, 8, 8, 5, 9]\n",
      "[6, 4, 6, 7, 3, 6, 8, 5, 5, 1]\n",
      "[6, 4, 6, 7, 3, 6, 8, 5, 5, 7]\n",
      "[6, 4, 6, 7, 3, 6, 8, 8, 5, 1]\n",
      "[6, 4, 6, 7, 3, 6, 8, 8, 5, 7]\n",
      "[6, 4, 6, 7, 4, 1, 0, 5, 5, 9]\n",
      "[6, 4, 6, 7, 4, 1, 6, 3, 5, 9]\n",
      "[6, 4, 6, 7, 4, 1, 6, 3, 6, 9]\n",
      "[6, 4, 6, 7, 4, 1, 6, 5, 5, 7]\n",
      "[6, 4, 6, 7, 4, 1, 6, 5, 5, 9]\n",
      "[6, 4, 6, 7, 4, 1, 6, 5, 6, 9]\n",
      "[6, 4, 6, 7, 4, 1, 7, 1, 6, 9]\n",
      "[6, 4, 6, 7, 4, 1, 7, 3, 6, 9]\n",
      "[6, 4, 6, 7, 4, 1, 7, 5, 6, 9]\n",
      "[6, 4, 6, 7, 4, 1, 8, 5, 5, 7]\n",
      "[6, 4, 6, 7, 4, 1, 8, 5, 5, 9]\n",
      "[6, 4, 6, 7, 4, 6, 0, 5, 5, 7]\n",
      "[6, 4, 6, 7, 4, 6, 0, 5, 5, 9]\n",
      "[6, 4, 6, 7, 4, 6, 6, 5, 5, 7]\n",
      "[6, 4, 6, 7, 4, 6, 6, 5, 5, 9]\n",
      "[6, 4, 6, 7, 4, 6, 8, 5, 5, 1]\n",
      "[6, 4, 6, 7, 4, 6, 8, 5, 5, 7]\n",
      "[6, 4, 6, 7, 7, 1, 7, 1, 6, 9]\n",
      "[6, 4, 6, 9, 4, 1, 0, 5, 5, 9]\n",
      "[6, 4, 6, 9, 4, 1, 6, 3, 5, 9]\n",
      "[6, 4, 6, 9, 4, 1, 6, 5, 5, 9]\n",
      "[6, 4, 6, 9, 4, 6, 0, 5, 5, 7]\n",
      "[6, 4, 6, 9, 4, 6, 0, 5, 5, 9]\n",
      "[6, 4, 6, 9, 4, 6, 8, 5, 5, 7]\n",
      "[6, 4, 7, 7, 3, 1, 7, 1, 6, 9]\n",
      "[6, 4, 7, 7, 3, 1, 7, 5, 6, 9]\n",
      "[6, 4, 7, 7, 3, 1, 7, 6, 2, 5]\n",
      "[6, 4, 7, 7, 3, 1, 7, 6, 2, 9]\n",
      "[6, 4, 7, 7, 3, 1, 7, 6, 6, 5]\n",
      "[6, 4, 7, 7, 3, 1, 7, 6, 6, 9]\n",
      "[6, 4, 7, 7, 3, 1, 8, 5, 5, 9]\n",
      "[6, 4, 7, 7, 3, 1, 8, 5, 6, 9]\n",
      "[6, 4, 7, 7, 3, 1, 8, 6, 2, 5]\n",
      "[6, 4, 7, 7, 3, 1, 8, 6, 2, 9]\n",
      "[6, 4, 7, 7, 3, 1, 8, 6, 6, 9]\n",
      "[6, 4, 7, 7, 3, 1, 8, 8, 2, 7]\n",
      "[6, 4, 7, 7, 3, 1, 8, 8, 2, 9]\n",
      "[6, 4, 7, 7, 3, 1, 8, 8, 5, 1]\n",
      "[6, 4, 7, 7, 3, 1, 8, 8, 5, 7]\n",
      "[6, 4, 7, 7, 3, 1, 8, 8, 5, 9]\n",
      "[6, 4, 7, 7, 3, 1, 8, 8, 6, 9]\n",
      "[6, 4, 7, 7, 3, 6, 8, 8, 5, 1]\n",
      "[6, 4, 7, 7, 3, 6, 8, 8, 5, 7]\n",
      "[6, 4, 7, 7, 7, 1, 7, 1, 6, 9]\n",
      "[6, 4, 7, 7, 7, 1, 7, 6, 6, 9]\n",
      "[6, 6, 2, 3, 7, 1, 7, 1, 6, 9]\n",
      "[6, 6, 2, 6, 5, 1, 7, 1, 6, 9]\n",
      "[6, 6, 2, 6, 7, 1, 7, 1, 6, 9]\n",
      "[6, 6, 2, 7, 7, 1, 7, 1, 6, 9]\n",
      "[6, 6, 7, 7, 7, 1, 7, 1, 6, 9]\n",
      "[6, 9, 2, 6, 4, 1, 6, 3, 6, 9]\n",
      "[6, 9, 2, 6, 4, 1, 7, 1, 6, 9]\n",
      "[6, 9, 2, 6, 4, 1, 7, 3, 6, 9]\n",
      "[6, 9, 2, 6, 5, 1, 7, 1, 6, 9]\n",
      "[6, 9, 2, 6, 5, 1, 7, 3, 6, 9]\n",
      "[6, 9, 2, 6, 7, 1, 7, 1, 6, 9]\n",
      "[6, 9, 2, 7, 4, 1, 6, 3, 5, 9]\n",
      "[6, 9, 2, 7, 4, 1, 6, 3, 6, 9]\n",
      "[6, 9, 2, 7, 4, 1, 7, 1, 6, 9]\n",
      "[6, 9, 2, 7, 4, 1, 7, 3, 6, 9]\n",
      "[6, 9, 2, 7, 5, 1, 7, 1, 6, 9]\n",
      "[6, 9, 2, 7, 7, 1, 7, 1, 6, 9]\n",
      "[6, 9, 6, 7, 4, 1, 6, 3, 5, 9]\n",
      "[6, 9, 6, 7, 4, 1, 6, 3, 6, 9]\n",
      "[6, 9, 6, 9, 4, 1, 6, 3, 5, 9]\n",
      "[7, 6, 2, 6, 6, 9, 9, 1, 0, 3]\n",
      "[7, 6, 2, 6, 6, 9, 9, 1, 0, 8]\n",
      "[9, 0, 1, 9, 4, 4, 2, 9, 8, 2]\n",
      "[9, 0, 1, 9, 4, 4, 2, 9, 9, 2]\n",
      "[9, 0, 1, 9, 9, 4, 2, 9, 8, 2]\n",
      "[9, 0, 1, 9, 9, 4, 2, 9, 9, 1]\n",
      "[9, 0, 1, 9, 9, 4, 2, 9, 9, 2]\n",
      "[9, 0, 2, 9, 9, 4, 2, 9, 8, 2]\n",
      "[9, 0, 2, 9, 9, 4, 2, 9, 9, 2]\n",
      "[9, 0, 9, 1, 0, 3, 1, 8, 9, 1]\n",
      "[9, 0, 9, 1, 0, 3, 1, 9, 9, 1]\n",
      "[9, 0, 9, 1, 0, 4, 1, 9, 9, 1]\n",
      "[9, 0, 9, 1, 0, 4, 2, 9, 9, 1]\n",
      "[9, 0, 9, 1, 0, 4, 2, 9, 9, 2]\n",
      "[9, 0, 9, 1, 1, 3, 1, 8, 9, 1]\n",
      "[9, 0, 9, 1, 1, 3, 1, 9, 9, 1]\n",
      "[9, 0, 9, 1, 1, 4, 1, 9, 9, 1]\n",
      "[9, 0, 9, 1, 1, 4, 2, 9, 9, 1]\n",
      "[9, 0, 9, 1, 1, 4, 2, 9, 9, 2]\n",
      "[9, 0, 9, 1, 1, 4, 2, 9, 9, 3]\n",
      "[9, 0, 9, 1, 1, 4, 2, 9, 9, 8]\n",
      "[9, 0, 9, 1, 9, 4, 2, 9, 9, 2]\n",
      "[9, 0, 9, 9, 0, 3, 1, 8, 9, 1]\n",
      "[9, 0, 9, 9, 0, 3, 1, 9, 9, 1]\n",
      "[9, 0, 9, 9, 0, 3, 2, 9, 9, 1]\n",
      "[9, 0, 9, 9, 0, 4, 1, 9, 9, 1]\n",
      "[9, 0, 9, 9, 0, 4, 2, 9, 9, 1]\n",
      "[9, 0, 9, 9, 0, 4, 2, 9, 9, 2]\n",
      "[9, 0, 9, 9, 9, 4, 2, 9, 8, 2]\n",
      "[9, 0, 9, 9, 9, 4, 2, 9, 9, 1]\n",
      "[9, 0, 9, 9, 9, 4, 2, 9, 9, 2]\n",
      "[9, 5, 9, 1, 0, 4, 2, 9, 9, 2]\n",
      "[9, 5, 9, 1, 1, 4, 2, 9, 9, 2]\n",
      "[9, 5, 9, 1, 1, 4, 2, 9, 9, 3]\n",
      "[9, 5, 9, 1, 1, 4, 2, 9, 9, 8]\n",
      "[9, 6, 2, 1, 0, 4, 2, 2, 0, 8]\n",
      "[9, 6, 2, 1, 0, 4, 2, 9, 0, 2]\n",
      "[9, 6, 2, 1, 0, 4, 2, 9, 0, 8]\n",
      "[9, 6, 2, 1, 0, 4, 2, 9, 1, 2]\n",
      "[9, 6, 2, 1, 0, 4, 2, 9, 1, 8]\n",
      "[9, 6, 2, 1, 0, 4, 2, 9, 9, 2]\n",
      "[9, 6, 2, 1, 0, 4, 2, 9, 9, 8]\n",
      "[9, 6, 2, 1, 1, 4, 2, 2, 0, 3]\n",
      "[9, 6, 2, 1, 1, 4, 2, 2, 0, 8]\n",
      "[9, 6, 2, 1, 1, 4, 2, 9, 0, 3]\n",
      "[9, 6, 2, 1, 1, 4, 2, 9, 0, 8]\n",
      "[9, 6, 2, 1, 6, 4, 2, 2, 0, 3]\n",
      "[9, 6, 2, 1, 6, 4, 2, 2, 0, 8]\n",
      "[9, 6, 2, 1, 6, 4, 2, 9, 0, 2]\n",
      "[9, 6, 2, 1, 6, 4, 2, 9, 0, 8]\n",
      "[9, 6, 2, 1, 6, 4, 2, 9, 8, 2]\n",
      "[9, 6, 2, 1, 6, 4, 2, 9, 8, 8]\n",
      "[9, 6, 2, 1, 6, 9, 2, 1, 0, 3]\n",
      "[9, 6, 2, 1, 6, 9, 2, 1, 0, 8]\n",
      "[9, 6, 2, 1, 6, 9, 2, 2, 0, 3]\n",
      "[9, 6, 2, 1, 6, 9, 2, 2, 0, 8]\n",
      "[9, 6, 2, 1, 6, 9, 9, 1, 0, 3]\n",
      "[9, 6, 2, 1, 6, 9, 9, 1, 0, 8]\n",
      "[9, 6, 2, 1, 9, 4, 2, 9, 0, 2]\n",
      "[9, 6, 2, 1, 9, 4, 2, 9, 0, 8]\n",
      "[9, 6, 2, 1, 9, 4, 2, 9, 1, 2]\n",
      "[9, 6, 2, 1, 9, 4, 2, 9, 8, 2]\n",
      "[9, 6, 2, 1, 9, 4, 2, 9, 9, 2]\n",
      "[9, 6, 2, 6, 6, 4, 2, 1, 0, 8]\n",
      "[9, 6, 2, 6, 6, 4, 2, 2, 0, 8]\n",
      "[9, 6, 2, 6, 6, 4, 2, 3, 8, 2]\n",
      "[9, 6, 2, 6, 6, 4, 2, 3, 8, 8]\n",
      "[9, 6, 2, 6, 6, 4, 2, 9, 0, 8]\n",
      "[9, 6, 2, 6, 6, 4, 2, 9, 8, 2]\n",
      "[9, 6, 2, 6, 6, 4, 2, 9, 8, 8]\n",
      "[9, 6, 2, 6, 6, 9, 2, 1, 0, 8]\n",
      "[9, 6, 2, 6, 6, 9, 2, 1, 8, 8]\n",
      "[9, 6, 2, 6, 6, 9, 2, 2, 0, 8]\n",
      "[9, 6, 2, 6, 6, 9, 2, 3, 0, 8]\n",
      "[9, 6, 2, 6, 6, 9, 2, 3, 8, 2]\n",
      "[9, 6, 2, 6, 6, 9, 2, 3, 8, 8]\n",
      "[9, 6, 2, 6, 6, 9, 2, 9, 0, 8]\n",
      "[9, 6, 2, 6, 6, 9, 2, 9, 8, 8]\n",
      "[9, 6, 2, 6, 6, 9, 9, 1, 0, 3]\n",
      "[9, 6, 2, 6, 6, 9, 9, 1, 0, 8]\n",
      "[9, 6, 2, 6, 9, 4, 2, 9, 8, 2]\n",
      "[9, 6, 2, 9, 9, 4, 2, 9, 8, 2]\n",
      "[9, 6, 2, 9, 9, 4, 2, 9, 9, 2]\n",
      "[9, 6, 9, 1, 0, 4, 2, 9, 0, 8]\n",
      "[9, 6, 9, 1, 0, 4, 2, 9, 9, 2]\n",
      "[9, 6, 9, 1, 0, 4, 2, 9, 9, 8]\n",
      "[9, 6, 9, 1, 1, 4, 2, 9, 0, 3]\n",
      "[9, 6, 9, 1, 1, 4, 2, 9, 0, 8]\n",
      "[9, 6, 9, 1, 1, 4, 2, 9, 9, 2]\n",
      "[9, 6, 9, 1, 1, 4, 2, 9, 9, 3]\n",
      "[9, 6, 9, 1, 1, 4, 2, 9, 9, 8]\n",
      "[9, 6, 9, 1, 9, 4, 2, 9, 9, 2]\n",
      "[9, 6, 9, 9, 9, 4, 2, 9, 9, 2]\n",
      "[9, 8, 2, 9, 9, 4, 2, 9, 8, 2]\n",
      "[9, 8, 2, 9, 9, 4, 2, 9, 9, 2]\n",
      "[9, 8, 9, 9, 9, 4, 2, 9, 9, 2]\n"
     ]
    }
   ],
   "source": [
    "def qhull(cloud):\n",
    "    hull = ConvexHull(cloud)\n",
    "    return sorted({v for h_v in ConvexHull(cloud).vertices for v in h_v})\n",
    "\n",
    "\n",
    "hulls = [qhull(cloud) for cloud in point_clouds]\n",
    "\n",
    "MinkSumPoint = namedtuple(\"MinkSumPoint\", [\"point\", \"decomp\"])\n",
    "\n",
    "\n",
    "def mink_sum(point_clouds, hulls):\n",
    "    hull_points = [\n",
    "        [MinkSumPoint(cloud[vertex], [vertex]) for vertex in hull]\n",
    "        for cloud, hull in zip(point_clouds, hulls)\n",
    "    ]\n",
    "    hull_points.reverse()\n",
    "    mink_sum = hull_points.pop()\n",
    "    for operand in hull_points:\n",
    "        print(f\"Input lens {len(mink_sum)}, {len(operand)}\")\n",
    "        point_product = [\n",
    "            MinkSumPoint([x_a + x_b for x_a, x_b in zip(a.point, b.point)], a.decomp + b.decomp)\n",
    "            for a, b in product(mink_sum, operand)\n",
    "        ]\n",
    "        mink_sum = [point_product[i] for i in qhull([point for point, _ in point_product])]\n",
    "        print(f\"Lengths {len(point_product)}, {len(mink_sum)}\")\n",
    "    return mink_sum\n",
    "\n",
    "num_polys = 10\n",
    "mink_sum = mink_sum(point_clouds[:num_polys], hulls[:num_polys])\n",
    "print(len(mink_sum))\n",
    "\n",
    "for vertex in mink_sum:\n",
    "    print(vertex.decomp)"
   ]
  }
 ],
 "metadata": {
  "kernelspec": {
   "display_name": "gp",
   "language": "python",
   "name": "python3"
  },
  "language_info": {
   "codemirror_mode": {
    "name": "ipython",
    "version": 3
   },
   "file_extension": ".py",
   "mimetype": "text/x-python",
   "name": "python",
   "nbconvert_exporter": "python",
   "pygments_lexer": "ipython3",
   "version": "3.12.3"
  }
 },
 "nbformat": 4,
 "nbformat_minor": 2
}
